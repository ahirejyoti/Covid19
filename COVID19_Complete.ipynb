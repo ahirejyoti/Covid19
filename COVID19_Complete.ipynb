{
  "nbformat": 4,
  "nbformat_minor": 0,
  "metadata": {
    "colab": {
      "name": "COVID19.ipynb",
      "provenance": [],
      "collapsed_sections": []
    },
    "kernelspec": {
      "name": "python3",
      "display_name": "Python 3"
    }
  },
  "cells": [
    {
      "cell_type": "code",
      "metadata": {
        "id": "Fp9phrmtLx3c",
        "colab_type": "code",
        "colab": {}
      },
      "source": [
        "import warnings\n",
        "warnings.filterwarnings('ignore')\n",
        "import pandas as pd\n",
        "import numpy as np\n",
        "import seaborn as sns\n",
        "import matplotlib.pyplot as plt\n",
        "import datetime"
      ],
      "execution_count": 1,
      "outputs": []
    },
    {
      "cell_type": "code",
      "metadata": {
        "id": "2bODD83HMci4",
        "colab_type": "code",
        "colab": {
          "resources": {
            "http://localhost:8080/nbextensions/google.colab/files.js": {
              "data": "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",
              "ok": true,
              "headers": [
                [
                  "content-type",
                  "application/javascript"
                ]
              ],
              "status": 200,
              "status_text": ""
            }
          },
          "base_uri": "https://localhost:8080/",
          "height": 402
        },
        "outputId": "fb9685aa-34a6-445b-ea46-f24d8ae8d29a"
      },
      "source": [
        "from google.colab import files\n",
        "mb = files.upload()\n",
        "mb = files.upload()\n",
        "mb = files.upload()\n",
        "mb = files.upload()\n",
        "mb = files.upload()\n",
        "mb = files.upload()\n",
        "mb = files.upload()"
      ],
      "execution_count": 2,
      "outputs": [
        {
          "output_type": "display_data",
          "data": {
            "text/html": [
              "\n",
              "     <input type=\"file\" id=\"files-0fc3c88c-2564-4fb6-bb6a-fc5758036d50\" name=\"files[]\" multiple disabled\n",
              "        style=\"border:none\" />\n",
              "     <output id=\"result-0fc3c88c-2564-4fb6-bb6a-fc5758036d50\">\n",
              "      Upload widget is only available when the cell has been executed in the\n",
              "      current browser session. Please rerun this cell to enable.\n",
              "      </output>\n",
              "      <script src=\"/nbextensions/google.colab/files.js\"></script> "
            ],
            "text/plain": [
              "<IPython.core.display.HTML object>"
            ]
          },
          "metadata": {
            "tags": []
          }
        },
        {
          "output_type": "stream",
          "text": [
            "Saving AgeGroupDetails.csv to AgeGroupDetails (1).csv\n"
          ],
          "name": "stdout"
        },
        {
          "output_type": "display_data",
          "data": {
            "text/html": [
              "\n",
              "     <input type=\"file\" id=\"files-7be401e1-9691-447b-be96-9bf245791c19\" name=\"files[]\" multiple disabled\n",
              "        style=\"border:none\" />\n",
              "     <output id=\"result-7be401e1-9691-447b-be96-9bf245791c19\">\n",
              "      Upload widget is only available when the cell has been executed in the\n",
              "      current browser session. Please rerun this cell to enable.\n",
              "      </output>\n",
              "      <script src=\"/nbextensions/google.colab/files.js\"></script> "
            ],
            "text/plain": [
              "<IPython.core.display.HTML object>"
            ]
          },
          "metadata": {
            "tags": []
          }
        },
        {
          "output_type": "stream",
          "text": [
            "Saving covid_19_india.csv to covid_19_india (1).csv\n"
          ],
          "name": "stdout"
        },
        {
          "output_type": "display_data",
          "data": {
            "text/html": [
              "\n",
              "     <input type=\"file\" id=\"files-77401eaa-1db1-42be-9b42-f0d00af303b7\" name=\"files[]\" multiple disabled\n",
              "        style=\"border:none\" />\n",
              "     <output id=\"result-77401eaa-1db1-42be-9b42-f0d00af303b7\">\n",
              "      Upload widget is only available when the cell has been executed in the\n",
              "      current browser session. Please rerun this cell to enable.\n",
              "      </output>\n",
              "      <script src=\"/nbextensions/google.colab/files.js\"></script> "
            ],
            "text/plain": [
              "<IPython.core.display.HTML object>"
            ]
          },
          "metadata": {
            "tags": []
          }
        },
        {
          "output_type": "stream",
          "text": [
            "Saving HospitalBedsIndia.csv to HospitalBedsIndia (1).csv\n"
          ],
          "name": "stdout"
        },
        {
          "output_type": "display_data",
          "data": {
            "text/html": [
              "\n",
              "     <input type=\"file\" id=\"files-c953d91f-aa61-41ee-b9f2-c36dfbd8bab2\" name=\"files[]\" multiple disabled\n",
              "        style=\"border:none\" />\n",
              "     <output id=\"result-c953d91f-aa61-41ee-b9f2-c36dfbd8bab2\">\n",
              "      Upload widget is only available when the cell has been executed in the\n",
              "      current browser session. Please rerun this cell to enable.\n",
              "      </output>\n",
              "      <script src=\"/nbextensions/google.colab/files.js\"></script> "
            ],
            "text/plain": [
              "<IPython.core.display.HTML object>"
            ]
          },
          "metadata": {
            "tags": []
          }
        },
        {
          "output_type": "stream",
          "text": [
            "Saving ICMRTestingLabs.csv to ICMRTestingLabs (1).csv\n"
          ],
          "name": "stdout"
        },
        {
          "output_type": "display_data",
          "data": {
            "text/html": [
              "\n",
              "     <input type=\"file\" id=\"files-2efb64b8-ece9-4f54-9f60-75845069549d\" name=\"files[]\" multiple disabled\n",
              "        style=\"border:none\" />\n",
              "     <output id=\"result-2efb64b8-ece9-4f54-9f60-75845069549d\">\n",
              "      Upload widget is only available when the cell has been executed in the\n",
              "      current browser session. Please rerun this cell to enable.\n",
              "      </output>\n",
              "      <script src=\"/nbextensions/google.colab/files.js\"></script> "
            ],
            "text/plain": [
              "<IPython.core.display.HTML object>"
            ]
          },
          "metadata": {
            "tags": []
          }
        },
        {
          "output_type": "stream",
          "text": [
            "Saving IndividualDetails.csv to IndividualDetails (1).csv\n"
          ],
          "name": "stdout"
        },
        {
          "output_type": "display_data",
          "data": {
            "text/html": [
              "\n",
              "     <input type=\"file\" id=\"files-731ab919-afbc-4598-ab66-d6a336218a46\" name=\"files[]\" multiple disabled\n",
              "        style=\"border:none\" />\n",
              "     <output id=\"result-731ab919-afbc-4598-ab66-d6a336218a46\">\n",
              "      Upload widget is only available when the cell has been executed in the\n",
              "      current browser session. Please rerun this cell to enable.\n",
              "      </output>\n",
              "      <script src=\"/nbextensions/google.colab/files.js\"></script> "
            ],
            "text/plain": [
              "<IPython.core.display.HTML object>"
            ]
          },
          "metadata": {
            "tags": []
          }
        },
        {
          "output_type": "stream",
          "text": [
            "Saving population_india_census2011.csv to population_india_census2011 (1).csv\n"
          ],
          "name": "stdout"
        },
        {
          "output_type": "display_data",
          "data": {
            "text/html": [
              "\n",
              "     <input type=\"file\" id=\"files-d1a8936f-9d4c-4749-b383-d9c0d06f8015\" name=\"files[]\" multiple disabled\n",
              "        style=\"border:none\" />\n",
              "     <output id=\"result-d1a8936f-9d4c-4749-b383-d9c0d06f8015\">\n",
              "      Upload widget is only available when the cell has been executed in the\n",
              "      current browser session. Please rerun this cell to enable.\n",
              "      </output>\n",
              "      <script src=\"/nbextensions/google.colab/files.js\"></script> "
            ],
            "text/plain": [
              "<IPython.core.display.HTML object>"
            ]
          },
          "metadata": {
            "tags": []
          }
        },
        {
          "output_type": "stream",
          "text": [
            "Saving StatewiseTestingDetails.csv to StatewiseTestingDetails (1).csv\n"
          ],
          "name": "stdout"
        }
      ]
    },
    {
      "cell_type": "code",
      "metadata": {
        "id": "WixDP02NNIgD",
        "colab_type": "code",
        "colab": {}
      },
      "source": [
        "df = pd.read_csv(\"covid_19_india.csv\")\n",
        "df1 = pd.read_csv(\"AgeGroupDetails.csv\")\n",
        "df2 = pd.read_csv(\"StatewiseTestingDetails.csv\")\n",
        "df3 = pd.read_csv(\"HospitalBedsIndia.csv\")\n",
        "df4 = pd.read_csv(\"ICMRTestingLabs.csv\")\n",
        "df5 = pd.read_csv(\"IndividualDetails.csv\")\n",
        "df6 = pd.read_csv(\"population_india_census2011.csv\")"
      ],
      "execution_count": 207,
      "outputs": []
    },
    {
      "cell_type": "code",
      "metadata": {
        "id": "TB7m6SikOdgE",
        "colab_type": "code",
        "colab": {
          "base_uri": "https://localhost:8080/",
          "height": 309
        },
        "outputId": "d1ffa942-727a-49e4-fe09-be3525fa1ffe"
      },
      "source": [
        "df.head()"
      ],
      "execution_count": 208,
      "outputs": [
        {
          "output_type": "execute_result",
          "data": {
            "text/html": [
              "<div>\n",
              "<style scoped>\n",
              "    .dataframe tbody tr th:only-of-type {\n",
              "        vertical-align: middle;\n",
              "    }\n",
              "\n",
              "    .dataframe tbody tr th {\n",
              "        vertical-align: top;\n",
              "    }\n",
              "\n",
              "    .dataframe thead th {\n",
              "        text-align: right;\n",
              "    }\n",
              "</style>\n",
              "<table border=\"1\" class=\"dataframe\">\n",
              "  <thead>\n",
              "    <tr style=\"text-align: right;\">\n",
              "      <th></th>\n",
              "      <th>Sno</th>\n",
              "      <th>Date</th>\n",
              "      <th>Time</th>\n",
              "      <th>State/UnionTerritory</th>\n",
              "      <th>ConfirmedIndianNational</th>\n",
              "      <th>ConfirmedForeignNational</th>\n",
              "      <th>Cured</th>\n",
              "      <th>Deaths</th>\n",
              "      <th>Confirmed</th>\n",
              "    </tr>\n",
              "  </thead>\n",
              "  <tbody>\n",
              "    <tr>\n",
              "      <th>0</th>\n",
              "      <td>1</td>\n",
              "      <td>30/01/20</td>\n",
              "      <td>6:00 PM</td>\n",
              "      <td>Kerala</td>\n",
              "      <td>1</td>\n",
              "      <td>0</td>\n",
              "      <td>0</td>\n",
              "      <td>0</td>\n",
              "      <td>1</td>\n",
              "    </tr>\n",
              "    <tr>\n",
              "      <th>1</th>\n",
              "      <td>2</td>\n",
              "      <td>31/01/20</td>\n",
              "      <td>6:00 PM</td>\n",
              "      <td>Kerala</td>\n",
              "      <td>1</td>\n",
              "      <td>0</td>\n",
              "      <td>0</td>\n",
              "      <td>0</td>\n",
              "      <td>1</td>\n",
              "    </tr>\n",
              "    <tr>\n",
              "      <th>2</th>\n",
              "      <td>3</td>\n",
              "      <td>01/02/20</td>\n",
              "      <td>6:00 PM</td>\n",
              "      <td>Kerala</td>\n",
              "      <td>2</td>\n",
              "      <td>0</td>\n",
              "      <td>0</td>\n",
              "      <td>0</td>\n",
              "      <td>2</td>\n",
              "    </tr>\n",
              "    <tr>\n",
              "      <th>3</th>\n",
              "      <td>4</td>\n",
              "      <td>02/02/20</td>\n",
              "      <td>6:00 PM</td>\n",
              "      <td>Kerala</td>\n",
              "      <td>3</td>\n",
              "      <td>0</td>\n",
              "      <td>0</td>\n",
              "      <td>0</td>\n",
              "      <td>3</td>\n",
              "    </tr>\n",
              "    <tr>\n",
              "      <th>4</th>\n",
              "      <td>5</td>\n",
              "      <td>03/02/20</td>\n",
              "      <td>6:00 PM</td>\n",
              "      <td>Kerala</td>\n",
              "      <td>3</td>\n",
              "      <td>0</td>\n",
              "      <td>0</td>\n",
              "      <td>0</td>\n",
              "      <td>3</td>\n",
              "    </tr>\n",
              "  </tbody>\n",
              "</table>\n",
              "</div>"
            ],
            "text/plain": [
              "   Sno      Date     Time  ... Cured Deaths Confirmed\n",
              "0    1  30/01/20  6:00 PM  ...     0      0         1\n",
              "1    2  31/01/20  6:00 PM  ...     0      0         1\n",
              "2    3  01/02/20  6:00 PM  ...     0      0         2\n",
              "3    4  02/02/20  6:00 PM  ...     0      0         3\n",
              "4    5  03/02/20  6:00 PM  ...     0      0         3\n",
              "\n",
              "[5 rows x 9 columns]"
            ]
          },
          "metadata": {
            "tags": []
          },
          "execution_count": 208
        }
      ]
    },
    {
      "cell_type": "code",
      "metadata": {
        "id": "lXU4FgcOO3IK",
        "colab_type": "code",
        "colab": {
          "base_uri": "https://localhost:8080/",
          "height": 309
        },
        "outputId": "71739e93-77d2-4768-a073-897740aee5cd"
      },
      "source": [
        "df.tail()"
      ],
      "execution_count": 209,
      "outputs": [
        {
          "output_type": "execute_result",
          "data": {
            "text/html": [
              "<div>\n",
              "<style scoped>\n",
              "    .dataframe tbody tr th:only-of-type {\n",
              "        vertical-align: middle;\n",
              "    }\n",
              "\n",
              "    .dataframe tbody tr th {\n",
              "        vertical-align: top;\n",
              "    }\n",
              "\n",
              "    .dataframe thead th {\n",
              "        text-align: right;\n",
              "    }\n",
              "</style>\n",
              "<table border=\"1\" class=\"dataframe\">\n",
              "  <thead>\n",
              "    <tr style=\"text-align: right;\">\n",
              "      <th></th>\n",
              "      <th>Sno</th>\n",
              "      <th>Date</th>\n",
              "      <th>Time</th>\n",
              "      <th>State/UnionTerritory</th>\n",
              "      <th>ConfirmedIndianNational</th>\n",
              "      <th>ConfirmedForeignNational</th>\n",
              "      <th>Cured</th>\n",
              "      <th>Deaths</th>\n",
              "      <th>Confirmed</th>\n",
              "    </tr>\n",
              "  </thead>\n",
              "  <tbody>\n",
              "    <tr>\n",
              "      <th>5506</th>\n",
              "      <td>5507</td>\n",
              "      <td>23/08/20</td>\n",
              "      <td>8:00 AM</td>\n",
              "      <td>Telengana</td>\n",
              "      <td>-</td>\n",
              "      <td>-</td>\n",
              "      <td>80586</td>\n",
              "      <td>755</td>\n",
              "      <td>104249</td>\n",
              "    </tr>\n",
              "    <tr>\n",
              "      <th>5507</th>\n",
              "      <td>5508</td>\n",
              "      <td>23/08/20</td>\n",
              "      <td>8:00 AM</td>\n",
              "      <td>Tripura</td>\n",
              "      <td>-</td>\n",
              "      <td>-</td>\n",
              "      <td>6182</td>\n",
              "      <td>72</td>\n",
              "      <td>8702</td>\n",
              "    </tr>\n",
              "    <tr>\n",
              "      <th>5508</th>\n",
              "      <td>5509</td>\n",
              "      <td>23/08/20</td>\n",
              "      <td>8:00 AM</td>\n",
              "      <td>Uttarakhand</td>\n",
              "      <td>-</td>\n",
              "      <td>-</td>\n",
              "      <td>10021</td>\n",
              "      <td>195</td>\n",
              "      <td>14566</td>\n",
              "    </tr>\n",
              "    <tr>\n",
              "      <th>5509</th>\n",
              "      <td>5510</td>\n",
              "      <td>23/08/20</td>\n",
              "      <td>8:00 AM</td>\n",
              "      <td>Uttar Pradesh</td>\n",
              "      <td>-</td>\n",
              "      <td>-</td>\n",
              "      <td>131295</td>\n",
              "      <td>2867</td>\n",
              "      <td>182453</td>\n",
              "    </tr>\n",
              "    <tr>\n",
              "      <th>5510</th>\n",
              "      <td>5511</td>\n",
              "      <td>23/08/20</td>\n",
              "      <td>8:00 AM</td>\n",
              "      <td>West Bengal</td>\n",
              "      <td>-</td>\n",
              "      <td>-</td>\n",
              "      <td>104959</td>\n",
              "      <td>2737</td>\n",
              "      <td>135596</td>\n",
              "    </tr>\n",
              "  </tbody>\n",
              "</table>\n",
              "</div>"
            ],
            "text/plain": [
              "       Sno      Date     Time  ...   Cured Deaths Confirmed\n",
              "5506  5507  23/08/20  8:00 AM  ...   80586    755    104249\n",
              "5507  5508  23/08/20  8:00 AM  ...    6182     72      8702\n",
              "5508  5509  23/08/20  8:00 AM  ...   10021    195     14566\n",
              "5509  5510  23/08/20  8:00 AM  ...  131295   2867    182453\n",
              "5510  5511  23/08/20  8:00 AM  ...  104959   2737    135596\n",
              "\n",
              "[5 rows x 9 columns]"
            ]
          },
          "metadata": {
            "tags": []
          },
          "execution_count": 209
        }
      ]
    },
    {
      "cell_type": "code",
      "metadata": {
        "id": "2Gq9Kn90O5wb",
        "colab_type": "code",
        "colab": {
          "base_uri": "https://localhost:8080/",
          "height": 187
        },
        "outputId": "a0cb69e8-c989-4314-a0dd-6a3cd4827e24"
      },
      "source": [
        "df.isnull().sum()"
      ],
      "execution_count": 210,
      "outputs": [
        {
          "output_type": "execute_result",
          "data": {
            "text/plain": [
              "Sno                         0\n",
              "Date                        0\n",
              "Time                        0\n",
              "State/UnionTerritory        0\n",
              "ConfirmedIndianNational     0\n",
              "ConfirmedForeignNational    0\n",
              "Cured                       0\n",
              "Deaths                      0\n",
              "Confirmed                   0\n",
              "dtype: int64"
            ]
          },
          "metadata": {
            "tags": []
          },
          "execution_count": 210
        }
      ]
    },
    {
      "cell_type": "code",
      "metadata": {
        "id": "gl7EpaABQe5z",
        "colab_type": "code",
        "colab": {
          "base_uri": "https://localhost:8080/",
          "height": 289
        },
        "outputId": "5c760cfb-a578-4cf4-af68-404144743a00"
      },
      "source": [
        "df.info()"
      ],
      "execution_count": 211,
      "outputs": [
        {
          "output_type": "stream",
          "text": [
            "<class 'pandas.core.frame.DataFrame'>\n",
            "RangeIndex: 5511 entries, 0 to 5510\n",
            "Data columns (total 9 columns):\n",
            " #   Column                    Non-Null Count  Dtype \n",
            "---  ------                    --------------  ----- \n",
            " 0   Sno                       5511 non-null   int64 \n",
            " 1   Date                      5511 non-null   object\n",
            " 2   Time                      5511 non-null   object\n",
            " 3   State/UnionTerritory      5511 non-null   object\n",
            " 4   ConfirmedIndianNational   5511 non-null   object\n",
            " 5   ConfirmedForeignNational  5511 non-null   object\n",
            " 6   Cured                     5511 non-null   int64 \n",
            " 7   Deaths                    5511 non-null   int64 \n",
            " 8   Confirmed                 5511 non-null   int64 \n",
            "dtypes: int64(4), object(5)\n",
            "memory usage: 387.6+ KB\n"
          ],
          "name": "stdout"
        }
      ]
    },
    {
      "cell_type": "code",
      "metadata": {
        "id": "_MSC7K2rPAAC",
        "colab_type": "code",
        "colab": {
          "base_uri": "https://localhost:8080/",
          "height": 119
        },
        "outputId": "e7f6cf85-13f6-4376-bd13-7402610e350d"
      },
      "source": [
        "df['ConfirmedIndianNational'].unique()"
      ],
      "execution_count": 212,
      "outputs": [
        {
          "output_type": "execute_result",
          "data": {
            "text/plain": [
              "array(['1', '2', '3', '0', '6', '7', '8', '9', '4', '15', '5', '17', '10',\n",
              "       '11', '19', '14', '22', '32', '12', '23', '24', '36', '25', '39',\n",
              "       '44', '18', '16', '26', '49', '33', '60', '13', '28', '45', '64',\n",
              "       '21', '29', '71', '30', '37', '87', '86', '41', '101', '125', '34',\n",
              "       '35', '42', '55', '110', '20', '121', '40', '129', '127', '38',\n",
              "       '168', '177', '52', '46', '54', '-'], dtype=object)"
            ]
          },
          "metadata": {
            "tags": []
          },
          "execution_count": 212
        }
      ]
    },
    {
      "cell_type": "code",
      "metadata": {
        "id": "Xb_vLf2aPiZw",
        "colab_type": "code",
        "colab": {}
      },
      "source": [
        "df['Date'] = pd.to_datetime(df['Date'], format='%d/%m/%y')"
      ],
      "execution_count": 213,
      "outputs": []
    },
    {
      "cell_type": "code",
      "metadata": {
        "id": "bQ7vzVnWQxeE",
        "colab_type": "code",
        "colab": {
          "base_uri": "https://localhost:8080/",
          "height": 289
        },
        "outputId": "aea81264-37b1-4f7d-f0d2-b08305c9a50c"
      },
      "source": [
        "df.info()"
      ],
      "execution_count": 214,
      "outputs": [
        {
          "output_type": "stream",
          "text": [
            "<class 'pandas.core.frame.DataFrame'>\n",
            "RangeIndex: 5511 entries, 0 to 5510\n",
            "Data columns (total 9 columns):\n",
            " #   Column                    Non-Null Count  Dtype         \n",
            "---  ------                    --------------  -----         \n",
            " 0   Sno                       5511 non-null   int64         \n",
            " 1   Date                      5511 non-null   datetime64[ns]\n",
            " 2   Time                      5511 non-null   object        \n",
            " 3   State/UnionTerritory      5511 non-null   object        \n",
            " 4   ConfirmedIndianNational   5511 non-null   object        \n",
            " 5   ConfirmedForeignNational  5511 non-null   object        \n",
            " 6   Cured                     5511 non-null   int64         \n",
            " 7   Deaths                    5511 non-null   int64         \n",
            " 8   Confirmed                 5511 non-null   int64         \n",
            "dtypes: datetime64[ns](1), int64(4), object(4)\n",
            "memory usage: 387.6+ KB\n"
          ],
          "name": "stdout"
        }
      ]
    },
    {
      "cell_type": "code",
      "metadata": {
        "id": "cB1OHj1vQ0Zc",
        "colab_type": "code",
        "colab": {}
      },
      "source": [
        "df.drop(['Sno','Time','ConfirmedIndianNational','ConfirmedForeignNational'], axis=1, inplace=True)"
      ],
      "execution_count": 215,
      "outputs": []
    },
    {
      "cell_type": "code",
      "metadata": {
        "id": "-B0gB_-xRYAy",
        "colab_type": "code",
        "colab": {
          "base_uri": "https://localhost:8080/",
          "height": 204
        },
        "outputId": "a438e61a-b3ec-457b-91cf-7f6012380139"
      },
      "source": [
        "df.head()"
      ],
      "execution_count": 216,
      "outputs": [
        {
          "output_type": "execute_result",
          "data": {
            "text/html": [
              "<div>\n",
              "<style scoped>\n",
              "    .dataframe tbody tr th:only-of-type {\n",
              "        vertical-align: middle;\n",
              "    }\n",
              "\n",
              "    .dataframe tbody tr th {\n",
              "        vertical-align: top;\n",
              "    }\n",
              "\n",
              "    .dataframe thead th {\n",
              "        text-align: right;\n",
              "    }\n",
              "</style>\n",
              "<table border=\"1\" class=\"dataframe\">\n",
              "  <thead>\n",
              "    <tr style=\"text-align: right;\">\n",
              "      <th></th>\n",
              "      <th>Date</th>\n",
              "      <th>State/UnionTerritory</th>\n",
              "      <th>Cured</th>\n",
              "      <th>Deaths</th>\n",
              "      <th>Confirmed</th>\n",
              "    </tr>\n",
              "  </thead>\n",
              "  <tbody>\n",
              "    <tr>\n",
              "      <th>0</th>\n",
              "      <td>2020-01-30</td>\n",
              "      <td>Kerala</td>\n",
              "      <td>0</td>\n",
              "      <td>0</td>\n",
              "      <td>1</td>\n",
              "    </tr>\n",
              "    <tr>\n",
              "      <th>1</th>\n",
              "      <td>2020-01-31</td>\n",
              "      <td>Kerala</td>\n",
              "      <td>0</td>\n",
              "      <td>0</td>\n",
              "      <td>1</td>\n",
              "    </tr>\n",
              "    <tr>\n",
              "      <th>2</th>\n",
              "      <td>2020-02-01</td>\n",
              "      <td>Kerala</td>\n",
              "      <td>0</td>\n",
              "      <td>0</td>\n",
              "      <td>2</td>\n",
              "    </tr>\n",
              "    <tr>\n",
              "      <th>3</th>\n",
              "      <td>2020-02-02</td>\n",
              "      <td>Kerala</td>\n",
              "      <td>0</td>\n",
              "      <td>0</td>\n",
              "      <td>3</td>\n",
              "    </tr>\n",
              "    <tr>\n",
              "      <th>4</th>\n",
              "      <td>2020-02-03</td>\n",
              "      <td>Kerala</td>\n",
              "      <td>0</td>\n",
              "      <td>0</td>\n",
              "      <td>3</td>\n",
              "    </tr>\n",
              "  </tbody>\n",
              "</table>\n",
              "</div>"
            ],
            "text/plain": [
              "        Date State/UnionTerritory  Cured  Deaths  Confirmed\n",
              "0 2020-01-30               Kerala      0       0          1\n",
              "1 2020-01-31               Kerala      0       0          1\n",
              "2 2020-02-01               Kerala      0       0          2\n",
              "3 2020-02-02               Kerala      0       0          3\n",
              "4 2020-02-03               Kerala      0       0          3"
            ]
          },
          "metadata": {
            "tags": []
          },
          "execution_count": 216
        }
      ]
    },
    {
      "cell_type": "code",
      "metadata": {
        "id": "OY91Fwvm7gHZ",
        "colab_type": "code",
        "colab": {
          "base_uri": "https://localhost:8080/",
          "height": 204
        },
        "outputId": "a22c15e7-406e-47a0-9851-c0da0b321e1a"
      },
      "source": [
        "df.tail()"
      ],
      "execution_count": 217,
      "outputs": [
        {
          "output_type": "execute_result",
          "data": {
            "text/html": [
              "<div>\n",
              "<style scoped>\n",
              "    .dataframe tbody tr th:only-of-type {\n",
              "        vertical-align: middle;\n",
              "    }\n",
              "\n",
              "    .dataframe tbody tr th {\n",
              "        vertical-align: top;\n",
              "    }\n",
              "\n",
              "    .dataframe thead th {\n",
              "        text-align: right;\n",
              "    }\n",
              "</style>\n",
              "<table border=\"1\" class=\"dataframe\">\n",
              "  <thead>\n",
              "    <tr style=\"text-align: right;\">\n",
              "      <th></th>\n",
              "      <th>Date</th>\n",
              "      <th>State/UnionTerritory</th>\n",
              "      <th>Cured</th>\n",
              "      <th>Deaths</th>\n",
              "      <th>Confirmed</th>\n",
              "    </tr>\n",
              "  </thead>\n",
              "  <tbody>\n",
              "    <tr>\n",
              "      <th>5506</th>\n",
              "      <td>2020-08-23</td>\n",
              "      <td>Telengana</td>\n",
              "      <td>80586</td>\n",
              "      <td>755</td>\n",
              "      <td>104249</td>\n",
              "    </tr>\n",
              "    <tr>\n",
              "      <th>5507</th>\n",
              "      <td>2020-08-23</td>\n",
              "      <td>Tripura</td>\n",
              "      <td>6182</td>\n",
              "      <td>72</td>\n",
              "      <td>8702</td>\n",
              "    </tr>\n",
              "    <tr>\n",
              "      <th>5508</th>\n",
              "      <td>2020-08-23</td>\n",
              "      <td>Uttarakhand</td>\n",
              "      <td>10021</td>\n",
              "      <td>195</td>\n",
              "      <td>14566</td>\n",
              "    </tr>\n",
              "    <tr>\n",
              "      <th>5509</th>\n",
              "      <td>2020-08-23</td>\n",
              "      <td>Uttar Pradesh</td>\n",
              "      <td>131295</td>\n",
              "      <td>2867</td>\n",
              "      <td>182453</td>\n",
              "    </tr>\n",
              "    <tr>\n",
              "      <th>5510</th>\n",
              "      <td>2020-08-23</td>\n",
              "      <td>West Bengal</td>\n",
              "      <td>104959</td>\n",
              "      <td>2737</td>\n",
              "      <td>135596</td>\n",
              "    </tr>\n",
              "  </tbody>\n",
              "</table>\n",
              "</div>"
            ],
            "text/plain": [
              "           Date State/UnionTerritory   Cured  Deaths  Confirmed\n",
              "5506 2020-08-23            Telengana   80586     755     104249\n",
              "5507 2020-08-23              Tripura    6182      72       8702\n",
              "5508 2020-08-23          Uttarakhand   10021     195      14566\n",
              "5509 2020-08-23        Uttar Pradesh  131295    2867     182453\n",
              "5510 2020-08-23          West Bengal  104959    2737     135596"
            ]
          },
          "metadata": {
            "tags": []
          },
          "execution_count": 217
        }
      ]
    },
    {
      "cell_type": "code",
      "metadata": {
        "id": "296KBmDjRbB_",
        "colab_type": "code",
        "colab": {
          "base_uri": "https://localhost:8080/",
          "height": 204
        },
        "outputId": "14a9a59b-f329-4404-8b21-9a98f3271d08"
      },
      "source": [
        "df1.head()"
      ],
      "execution_count": 218,
      "outputs": [
        {
          "output_type": "execute_result",
          "data": {
            "text/html": [
              "<div>\n",
              "<style scoped>\n",
              "    .dataframe tbody tr th:only-of-type {\n",
              "        vertical-align: middle;\n",
              "    }\n",
              "\n",
              "    .dataframe tbody tr th {\n",
              "        vertical-align: top;\n",
              "    }\n",
              "\n",
              "    .dataframe thead th {\n",
              "        text-align: right;\n",
              "    }\n",
              "</style>\n",
              "<table border=\"1\" class=\"dataframe\">\n",
              "  <thead>\n",
              "    <tr style=\"text-align: right;\">\n",
              "      <th></th>\n",
              "      <th>Sno</th>\n",
              "      <th>AgeGroup</th>\n",
              "      <th>TotalCases</th>\n",
              "      <th>Percentage</th>\n",
              "    </tr>\n",
              "  </thead>\n",
              "  <tbody>\n",
              "    <tr>\n",
              "      <th>0</th>\n",
              "      <td>1</td>\n",
              "      <td>0-9</td>\n",
              "      <td>22</td>\n",
              "      <td>3.18%</td>\n",
              "    </tr>\n",
              "    <tr>\n",
              "      <th>1</th>\n",
              "      <td>2</td>\n",
              "      <td>10-19</td>\n",
              "      <td>27</td>\n",
              "      <td>3.90%</td>\n",
              "    </tr>\n",
              "    <tr>\n",
              "      <th>2</th>\n",
              "      <td>3</td>\n",
              "      <td>20-29</td>\n",
              "      <td>172</td>\n",
              "      <td>24.86%</td>\n",
              "    </tr>\n",
              "    <tr>\n",
              "      <th>3</th>\n",
              "      <td>4</td>\n",
              "      <td>30-39</td>\n",
              "      <td>146</td>\n",
              "      <td>21.10%</td>\n",
              "    </tr>\n",
              "    <tr>\n",
              "      <th>4</th>\n",
              "      <td>5</td>\n",
              "      <td>40-49</td>\n",
              "      <td>112</td>\n",
              "      <td>16.18%</td>\n",
              "    </tr>\n",
              "  </tbody>\n",
              "</table>\n",
              "</div>"
            ],
            "text/plain": [
              "   Sno AgeGroup  TotalCases Percentage\n",
              "0    1      0-9          22      3.18%\n",
              "1    2    10-19          27      3.90%\n",
              "2    3    20-29         172     24.86%\n",
              "3    4    30-39         146     21.10%\n",
              "4    5    40-49         112     16.18%"
            ]
          },
          "metadata": {
            "tags": []
          },
          "execution_count": 218
        }
      ]
    },
    {
      "cell_type": "code",
      "metadata": {
        "id": "LncmbR42SI3F",
        "colab_type": "code",
        "colab": {
          "base_uri": "https://localhost:8080/",
          "height": 102
        },
        "outputId": "276db323-bade-440f-f097-749b29af4df3"
      },
      "source": [
        "df1.isnull().sum()"
      ],
      "execution_count": 219,
      "outputs": [
        {
          "output_type": "execute_result",
          "data": {
            "text/plain": [
              "Sno           0\n",
              "AgeGroup      0\n",
              "TotalCases    0\n",
              "Percentage    0\n",
              "dtype: int64"
            ]
          },
          "metadata": {
            "tags": []
          },
          "execution_count": 219
        }
      ]
    },
    {
      "cell_type": "code",
      "metadata": {
        "id": "t2P-9UeySQKk",
        "colab_type": "code",
        "colab": {}
      },
      "source": [
        "df1.drop('Sno', axis=1, inplace=True)"
      ],
      "execution_count": 220,
      "outputs": []
    },
    {
      "cell_type": "code",
      "metadata": {
        "id": "WNdf74ujSXSj",
        "colab_type": "code",
        "colab": {
          "base_uri": "https://localhost:8080/",
          "height": 187
        },
        "outputId": "e51ef3b9-71ff-4540-d499-97fb29610bef"
      },
      "source": [
        "df1.info()"
      ],
      "execution_count": 221,
      "outputs": [
        {
          "output_type": "stream",
          "text": [
            "<class 'pandas.core.frame.DataFrame'>\n",
            "RangeIndex: 10 entries, 0 to 9\n",
            "Data columns (total 3 columns):\n",
            " #   Column      Non-Null Count  Dtype \n",
            "---  ------      --------------  ----- \n",
            " 0   AgeGroup    10 non-null     object\n",
            " 1   TotalCases  10 non-null     int64 \n",
            " 2   Percentage  10 non-null     object\n",
            "dtypes: int64(1), object(2)\n",
            "memory usage: 368.0+ bytes\n"
          ],
          "name": "stdout"
        }
      ]
    },
    {
      "cell_type": "code",
      "metadata": {
        "id": "eNly35EhSgDp",
        "colab_type": "code",
        "colab": {
          "base_uri": "https://localhost:8080/",
          "height": 204
        },
        "outputId": "88c4faa6-11a3-4f48-cad7-83c0b4a7aa62"
      },
      "source": [
        "df2.head()"
      ],
      "execution_count": 222,
      "outputs": [
        {
          "output_type": "execute_result",
          "data": {
            "text/html": [
              "<div>\n",
              "<style scoped>\n",
              "    .dataframe tbody tr th:only-of-type {\n",
              "        vertical-align: middle;\n",
              "    }\n",
              "\n",
              "    .dataframe tbody tr th {\n",
              "        vertical-align: top;\n",
              "    }\n",
              "\n",
              "    .dataframe thead th {\n",
              "        text-align: right;\n",
              "    }\n",
              "</style>\n",
              "<table border=\"1\" class=\"dataframe\">\n",
              "  <thead>\n",
              "    <tr style=\"text-align: right;\">\n",
              "      <th></th>\n",
              "      <th>Date</th>\n",
              "      <th>State</th>\n",
              "      <th>TotalSamples</th>\n",
              "      <th>Negative</th>\n",
              "      <th>Positive</th>\n",
              "    </tr>\n",
              "  </thead>\n",
              "  <tbody>\n",
              "    <tr>\n",
              "      <th>0</th>\n",
              "      <td>2020-04-17</td>\n",
              "      <td>Andaman and Nicobar Islands</td>\n",
              "      <td>1403.0</td>\n",
              "      <td>1210</td>\n",
              "      <td>12.0</td>\n",
              "    </tr>\n",
              "    <tr>\n",
              "      <th>1</th>\n",
              "      <td>2020-04-24</td>\n",
              "      <td>Andaman and Nicobar Islands</td>\n",
              "      <td>2679.0</td>\n",
              "      <td>NaN</td>\n",
              "      <td>27.0</td>\n",
              "    </tr>\n",
              "    <tr>\n",
              "      <th>2</th>\n",
              "      <td>2020-04-27</td>\n",
              "      <td>Andaman and Nicobar Islands</td>\n",
              "      <td>2848.0</td>\n",
              "      <td>NaN</td>\n",
              "      <td>33.0</td>\n",
              "    </tr>\n",
              "    <tr>\n",
              "      <th>3</th>\n",
              "      <td>2020-05-01</td>\n",
              "      <td>Andaman and Nicobar Islands</td>\n",
              "      <td>3754.0</td>\n",
              "      <td>NaN</td>\n",
              "      <td>33.0</td>\n",
              "    </tr>\n",
              "    <tr>\n",
              "      <th>4</th>\n",
              "      <td>2020-05-16</td>\n",
              "      <td>Andaman and Nicobar Islands</td>\n",
              "      <td>6677.0</td>\n",
              "      <td>NaN</td>\n",
              "      <td>33.0</td>\n",
              "    </tr>\n",
              "  </tbody>\n",
              "</table>\n",
              "</div>"
            ],
            "text/plain": [
              "         Date                        State  TotalSamples Negative  Positive\n",
              "0  2020-04-17  Andaman and Nicobar Islands        1403.0     1210      12.0\n",
              "1  2020-04-24  Andaman and Nicobar Islands        2679.0      NaN      27.0\n",
              "2  2020-04-27  Andaman and Nicobar Islands        2848.0      NaN      33.0\n",
              "3  2020-05-01  Andaman and Nicobar Islands        3754.0      NaN      33.0\n",
              "4  2020-05-16  Andaman and Nicobar Islands        6677.0      NaN      33.0"
            ]
          },
          "metadata": {
            "tags": []
          },
          "execution_count": 222
        }
      ]
    },
    {
      "cell_type": "code",
      "metadata": {
        "id": "Bv0ZJpBNSqlX",
        "colab_type": "code",
        "colab": {
          "base_uri": "https://localhost:8080/",
          "height": 221
        },
        "outputId": "321f0f67-ebd8-4bfd-b9f2-23151c6fbca6"
      },
      "source": [
        "df2.info()"
      ],
      "execution_count": 223,
      "outputs": [
        {
          "output_type": "stream",
          "text": [
            "<class 'pandas.core.frame.DataFrame'>\n",
            "RangeIndex: 4436 entries, 0 to 4435\n",
            "Data columns (total 5 columns):\n",
            " #   Column        Non-Null Count  Dtype  \n",
            "---  ------        --------------  -----  \n",
            " 0   Date          4436 non-null   object \n",
            " 1   State         4436 non-null   object \n",
            " 2   TotalSamples  4436 non-null   float64\n",
            " 3   Negative      2775 non-null   object \n",
            " 4   Positive      4216 non-null   float64\n",
            "dtypes: float64(2), object(3)\n",
            "memory usage: 173.4+ KB\n"
          ],
          "name": "stdout"
        }
      ]
    },
    {
      "cell_type": "code",
      "metadata": {
        "id": "4KXBD-GhSvw6",
        "colab_type": "code",
        "colab": {
          "base_uri": "https://localhost:8080/",
          "height": 119
        },
        "outputId": "7f910bf4-e07c-49d5-b826-442409c3661a"
      },
      "source": [
        "df2.isnull().sum()"
      ],
      "execution_count": 224,
      "outputs": [
        {
          "output_type": "execute_result",
          "data": {
            "text/plain": [
              "Date               0\n",
              "State              0\n",
              "TotalSamples       0\n",
              "Negative        1661\n",
              "Positive         220\n",
              "dtype: int64"
            ]
          },
          "metadata": {
            "tags": []
          },
          "execution_count": 224
        }
      ]
    },
    {
      "cell_type": "code",
      "metadata": {
        "id": "h6bLDmwZS1cQ",
        "colab_type": "code",
        "colab": {}
      },
      "source": [
        "df2.fillna(0, inplace=True)"
      ],
      "execution_count": 225,
      "outputs": []
    },
    {
      "cell_type": "code",
      "metadata": {
        "id": "xKOygHxmTGEl",
        "colab_type": "code",
        "colab": {}
      },
      "source": [
        "df2['Date'] = pd.to_datetime(df2['Date'])"
      ],
      "execution_count": 226,
      "outputs": []
    },
    {
      "cell_type": "code",
      "metadata": {
        "id": "5XH3oHnZUe6G",
        "colab_type": "code",
        "colab": {
          "base_uri": "https://localhost:8080/",
          "height": 34
        },
        "outputId": "80071726-057e-4b3b-b4fd-c45f51132093"
      },
      "source": [
        "df2['Negative'].unique()"
      ],
      "execution_count": 227,
      "outputs": [
        {
          "output_type": "execute_result",
          "data": {
            "text/plain": [
              "array(['1210', 0, '1175', ..., '258971', '266862', '568'], dtype=object)"
            ]
          },
          "metadata": {
            "tags": []
          },
          "execution_count": 227
        }
      ]
    },
    {
      "cell_type": "code",
      "metadata": {
        "id": "FT3wnF1pUZWp",
        "colab_type": "code",
        "colab": {
          "base_uri": "https://localhost:8080/",
          "height": 80
        },
        "outputId": "4701f9a5-6c4f-4352-e5ba-1bdcd146050c"
      },
      "source": [
        "df2.loc[[2979]]"
      ],
      "execution_count": 228,
      "outputs": [
        {
          "output_type": "execute_result",
          "data": {
            "text/html": [
              "<div>\n",
              "<style scoped>\n",
              "    .dataframe tbody tr th:only-of-type {\n",
              "        vertical-align: middle;\n",
              "    }\n",
              "\n",
              "    .dataframe tbody tr th {\n",
              "        vertical-align: top;\n",
              "    }\n",
              "\n",
              "    .dataframe thead th {\n",
              "        text-align: right;\n",
              "    }\n",
              "</style>\n",
              "<table border=\"1\" class=\"dataframe\">\n",
              "  <thead>\n",
              "    <tr style=\"text-align: right;\">\n",
              "      <th></th>\n",
              "      <th>Date</th>\n",
              "      <th>State</th>\n",
              "      <th>TotalSamples</th>\n",
              "      <th>Negative</th>\n",
              "      <th>Positive</th>\n",
              "    </tr>\n",
              "  </thead>\n",
              "  <tbody>\n",
              "    <tr>\n",
              "      <th>2979</th>\n",
              "      <td>2020-06-20</td>\n",
              "      <td>Nagaland</td>\n",
              "      <td>9128.0</td>\n",
              "      <td></td>\n",
              "      <td>201.0</td>\n",
              "    </tr>\n",
              "  </tbody>\n",
              "</table>\n",
              "</div>"
            ],
            "text/plain": [
              "           Date     State  TotalSamples Negative  Positive\n",
              "2979 2020-06-20  Nagaland        9128.0              201.0"
            ]
          },
          "metadata": {
            "tags": []
          },
          "execution_count": 228
        }
      ]
    },
    {
      "cell_type": "code",
      "metadata": {
        "id": "3yfmg4dyVp4A",
        "colab_type": "code",
        "colab": {}
      },
      "source": [
        "df2['Negative'].replace(\" \", 0, inplace=True)"
      ],
      "execution_count": 229,
      "outputs": []
    },
    {
      "cell_type": "code",
      "metadata": {
        "id": "MkBdwachXa7B",
        "colab_type": "code",
        "colab": {
          "base_uri": "https://localhost:8080/",
          "height": 80
        },
        "outputId": "242ace23-77a3-4793-cb28-1497c17eef9d"
      },
      "source": [
        "df2.loc[[2979]]"
      ],
      "execution_count": 230,
      "outputs": [
        {
          "output_type": "execute_result",
          "data": {
            "text/html": [
              "<div>\n",
              "<style scoped>\n",
              "    .dataframe tbody tr th:only-of-type {\n",
              "        vertical-align: middle;\n",
              "    }\n",
              "\n",
              "    .dataframe tbody tr th {\n",
              "        vertical-align: top;\n",
              "    }\n",
              "\n",
              "    .dataframe thead th {\n",
              "        text-align: right;\n",
              "    }\n",
              "</style>\n",
              "<table border=\"1\" class=\"dataframe\">\n",
              "  <thead>\n",
              "    <tr style=\"text-align: right;\">\n",
              "      <th></th>\n",
              "      <th>Date</th>\n",
              "      <th>State</th>\n",
              "      <th>TotalSamples</th>\n",
              "      <th>Negative</th>\n",
              "      <th>Positive</th>\n",
              "    </tr>\n",
              "  </thead>\n",
              "  <tbody>\n",
              "    <tr>\n",
              "      <th>2979</th>\n",
              "      <td>2020-06-20</td>\n",
              "      <td>Nagaland</td>\n",
              "      <td>9128.0</td>\n",
              "      <td>0</td>\n",
              "      <td>201.0</td>\n",
              "    </tr>\n",
              "  </tbody>\n",
              "</table>\n",
              "</div>"
            ],
            "text/plain": [
              "           Date     State  TotalSamples Negative  Positive\n",
              "2979 2020-06-20  Nagaland        9128.0        0     201.0"
            ]
          },
          "metadata": {
            "tags": []
          },
          "execution_count": 230
        }
      ]
    },
    {
      "cell_type": "code",
      "metadata": {
        "id": "DPgLtyqVXe3C",
        "colab_type": "code",
        "colab": {}
      },
      "source": [
        "df2['Negative'] = df2['Negative'].astype(float)"
      ],
      "execution_count": 231,
      "outputs": []
    },
    {
      "cell_type": "code",
      "metadata": {
        "id": "R-Oda1pnXkEz",
        "colab_type": "code",
        "colab": {
          "base_uri": "https://localhost:8080/",
          "height": 221
        },
        "outputId": "5267c2ee-72f3-46fa-b47f-caa64089ef11"
      },
      "source": [
        "df2.info()"
      ],
      "execution_count": 232,
      "outputs": [
        {
          "output_type": "stream",
          "text": [
            "<class 'pandas.core.frame.DataFrame'>\n",
            "RangeIndex: 4436 entries, 0 to 4435\n",
            "Data columns (total 5 columns):\n",
            " #   Column        Non-Null Count  Dtype         \n",
            "---  ------        --------------  -----         \n",
            " 0   Date          4436 non-null   datetime64[ns]\n",
            " 1   State         4436 non-null   object        \n",
            " 2   TotalSamples  4436 non-null   float64       \n",
            " 3   Negative      4436 non-null   float64       \n",
            " 4   Positive      4436 non-null   float64       \n",
            "dtypes: datetime64[ns](1), float64(3), object(1)\n",
            "memory usage: 173.4+ KB\n"
          ],
          "name": "stdout"
        }
      ]
    },
    {
      "cell_type": "code",
      "metadata": {
        "id": "gPMTJvrXXtcp",
        "colab_type": "code",
        "colab": {
          "base_uri": "https://localhost:8080/",
          "height": 292
        },
        "outputId": "3cc30b4f-ff10-46e3-8f38-6167226659ce"
      },
      "source": [
        "df3.head()"
      ],
      "execution_count": 233,
      "outputs": [
        {
          "output_type": "execute_result",
          "data": {
            "text/html": [
              "<div>\n",
              "<style scoped>\n",
              "    .dataframe tbody tr th:only-of-type {\n",
              "        vertical-align: middle;\n",
              "    }\n",
              "\n",
              "    .dataframe tbody tr th {\n",
              "        vertical-align: top;\n",
              "    }\n",
              "\n",
              "    .dataframe thead th {\n",
              "        text-align: right;\n",
              "    }\n",
              "</style>\n",
              "<table border=\"1\" class=\"dataframe\">\n",
              "  <thead>\n",
              "    <tr style=\"text-align: right;\">\n",
              "      <th></th>\n",
              "      <th>Sno</th>\n",
              "      <th>State/UT</th>\n",
              "      <th>NumPrimaryHealthCenters_HMIS</th>\n",
              "      <th>NumCommunityHealthCenters_HMIS</th>\n",
              "      <th>NumSubDistrictHospitals_HMIS</th>\n",
              "      <th>NumDistrictHospitals_HMIS</th>\n",
              "      <th>TotalPublicHealthFacilities_HMIS</th>\n",
              "      <th>NumPublicBeds_HMIS</th>\n",
              "      <th>NumRuralHospitals_NHP18</th>\n",
              "      <th>NumRuralBeds_NHP18</th>\n",
              "      <th>NumUrbanHospitals_NHP18</th>\n",
              "      <th>NumUrbanBeds_NHP18</th>\n",
              "    </tr>\n",
              "  </thead>\n",
              "  <tbody>\n",
              "    <tr>\n",
              "      <th>0</th>\n",
              "      <td>1</td>\n",
              "      <td>Andaman &amp; Nicobar Islands</td>\n",
              "      <td>27</td>\n",
              "      <td>4</td>\n",
              "      <td>NaN</td>\n",
              "      <td>3</td>\n",
              "      <td>34</td>\n",
              "      <td>1246</td>\n",
              "      <td>27</td>\n",
              "      <td>575</td>\n",
              "      <td>3</td>\n",
              "      <td>500</td>\n",
              "    </tr>\n",
              "    <tr>\n",
              "      <th>1</th>\n",
              "      <td>2</td>\n",
              "      <td>Andhra Pradesh</td>\n",
              "      <td>1417</td>\n",
              "      <td>198</td>\n",
              "      <td>31.0</td>\n",
              "      <td>20</td>\n",
              "      <td>1666</td>\n",
              "      <td>60799</td>\n",
              "      <td>193</td>\n",
              "      <td>6480</td>\n",
              "      <td>65</td>\n",
              "      <td>16658</td>\n",
              "    </tr>\n",
              "    <tr>\n",
              "      <th>2</th>\n",
              "      <td>3</td>\n",
              "      <td>Arunachal Pradesh</td>\n",
              "      <td>122</td>\n",
              "      <td>62</td>\n",
              "      <td>NaN</td>\n",
              "      <td>15</td>\n",
              "      <td>199</td>\n",
              "      <td>2320</td>\n",
              "      <td>208</td>\n",
              "      <td>2136</td>\n",
              "      <td>10</td>\n",
              "      <td>268</td>\n",
              "    </tr>\n",
              "    <tr>\n",
              "      <th>3</th>\n",
              "      <td>4</td>\n",
              "      <td>Assam</td>\n",
              "      <td>1007</td>\n",
              "      <td>166</td>\n",
              "      <td>14.0</td>\n",
              "      <td>33</td>\n",
              "      <td>1220</td>\n",
              "      <td>19115</td>\n",
              "      <td>1176</td>\n",
              "      <td>10944</td>\n",
              "      <td>50</td>\n",
              "      <td>6198</td>\n",
              "    </tr>\n",
              "    <tr>\n",
              "      <th>4</th>\n",
              "      <td>5</td>\n",
              "      <td>Bihar</td>\n",
              "      <td>2007</td>\n",
              "      <td>63</td>\n",
              "      <td>33.0</td>\n",
              "      <td>43</td>\n",
              "      <td>2146</td>\n",
              "      <td>17796</td>\n",
              "      <td>930</td>\n",
              "      <td>6083</td>\n",
              "      <td>103</td>\n",
              "      <td>5936</td>\n",
              "    </tr>\n",
              "  </tbody>\n",
              "</table>\n",
              "</div>"
            ],
            "text/plain": [
              "   Sno                   State/UT  ... NumUrbanHospitals_NHP18  NumUrbanBeds_NHP18\n",
              "0    1  Andaman & Nicobar Islands  ...                       3                 500\n",
              "1    2             Andhra Pradesh  ...                      65               16658\n",
              "2    3          Arunachal Pradesh  ...                      10                 268\n",
              "3    4                      Assam  ...                      50                6198\n",
              "4    5                      Bihar  ...                     103                5936\n",
              "\n",
              "[5 rows x 12 columns]"
            ]
          },
          "metadata": {
            "tags": []
          },
          "execution_count": 233
        }
      ]
    },
    {
      "cell_type": "code",
      "metadata": {
        "id": "HBEpT_bLXwbt",
        "colab_type": "code",
        "colab": {}
      },
      "source": [
        "df3.drop('Sno',axis=1, inplace=True)"
      ],
      "execution_count": 234,
      "outputs": []
    },
    {
      "cell_type": "code",
      "metadata": {
        "id": "sl9qDf8XZmds",
        "colab_type": "code",
        "colab": {}
      },
      "source": [
        "df3.fillna(0, inplace=True)"
      ],
      "execution_count": 235,
      "outputs": []
    },
    {
      "cell_type": "code",
      "metadata": {
        "id": "ZgSBKKxeZvhQ",
        "colab_type": "code",
        "colab": {
          "base_uri": "https://localhost:8080/",
          "height": 221
        },
        "outputId": "0db4ed7a-efbc-4b25-fed8-71c55e290067"
      },
      "source": [
        "df3.isnull().sum()"
      ],
      "execution_count": 236,
      "outputs": [
        {
          "output_type": "execute_result",
          "data": {
            "text/plain": [
              "State/UT                            0\n",
              "NumPrimaryHealthCenters_HMIS        0\n",
              "NumCommunityHealthCenters_HMIS      0\n",
              "NumSubDistrictHospitals_HMIS        0\n",
              "NumDistrictHospitals_HMIS           0\n",
              "TotalPublicHealthFacilities_HMIS    0\n",
              "NumPublicBeds_HMIS                  0\n",
              "NumRuralHospitals_NHP18             0\n",
              "NumRuralBeds_NHP18                  0\n",
              "NumUrbanHospitals_NHP18             0\n",
              "NumUrbanBeds_NHP18                  0\n",
              "dtype: int64"
            ]
          },
          "metadata": {
            "tags": []
          },
          "execution_count": 236
        }
      ]
    },
    {
      "cell_type": "code",
      "metadata": {
        "id": "0m-d5WiqZy9c",
        "colab_type": "code",
        "colab": {
          "base_uri": "https://localhost:8080/",
          "height": 323
        },
        "outputId": "49388854-c0ba-46d8-f118-8423f56e3f2a"
      },
      "source": [
        "df3.info()"
      ],
      "execution_count": 237,
      "outputs": [
        {
          "output_type": "stream",
          "text": [
            "<class 'pandas.core.frame.DataFrame'>\n",
            "RangeIndex: 37 entries, 0 to 36\n",
            "Data columns (total 11 columns):\n",
            " #   Column                            Non-Null Count  Dtype  \n",
            "---  ------                            --------------  -----  \n",
            " 0   State/UT                          37 non-null     object \n",
            " 1   NumPrimaryHealthCenters_HMIS      37 non-null     object \n",
            " 2   NumCommunityHealthCenters_HMIS    37 non-null     int64  \n",
            " 3   NumSubDistrictHospitals_HMIS      37 non-null     float64\n",
            " 4   NumDistrictHospitals_HMIS         37 non-null     int64  \n",
            " 5   TotalPublicHealthFacilities_HMIS  37 non-null     int64  \n",
            " 6   NumPublicBeds_HMIS                37 non-null     int64  \n",
            " 7   NumRuralHospitals_NHP18           37 non-null     int64  \n",
            " 8   NumRuralBeds_NHP18                37 non-null     int64  \n",
            " 9   NumUrbanHospitals_NHP18           37 non-null     int64  \n",
            " 10  NumUrbanBeds_NHP18                37 non-null     int64  \n",
            "dtypes: float64(1), int64(8), object(2)\n",
            "memory usage: 3.3+ KB\n"
          ],
          "name": "stdout"
        }
      ]
    },
    {
      "cell_type": "code",
      "metadata": {
        "id": "-ue6IraSZ5xK",
        "colab_type": "code",
        "colab": {
          "base_uri": "https://localhost:8080/",
          "height": 34
        },
        "outputId": "950b088f-b0f3-4fc2-b655-81f29926ec01"
      },
      "source": [
        "def clean_installs(x):\n",
        "    x = str(x)\n",
        "    x = x.replace(\",\",\"\")\n",
        "    x = x.replace(\"+\",\"\")\n",
        "    return int(x)\n",
        "clean_installs(\"29,899\")"
      ],
      "execution_count": 240,
      "outputs": [
        {
          "output_type": "execute_result",
          "data": {
            "text/plain": [
              "29899"
            ]
          },
          "metadata": {
            "tags": []
          },
          "execution_count": 240
        }
      ]
    },
    {
      "cell_type": "code",
      "metadata": {
        "id": "WG4KtwAbn-nm",
        "colab_type": "code",
        "colab": {}
      },
      "source": [
        "df3[\"NumPrimaryHealthCenters_HMIS\"] = df3[\"NumPrimaryHealthCenters_HMIS\"].map(clean_installs)"
      ],
      "execution_count": 241,
      "outputs": []
    },
    {
      "cell_type": "code",
      "metadata": {
        "id": "oQJerXIBjK-B",
        "colab_type": "code",
        "colab": {
          "base_uri": "https://localhost:8080/",
          "height": 289
        },
        "outputId": "a2f786af-1a7a-4b62-ba2f-1411ec0c6803"
      },
      "source": [
        "df4.head()"
      ],
      "execution_count": 242,
      "outputs": [
        {
          "output_type": "execute_result",
          "data": {
            "text/html": [
              "<div>\n",
              "<style scoped>\n",
              "    .dataframe tbody tr th:only-of-type {\n",
              "        vertical-align: middle;\n",
              "    }\n",
              "\n",
              "    .dataframe tbody tr th {\n",
              "        vertical-align: top;\n",
              "    }\n",
              "\n",
              "    .dataframe thead th {\n",
              "        text-align: right;\n",
              "    }\n",
              "</style>\n",
              "<table border=\"1\" class=\"dataframe\">\n",
              "  <thead>\n",
              "    <tr style=\"text-align: right;\">\n",
              "      <th></th>\n",
              "      <th>lab</th>\n",
              "      <th>address</th>\n",
              "      <th>pincode</th>\n",
              "      <th>city</th>\n",
              "      <th>state</th>\n",
              "      <th>type</th>\n",
              "    </tr>\n",
              "  </thead>\n",
              "  <tbody>\n",
              "    <tr>\n",
              "      <th>0</th>\n",
              "      <td>ICMR-Regional Medical Research Centre, Port Blair</td>\n",
              "      <td>ICMR-Regional Medical Research Centre, Post Ba...</td>\n",
              "      <td>744103</td>\n",
              "      <td>Port Blair</td>\n",
              "      <td>Andaman and Nicobar Islands</td>\n",
              "      <td>Government Laboratory</td>\n",
              "    </tr>\n",
              "    <tr>\n",
              "      <th>1</th>\n",
              "      <td>Tomo Riba Institute of Health &amp; Medical Scienc...</td>\n",
              "      <td>National Highway 52A, Old Assembly Complex, Na...</td>\n",
              "      <td>791110</td>\n",
              "      <td>Naharlagun</td>\n",
              "      <td>Arunachal Pradesh</td>\n",
              "      <td>Collection Site</td>\n",
              "    </tr>\n",
              "    <tr>\n",
              "      <th>2</th>\n",
              "      <td>Sri Venkateswara Institute of Medical Sciences...</td>\n",
              "      <td>Sri Venkateswara Institute of Medical Sciences...</td>\n",
              "      <td>517507</td>\n",
              "      <td>Tirupati</td>\n",
              "      <td>Andhra Pradesh</td>\n",
              "      <td>Government Laboratory</td>\n",
              "    </tr>\n",
              "    <tr>\n",
              "      <th>3</th>\n",
              "      <td>Rangaraya Medical College, Kakinada</td>\n",
              "      <td>Rangaraya Medical College, Kakinada Pithampura...</td>\n",
              "      <td>533001</td>\n",
              "      <td>Kakinada</td>\n",
              "      <td>Andhra Pradesh</td>\n",
              "      <td>Government Laboratory</td>\n",
              "    </tr>\n",
              "    <tr>\n",
              "      <th>4</th>\n",
              "      <td>Sidhartha Medical College, Vijaywada</td>\n",
              "      <td>Siddhartha Medical College, Vijayawada NH 16 S...</td>\n",
              "      <td>520008</td>\n",
              "      <td>Vijayawada</td>\n",
              "      <td>Andhra Pradesh</td>\n",
              "      <td>Government Laboratory</td>\n",
              "    </tr>\n",
              "  </tbody>\n",
              "</table>\n",
              "</div>"
            ],
            "text/plain": [
              "                                                 lab  ...                   type\n",
              "0  ICMR-Regional Medical Research Centre, Port Blair  ...  Government Laboratory\n",
              "1  Tomo Riba Institute of Health & Medical Scienc...  ...        Collection Site\n",
              "2  Sri Venkateswara Institute of Medical Sciences...  ...  Government Laboratory\n",
              "3                Rangaraya Medical College, Kakinada  ...  Government Laboratory\n",
              "4               Sidhartha Medical College, Vijaywada  ...  Government Laboratory\n",
              "\n",
              "[5 rows x 6 columns]"
            ]
          },
          "metadata": {
            "tags": []
          },
          "execution_count": 242
        }
      ]
    },
    {
      "cell_type": "code",
      "metadata": {
        "id": "JSWtlYi_mq2o",
        "colab_type": "code",
        "colab": {
          "base_uri": "https://localhost:8080/",
          "height": 136
        },
        "outputId": "cb50fd77-8a0c-4dbc-90ca-b862e9d5fddd"
      },
      "source": [
        "df4.isnull().sum()"
      ],
      "execution_count": 243,
      "outputs": [
        {
          "output_type": "execute_result",
          "data": {
            "text/plain": [
              "lab        0\n",
              "address    0\n",
              "pincode    0\n",
              "city       0\n",
              "state      0\n",
              "type       0\n",
              "dtype: int64"
            ]
          },
          "metadata": {
            "tags": []
          },
          "execution_count": 243
        }
      ]
    },
    {
      "cell_type": "code",
      "metadata": {
        "id": "Cum4oqrVmvpj",
        "colab_type": "code",
        "colab": {
          "base_uri": "https://localhost:8080/",
          "height": 238
        },
        "outputId": "6d19612b-0e0c-4eff-a21f-faa2928f19b4"
      },
      "source": [
        "df4.info()"
      ],
      "execution_count": 244,
      "outputs": [
        {
          "output_type": "stream",
          "text": [
            "<class 'pandas.core.frame.DataFrame'>\n",
            "RangeIndex: 267 entries, 0 to 266\n",
            "Data columns (total 6 columns):\n",
            " #   Column   Non-Null Count  Dtype \n",
            "---  ------   --------------  ----- \n",
            " 0   lab      267 non-null    object\n",
            " 1   address  267 non-null    object\n",
            " 2   pincode  267 non-null    int64 \n",
            " 3   city     267 non-null    object\n",
            " 4   state    267 non-null    object\n",
            " 5   type     267 non-null    object\n",
            "dtypes: int64(1), object(5)\n",
            "memory usage: 12.6+ KB\n"
          ],
          "name": "stdout"
        }
      ]
    },
    {
      "cell_type": "code",
      "metadata": {
        "id": "8NLigcqkm0Bs",
        "colab_type": "code",
        "colab": {
          "base_uri": "https://localhost:8080/",
          "height": 462
        },
        "outputId": "cce4bd95-dcd3-4a7b-cfcc-5f6967e03be3"
      },
      "source": [
        "df5.head()"
      ],
      "execution_count": 245,
      "outputs": [
        {
          "output_type": "execute_result",
          "data": {
            "text/html": [
              "<div>\n",
              "<style scoped>\n",
              "    .dataframe tbody tr th:only-of-type {\n",
              "        vertical-align: middle;\n",
              "    }\n",
              "\n",
              "    .dataframe tbody tr th {\n",
              "        vertical-align: top;\n",
              "    }\n",
              "\n",
              "    .dataframe thead th {\n",
              "        text-align: right;\n",
              "    }\n",
              "</style>\n",
              "<table border=\"1\" class=\"dataframe\">\n",
              "  <thead>\n",
              "    <tr style=\"text-align: right;\">\n",
              "      <th></th>\n",
              "      <th>id</th>\n",
              "      <th>government_id</th>\n",
              "      <th>diagnosed_date</th>\n",
              "      <th>age</th>\n",
              "      <th>gender</th>\n",
              "      <th>detected_city</th>\n",
              "      <th>detected_district</th>\n",
              "      <th>detected_state</th>\n",
              "      <th>nationality</th>\n",
              "      <th>current_status</th>\n",
              "      <th>status_change_date</th>\n",
              "      <th>notes</th>\n",
              "    </tr>\n",
              "  </thead>\n",
              "  <tbody>\n",
              "    <tr>\n",
              "      <th>0</th>\n",
              "      <td>0</td>\n",
              "      <td>KL-TS-P1</td>\n",
              "      <td>30/01/2020</td>\n",
              "      <td>20</td>\n",
              "      <td>F</td>\n",
              "      <td>Thrissur</td>\n",
              "      <td>Thrissur</td>\n",
              "      <td>Kerala</td>\n",
              "      <td>India</td>\n",
              "      <td>Recovered</td>\n",
              "      <td>14/02/2020</td>\n",
              "      <td>Travelled from Wuhan</td>\n",
              "    </tr>\n",
              "    <tr>\n",
              "      <th>1</th>\n",
              "      <td>1</td>\n",
              "      <td>KL-AL-P1</td>\n",
              "      <td>02/02/2020</td>\n",
              "      <td>NaN</td>\n",
              "      <td>NaN</td>\n",
              "      <td>Alappuzha</td>\n",
              "      <td>Alappuzha</td>\n",
              "      <td>Kerala</td>\n",
              "      <td>India</td>\n",
              "      <td>Recovered</td>\n",
              "      <td>14/02/2020</td>\n",
              "      <td>Travelled from Wuhan</td>\n",
              "    </tr>\n",
              "    <tr>\n",
              "      <th>2</th>\n",
              "      <td>2</td>\n",
              "      <td>KL-KS-P1</td>\n",
              "      <td>03/02/2020</td>\n",
              "      <td>NaN</td>\n",
              "      <td>NaN</td>\n",
              "      <td>Kasaragod</td>\n",
              "      <td>Kasaragod</td>\n",
              "      <td>Kerala</td>\n",
              "      <td>India</td>\n",
              "      <td>Recovered</td>\n",
              "      <td>14/02/2020</td>\n",
              "      <td>Travelled from Wuhan</td>\n",
              "    </tr>\n",
              "    <tr>\n",
              "      <th>3</th>\n",
              "      <td>3</td>\n",
              "      <td>DL-P1</td>\n",
              "      <td>02/03/2020</td>\n",
              "      <td>45</td>\n",
              "      <td>M</td>\n",
              "      <td>East Delhi (Mayur Vihar)</td>\n",
              "      <td>East Delhi</td>\n",
              "      <td>Delhi</td>\n",
              "      <td>India</td>\n",
              "      <td>Recovered</td>\n",
              "      <td>15/03/2020</td>\n",
              "      <td>Travelled from Austria, Italy</td>\n",
              "    </tr>\n",
              "    <tr>\n",
              "      <th>4</th>\n",
              "      <td>4</td>\n",
              "      <td>TS-P1</td>\n",
              "      <td>02/03/2020</td>\n",
              "      <td>24</td>\n",
              "      <td>M</td>\n",
              "      <td>Hyderabad</td>\n",
              "      <td>Hyderabad</td>\n",
              "      <td>Telangana</td>\n",
              "      <td>India</td>\n",
              "      <td>Recovered</td>\n",
              "      <td>02/03/2020</td>\n",
              "      <td>Travelled from Dubai to Bangalore on 20th Feb,...</td>\n",
              "    </tr>\n",
              "  </tbody>\n",
              "</table>\n",
              "</div>"
            ],
            "text/plain": [
              "   id  ...                                              notes\n",
              "0   0  ...                               Travelled from Wuhan\n",
              "1   1  ...                               Travelled from Wuhan\n",
              "2   2  ...                               Travelled from Wuhan\n",
              "3   3  ...                      Travelled from Austria, Italy\n",
              "4   4  ...  Travelled from Dubai to Bangalore on 20th Feb,...\n",
              "\n",
              "[5 rows x 12 columns]"
            ]
          },
          "metadata": {
            "tags": []
          },
          "execution_count": 245
        }
      ]
    },
    {
      "cell_type": "code",
      "metadata": {
        "id": "TDHB4ZFTm3FQ",
        "colab_type": "code",
        "colab": {
          "base_uri": "https://localhost:8080/",
          "height": 238
        },
        "outputId": "bd9af355-121c-4198-b024-16f59a1e6ca2"
      },
      "source": [
        "df5.isnull().sum()"
      ],
      "execution_count": 246,
      "outputs": [
        {
          "output_type": "execute_result",
          "data": {
            "text/plain": [
              "id                        0\n",
              "government_id         25185\n",
              "diagnosed_date            0\n",
              "age                   25836\n",
              "gender                22869\n",
              "detected_city         25832\n",
              "detected_district      6984\n",
              "detected_state            0\n",
              "nationality           25473\n",
              "current_status            0\n",
              "status_change_date      402\n",
              "notes                  1335\n",
              "dtype: int64"
            ]
          },
          "metadata": {
            "tags": []
          },
          "execution_count": 246
        }
      ]
    },
    {
      "cell_type": "code",
      "metadata": {
        "id": "OMeQ1OQ6m6RC",
        "colab_type": "code",
        "colab": {}
      },
      "source": [
        "df5.fillna(0, inplace=True)"
      ],
      "execution_count": 247,
      "outputs": []
    },
    {
      "cell_type": "code",
      "metadata": {
        "id": "-GZe98PwnV0y",
        "colab_type": "code",
        "colab": {
          "base_uri": "https://localhost:8080/",
          "height": 340
        },
        "outputId": "99862786-83b5-4b8f-ad92-f3bc99209335"
      },
      "source": [
        "df5.info()"
      ],
      "execution_count": 248,
      "outputs": [
        {
          "output_type": "stream",
          "text": [
            "<class 'pandas.core.frame.DataFrame'>\n",
            "RangeIndex: 28182 entries, 0 to 28181\n",
            "Data columns (total 12 columns):\n",
            " #   Column              Non-Null Count  Dtype \n",
            "---  ------              --------------  ----- \n",
            " 0   id                  28182 non-null  int64 \n",
            " 1   government_id       28182 non-null  object\n",
            " 2   diagnosed_date      28182 non-null  object\n",
            " 3   age                 28182 non-null  object\n",
            " 4   gender              28182 non-null  object\n",
            " 5   detected_city       28182 non-null  object\n",
            " 6   detected_district   28182 non-null  object\n",
            " 7   detected_state      28182 non-null  object\n",
            " 8   nationality         28182 non-null  object\n",
            " 9   current_status      28182 non-null  object\n",
            " 10  status_change_date  28182 non-null  object\n",
            " 11  notes               28182 non-null  object\n",
            "dtypes: int64(1), object(11)\n",
            "memory usage: 2.6+ MB\n"
          ],
          "name": "stdout"
        }
      ]
    },
    {
      "cell_type": "code",
      "metadata": {
        "id": "HjJQvHi9nqeB",
        "colab_type": "code",
        "colab": {
          "base_uri": "https://localhost:8080/",
          "height": 221
        },
        "outputId": "0ece3472-f348-4b99-d5e9-77c4aff7ed66"
      },
      "source": [
        "df6.head()"
      ],
      "execution_count": 249,
      "outputs": [
        {
          "output_type": "execute_result",
          "data": {
            "text/html": [
              "<div>\n",
              "<style scoped>\n",
              "    .dataframe tbody tr th:only-of-type {\n",
              "        vertical-align: middle;\n",
              "    }\n",
              "\n",
              "    .dataframe tbody tr th {\n",
              "        vertical-align: top;\n",
              "    }\n",
              "\n",
              "    .dataframe thead th {\n",
              "        text-align: right;\n",
              "    }\n",
              "</style>\n",
              "<table border=\"1\" class=\"dataframe\">\n",
              "  <thead>\n",
              "    <tr style=\"text-align: right;\">\n",
              "      <th></th>\n",
              "      <th>Sno</th>\n",
              "      <th>State / Union Territory</th>\n",
              "      <th>Population</th>\n",
              "      <th>Rural population</th>\n",
              "      <th>Urban population</th>\n",
              "      <th>Area</th>\n",
              "      <th>Density</th>\n",
              "      <th>Gender Ratio</th>\n",
              "    </tr>\n",
              "  </thead>\n",
              "  <tbody>\n",
              "    <tr>\n",
              "      <th>0</th>\n",
              "      <td>1</td>\n",
              "      <td>Uttar Pradesh</td>\n",
              "      <td>199812341</td>\n",
              "      <td>155317278</td>\n",
              "      <td>44495063</td>\n",
              "      <td>240,928 km2 (93,023 sq mi)</td>\n",
              "      <td>828/km2 (2,140/sq mi)</td>\n",
              "      <td>912</td>\n",
              "    </tr>\n",
              "    <tr>\n",
              "      <th>1</th>\n",
              "      <td>2</td>\n",
              "      <td>Maharashtra</td>\n",
              "      <td>112374333</td>\n",
              "      <td>61556074</td>\n",
              "      <td>50818259</td>\n",
              "      <td>307,713 km2 (118,809 sq mi)</td>\n",
              "      <td>365/km2 (950/sq mi)</td>\n",
              "      <td>929</td>\n",
              "    </tr>\n",
              "    <tr>\n",
              "      <th>2</th>\n",
              "      <td>3</td>\n",
              "      <td>Bihar</td>\n",
              "      <td>104099452</td>\n",
              "      <td>92341436</td>\n",
              "      <td>11758016</td>\n",
              "      <td>94,163 km2 (36,357 sq mi)</td>\n",
              "      <td>1,102/km2 (2,850/sq mi)</td>\n",
              "      <td>918</td>\n",
              "    </tr>\n",
              "    <tr>\n",
              "      <th>3</th>\n",
              "      <td>4</td>\n",
              "      <td>West Bengal</td>\n",
              "      <td>91276115</td>\n",
              "      <td>62183113</td>\n",
              "      <td>29093002</td>\n",
              "      <td>88,752 km2 (34,267 sq mi)</td>\n",
              "      <td>1,029/km2 (2,670/sq mi)</td>\n",
              "      <td>953</td>\n",
              "    </tr>\n",
              "    <tr>\n",
              "      <th>4</th>\n",
              "      <td>5</td>\n",
              "      <td>Madhya Pradesh</td>\n",
              "      <td>72626809</td>\n",
              "      <td>52557404</td>\n",
              "      <td>20069405</td>\n",
              "      <td>308,245 km2 (119,014 sq mi)</td>\n",
              "      <td>236/km2 (610/sq mi)</td>\n",
              "      <td>931</td>\n",
              "    </tr>\n",
              "  </tbody>\n",
              "</table>\n",
              "</div>"
            ],
            "text/plain": [
              "   Sno State / Union Territory  ...                  Density  Gender Ratio\n",
              "0    1           Uttar Pradesh  ...    828/km2 (2,140/sq mi)           912\n",
              "1    2             Maharashtra  ...      365/km2 (950/sq mi)           929\n",
              "2    3                   Bihar  ...  1,102/km2 (2,850/sq mi)           918\n",
              "3    4             West Bengal  ...  1,029/km2 (2,670/sq mi)           953\n",
              "4    5          Madhya Pradesh  ...      236/km2 (610/sq mi)           931\n",
              "\n",
              "[5 rows x 8 columns]"
            ]
          },
          "metadata": {
            "tags": []
          },
          "execution_count": 249
        }
      ]
    },
    {
      "cell_type": "code",
      "metadata": {
        "id": "9FfK64xWn0OX",
        "colab_type": "code",
        "colab": {
          "base_uri": "https://localhost:8080/",
          "height": 170
        },
        "outputId": "ae1b71ff-7ddd-4e74-d3de-5e303907013e"
      },
      "source": [
        "df6.isnull().sum()"
      ],
      "execution_count": 250,
      "outputs": [
        {
          "output_type": "execute_result",
          "data": {
            "text/plain": [
              "Sno                        0\n",
              "State / Union Territory    0\n",
              "Population                 0\n",
              "Rural population           0\n",
              "Urban population           0\n",
              "Area                       0\n",
              "Density                    0\n",
              "Gender Ratio               0\n",
              "dtype: int64"
            ]
          },
          "metadata": {
            "tags": []
          },
          "execution_count": 250
        }
      ]
    },
    {
      "cell_type": "code",
      "metadata": {
        "id": "YQUeX5gon4TV",
        "colab_type": "code",
        "colab": {}
      },
      "source": [
        "df6.drop('Sno', axis=1, inplace=True)"
      ],
      "execution_count": 251,
      "outputs": []
    },
    {
      "cell_type": "code",
      "metadata": {
        "id": "SSjioA9Dn_1O",
        "colab_type": "code",
        "colab": {}
      },
      "source": [
        ""
      ],
      "execution_count": 251,
      "outputs": []
    },
    {
      "cell_type": "markdown",
      "metadata": {
        "id": "VzUDKo9_vEKJ",
        "colab_type": "text"
      },
      "source": [
        "Statistical Analysis\n"
      ]
    },
    {
      "cell_type": "code",
      "metadata": {
        "id": "iPyg44kHvH1H",
        "colab_type": "code",
        "colab": {}
      },
      "source": [
        "df_per_day=df.groupby('Date')['Confirmed','Deaths', 'Cured'].sum().sort_values(by = 'Date', ascending = True)"
      ],
      "execution_count": 252,
      "outputs": []
    },
    {
      "cell_type": "code",
      "metadata": {
        "id": "0DzFW2D3w8B8",
        "colab_type": "code",
        "colab": {
          "base_uri": "https://localhost:8080/",
          "height": 450
        },
        "outputId": "07ad2a85-3ae1-499c-e7af-86f7ad99547a"
      },
      "source": [
        "df_per_day"
      ],
      "execution_count": 253,
      "outputs": [
        {
          "output_type": "execute_result",
          "data": {
            "text/html": [
              "<div>\n",
              "<style scoped>\n",
              "    .dataframe tbody tr th:only-of-type {\n",
              "        vertical-align: middle;\n",
              "    }\n",
              "\n",
              "    .dataframe tbody tr th {\n",
              "        vertical-align: top;\n",
              "    }\n",
              "\n",
              "    .dataframe thead th {\n",
              "        text-align: right;\n",
              "    }\n",
              "</style>\n",
              "<table border=\"1\" class=\"dataframe\">\n",
              "  <thead>\n",
              "    <tr style=\"text-align: right;\">\n",
              "      <th></th>\n",
              "      <th>Confirmed</th>\n",
              "      <th>Deaths</th>\n",
              "      <th>Cured</th>\n",
              "    </tr>\n",
              "    <tr>\n",
              "      <th>Date</th>\n",
              "      <th></th>\n",
              "      <th></th>\n",
              "      <th></th>\n",
              "    </tr>\n",
              "  </thead>\n",
              "  <tbody>\n",
              "    <tr>\n",
              "      <th>2020-01-30</th>\n",
              "      <td>1</td>\n",
              "      <td>0</td>\n",
              "      <td>0</td>\n",
              "    </tr>\n",
              "    <tr>\n",
              "      <th>2020-01-31</th>\n",
              "      <td>1</td>\n",
              "      <td>0</td>\n",
              "      <td>0</td>\n",
              "    </tr>\n",
              "    <tr>\n",
              "      <th>2020-02-01</th>\n",
              "      <td>2</td>\n",
              "      <td>0</td>\n",
              "      <td>0</td>\n",
              "    </tr>\n",
              "    <tr>\n",
              "      <th>2020-02-02</th>\n",
              "      <td>3</td>\n",
              "      <td>0</td>\n",
              "      <td>0</td>\n",
              "    </tr>\n",
              "    <tr>\n",
              "      <th>2020-02-03</th>\n",
              "      <td>3</td>\n",
              "      <td>0</td>\n",
              "      <td>0</td>\n",
              "    </tr>\n",
              "    <tr>\n",
              "      <th>...</th>\n",
              "      <td>...</td>\n",
              "      <td>...</td>\n",
              "      <td>...</td>\n",
              "    </tr>\n",
              "    <tr>\n",
              "      <th>2020-08-19</th>\n",
              "      <td>2767273</td>\n",
              "      <td>52889</td>\n",
              "      <td>2037870</td>\n",
              "    </tr>\n",
              "    <tr>\n",
              "      <th>2020-08-20</th>\n",
              "      <td>2836925</td>\n",
              "      <td>53866</td>\n",
              "      <td>2096664</td>\n",
              "    </tr>\n",
              "    <tr>\n",
              "      <th>2020-08-21</th>\n",
              "      <td>2905823</td>\n",
              "      <td>54849</td>\n",
              "      <td>2158946</td>\n",
              "    </tr>\n",
              "    <tr>\n",
              "      <th>2020-08-22</th>\n",
              "      <td>2975701</td>\n",
              "      <td>55794</td>\n",
              "      <td>2222577</td>\n",
              "    </tr>\n",
              "    <tr>\n",
              "      <th>2020-08-23</th>\n",
              "      <td>3044940</td>\n",
              "      <td>56706</td>\n",
              "      <td>2280566</td>\n",
              "    </tr>\n",
              "  </tbody>\n",
              "</table>\n",
              "<p>207 rows × 3 columns</p>\n",
              "</div>"
            ],
            "text/plain": [
              "            Confirmed  Deaths    Cured\n",
              "Date                                  \n",
              "2020-01-30          1       0        0\n",
              "2020-01-31          1       0        0\n",
              "2020-02-01          2       0        0\n",
              "2020-02-02          3       0        0\n",
              "2020-02-03          3       0        0\n",
              "...               ...     ...      ...\n",
              "2020-08-19    2767273   52889  2037870\n",
              "2020-08-20    2836925   53866  2096664\n",
              "2020-08-21    2905823   54849  2158946\n",
              "2020-08-22    2975701   55794  2222577\n",
              "2020-08-23    3044940   56706  2280566\n",
              "\n",
              "[207 rows x 3 columns]"
            ]
          },
          "metadata": {
            "tags": []
          },
          "execution_count": 253
        }
      ]
    },
    {
      "cell_type": "code",
      "metadata": {
        "id": "9XUj2xzbyCNW",
        "colab_type": "code",
        "colab": {
          "base_uri": "https://localhost:8080/",
          "height": 34
        },
        "outputId": "9fc19acc-8504-47b3-c253-ca7024b15b95"
      },
      "source": [
        "# First day of the dataset\n",
        "df_per_day['Confirmed'].idxmin()"
      ],
      "execution_count": 254,
      "outputs": [
        {
          "output_type": "execute_result",
          "data": {
            "text/plain": [
              "Timestamp('2020-01-30 00:00:00')"
            ]
          },
          "metadata": {
            "tags": []
          },
          "execution_count": 254
        }
      ]
    },
    {
      "cell_type": "code",
      "metadata": {
        "id": "9OH0upYdxbpU",
        "colab_type": "code",
        "colab": {
          "base_uri": "https://localhost:8080/",
          "height": 34
        },
        "outputId": "aaa5c55c-6558-4090-92d5-a3c2f13d82da"
      },
      "source": [
        "# Number of cases on first day\n",
        "df_per_day['Confirmed'].min()"
      ],
      "execution_count": 255,
      "outputs": [
        {
          "output_type": "execute_result",
          "data": {
            "text/plain": [
              "1"
            ]
          },
          "metadata": {
            "tags": []
          },
          "execution_count": 255
        }
      ]
    },
    {
      "cell_type": "code",
      "metadata": {
        "id": "ei5G6b1Rx8ZE",
        "colab_type": "code",
        "colab": {
          "base_uri": "https://localhost:8080/",
          "height": 34
        },
        "outputId": "69dcc270-ffb8-478e-a15d-fdcc738602f7"
      },
      "source": [
        "# Last date in this dataset\n",
        "df_per_day['Confirmed'].idxmax()"
      ],
      "execution_count": 256,
      "outputs": [
        {
          "output_type": "execute_result",
          "data": {
            "text/plain": [
              "Timestamp('2020-08-23 00:00:00')"
            ]
          },
          "metadata": {
            "tags": []
          },
          "execution_count": 256
        }
      ]
    },
    {
      "cell_type": "code",
      "metadata": {
        "id": "QOrK6iLIxDAb",
        "colab_type": "code",
        "colab": {
          "base_uri": "https://localhost:8080/",
          "height": 34
        },
        "outputId": "506744db-f817-467b-b4ce-d5dbaf75066a"
      },
      "source": [
        "# Total number of cases till the last date\n",
        "df_per_day['Confirmed'].max()"
      ],
      "execution_count": 257,
      "outputs": [
        {
          "output_type": "execute_result",
          "data": {
            "text/plain": [
              "3044940"
            ]
          },
          "metadata": {
            "tags": []
          },
          "execution_count": 257
        }
      ]
    },
    {
      "cell_type": "code",
      "metadata": {
        "id": "g2L4ogoayRg-",
        "colab_type": "code",
        "colab": {
          "base_uri": "https://localhost:8080/",
          "height": 621
        },
        "outputId": "57dc7eef-8460-4deb-9133-0cfa2bc3711c"
      },
      "source": [
        "\n",
        "plt.figure(figsize = (10,10))\n",
        "plt.plot(df_per_day['Confirmed'],'bo', label = 'Confirmed_Total', linestyle = ':')\n",
        "plt.plot(df_per_day['Deaths'],'ro', label = 'Deaths', linestyle = '--',)\n",
        "plt.plot(df_per_day['Cured'],'go', label = 'Cured', linestyle = '-.')\n",
        "plt.title('Cases per day')\n",
        "plt.xlabel('Dates')\n",
        "plt.ylabel('Cases')\n",
        "plt.legend()\n",
        "plt.show()"
      ],
      "execution_count": 258,
      "outputs": [
        {
          "output_type": "display_data",
          "data": {
            "image/png": "[encoded data removed]",
            "text/plain": [
              "<Figure size 720x720 with 1 Axes>"
            ]
          },
          "metadata": {
            "tags": [],
            "needs_background": "light"
          }
        }
      ]
    },
    {
      "cell_type": "code",
      "metadata": {
        "id": "Y7YTLOUBF-jg",
        "colab_type": "code",
        "colab": {
          "base_uri": "https://localhost:8080/",
          "height": 513
        },
        "outputId": "d6a4f435-4745-4008-c3b0-aada5b5f564b"
      },
      "source": [
        "plt.figure(figsize=(10,8))\n",
        "sns.barplot(data=df1,x='AgeGroup',y='TotalCases',color=sns.color_palette('Set3')[0])\n",
        "plt.title('Age Group Distribution')\n",
        "plt.xlabel('Age Group')\n",
        "plt.ylabel('Total Cases')\n",
        "plt.show()"
      ],
      "execution_count": 259,
      "outputs": [
        {
          "output_type": "display_data",
          "data": {
            "image/png": "[encoded data removed]",
            "text/plain": [
              "<Figure size 720x576 with 1 Axes>"
            ]
          },
          "metadata": {
            "tags": [],
            "needs_background": "light"
          }
        }
      ]
    },
    {
      "cell_type": "code",
      "metadata": {
        "id": "cFO82pmyUC-y",
        "colab_type": "code",
        "colab": {
          "base_uri": "https://localhost:8080/",
          "height": 810
        },
        "outputId": "ad6bb1e2-b68b-4952-bf1d-e6867ea1ed64"
      },
      "source": [
        "top=df3.nlargest(20,'NumCommunityHealthCenters_HMIS')\n",
        "\n",
        "plt.figure(figsize=(20,20))\n",
        "plt.title('Top States with number of Primary health centres',fontsize=30)\n",
        "plt.xticks(fontsize=20)\n",
        "plt.yticks(fontsize=20)\n",
        "plt.xlabel('Number of Primary Health centers',fontsize=25)\n",
        "plt.ylabel('States',fontsize=25)\n",
        "plt.barh(top['State/UT'],top['NumCommunityHealthCenters_HMIS'],color='blue',linewidth=1)\n",
        "plt.show()"
      ],
      "execution_count": 260,
      "outputs": [
        {
          "output_type": "display_data",
          "data": {
            "image/png": "[encoded data removed]",
            "text/plain": [
              "<Figure size 1440x1440 with 1 Axes>"
            ]
          },
          "metadata": {
            "tags": [],
            "needs_background": "light"
          }
        }
      ]
    },
    {
      "cell_type": "code",
      "metadata": {
        "id": "dsCH7karKHFA",
        "colab_type": "code",
        "colab": {
          "base_uri": "https://localhost:8080/",
          "height": 204
        },
        "outputId": "b36c285d-58fc-4093-c9d4-5316cce66441"
      },
      "source": [
        "df['Active Cases'] = df['Confirmed'] - df['Cured'] - df['Deaths']\n",
        "df.head()"
      ],
      "execution_count": 261,
      "outputs": [
        {
          "output_type": "execute_result",
          "data": {
            "text/html": [
              "<div>\n",
              "<style scoped>\n",
              "    .dataframe tbody tr th:only-of-type {\n",
              "        vertical-align: middle;\n",
              "    }\n",
              "\n",
              "    .dataframe tbody tr th {\n",
              "        vertical-align: top;\n",
              "    }\n",
              "\n",
              "    .dataframe thead th {\n",
              "        text-align: right;\n",
              "    }\n",
              "</style>\n",
              "<table border=\"1\" class=\"dataframe\">\n",
              "  <thead>\n",
              "    <tr style=\"text-align: right;\">\n",
              "      <th></th>\n",
              "      <th>Date</th>\n",
              "      <th>State/UnionTerritory</th>\n",
              "      <th>Cured</th>\n",
              "      <th>Deaths</th>\n",
              "      <th>Confirmed</th>\n",
              "      <th>Active Cases</th>\n",
              "    </tr>\n",
              "  </thead>\n",
              "  <tbody>\n",
              "    <tr>\n",
              "      <th>0</th>\n",
              "      <td>2020-01-30</td>\n",
              "      <td>Kerala</td>\n",
              "      <td>0</td>\n",
              "      <td>0</td>\n",
              "      <td>1</td>\n",
              "      <td>1</td>\n",
              "    </tr>\n",
              "    <tr>\n",
              "      <th>1</th>\n",
              "      <td>2020-01-31</td>\n",
              "      <td>Kerala</td>\n",
              "      <td>0</td>\n",
              "      <td>0</td>\n",
              "      <td>1</td>\n",
              "      <td>1</td>\n",
              "    </tr>\n",
              "    <tr>\n",
              "      <th>2</th>\n",
              "      <td>2020-02-01</td>\n",
              "      <td>Kerala</td>\n",
              "      <td>0</td>\n",
              "      <td>0</td>\n",
              "      <td>2</td>\n",
              "      <td>2</td>\n",
              "    </tr>\n",
              "    <tr>\n",
              "      <th>3</th>\n",
              "      <td>2020-02-02</td>\n",
              "      <td>Kerala</td>\n",
              "      <td>0</td>\n",
              "      <td>0</td>\n",
              "      <td>3</td>\n",
              "      <td>3</td>\n",
              "    </tr>\n",
              "    <tr>\n",
              "      <th>4</th>\n",
              "      <td>2020-02-03</td>\n",
              "      <td>Kerala</td>\n",
              "      <td>0</td>\n",
              "      <td>0</td>\n",
              "      <td>3</td>\n",
              "      <td>3</td>\n",
              "    </tr>\n",
              "  </tbody>\n",
              "</table>\n",
              "</div>"
            ],
            "text/plain": [
              "        Date State/UnionTerritory  Cured  Deaths  Confirmed  Active Cases\n",
              "0 2020-01-30               Kerala      0       0          1             1\n",
              "1 2020-01-31               Kerala      0       0          1             1\n",
              "2 2020-02-01               Kerala      0       0          2             2\n",
              "3 2020-02-02               Kerala      0       0          3             3\n",
              "4 2020-02-03               Kerala      0       0          3             3"
            ]
          },
          "metadata": {
            "tags": []
          },
          "execution_count": 261
        }
      ]
    },
    {
      "cell_type": "code",
      "metadata": {
        "id": "aIzmAsl6ZLrV",
        "colab_type": "code",
        "colab": {}
      },
      "source": [
        "import plotly.express as px"
      ],
      "execution_count": 262,
      "outputs": []
    },
    {
      "cell_type": "code",
      "metadata": {
        "id": "P3T4J23TZbN5",
        "colab_type": "code",
        "colab": {}
      },
      "source": [
        "a = df[df['Date']=='2020-08-23']"
      ],
      "execution_count": null,
      "outputs": []
    },
    {
      "cell_type": "code",
      "metadata": {
        "id": "-oubepYOalHt",
        "colab_type": "code",
        "colab": {
          "base_uri": "https://localhost:8080/",
          "height": 667
        },
        "outputId": "78e434a5-3afb-4bcd-a269-3fcb0241ccd6"
      },
      "source": [
        "fig = px.bar(a, x=\"State/UnionTerritory\", y=\"Active Cases\", barmode='group', height=650,width=700)\n",
        "fig.show()"
      ],
      "execution_count": 264,
      "outputs": [
        {
          "output_type": "display_data",
          "data": {
            "text/html": [
              "<html>\n",
              "<head><meta charset=\"utf-8\" /></head>\n",
              "<body>\n",
              "    <div>\n",
              "            <script src=\"https://cdnjs.cloudflare.com/ajax/libs/mathjax/2.7.5/MathJax.js?config=TeX-AMS-MML_SVG\"></script><script type=\"text/javascript\">if (window.MathJax) {MathJax.Hub.Config({SVG: {font: \"STIX-Web\"}});}</script>\n",
              "                <script type=\"text/javascript\">window.PlotlyConfig = {MathJaxConfig: 'local'};</script>\n",
              "        <script src=\"https://cdn.plot.ly/plotly-latest.min.js\"></script>    \n",
              "            <div id=\"28eacbc5-aec6-446c-a880-99953da339e9\" class=\"plotly-graph-div\" style=\"height:650px; width:700px;\"></div>\n",
              "            <script type=\"text/javascript\">\n",
              "                \n",
              "                    window.PLOTLYENV=window.PLOTLYENV || {};\n",
              "                    \n",
              "                if (document.getElementById(\"28eacbc5-aec6-446c-a880-99953da339e9\")) {\n",
              "                    Plotly.newPlot(\n",
              "                        '28eacbc5-aec6-446c-a880-99953da339e9',\n",
              "                        [{\"alignmentgroup\": \"True\", \"hoverlabel\": {\"namelength\": 0}, \"hovertemplate\": \"State/UnionTerritory=%{x}<br>Active Cases=%{y}\", \"legendgroup\": \"\", \"marker\": {\"color\": \"#636efa\"}, \"name\": \"\", \"offsetgroup\": \"\", \"orientation\": \"v\", \"showlegend\": false, \"textposition\": \"auto\", \"type\": \"bar\", \"x\": [\"Andaman and Nicobar Islands\", \"Andhra Pradesh\", \"Arunachal Pradesh\", \"Assam\", \"Bihar\", \"Chandigarh\", \"Chhattisgarh\", \"Dadra and Nagar Haveli and Daman and Diu\", \"Delhi\", \"Goa\", \"Gujarat\", \"Haryana\", \"Himachal Pradesh\", \"Jammu and Kashmir\", \"Jharkhand\", \"Karnataka\", \"Kerala\", \"Ladakh\", \"Madhya Pradesh\", \"Maharashtra\", \"Manipur\", \"Meghalaya\", \"Mizoram\", \"Nagaland\", \"Odisha\", \"Puducherry\", \"Punjab\", \"Rajasthan\", \"Sikkim\", \"Tamil Nadu\", \"Telengana\", \"Tripura\", \"Uttarakhand\", \"Uttar Pradesh\", \"West Bengal\"], \"xaxis\": \"x\", \"y\": [923, 89389, 990, 21593, 24168, 1272, 7495, 416, 11594, 3631, 14399, 8680, 1525, 6975, 9756, 82693, 19601, 720, 11261, 169833, 1655, 1035, 494, 1460, 22861, 3654, 15305, 14176, 507, 53710, 22908, 2448, 4350, 48291, 27900], \"yaxis\": \"y\"}],\n",
              "                        {\"barmode\": \"group\", \"height\": 650, \"legend\": {\"tracegroupgap\": 0}, \"margin\": {\"t\": 60}, \"template\": {\"data\": {\"bar\": [{\"error_x\": {\"color\": \"#2a3f5f\"}, \"error_y\": {\"color\": \"#2a3f5f\"}, \"marker\": {\"line\": {\"color\": \"#E5ECF6\", \"width\": 0.5}}, \"type\": \"bar\"}], \"barpolar\": [{\"marker\": {\"line\": {\"color\": \"#E5ECF6\", \"width\": 0.5}}, \"type\": \"barpolar\"}], \"carpet\": [{\"aaxis\": {\"endlinecolor\": \"#2a3f5f\", \"gridcolor\": \"white\", \"linecolor\": \"white\", \"minorgridcolor\": \"white\", \"startlinecolor\": \"#2a3f5f\"}, \"baxis\": {\"endlinecolor\": \"#2a3f5f\", \"gridcolor\": \"white\", \"linecolor\": \"white\", \"minorgridcolor\": \"white\", \"startlinecolor\": \"#2a3f5f\"}, \"type\": \"carpet\"}], \"choropleth\": [{\"colorbar\": {\"outlinewidth\": 0, \"ticks\": \"\"}, \"type\": \"choropleth\"}], \"contour\": [{\"colorbar\": {\"outlinewidth\": 0, \"ticks\": \"\"}, \"colorscale\": [[0.0, \"#0d0887\"], [0.1111111111111111, \"#46039f\"], [0.2222222222222222, \"#7201a8\"], [0.3333333333333333, \"#9c179e\"], [0.4444444444444444, \"#bd3786\"], [0.5555555555555556, \"#d8576b\"], [0.6666666666666666, \"#ed7953\"], [0.7777777777777778, \"#fb9f3a\"], [0.8888888888888888, \"#fdca26\"], [1.0, \"#f0f921\"]], \"type\": \"contour\"}], \"contourcarpet\": [{\"colorbar\": {\"outlinewidth\": 0, \"ticks\": \"\"}, \"type\": \"contourcarpet\"}], \"heatmap\": [{\"colorbar\": {\"outlinewidth\": 0, \"ticks\": \"\"}, \"colorscale\": [[0.0, \"#0d0887\"], [0.1111111111111111, \"#46039f\"], [0.2222222222222222, \"#7201a8\"], [0.3333333333333333, \"#9c179e\"], [0.4444444444444444, \"#bd3786\"], [0.5555555555555556, \"#d8576b\"], [0.6666666666666666, \"#ed7953\"], [0.7777777777777778, \"#fb9f3a\"], [0.8888888888888888, \"#fdca26\"], [1.0, \"#f0f921\"]], \"type\": \"heatmap\"}], \"heatmapgl\": [{\"colorbar\": {\"outlinewidth\": 0, \"ticks\": \"\"}, \"colorscale\": [[0.0, \"#0d0887\"], [0.1111111111111111, \"#46039f\"], [0.2222222222222222, \"#7201a8\"], [0.3333333333333333, \"#9c179e\"], [0.4444444444444444, \"#bd3786\"], [0.5555555555555556, \"#d8576b\"], [0.6666666666666666, \"#ed7953\"], [0.7777777777777778, \"#fb9f3a\"], [0.8888888888888888, \"#fdca26\"], [1.0, \"#f0f921\"]], \"type\": \"heatmapgl\"}], \"histogram\": [{\"marker\": {\"colorbar\": {\"outlinewidth\": 0, \"ticks\": \"\"}}, \"type\": \"histogram\"}], \"histogram2d\": [{\"colorbar\": {\"outlinewidth\": 0, \"ticks\": \"\"}, \"colorscale\": [[0.0, \"#0d0887\"], [0.1111111111111111, \"#46039f\"], [0.2222222222222222, \"#7201a8\"], [0.3333333333333333, \"#9c179e\"], [0.4444444444444444, \"#bd3786\"], [0.5555555555555556, \"#d8576b\"], [0.6666666666666666, \"#ed7953\"], [0.7777777777777778, \"#fb9f3a\"], [0.8888888888888888, \"#fdca26\"], [1.0, \"#f0f921\"]], \"type\": \"histogram2d\"}], \"histogram2dcontour\": [{\"colorbar\": {\"outlinewidth\": 0, \"ticks\": \"\"}, \"colorscale\": [[0.0, \"#0d0887\"], [0.1111111111111111, \"#46039f\"], [0.2222222222222222, \"#7201a8\"], [0.3333333333333333, \"#9c179e\"], [0.4444444444444444, \"#bd3786\"], [0.5555555555555556, \"#d8576b\"], [0.6666666666666666, \"#ed7953\"], [0.7777777777777778, \"#fb9f3a\"], [0.8888888888888888, \"#fdca26\"], [1.0, \"#f0f921\"]], \"type\": \"histogram2dcontour\"}], \"mesh3d\": [{\"colorbar\": {\"outlinewidth\": 0, \"ticks\": \"\"}, \"type\": \"mesh3d\"}], \"parcoords\": [{\"line\": {\"colorbar\": {\"outlinewidth\": 0, \"ticks\": \"\"}}, \"type\": \"parcoords\"}], \"pie\": [{\"automargin\": true, \"type\": \"pie\"}], \"scatter\": [{\"marker\": {\"colorbar\": {\"outlinewidth\": 0, \"ticks\": \"\"}}, \"type\": \"scatter\"}], \"scatter3d\": [{\"line\": {\"colorbar\": {\"outlinewidth\": 0, \"ticks\": \"\"}}, \"marker\": {\"colorbar\": {\"outlinewidth\": 0, \"ticks\": \"\"}}, \"type\": \"scatter3d\"}], \"scattercarpet\": [{\"marker\": {\"colorbar\": {\"outlinewidth\": 0, \"ticks\": \"\"}}, \"type\": \"scattercarpet\"}], \"scattergeo\": [{\"marker\": {\"colorbar\": {\"outlinewidth\": 0, \"ticks\": \"\"}}, \"type\": \"scattergeo\"}], \"scattergl\": [{\"marker\": {\"colorbar\": {\"outlinewidth\": 0, \"ticks\": \"\"}}, \"type\": \"scattergl\"}], \"scattermapbox\": [{\"marker\": {\"colorbar\": {\"outlinewidth\": 0, \"ticks\": \"\"}}, \"type\": \"scattermapbox\"}], \"scatterpolar\": [{\"marker\": {\"colorbar\": {\"outlinewidth\": 0, \"ticks\": \"\"}}, \"type\": \"scatterpolar\"}], \"scatterpolargl\": [{\"marker\": {\"colorbar\": {\"outlinewidth\": 0, \"ticks\": \"\"}}, \"type\": \"scatterpolargl\"}], \"scatterternary\": [{\"marker\": {\"colorbar\": {\"outlinewidth\": 0, \"ticks\": \"\"}}, \"type\": \"scatterternary\"}], \"surface\": [{\"colorbar\": {\"outlinewidth\": 0, \"ticks\": \"\"}, \"colorscale\": [[0.0, \"#0d0887\"], [0.1111111111111111, \"#46039f\"], [0.2222222222222222, \"#7201a8\"], [0.3333333333333333, \"#9c179e\"], [0.4444444444444444, \"#bd3786\"], [0.5555555555555556, \"#d8576b\"], [0.6666666666666666, \"#ed7953\"], [0.7777777777777778, \"#fb9f3a\"], [0.8888888888888888, \"#fdca26\"], [1.0, \"#f0f921\"]], \"type\": \"surface\"}], \"table\": [{\"cells\": {\"fill\": {\"color\": \"#EBF0F8\"}, \"line\": {\"color\": \"white\"}}, \"header\": {\"fill\": {\"color\": \"#C8D4E3\"}, \"line\": {\"color\": \"white\"}}, \"type\": \"table\"}]}, \"layout\": {\"annotationdefaults\": {\"arrowcolor\": \"#2a3f5f\", \"arrowhead\": 0, \"arrowwidth\": 1}, \"coloraxis\": {\"colorbar\": {\"outlinewidth\": 0, \"ticks\": \"\"}}, \"colorscale\": {\"diverging\": [[0, \"#8e0152\"], [0.1, \"#c51b7d\"], [0.2, \"#de77ae\"], [0.3, \"#f1b6da\"], [0.4, \"#fde0ef\"], [0.5, \"#f7f7f7\"], [0.6, \"#e6f5d0\"], [0.7, \"#b8e186\"], [0.8, \"#7fbc41\"], [0.9, \"#4d9221\"], [1, \"#276419\"]], \"sequential\": [[0.0, \"#0d0887\"], [0.1111111111111111, \"#46039f\"], [0.2222222222222222, \"#7201a8\"], [0.3333333333333333, \"#9c179e\"], [0.4444444444444444, \"#bd3786\"], [0.5555555555555556, \"#d8576b\"], [0.6666666666666666, \"#ed7953\"], [0.7777777777777778, \"#fb9f3a\"], [0.8888888888888888, \"#fdca26\"], [1.0, \"#f0f921\"]], \"sequentialminus\": [[0.0, \"#0d0887\"], [0.1111111111111111, \"#46039f\"], [0.2222222222222222, \"#7201a8\"], [0.3333333333333333, \"#9c179e\"], [0.4444444444444444, \"#bd3786\"], [0.5555555555555556, \"#d8576b\"], [0.6666666666666666, \"#ed7953\"], [0.7777777777777778, \"#fb9f3a\"], [0.8888888888888888, \"#fdca26\"], [1.0, \"#f0f921\"]]}, \"colorway\": [\"#636efa\", \"#EF553B\", \"#00cc96\", \"#ab63fa\", \"#FFA15A\", \"#19d3f3\", \"#FF6692\", \"#B6E880\", \"#FF97FF\", \"#FECB52\"], \"font\": {\"color\": \"#2a3f5f\"}, \"geo\": {\"bgcolor\": \"white\", \"lakecolor\": \"white\", \"landcolor\": \"#E5ECF6\", \"showlakes\": true, \"showland\": true, \"subunitcolor\": \"white\"}, \"hoverlabel\": {\"align\": \"left\"}, \"hovermode\": \"closest\", \"mapbox\": {\"style\": \"light\"}, \"paper_bgcolor\": \"white\", \"plot_bgcolor\": \"#E5ECF6\", \"polar\": {\"angularaxis\": {\"gridcolor\": \"white\", \"linecolor\": \"white\", \"ticks\": \"\"}, \"bgcolor\": \"#E5ECF6\", \"radialaxis\": {\"gridcolor\": \"white\", \"linecolor\": \"white\", \"ticks\": \"\"}}, \"scene\": {\"xaxis\": {\"backgroundcolor\": \"#E5ECF6\", \"gridcolor\": \"white\", \"gridwidth\": 2, \"linecolor\": \"white\", \"showbackground\": true, \"ticks\": \"\", \"zerolinecolor\": \"white\"}, \"yaxis\": {\"backgroundcolor\": \"#E5ECF6\", \"gridcolor\": \"white\", \"gridwidth\": 2, \"linecolor\": \"white\", \"showbackground\": true, \"ticks\": \"\", \"zerolinecolor\": \"white\"}, \"zaxis\": {\"backgroundcolor\": \"#E5ECF6\", \"gridcolor\": \"white\", \"gridwidth\": 2, \"linecolor\": \"white\", \"showbackground\": true, \"ticks\": \"\", \"zerolinecolor\": \"white\"}}, \"shapedefaults\": {\"line\": {\"color\": \"#2a3f5f\"}}, \"ternary\": {\"aaxis\": {\"gridcolor\": \"white\", \"linecolor\": \"white\", \"ticks\": \"\"}, \"baxis\": {\"gridcolor\": \"white\", \"linecolor\": \"white\", \"ticks\": \"\"}, \"bgcolor\": \"#E5ECF6\", \"caxis\": {\"gridcolor\": \"white\", \"linecolor\": \"white\", \"ticks\": \"\"}}, \"title\": {\"x\": 0.05}, \"xaxis\": {\"automargin\": true, \"gridcolor\": \"white\", \"linecolor\": \"white\", \"ticks\": \"\", \"title\": {\"standoff\": 15}, \"zerolinecolor\": \"white\", \"zerolinewidth\": 2}, \"yaxis\": {\"automargin\": true, \"gridcolor\": \"white\", \"linecolor\": \"white\", \"ticks\": \"\", \"title\": {\"standoff\": 15}, \"zerolinecolor\": \"white\", \"zerolinewidth\": 2}}}, \"width\": 700, \"xaxis\": {\"anchor\": \"y\", \"domain\": [0.0, 1.0], \"title\": {\"text\": \"State/UnionTerritory\"}}, \"yaxis\": {\"anchor\": \"x\", \"domain\": [0.0, 1.0], \"title\": {\"text\": \"Active Cases\"}}},\n",
              "                        {\"responsive\": true}\n",
              "                    ).then(function(){\n",
              "                            \n",
              "var gd = document.getElementById('28eacbc5-aec6-446c-a880-99953da339e9');\n",
              "var x = new MutationObserver(function (mutations, observer) {{\n",
              "        var display = window.getComputedStyle(gd).display;\n",
              "        if (!display || display === 'none') {{\n",
              "            console.log([gd, 'removed!']);\n",
              "            Plotly.purge(gd);\n",
              "            observer.disconnect();\n",
              "        }}\n",
              "}});\n",
              "\n",
              "// Listen for the removal of the full notebook cells\n",
              "var notebookContainer = gd.closest('#notebook-container');\n",
              "if (notebookContainer) {{\n",
              "    x.observe(notebookContainer, {childList: true});\n",
              "}}\n",
              "\n",
              "// Listen for the clearing of the current output cell\n",
              "var outputEl = gd.closest('.output');\n",
              "if (outputEl) {{\n",
              "    x.observe(outputEl, {childList: true});\n",
              "}}\n",
              "\n",
              "                        })\n",
              "                };\n",
              "                \n",
              "            </script>\n",
              "        </div>\n",
              "</body>\n",
              "</html>"
            ]
          },
          "metadata": {
            "tags": []
          }
        }
      ]
    },
    {
      "cell_type": "code",
      "metadata": {
        "id": "OpVyOmoSjTXL",
        "colab_type": "code",
        "colab": {
          "base_uri": "https://localhost:8080/",
          "height": 542
        },
        "outputId": "122a6870-060a-49e0-817f-46b4fd5fa290"
      },
      "source": [
        "fig = px.bar(df6, y='Rural population', x='State / Union Territory', text='Rural population')\n",
        "fig.update_traces(texttemplate='%{text:.3s}', textposition='outside')\n",
        "fig.show()"
      ],
      "execution_count": 265,
      "outputs": [
        {
          "output_type": "display_data",
          "data": {
            "text/html": [
              "<html>\n",
              "<head><meta charset=\"utf-8\" /></head>\n",
              "<body>\n",
              "    <div>\n",
              "            <script src=\"https://cdnjs.cloudflare.com/ajax/libs/mathjax/2.7.5/MathJax.js?config=TeX-AMS-MML_SVG\"></script><script type=\"text/javascript\">if (window.MathJax) {MathJax.Hub.Config({SVG: {font: \"STIX-Web\"}});}</script>\n",
              "                <script type=\"text/javascript\">window.PlotlyConfig = {MathJaxConfig: 'local'};</script>\n",
              "        <script src=\"https://cdn.plot.ly/plotly-latest.min.js\"></script>    \n",
              "            <div id=\"85ff80d4-59f6-4149-80d2-e5f8747b1254\" class=\"plotly-graph-div\" style=\"height:525px; width:100%;\"></div>\n",
              "            <script type=\"text/javascript\">\n",
              "                \n",
              "                    window.PLOTLYENV=window.PLOTLYENV || {};\n",
              "                    \n",
              "                if (document.getElementById(\"85ff80d4-59f6-4149-80d2-e5f8747b1254\")) {\n",
              "                    Plotly.newPlot(\n",
              "                        '85ff80d4-59f6-4149-80d2-e5f8747b1254',\n",
              "                        [{\"alignmentgroup\": \"True\", \"hoverlabel\": {\"namelength\": 0}, \"hovertemplate\": \"State / Union Territory=%{x}<br>Rural population=%{text}\", \"legendgroup\": \"\", \"marker\": {\"color\": \"#636efa\"}, \"name\": \"\", \"offsetgroup\": \"\", \"orientation\": \"v\", \"showlegend\": false, \"text\": [155317278.0, 61556074.0, 92341436.0, 62183113.0, 52557404.0, 37229590.0, 51500352.0, 37469335.0, 34694609.0, 34966693.0, 34970562.0, 21395009.0, 17471135.0, 25055073.0, 26807034.0, 17344192.0, 19607961.0, 16509359.0, 7036954.0, 6176050.0, 2712464.0, 2371439.0, 1793875.0, 1407536.0, 551731.0, 1066358.0, 525435.0, 456999.0, 419042.0, 9064220.0, 395200.0, 28991.0, 243510.0, 237093.0, 43840.0, 14141.0], \"textposition\": \"outside\", \"texttemplate\": \"%{text:.3s}\", \"type\": \"bar\", \"x\": [\"Uttar Pradesh\", \"Maharashtra\", \"Bihar\", \"West Bengal\", \"Madhya Pradesh\", \"Tamil Nadu\", \"Rajasthan\", \"Karnataka\", \"Gujarat\", \"Andhra Pradesh\", \"Odisha\", \"Telengana\", \"Kerala\", \"Jharkhand\", \"Assam\", \"Punjab\", \"Chhattisgarh\", \"Haryana\", \"Uttarakhand\", \"Himachal Pradesh\", \"Tripura\", \"Meghalaya\", \"Manipur\", \"Nagaland\", \"Goa\", \"Arunachal Pradesh\", \"Mizoram\", \"Sikkim\", \"Delhi\", \"Jammu and Kashmir\", \"Puducherry\", \"Chandigarh\", \"Dadra and Nagar Haveli and Daman and Diu\", \"Andaman and Nicobar Islands\", \"Ladakh\", \"Lakshadweep\"], \"xaxis\": \"x\", \"y\": [155317278, 61556074, 92341436, 62183113, 52557404, 37229590, 51500352, 37469335, 34694609, 34966693, 34970562, 21395009, 17471135, 25055073, 26807034, 17344192, 19607961, 16509359, 7036954, 6176050, 2712464, 2371439, 1793875, 1407536, 551731, 1066358, 525435, 456999, 419042, 9064220, 395200, 28991, 243510, 237093, 43840, 14141], \"yaxis\": \"y\"}],\n",
              "                        {\"barmode\": \"relative\", \"legend\": {\"tracegroupgap\": 0}, \"margin\": {\"t\": 60}, \"template\": {\"data\": {\"bar\": [{\"error_x\": {\"color\": \"#2a3f5f\"}, \"error_y\": {\"color\": \"#2a3f5f\"}, \"marker\": {\"line\": {\"color\": \"#E5ECF6\", \"width\": 0.5}}, \"type\": \"bar\"}], \"barpolar\": [{\"marker\": {\"line\": {\"color\": \"#E5ECF6\", \"width\": 0.5}}, \"type\": \"barpolar\"}], \"carpet\": [{\"aaxis\": {\"endlinecolor\": \"#2a3f5f\", \"gridcolor\": \"white\", \"linecolor\": \"white\", \"minorgridcolor\": \"white\", \"startlinecolor\": \"#2a3f5f\"}, \"baxis\": {\"endlinecolor\": \"#2a3f5f\", \"gridcolor\": \"white\", \"linecolor\": \"white\", \"minorgridcolor\": \"white\", \"startlinecolor\": \"#2a3f5f\"}, \"type\": \"carpet\"}], \"choropleth\": [{\"colorbar\": {\"outlinewidth\": 0, \"ticks\": \"\"}, \"type\": \"choropleth\"}], \"contour\": [{\"colorbar\": {\"outlinewidth\": 0, \"ticks\": \"\"}, \"colorscale\": [[0.0, \"#0d0887\"], [0.1111111111111111, \"#46039f\"], [0.2222222222222222, \"#7201a8\"], [0.3333333333333333, \"#9c179e\"], [0.4444444444444444, \"#bd3786\"], [0.5555555555555556, \"#d8576b\"], [0.6666666666666666, \"#ed7953\"], [0.7777777777777778, \"#fb9f3a\"], [0.8888888888888888, \"#fdca26\"], [1.0, \"#f0f921\"]], \"type\": \"contour\"}], \"contourcarpet\": [{\"colorbar\": {\"outlinewidth\": 0, \"ticks\": \"\"}, \"type\": \"contourcarpet\"}], \"heatmap\": [{\"colorbar\": {\"outlinewidth\": 0, \"ticks\": \"\"}, \"colorscale\": [[0.0, \"#0d0887\"], [0.1111111111111111, \"#46039f\"], [0.2222222222222222, \"#7201a8\"], [0.3333333333333333, \"#9c179e\"], [0.4444444444444444, \"#bd3786\"], [0.5555555555555556, \"#d8576b\"], [0.6666666666666666, \"#ed7953\"], [0.7777777777777778, \"#fb9f3a\"], [0.8888888888888888, \"#fdca26\"], [1.0, \"#f0f921\"]], \"type\": \"heatmap\"}], \"heatmapgl\": [{\"colorbar\": {\"outlinewidth\": 0, \"ticks\": \"\"}, \"colorscale\": [[0.0, \"#0d0887\"], [0.1111111111111111, \"#46039f\"], [0.2222222222222222, \"#7201a8\"], [0.3333333333333333, \"#9c179e\"], [0.4444444444444444, \"#bd3786\"], [0.5555555555555556, \"#d8576b\"], [0.6666666666666666, \"#ed7953\"], [0.7777777777777778, \"#fb9f3a\"], [0.8888888888888888, \"#fdca26\"], [1.0, \"#f0f921\"]], \"type\": \"heatmapgl\"}], \"histogram\": [{\"marker\": {\"colorbar\": {\"outlinewidth\": 0, \"ticks\": \"\"}}, \"type\": \"histogram\"}], \"histogram2d\": [{\"colorbar\": {\"outlinewidth\": 0, \"ticks\": \"\"}, \"colorscale\": [[0.0, \"#0d0887\"], [0.1111111111111111, \"#46039f\"], [0.2222222222222222, \"#7201a8\"], [0.3333333333333333, \"#9c179e\"], [0.4444444444444444, \"#bd3786\"], [0.5555555555555556, \"#d8576b\"], [0.6666666666666666, \"#ed7953\"], [0.7777777777777778, \"#fb9f3a\"], [0.8888888888888888, \"#fdca26\"], [1.0, \"#f0f921\"]], \"type\": \"histogram2d\"}], \"histogram2dcontour\": [{\"colorbar\": {\"outlinewidth\": 0, \"ticks\": \"\"}, \"colorscale\": [[0.0, \"#0d0887\"], [0.1111111111111111, \"#46039f\"], [0.2222222222222222, \"#7201a8\"], [0.3333333333333333, \"#9c179e\"], [0.4444444444444444, \"#bd3786\"], [0.5555555555555556, \"#d8576b\"], [0.6666666666666666, \"#ed7953\"], [0.7777777777777778, \"#fb9f3a\"], [0.8888888888888888, \"#fdca26\"], [1.0, \"#f0f921\"]], \"type\": \"histogram2dcontour\"}], \"mesh3d\": [{\"colorbar\": {\"outlinewidth\": 0, \"ticks\": \"\"}, \"type\": \"mesh3d\"}], \"parcoords\": [{\"line\": {\"colorbar\": {\"outlinewidth\": 0, \"ticks\": \"\"}}, \"type\": \"parcoords\"}], \"pie\": [{\"automargin\": true, \"type\": \"pie\"}], \"scatter\": [{\"marker\": {\"colorbar\": {\"outlinewidth\": 0, \"ticks\": \"\"}}, \"type\": \"scatter\"}], \"scatter3d\": [{\"line\": {\"colorbar\": {\"outlinewidth\": 0, \"ticks\": \"\"}}, \"marker\": {\"colorbar\": {\"outlinewidth\": 0, \"ticks\": \"\"}}, \"type\": \"scatter3d\"}], \"scattercarpet\": [{\"marker\": {\"colorbar\": {\"outlinewidth\": 0, \"ticks\": \"\"}}, \"type\": \"scattercarpet\"}], \"scattergeo\": [{\"marker\": {\"colorbar\": {\"outlinewidth\": 0, \"ticks\": \"\"}}, \"type\": \"scattergeo\"}], \"scattergl\": [{\"marker\": {\"colorbar\": {\"outlinewidth\": 0, \"ticks\": \"\"}}, \"type\": \"scattergl\"}], \"scattermapbox\": [{\"marker\": {\"colorbar\": {\"outlinewidth\": 0, \"ticks\": \"\"}}, \"type\": \"scattermapbox\"}], \"scatterpolar\": [{\"marker\": {\"colorbar\": {\"outlinewidth\": 0, \"ticks\": \"\"}}, \"type\": \"scatterpolar\"}], \"scatterpolargl\": [{\"marker\": {\"colorbar\": {\"outlinewidth\": 0, \"ticks\": \"\"}}, \"type\": \"scatterpolargl\"}], \"scatterternary\": [{\"marker\": {\"colorbar\": {\"outlinewidth\": 0, \"ticks\": \"\"}}, \"type\": \"scatterternary\"}], \"surface\": [{\"colorbar\": {\"outlinewidth\": 0, \"ticks\": \"\"}, \"colorscale\": [[0.0, \"#0d0887\"], [0.1111111111111111, \"#46039f\"], [0.2222222222222222, \"#7201a8\"], [0.3333333333333333, \"#9c179e\"], [0.4444444444444444, \"#bd3786\"], [0.5555555555555556, \"#d8576b\"], [0.6666666666666666, \"#ed7953\"], [0.7777777777777778, \"#fb9f3a\"], [0.8888888888888888, \"#fdca26\"], [1.0, \"#f0f921\"]], \"type\": \"surface\"}], \"table\": [{\"cells\": {\"fill\": {\"color\": \"#EBF0F8\"}, \"line\": {\"color\": \"white\"}}, \"header\": {\"fill\": {\"color\": \"#C8D4E3\"}, \"line\": {\"color\": \"white\"}}, \"type\": \"table\"}]}, \"layout\": {\"annotationdefaults\": {\"arrowcolor\": \"#2a3f5f\", \"arrowhead\": 0, \"arrowwidth\": 1}, \"coloraxis\": {\"colorbar\": {\"outlinewidth\": 0, \"ticks\": \"\"}}, \"colorscale\": {\"diverging\": [[0, \"#8e0152\"], [0.1, \"#c51b7d\"], [0.2, \"#de77ae\"], [0.3, \"#f1b6da\"], [0.4, \"#fde0ef\"], [0.5, \"#f7f7f7\"], [0.6, \"#e6f5d0\"], [0.7, \"#b8e186\"], [0.8, \"#7fbc41\"], [0.9, \"#4d9221\"], [1, \"#276419\"]], \"sequential\": [[0.0, \"#0d0887\"], [0.1111111111111111, \"#46039f\"], [0.2222222222222222, \"#7201a8\"], [0.3333333333333333, \"#9c179e\"], [0.4444444444444444, \"#bd3786\"], [0.5555555555555556, \"#d8576b\"], [0.6666666666666666, \"#ed7953\"], [0.7777777777777778, \"#fb9f3a\"], [0.8888888888888888, \"#fdca26\"], [1.0, \"#f0f921\"]], \"sequentialminus\": [[0.0, \"#0d0887\"], [0.1111111111111111, \"#46039f\"], [0.2222222222222222, \"#7201a8\"], [0.3333333333333333, \"#9c179e\"], [0.4444444444444444, \"#bd3786\"], [0.5555555555555556, \"#d8576b\"], [0.6666666666666666, \"#ed7953\"], [0.7777777777777778, \"#fb9f3a\"], [0.8888888888888888, \"#fdca26\"], [1.0, \"#f0f921\"]]}, \"colorway\": [\"#636efa\", \"#EF553B\", \"#00cc96\", \"#ab63fa\", \"#FFA15A\", \"#19d3f3\", \"#FF6692\", \"#B6E880\", \"#FF97FF\", \"#FECB52\"], \"font\": {\"color\": \"#2a3f5f\"}, \"geo\": {\"bgcolor\": \"white\", \"lakecolor\": \"white\", \"landcolor\": \"#E5ECF6\", \"showlakes\": true, \"showland\": true, \"subunitcolor\": \"white\"}, \"hoverlabel\": {\"align\": \"left\"}, \"hovermode\": \"closest\", \"mapbox\": {\"style\": \"light\"}, \"paper_bgcolor\": \"white\", \"plot_bgcolor\": \"#E5ECF6\", \"polar\": {\"angularaxis\": {\"gridcolor\": \"white\", \"linecolor\": \"white\", \"ticks\": \"\"}, \"bgcolor\": \"#E5ECF6\", \"radialaxis\": {\"gridcolor\": \"white\", \"linecolor\": \"white\", \"ticks\": \"\"}}, \"scene\": {\"xaxis\": {\"backgroundcolor\": \"#E5ECF6\", \"gridcolor\": \"white\", \"gridwidth\": 2, \"linecolor\": \"white\", \"showbackground\": true, \"ticks\": \"\", \"zerolinecolor\": \"white\"}, \"yaxis\": {\"backgroundcolor\": \"#E5ECF6\", \"gridcolor\": \"white\", \"gridwidth\": 2, \"linecolor\": \"white\", \"showbackground\": true, \"ticks\": \"\", \"zerolinecolor\": \"white\"}, \"zaxis\": {\"backgroundcolor\": \"#E5ECF6\", \"gridcolor\": \"white\", \"gridwidth\": 2, \"linecolor\": \"white\", \"showbackground\": true, \"ticks\": \"\", \"zerolinecolor\": \"white\"}}, \"shapedefaults\": {\"line\": {\"color\": \"#2a3f5f\"}}, \"ternary\": {\"aaxis\": {\"gridcolor\": \"white\", \"linecolor\": \"white\", \"ticks\": \"\"}, \"baxis\": {\"gridcolor\": \"white\", \"linecolor\": \"white\", \"ticks\": \"\"}, \"bgcolor\": \"#E5ECF6\", \"caxis\": {\"gridcolor\": \"white\", \"linecolor\": \"white\", \"ticks\": \"\"}}, \"title\": {\"x\": 0.05}, \"xaxis\": {\"automargin\": true, \"gridcolor\": \"white\", \"linecolor\": \"white\", \"ticks\": \"\", \"title\": {\"standoff\": 15}, \"zerolinecolor\": \"white\", \"zerolinewidth\": 2}, \"yaxis\": {\"automargin\": true, \"gridcolor\": \"white\", \"linecolor\": \"white\", \"ticks\": \"\", \"title\": {\"standoff\": 15}, \"zerolinecolor\": \"white\", \"zerolinewidth\": 2}}}, \"xaxis\": {\"anchor\": \"y\", \"domain\": [0.0, 1.0], \"title\": {\"text\": \"State / Union Territory\"}}, \"yaxis\": {\"anchor\": \"x\", \"domain\": [0.0, 1.0], \"title\": {\"text\": \"Rural population\"}}},\n",
              "                        {\"responsive\": true}\n",
              "                    ).then(function(){\n",
              "                            \n",
              "var gd = document.getElementById('85ff80d4-59f6-4149-80d2-e5f8747b1254');\n",
              "var x = new MutationObserver(function (mutations, observer) {{\n",
              "        var display = window.getComputedStyle(gd).display;\n",
              "        if (!display || display === 'none') {{\n",
              "            console.log([gd, 'removed!']);\n",
              "            Plotly.purge(gd);\n",
              "            observer.disconnect();\n",
              "        }}\n",
              "}});\n",
              "\n",
              "// Listen for the removal of the full notebook cells\n",
              "var notebookContainer = gd.closest('#notebook-container');\n",
              "if (notebookContainer) {{\n",
              "    x.observe(notebookContainer, {childList: true});\n",
              "}}\n",
              "\n",
              "// Listen for the clearing of the current output cell\n",
              "var outputEl = gd.closest('.output');\n",
              "if (outputEl) {{\n",
              "    x.observe(outputEl, {childList: true});\n",
              "}}\n",
              "\n",
              "                        })\n",
              "                };\n",
              "                \n",
              "            </script>\n",
              "        </div>\n",
              "</body>\n",
              "</html>"
            ]
          },
          "metadata": {
            "tags": []
          }
        }
      ]
    },
    {
      "cell_type": "code",
      "metadata": {
        "id": "hJtva7mLkFK1",
        "colab_type": "code",
        "colab": {
          "base_uri": "https://localhost:8080/",
          "height": 542
        },
        "outputId": "54cae5d5-a0ec-4d34-f5e4-96d0c9239976"
      },
      "source": [
        "fig = px.bar(df6, y='Urban population', x='State / Union Territory', text='Urban population')\n",
        "fig.update_traces(texttemplate='%{text:.3s}', textposition='outside')\n",
        "fig.show()"
      ],
      "execution_count": 266,
      "outputs": [
        {
          "output_type": "display_data",
          "data": {
            "text/html": [
              "<html>\n",
              "<head><meta charset=\"utf-8\" /></head>\n",
              "<body>\n",
              "    <div>\n",
              "            <script src=\"https://cdnjs.cloudflare.com/ajax/libs/mathjax/2.7.5/MathJax.js?config=TeX-AMS-MML_SVG\"></script><script type=\"text/javascript\">if (window.MathJax) {MathJax.Hub.Config({SVG: {font: \"STIX-Web\"}});}</script>\n",
              "                <script type=\"text/javascript\">window.PlotlyConfig = {MathJaxConfig: 'local'};</script>\n",
              "        <script src=\"https://cdn.plot.ly/plotly-latest.min.js\"></script>    \n",
              "            <div id=\"93cc9c0e-ea50-4acb-a229-ae918c6b1d84\" class=\"plotly-graph-div\" style=\"height:525px; width:100%;\"></div>\n",
              "            <script type=\"text/javascript\">\n",
              "                \n",
              "                    window.PLOTLYENV=window.PLOTLYENV || {};\n",
              "                    \n",
              "                if (document.getElementById(\"93cc9c0e-ea50-4acb-a229-ae918c6b1d84\")) {\n",
              "                    Plotly.newPlot(\n",
              "                        '93cc9c0e-ea50-4acb-a229-ae918c6b1d84',\n",
              "                        [{\"alignmentgroup\": \"True\", \"hoverlabel\": {\"namelength\": 0}, \"hovertemplate\": \"State / Union Territory=%{x}<br>Urban population=%{text}\", \"legendgroup\": \"\", \"marker\": {\"color\": \"#636efa\"}, \"name\": \"\", \"offsetgroup\": \"\", \"orientation\": \"v\", \"showlegend\": false, \"text\": [44495063.0, 50818259.0, 11758016.0, 29093002.0, 20069405.0, 34917440.0, 17048085.0, 23625962.0, 25745083.0, 14610410.0, 7003656.0, 13608665.0, 15934926.0, 7933061.0, 4398542.0, 10399146.0, 5937237.0, 8842103.0, 3049338.0, 688552.0, 961453.0, 595450.0, 776515.0, 570966.0, 906814.0, 317369.0, 571771.0, 153578.0, 16368899.0, 3202812.0, 852753.0, 1026459.0, 342254.0, 143488.0, 230160.0, 50332.0], \"textposition\": \"outside\", \"texttemplate\": \"%{text:.3s}\", \"type\": \"bar\", \"x\": [\"Uttar Pradesh\", \"Maharashtra\", \"Bihar\", \"West Bengal\", \"Madhya Pradesh\", \"Tamil Nadu\", \"Rajasthan\", \"Karnataka\", \"Gujarat\", \"Andhra Pradesh\", \"Odisha\", \"Telengana\", \"Kerala\", \"Jharkhand\", \"Assam\", \"Punjab\", \"Chhattisgarh\", \"Haryana\", \"Uttarakhand\", \"Himachal Pradesh\", \"Tripura\", \"Meghalaya\", \"Manipur\", \"Nagaland\", \"Goa\", \"Arunachal Pradesh\", \"Mizoram\", \"Sikkim\", \"Delhi\", \"Jammu and Kashmir\", \"Puducherry\", \"Chandigarh\", \"Dadra and Nagar Haveli and Daman and Diu\", \"Andaman and Nicobar Islands\", \"Ladakh\", \"Lakshadweep\"], \"xaxis\": \"x\", \"y\": [44495063, 50818259, 11758016, 29093002, 20069405, 34917440, 17048085, 23625962, 25745083, 14610410, 7003656, 13608665, 15934926, 7933061, 4398542, 10399146, 5937237, 8842103, 3049338, 688552, 961453, 595450, 776515, 570966, 906814, 317369, 571771, 153578, 16368899, 3202812, 852753, 1026459, 342254, 143488, 230160, 50332], \"yaxis\": \"y\"}],\n",
              "                        {\"barmode\": \"relative\", \"legend\": {\"tracegroupgap\": 0}, \"margin\": {\"t\": 60}, \"template\": {\"data\": {\"bar\": [{\"error_x\": {\"color\": \"#2a3f5f\"}, \"error_y\": {\"color\": \"#2a3f5f\"}, \"marker\": {\"line\": {\"color\": \"#E5ECF6\", \"width\": 0.5}}, \"type\": \"bar\"}], \"barpolar\": [{\"marker\": {\"line\": {\"color\": \"#E5ECF6\", \"width\": 0.5}}, \"type\": \"barpolar\"}], \"carpet\": [{\"aaxis\": {\"endlinecolor\": \"#2a3f5f\", \"gridcolor\": \"white\", \"linecolor\": \"white\", \"minorgridcolor\": \"white\", \"startlinecolor\": \"#2a3f5f\"}, \"baxis\": {\"endlinecolor\": \"#2a3f5f\", \"gridcolor\": \"white\", \"linecolor\": \"white\", \"minorgridcolor\": \"white\", \"startlinecolor\": \"#2a3f5f\"}, \"type\": \"carpet\"}], \"choropleth\": [{\"colorbar\": {\"outlinewidth\": 0, \"ticks\": \"\"}, \"type\": \"choropleth\"}], \"contour\": [{\"colorbar\": {\"outlinewidth\": 0, \"ticks\": \"\"}, \"colorscale\": [[0.0, \"#0d0887\"], [0.1111111111111111, \"#46039f\"], [0.2222222222222222, \"#7201a8\"], [0.3333333333333333, \"#9c179e\"], [0.4444444444444444, \"#bd3786\"], [0.5555555555555556, \"#d8576b\"], [0.6666666666666666, \"#ed7953\"], [0.7777777777777778, \"#fb9f3a\"], [0.8888888888888888, \"#fdca26\"], [1.0, \"#f0f921\"]], \"type\": \"contour\"}], \"contourcarpet\": [{\"colorbar\": {\"outlinewidth\": 0, \"ticks\": \"\"}, \"type\": \"contourcarpet\"}], \"heatmap\": [{\"colorbar\": {\"outlinewidth\": 0, \"ticks\": \"\"}, \"colorscale\": [[0.0, \"#0d0887\"], [0.1111111111111111, \"#46039f\"], [0.2222222222222222, \"#7201a8\"], [0.3333333333333333, \"#9c179e\"], [0.4444444444444444, \"#bd3786\"], [0.5555555555555556, \"#d8576b\"], [0.6666666666666666, \"#ed7953\"], [0.7777777777777778, \"#fb9f3a\"], [0.8888888888888888, \"#fdca26\"], [1.0, \"#f0f921\"]], \"type\": \"heatmap\"}], \"heatmapgl\": [{\"colorbar\": {\"outlinewidth\": 0, \"ticks\": \"\"}, \"colorscale\": [[0.0, \"#0d0887\"], [0.1111111111111111, \"#46039f\"], [0.2222222222222222, \"#7201a8\"], [0.3333333333333333, \"#9c179e\"], [0.4444444444444444, \"#bd3786\"], [0.5555555555555556, \"#d8576b\"], [0.6666666666666666, \"#ed7953\"], [0.7777777777777778, \"#fb9f3a\"], [0.8888888888888888, \"#fdca26\"], [1.0, \"#f0f921\"]], \"type\": \"heatmapgl\"}], \"histogram\": [{\"marker\": {\"colorbar\": {\"outlinewidth\": 0, \"ticks\": \"\"}}, \"type\": \"histogram\"}], \"histogram2d\": [{\"colorbar\": {\"outlinewidth\": 0, \"ticks\": \"\"}, \"colorscale\": [[0.0, \"#0d0887\"], [0.1111111111111111, \"#46039f\"], [0.2222222222222222, \"#7201a8\"], [0.3333333333333333, \"#9c179e\"], [0.4444444444444444, \"#bd3786\"], [0.5555555555555556, \"#d8576b\"], [0.6666666666666666, \"#ed7953\"], [0.7777777777777778, \"#fb9f3a\"], [0.8888888888888888, \"#fdca26\"], [1.0, \"#f0f921\"]], \"type\": \"histogram2d\"}], \"histogram2dcontour\": [{\"colorbar\": {\"outlinewidth\": 0, \"ticks\": \"\"}, \"colorscale\": [[0.0, \"#0d0887\"], [0.1111111111111111, \"#46039f\"], [0.2222222222222222, \"#7201a8\"], [0.3333333333333333, \"#9c179e\"], [0.4444444444444444, \"#bd3786\"], [0.5555555555555556, \"#d8576b\"], [0.6666666666666666, \"#ed7953\"], [0.7777777777777778, \"#fb9f3a\"], [0.8888888888888888, \"#fdca26\"], [1.0, \"#f0f921\"]], \"type\": \"histogram2dcontour\"}], \"mesh3d\": [{\"colorbar\": {\"outlinewidth\": 0, \"ticks\": \"\"}, \"type\": \"mesh3d\"}], \"parcoords\": [{\"line\": {\"colorbar\": {\"outlinewidth\": 0, \"ticks\": \"\"}}, \"type\": \"parcoords\"}], \"pie\": [{\"automargin\": true, \"type\": \"pie\"}], \"scatter\": [{\"marker\": {\"colorbar\": {\"outlinewidth\": 0, \"ticks\": \"\"}}, \"type\": \"scatter\"}], \"scatter3d\": [{\"line\": {\"colorbar\": {\"outlinewidth\": 0, \"ticks\": \"\"}}, \"marker\": {\"colorbar\": {\"outlinewidth\": 0, \"ticks\": \"\"}}, \"type\": \"scatter3d\"}], \"scattercarpet\": [{\"marker\": {\"colorbar\": {\"outlinewidth\": 0, \"ticks\": \"\"}}, \"type\": \"scattercarpet\"}], \"scattergeo\": [{\"marker\": {\"colorbar\": {\"outlinewidth\": 0, \"ticks\": \"\"}}, \"type\": \"scattergeo\"}], \"scattergl\": [{\"marker\": {\"colorbar\": {\"outlinewidth\": 0, \"ticks\": \"\"}}, \"type\": \"scattergl\"}], \"scattermapbox\": [{\"marker\": {\"colorbar\": {\"outlinewidth\": 0, \"ticks\": \"\"}}, \"type\": \"scattermapbox\"}], \"scatterpolar\": [{\"marker\": {\"colorbar\": {\"outlinewidth\": 0, \"ticks\": \"\"}}, \"type\": \"scatterpolar\"}], \"scatterpolargl\": [{\"marker\": {\"colorbar\": {\"outlinewidth\": 0, \"ticks\": \"\"}}, \"type\": \"scatterpolargl\"}], \"scatterternary\": [{\"marker\": {\"colorbar\": {\"outlinewidth\": 0, \"ticks\": \"\"}}, \"type\": \"scatterternary\"}], \"surface\": [{\"colorbar\": {\"outlinewidth\": 0, \"ticks\": \"\"}, \"colorscale\": [[0.0, \"#0d0887\"], [0.1111111111111111, \"#46039f\"], [0.2222222222222222, \"#7201a8\"], [0.3333333333333333, \"#9c179e\"], [0.4444444444444444, \"#bd3786\"], [0.5555555555555556, \"#d8576b\"], [0.6666666666666666, \"#ed7953\"], [0.7777777777777778, \"#fb9f3a\"], [0.8888888888888888, \"#fdca26\"], [1.0, \"#f0f921\"]], \"type\": \"surface\"}], \"table\": [{\"cells\": {\"fill\": {\"color\": \"#EBF0F8\"}, \"line\": {\"color\": \"white\"}}, \"header\": {\"fill\": {\"color\": \"#C8D4E3\"}, \"line\": {\"color\": \"white\"}}, \"type\": \"table\"}]}, \"layout\": {\"annotationdefaults\": {\"arrowcolor\": \"#2a3f5f\", \"arrowhead\": 0, \"arrowwidth\": 1}, \"coloraxis\": {\"colorbar\": {\"outlinewidth\": 0, \"ticks\": \"\"}}, \"colorscale\": {\"diverging\": [[0, \"#8e0152\"], [0.1, \"#c51b7d\"], [0.2, \"#de77ae\"], [0.3, \"#f1b6da\"], [0.4, \"#fde0ef\"], [0.5, \"#f7f7f7\"], [0.6, \"#e6f5d0\"], [0.7, \"#b8e186\"], [0.8, \"#7fbc41\"], [0.9, \"#4d9221\"], [1, \"#276419\"]], \"sequential\": [[0.0, \"#0d0887\"], [0.1111111111111111, \"#46039f\"], [0.2222222222222222, \"#7201a8\"], [0.3333333333333333, \"#9c179e\"], [0.4444444444444444, \"#bd3786\"], [0.5555555555555556, \"#d8576b\"], [0.6666666666666666, \"#ed7953\"], [0.7777777777777778, \"#fb9f3a\"], [0.8888888888888888, \"#fdca26\"], [1.0, \"#f0f921\"]], \"sequentialminus\": [[0.0, \"#0d0887\"], [0.1111111111111111, \"#46039f\"], [0.2222222222222222, \"#7201a8\"], [0.3333333333333333, \"#9c179e\"], [0.4444444444444444, \"#bd3786\"], [0.5555555555555556, \"#d8576b\"], [0.6666666666666666, \"#ed7953\"], [0.7777777777777778, \"#fb9f3a\"], [0.8888888888888888, \"#fdca26\"], [1.0, \"#f0f921\"]]}, \"colorway\": [\"#636efa\", \"#EF553B\", \"#00cc96\", \"#ab63fa\", \"#FFA15A\", \"#19d3f3\", \"#FF6692\", \"#B6E880\", \"#FF97FF\", \"#FECB52\"], \"font\": {\"color\": \"#2a3f5f\"}, \"geo\": {\"bgcolor\": \"white\", \"lakecolor\": \"white\", \"landcolor\": \"#E5ECF6\", \"showlakes\": true, \"showland\": true, \"subunitcolor\": \"white\"}, \"hoverlabel\": {\"align\": \"left\"}, \"hovermode\": \"closest\", \"mapbox\": {\"style\": \"light\"}, \"paper_bgcolor\": \"white\", \"plot_bgcolor\": \"#E5ECF6\", \"polar\": {\"angularaxis\": {\"gridcolor\": \"white\", \"linecolor\": \"white\", \"ticks\": \"\"}, \"bgcolor\": \"#E5ECF6\", \"radialaxis\": {\"gridcolor\": \"white\", \"linecolor\": \"white\", \"ticks\": \"\"}}, \"scene\": {\"xaxis\": {\"backgroundcolor\": \"#E5ECF6\", \"gridcolor\": \"white\", \"gridwidth\": 2, \"linecolor\": \"white\", \"showbackground\": true, \"ticks\": \"\", \"zerolinecolor\": \"white\"}, \"yaxis\": {\"backgroundcolor\": \"#E5ECF6\", \"gridcolor\": \"white\", \"gridwidth\": 2, \"linecolor\": \"white\", \"showbackground\": true, \"ticks\": \"\", \"zerolinecolor\": \"white\"}, \"zaxis\": {\"backgroundcolor\": \"#E5ECF6\", \"gridcolor\": \"white\", \"gridwidth\": 2, \"linecolor\": \"white\", \"showbackground\": true, \"ticks\": \"\", \"zerolinecolor\": \"white\"}}, \"shapedefaults\": {\"line\": {\"color\": \"#2a3f5f\"}}, \"ternary\": {\"aaxis\": {\"gridcolor\": \"white\", \"linecolor\": \"white\", \"ticks\": \"\"}, \"baxis\": {\"gridcolor\": \"white\", \"linecolor\": \"white\", \"ticks\": \"\"}, \"bgcolor\": \"#E5ECF6\", \"caxis\": {\"gridcolor\": \"white\", \"linecolor\": \"white\", \"ticks\": \"\"}}, \"title\": {\"x\": 0.05}, \"xaxis\": {\"automargin\": true, \"gridcolor\": \"white\", \"linecolor\": \"white\", \"ticks\": \"\", \"title\": {\"standoff\": 15}, \"zerolinecolor\": \"white\", \"zerolinewidth\": 2}, \"yaxis\": {\"automargin\": true, \"gridcolor\": \"white\", \"linecolor\": \"white\", \"ticks\": \"\", \"title\": {\"standoff\": 15}, \"zerolinecolor\": \"white\", \"zerolinewidth\": 2}}}, \"xaxis\": {\"anchor\": \"y\", \"domain\": [0.0, 1.0], \"title\": {\"text\": \"State / Union Territory\"}}, \"yaxis\": {\"anchor\": \"x\", \"domain\": [0.0, 1.0], \"title\": {\"text\": \"Urban population\"}}},\n",
              "                        {\"responsive\": true}\n",
              "                    ).then(function(){\n",
              "                            \n",
              "var gd = document.getElementById('93cc9c0e-ea50-4acb-a229-ae918c6b1d84');\n",
              "var x = new MutationObserver(function (mutations, observer) {{\n",
              "        var display = window.getComputedStyle(gd).display;\n",
              "        if (!display || display === 'none') {{\n",
              "            console.log([gd, 'removed!']);\n",
              "            Plotly.purge(gd);\n",
              "            observer.disconnect();\n",
              "        }}\n",
              "}});\n",
              "\n",
              "// Listen for the removal of the full notebook cells\n",
              "var notebookContainer = gd.closest('#notebook-container');\n",
              "if (notebookContainer) {{\n",
              "    x.observe(notebookContainer, {childList: true});\n",
              "}}\n",
              "\n",
              "// Listen for the clearing of the current output cell\n",
              "var outputEl = gd.closest('.output');\n",
              "if (outputEl) {{\n",
              "    x.observe(outputEl, {childList: true});\n",
              "}}\n",
              "\n",
              "                        })\n",
              "                };\n",
              "                \n",
              "            </script>\n",
              "        </div>\n",
              "</body>\n",
              "</html>"
            ]
          },
          "metadata": {
            "tags": []
          }
        }
      ]
    },
    {
      "cell_type": "code",
      "metadata": {
        "id": "OwjmBbCdkWc7",
        "colab_type": "code",
        "colab": {
          "base_uri": "https://localhost:8080/",
          "height": 922
        },
        "outputId": "b79451c4-9d0b-4993-b437-87ea472bbd45"
      },
      "source": [
        "state_cases = df.groupby('State/UnionTerritory')['Confirmed','Deaths','Cured'].max().reset_index()\n",
        "\n",
        "state_cases['Active'] = state_cases['Confirmed'] - (state_cases['Deaths']+state_cases['Cured'])\n",
        "state_cases[\"Death Rate (per 100)\"] = np.round(100*state_cases[\"Deaths\"]/state_cases[\"Confirmed\"],2)\n",
        "state_cases[\"Cure Rate (per 100)\"] = np.round(100*state_cases[\"Cured\"]/state_cases[\"Confirmed\"],2)\n",
        "state_cases.sort_values('Confirmed', ascending= False).fillna(0).style.background_gradient(cmap='Blues')\n",
        "                        "
      ],
      "execution_count": 267,
      "outputs": [
        {
          "output_type": "execute_result",
          "data": {
            "text/html": [
              "<style  type=\"text/css\" >\n",
              "    #T_57dbb5b2_eb55_11ea_bced_0242ac1c0002row0_col1 {\n",
              "            background-color:  #08306b;\n",
              "            color:  #f1f1f1;\n",
              "        }    #T_57dbb5b2_eb55_11ea_bced_0242ac1c0002row0_col2 {\n",
              "            background-color:  #08306b;\n",
              "            color:  #f1f1f1;\n",
              "        }    #T_57dbb5b2_eb55_11ea_bced_0242ac1c0002row0_col3 {\n",
              "            background-color:  #08306b;\n",
              "            color:  #f1f1f1;\n",
              "        }    #T_57dbb5b2_eb55_11ea_bced_0242ac1c0002row0_col4 {\n",
              "            background-color:  #08306b;\n",
              "            color:  #f1f1f1;\n",
              "        }    #T_57dbb5b2_eb55_11ea_bced_0242ac1c0002row0_col5 {\n",
              "            background-color:  #083776;\n",
              "            color:  #f1f1f1;\n",
              "        }    #T_57dbb5b2_eb55_11ea_bced_0242ac1c0002row0_col6 {\n",
              "            background-color:  #1865ac;\n",
              "            color:  #f1f1f1;\n",
              "        }    #T_57dbb5b2_eb55_11ea_bced_0242ac1c0002row1_col1 {\n",
              "            background-color:  #58a1cf;\n",
              "            color:  #000000;\n",
              "        }    #T_57dbb5b2_eb55_11ea_bced_0242ac1c0002row1_col2 {\n",
              "            background-color:  #b9d6ea;\n",
              "            color:  #000000;\n",
              "        }    #T_57dbb5b2_eb55_11ea_bced_0242ac1c0002row1_col3 {\n",
              "            background-color:  #3a8ac2;\n",
              "            color:  #000000;\n",
              "        }    #T_57dbb5b2_eb55_11ea_bced_0242ac1c0002row1_col4 {\n",
              "            background-color:  #b2d2e8;\n",
              "            color:  #000000;\n",
              "        }    #T_57dbb5b2_eb55_11ea_bced_0242ac1c0002row1_col5 {\n",
              "            background-color:  #68acd5;\n",
              "            color:  #000000;\n",
              "        }    #T_57dbb5b2_eb55_11ea_bced_0242ac1c0002row1_col6 {\n",
              "            background-color:  #084285;\n",
              "            color:  #f1f1f1;\n",
              "        }    #T_57dbb5b2_eb55_11ea_bced_0242ac1c0002row2_col1 {\n",
              "            background-color:  #66abd4;\n",
              "            color:  #000000;\n",
              "        }    #T_57dbb5b2_eb55_11ea_bced_0242ac1c0002row2_col2 {\n",
              "            background-color:  #dae8f6;\n",
              "            color:  #000000;\n",
              "        }    #T_57dbb5b2_eb55_11ea_bced_0242ac1c0002row2_col3 {\n",
              "            background-color:  #63a8d3;\n",
              "            color:  #000000;\n",
              "        }    #T_57dbb5b2_eb55_11ea_bced_0242ac1c0002row2_col4 {\n",
              "            background-color:  #63a8d3;\n",
              "            color:  #000000;\n",
              "        }    #T_57dbb5b2_eb55_11ea_bced_0242ac1c0002row2_col5 {\n",
              "            background-color:  #bfd8ed;\n",
              "            color:  #000000;\n",
              "        }    #T_57dbb5b2_eb55_11ea_bced_0242ac1c0002row2_col6 {\n",
              "            background-color:  #1561a9;\n",
              "            color:  #f1f1f1;\n",
              "        }    #T_57dbb5b2_eb55_11ea_bced_0242ac1c0002row3_col1 {\n",
              "            background-color:  #92c4de;\n",
              "            color:  #000000;\n",
              "        }    #T_57dbb5b2_eb55_11ea_bced_0242ac1c0002row3_col2 {\n",
              "            background-color:  #cee0f2;\n",
              "            color:  #000000;\n",
              "        }    #T_57dbb5b2_eb55_11ea_bced_0242ac1c0002row3_col3 {\n",
              "            background-color:  #9ac8e0;\n",
              "            color:  #000000;\n",
              "        }    #T_57dbb5b2_eb55_11ea_bced_0242ac1c0002row3_col4 {\n",
              "            background-color:  #71b1d7;\n",
              "            color:  #000000;\n",
              "        }    #T_57dbb5b2_eb55_11ea_bced_0242ac1c0002row3_col5 {\n",
              "            background-color:  #69add5;\n",
              "            color:  #000000;\n",
              "        }    #T_57dbb5b2_eb55_11ea_bced_0242ac1c0002row3_col6 {\n",
              "            background-color:  #2070b4;\n",
              "            color:  #f1f1f1;\n",
              "        }    #T_57dbb5b2_eb55_11ea_bced_0242ac1c0002row4_col1 {\n",
              "            background-color:  #bfd8ed;\n",
              "            color:  #000000;\n",
              "        }    #T_57dbb5b2_eb55_11ea_bced_0242ac1c0002row4_col2 {\n",
              "            background-color:  #ddeaf7;\n",
              "            color:  #000000;\n",
              "        }    #T_57dbb5b2_eb55_11ea_bced_0242ac1c0002row4_col3 {\n",
              "            background-color:  #bed8ec;\n",
              "            color:  #000000;\n",
              "        }    #T_57dbb5b2_eb55_11ea_bced_0242ac1c0002row4_col4 {\n",
              "            background-color:  #bcd7eb;\n",
              "            color:  #000000;\n",
              "        }    #T_57dbb5b2_eb55_11ea_bced_0242ac1c0002row4_col5 {\n",
              "            background-color:  #79b5d9;\n",
              "            color:  #000000;\n",
              "        }    #T_57dbb5b2_eb55_11ea_bced_0242ac1c0002row4_col6 {\n",
              "            background-color:  #1764ab;\n",
              "            color:  #f1f1f1;\n",
              "        }    #T_57dbb5b2_eb55_11ea_bced_0242ac1c0002row5_col1 {\n",
              "            background-color:  #c9ddf0;\n",
              "            color:  #000000;\n",
              "        }    #T_57dbb5b2_eb55_11ea_bced_0242ac1c0002row5_col2 {\n",
              "            background-color:  #d1e2f3;\n",
              "            color:  #000000;\n",
              "        }    #T_57dbb5b2_eb55_11ea_bced_0242ac1c0002row5_col3 {\n",
              "            background-color:  #b7d4ea;\n",
              "            color:  #000000;\n",
              "        }    #T_57dbb5b2_eb55_11ea_bced_0242ac1c0002row5_col4 {\n",
              "            background-color:  #eaf2fb;\n",
              "            color:  #000000;\n",
              "        }    #T_57dbb5b2_eb55_11ea_bced_0242ac1c0002row5_col5 {\n",
              "            background-color:  #1865ac;\n",
              "            color:  #f1f1f1;\n",
              "        }    #T_57dbb5b2_eb55_11ea_bced_0242ac1c0002row5_col6 {\n",
              "            background-color:  #08306b;\n",
              "            color:  #f1f1f1;\n",
              "        }    #T_57dbb5b2_eb55_11ea_bced_0242ac1c0002row6_col1 {\n",
              "            background-color:  #d0e1f2;\n",
              "            color:  #000000;\n",
              "        }    #T_57dbb5b2_eb55_11ea_bced_0242ac1c0002row6_col2 {\n",
              "            background-color:  #dfebf7;\n",
              "            color:  #000000;\n",
              "        }    #T_57dbb5b2_eb55_11ea_bced_0242ac1c0002row6_col3 {\n",
              "            background-color:  #cddff1;\n",
              "            color:  #000000;\n",
              "        }    #T_57dbb5b2_eb55_11ea_bced_0242ac1c0002row6_col4 {\n",
              "            background-color:  #d6e6f4;\n",
              "            color:  #000000;\n",
              "        }    #T_57dbb5b2_eb55_11ea_bced_0242ac1c0002row6_col5 {\n",
              "            background-color:  #4a98c9;\n",
              "            color:  #000000;\n",
              "        }    #T_57dbb5b2_eb55_11ea_bced_0242ac1c0002row6_col6 {\n",
              "            background-color:  #0b559f;\n",
              "            color:  #f1f1f1;\n",
              "        }    #T_57dbb5b2_eb55_11ea_bced_0242ac1c0002row7_col1 {\n",
              "            background-color:  #d4e4f4;\n",
              "            color:  #000000;\n",
              "        }    #T_57dbb5b2_eb55_11ea_bced_0242ac1c0002row7_col2 {\n",
              "            background-color:  #f3f8fe;\n",
              "            color:  #000000;\n",
              "        }    #T_57dbb5b2_eb55_11ea_bced_0242ac1c0002row7_col3 {\n",
              "            background-color:  #d0e2f2;\n",
              "            color:  #000000;\n",
              "        }    #T_57dbb5b2_eb55_11ea_bced_0242ac1c0002row7_col4 {\n",
              "            background-color:  #dbe9f6;\n",
              "            color:  #000000;\n",
              "        }    #T_57dbb5b2_eb55_11ea_bced_0242ac1c0002row7_col5 {\n",
              "            background-color:  #dfebf7;\n",
              "            color:  #000000;\n",
              "        }    #T_57dbb5b2_eb55_11ea_bced_0242ac1c0002row7_col6 {\n",
              "            background-color:  #084f99;\n",
              "            color:  #f1f1f1;\n",
              "        }    #T_57dbb5b2_eb55_11ea_bced_0242ac1c0002row8_col1 {\n",
              "            background-color:  #d9e7f5;\n",
              "            color:  #000000;\n",
              "        }    #T_57dbb5b2_eb55_11ea_bced_0242ac1c0002row8_col2 {\n",
              "            background-color:  #f1f7fd;\n",
              "            color:  #000000;\n",
              "        }    #T_57dbb5b2_eb55_11ea_bced_0242ac1c0002row8_col3 {\n",
              "            background-color:  #d6e6f4;\n",
              "            color:  #000000;\n",
              "        }    #T_57dbb5b2_eb55_11ea_bced_0242ac1c0002row8_col4 {\n",
              "            background-color:  #dceaf6;\n",
              "            color:  #000000;\n",
              "        }    #T_57dbb5b2_eb55_11ea_bced_0242ac1c0002row8_col5 {\n",
              "            background-color:  #cde0f1;\n",
              "            color:  #000000;\n",
              "        }    #T_57dbb5b2_eb55_11ea_bced_0242ac1c0002row8_col6 {\n",
              "            background-color:  #0b559f;\n",
              "            color:  #f1f1f1;\n",
              "        }    #T_57dbb5b2_eb55_11ea_bced_0242ac1c0002row9_col1 {\n",
              "            background-color:  #dceaf6;\n",
              "            color:  #000000;\n",
              "        }    #T_57dbb5b2_eb55_11ea_bced_0242ac1c0002row9_col2 {\n",
              "            background-color:  #f5fafe;\n",
              "            color:  #000000;\n",
              "        }    #T_57dbb5b2_eb55_11ea_bced_0242ac1c0002row9_col3 {\n",
              "            background-color:  #dbe9f6;\n",
              "            color:  #000000;\n",
              "        }    #T_57dbb5b2_eb55_11ea_bced_0242ac1c0002row9_col4 {\n",
              "            background-color:  #deebf7;\n",
              "            color:  #000000;\n",
              "        }    #T_57dbb5b2_eb55_11ea_bced_0242ac1c0002row9_col5 {\n",
              "            background-color:  #e8f1fa;\n",
              "            color:  #000000;\n",
              "        }    #T_57dbb5b2_eb55_11ea_bced_0242ac1c0002row9_col6 {\n",
              "            background-color:  #0f5aa3;\n",
              "            color:  #f1f1f1;\n",
              "        }    #T_57dbb5b2_eb55_11ea_bced_0242ac1c0002row10_col1 {\n",
              "            background-color:  #deebf7;\n",
              "            color:  #000000;\n",
              "        }    #T_57dbb5b2_eb55_11ea_bced_0242ac1c0002row10_col2 {\n",
              "            background-color:  #ddeaf7;\n",
              "            color:  #000000;\n",
              "        }    #T_57dbb5b2_eb55_11ea_bced_0242ac1c0002row10_col3 {\n",
              "            background-color:  #dbe9f6;\n",
              "            color:  #000000;\n",
              "        }    #T_57dbb5b2_eb55_11ea_bced_0242ac1c0002row10_col4 {\n",
              "            background-color:  #e7f0fa;\n",
              "            color:  #000000;\n",
              "        }    #T_57dbb5b2_eb55_11ea_bced_0242ac1c0002row10_col5 {\n",
              "            background-color:  #08306b;\n",
              "            color:  #f1f1f1;\n",
              "        }    #T_57dbb5b2_eb55_11ea_bced_0242ac1c0002row10_col6 {\n",
              "            background-color:  #084e98;\n",
              "            color:  #f1f1f1;\n",
              "        }    #T_57dbb5b2_eb55_11ea_bced_0242ac1c0002row11_col1 {\n",
              "            background-color:  #e1edf8;\n",
              "            color:  #000000;\n",
              "        }    #T_57dbb5b2_eb55_11ea_bced_0242ac1c0002row11_col2 {\n",
              "            background-color:  #f4f9fe;\n",
              "            color:  #000000;\n",
              "        }    #T_57dbb5b2_eb55_11ea_bced_0242ac1c0002row11_col3 {\n",
              "            background-color:  #e2edf8;\n",
              "            color:  #000000;\n",
              "        }    #T_57dbb5b2_eb55_11ea_bced_0242ac1c0002row11_col4 {\n",
              "            background-color:  #dceaf6;\n",
              "            color:  #000000;\n",
              "        }    #T_57dbb5b2_eb55_11ea_bced_0242ac1c0002row11_col5 {\n",
              "            background-color:  #d8e7f5;\n",
              "            color:  #000000;\n",
              "        }    #T_57dbb5b2_eb55_11ea_bced_0242ac1c0002row11_col6 {\n",
              "            background-color:  #1d6cb1;\n",
              "            color:  #f1f1f1;\n",
              "        }    #T_57dbb5b2_eb55_11ea_bced_0242ac1c0002row12_col1 {\n",
              "            background-color:  #e3eef8;\n",
              "            color:  #000000;\n",
              "        }    #T_57dbb5b2_eb55_11ea_bced_0242ac1c0002row12_col2 {\n",
              "            background-color:  #eff6fc;\n",
              "            color:  #000000;\n",
              "        }    #T_57dbb5b2_eb55_11ea_bced_0242ac1c0002row12_col3 {\n",
              "            background-color:  #e1edf8;\n",
              "            color:  #000000;\n",
              "        }    #T_57dbb5b2_eb55_11ea_bced_0242ac1c0002row12_col4 {\n",
              "            background-color:  #e7f0fa;\n",
              "            color:  #000000;\n",
              "        }    #T_57dbb5b2_eb55_11ea_bced_0242ac1c0002row12_col5 {\n",
              "            background-color:  #92c4de;\n",
              "            color:  #000000;\n",
              "        }    #T_57dbb5b2_eb55_11ea_bced_0242ac1c0002row12_col6 {\n",
              "            background-color:  #09529d;\n",
              "            color:  #f1f1f1;\n",
              "        }    #T_57dbb5b2_eb55_11ea_bced_0242ac1c0002row13_col1 {\n",
              "            background-color:  #e7f0fa;\n",
              "            color:  #000000;\n",
              "        }    #T_57dbb5b2_eb55_11ea_bced_0242ac1c0002row13_col2 {\n",
              "            background-color:  #f3f8fe;\n",
              "            color:  #000000;\n",
              "        }    #T_57dbb5b2_eb55_11ea_bced_0242ac1c0002row13_col3 {\n",
              "            background-color:  #e6f0f9;\n",
              "            color:  #000000;\n",
              "        }    #T_57dbb5b2_eb55_11ea_bced_0242ac1c0002row13_col4 {\n",
              "            background-color:  #e7f1fa;\n",
              "            color:  #000000;\n",
              "        }    #T_57dbb5b2_eb55_11ea_bced_0242ac1c0002row13_col5 {\n",
              "            background-color:  #c7dbef;\n",
              "            color:  #000000;\n",
              "        }    #T_57dbb5b2_eb55_11ea_bced_0242ac1c0002row13_col6 {\n",
              "            background-color:  #105ba4;\n",
              "            color:  #f1f1f1;\n",
              "        }    #T_57dbb5b2_eb55_11ea_bced_0242ac1c0002row14_col1 {\n",
              "            background-color:  #e7f0fa;\n",
              "            color:  #000000;\n",
              "        }    #T_57dbb5b2_eb55_11ea_bced_0242ac1c0002row14_col2 {\n",
              "            background-color:  #f5fafe;\n",
              "            color:  #000000;\n",
              "        }    #T_57dbb5b2_eb55_11ea_bced_0242ac1c0002row14_col3 {\n",
              "            background-color:  #e8f1fa;\n",
              "            color:  #000000;\n",
              "        }    #T_57dbb5b2_eb55_11ea_bced_0242ac1c0002row14_col4 {\n",
              "            background-color:  #e0ecf8;\n",
              "            color:  #000000;\n",
              "        }    #T_57dbb5b2_eb55_11ea_bced_0242ac1c0002row14_col5 {\n",
              "            background-color:  #e0ecf8;\n",
              "            color:  #000000;\n",
              "        }    #T_57dbb5b2_eb55_11ea_bced_0242ac1c0002row14_col6 {\n",
              "            background-color:  #2979b9;\n",
              "            color:  #000000;\n",
              "        }    #T_57dbb5b2_eb55_11ea_bced_0242ac1c0002row15_col1 {\n",
              "            background-color:  #e7f1fa;\n",
              "            color:  #000000;\n",
              "        }    #T_57dbb5b2_eb55_11ea_bced_0242ac1c0002row15_col2 {\n",
              "            background-color:  #f3f8fe;\n",
              "            color:  #000000;\n",
              "        }    #T_57dbb5b2_eb55_11ea_bced_0242ac1c0002row15_col3 {\n",
              "            background-color:  #e6f0f9;\n",
              "            color:  #000000;\n",
              "        }    #T_57dbb5b2_eb55_11ea_bced_0242ac1c0002row15_col4 {\n",
              "            background-color:  #e9f2fa;\n",
              "            color:  #000000;\n",
              "        }    #T_57dbb5b2_eb55_11ea_bced_0242ac1c0002row15_col5 {\n",
              "            background-color:  #c4daee;\n",
              "            color:  #000000;\n",
              "        }    #T_57dbb5b2_eb55_11ea_bced_0242ac1c0002row15_col6 {\n",
              "            background-color:  #0d57a1;\n",
              "            color:  #f1f1f1;\n",
              "        }    #T_57dbb5b2_eb55_11ea_bced_0242ac1c0002row16_col1 {\n",
              "            background-color:  #e7f1fa;\n",
              "            color:  #000000;\n",
              "        }    #T_57dbb5b2_eb55_11ea_bced_0242ac1c0002row16_col2 {\n",
              "            background-color:  #f2f8fd;\n",
              "            color:  #000000;\n",
              "        }    #T_57dbb5b2_eb55_11ea_bced_0242ac1c0002row16_col3 {\n",
              "            background-color:  #e5eff9;\n",
              "            color:  #000000;\n",
              "        }    #T_57dbb5b2_eb55_11ea_bced_0242ac1c0002row16_col4 {\n",
              "            background-color:  #edf4fc;\n",
              "            color:  #000000;\n",
              "        }    #T_57dbb5b2_eb55_11ea_bced_0242ac1c0002row16_col5 {\n",
              "            background-color:  #abd0e6;\n",
              "            color:  #000000;\n",
              "        }    #T_57dbb5b2_eb55_11ea_bced_0242ac1c0002row16_col6 {\n",
              "            background-color:  #08468b;\n",
              "            color:  #f1f1f1;\n",
              "        }    #T_57dbb5b2_eb55_11ea_bced_0242ac1c0002row17_col1 {\n",
              "            background-color:  #e8f1fa;\n",
              "            color:  #000000;\n",
              "        }    #T_57dbb5b2_eb55_11ea_bced_0242ac1c0002row17_col2 {\n",
              "            background-color:  #f3f8fe;\n",
              "            color:  #000000;\n",
              "        }    #T_57dbb5b2_eb55_11ea_bced_0242ac1c0002row17_col3 {\n",
              "            background-color:  #e7f0fa;\n",
              "            color:  #000000;\n",
              "        }    #T_57dbb5b2_eb55_11ea_bced_0242ac1c0002row17_col4 {\n",
              "            background-color:  #eaf2fb;\n",
              "            color:  #000000;\n",
              "        }    #T_57dbb5b2_eb55_11ea_bced_0242ac1c0002row17_col5 {\n",
              "            background-color:  #c3daee;\n",
              "            color:  #000000;\n",
              "        }    #T_57dbb5b2_eb55_11ea_bced_0242ac1c0002row17_col6 {\n",
              "            background-color:  #0c56a0;\n",
              "            color:  #f1f1f1;\n",
              "        }    #T_57dbb5b2_eb55_11ea_bced_0242ac1c0002row18_col1 {\n",
              "            background-color:  #e8f1fa;\n",
              "            color:  #000000;\n",
              "        }    #T_57dbb5b2_eb55_11ea_bced_0242ac1c0002row18_col2 {\n",
              "            background-color:  #ecf4fb;\n",
              "            color:  #000000;\n",
              "        }    #T_57dbb5b2_eb55_11ea_bced_0242ac1c0002row18_col3 {\n",
              "            background-color:  #e7f0fa;\n",
              "            color:  #000000;\n",
              "        }    #T_57dbb5b2_eb55_11ea_bced_0242ac1c0002row18_col4 {\n",
              "            background-color:  #eaf3fb;\n",
              "            color:  #000000;\n",
              "        }    #T_57dbb5b2_eb55_11ea_bced_0242ac1c0002row18_col5 {\n",
              "            background-color:  #3181bd;\n",
              "            color:  #000000;\n",
              "        }    #T_57dbb5b2_eb55_11ea_bced_0242ac1c0002row18_col6 {\n",
              "            background-color:  #0e59a2;\n",
              "            color:  #f1f1f1;\n",
              "        }    #T_57dbb5b2_eb55_11ea_bced_0242ac1c0002row19_col1 {\n",
              "            background-color:  #ebf3fb;\n",
              "            color:  #000000;\n",
              "        }    #T_57dbb5b2_eb55_11ea_bced_0242ac1c0002row19_col2 {\n",
              "            background-color:  #eef5fc;\n",
              "            color:  #000000;\n",
              "        }    #T_57dbb5b2_eb55_11ea_bced_0242ac1c0002row19_col3 {\n",
              "            background-color:  #eef5fc;\n",
              "            color:  #000000;\n",
              "        }    #T_57dbb5b2_eb55_11ea_bced_0242ac1c0002row19_col4 {\n",
              "            background-color:  #e5eff9;\n",
              "            color:  #000000;\n",
              "        }    #T_57dbb5b2_eb55_11ea_bced_0242ac1c0002row19_col5 {\n",
              "            background-color:  #206fb4;\n",
              "            color:  #f1f1f1;\n",
              "        }    #T_57dbb5b2_eb55_11ea_bced_0242ac1c0002row19_col6 {\n",
              "            background-color:  #3888c1;\n",
              "            color:  #000000;\n",
              "        }    #T_57dbb5b2_eb55_11ea_bced_0242ac1c0002row20_col1 {\n",
              "            background-color:  #eef5fc;\n",
              "            color:  #000000;\n",
              "        }    #T_57dbb5b2_eb55_11ea_bced_0242ac1c0002row20_col2 {\n",
              "            background-color:  #f2f7fd;\n",
              "            color:  #000000;\n",
              "        }    #T_57dbb5b2_eb55_11ea_bced_0242ac1c0002row20_col3 {\n",
              "            background-color:  #edf4fc;\n",
              "            color:  #000000;\n",
              "        }    #T_57dbb5b2_eb55_11ea_bced_0242ac1c0002row20_col4 {\n",
              "            background-color:  #eff6fc;\n",
              "            color:  #000000;\n",
              "        }    #T_57dbb5b2_eb55_11ea_bced_0242ac1c0002row20_col5 {\n",
              "            background-color:  #56a0ce;\n",
              "            color:  #000000;\n",
              "        }    #T_57dbb5b2_eb55_11ea_bced_0242ac1c0002row20_col6 {\n",
              "            background-color:  #0e58a2;\n",
              "            color:  #f1f1f1;\n",
              "        }    #T_57dbb5b2_eb55_11ea_bced_0242ac1c0002row21_col1 {\n",
              "            background-color:  #eff6fc;\n",
              "            color:  #000000;\n",
              "        }    #T_57dbb5b2_eb55_11ea_bced_0242ac1c0002row21_col2 {\n",
              "            background-color:  #f5f9fe;\n",
              "            color:  #000000;\n",
              "        }    #T_57dbb5b2_eb55_11ea_bced_0242ac1c0002row21_col3 {\n",
              "            background-color:  #f0f6fd;\n",
              "            color:  #000000;\n",
              "        }    #T_57dbb5b2_eb55_11ea_bced_0242ac1c0002row21_col4 {\n",
              "            background-color:  #ecf4fb;\n",
              "            color:  #000000;\n",
              "        }    #T_57dbb5b2_eb55_11ea_bced_0242ac1c0002row21_col5 {\n",
              "            background-color:  #afd1e7;\n",
              "            color:  #000000;\n",
              "        }    #T_57dbb5b2_eb55_11ea_bced_0242ac1c0002row21_col6 {\n",
              "            background-color:  #2979b9;\n",
              "            color:  #000000;\n",
              "        }    #T_57dbb5b2_eb55_11ea_bced_0242ac1c0002row22_col1 {\n",
              "            background-color:  #f2f7fd;\n",
              "            color:  #000000;\n",
              "        }    #T_57dbb5b2_eb55_11ea_bced_0242ac1c0002row22_col2 {\n",
              "            background-color:  #f5fafe;\n",
              "            color:  #000000;\n",
              "        }    #T_57dbb5b2_eb55_11ea_bced_0242ac1c0002row22_col3 {\n",
              "            background-color:  #f2f8fd;\n",
              "            color:  #000000;\n",
              "        }    #T_57dbb5b2_eb55_11ea_bced_0242ac1c0002row22_col4 {\n",
              "            background-color:  #eef5fc;\n",
              "            color:  #000000;\n",
              "        }    #T_57dbb5b2_eb55_11ea_bced_0242ac1c0002row22_col5 {\n",
              "            background-color:  #bdd7ec;\n",
              "            color:  #000000;\n",
              "        }    #T_57dbb5b2_eb55_11ea_bced_0242ac1c0002row22_col6 {\n",
              "            background-color:  #3282be;\n",
              "            color:  #000000;\n",
              "        }    #T_57dbb5b2_eb55_11ea_bced_0242ac1c0002row23_col1 {\n",
              "            background-color:  #f3f8fe;\n",
              "            color:  #000000;\n",
              "        }    #T_57dbb5b2_eb55_11ea_bced_0242ac1c0002row23_col2 {\n",
              "            background-color:  #f5fafe;\n",
              "            color:  #000000;\n",
              "        }    #T_57dbb5b2_eb55_11ea_bced_0242ac1c0002row23_col3 {\n",
              "            background-color:  #f3f8fe;\n",
              "            color:  #000000;\n",
              "        }    #T_57dbb5b2_eb55_11ea_bced_0242ac1c0002row23_col4 {\n",
              "            background-color:  #f2f8fd;\n",
              "            color:  #000000;\n",
              "        }    #T_57dbb5b2_eb55_11ea_bced_0242ac1c0002row23_col5 {\n",
              "            background-color:  #95c5df;\n",
              "            color:  #000000;\n",
              "        }    #T_57dbb5b2_eb55_11ea_bced_0242ac1c0002row23_col6 {\n",
              "            background-color:  #1e6db2;\n",
              "            color:  #f1f1f1;\n",
              "        }    #T_57dbb5b2_eb55_11ea_bced_0242ac1c0002row24_col1 {\n",
              "            background-color:  #f3f8fe;\n",
              "            color:  #000000;\n",
              "        }    #T_57dbb5b2_eb55_11ea_bced_0242ac1c0002row24_col2 {\n",
              "            background-color:  #f6faff;\n",
              "            color:  #000000;\n",
              "        }    #T_57dbb5b2_eb55_11ea_bced_0242ac1c0002row24_col3 {\n",
              "            background-color:  #f3f8fe;\n",
              "            color:  #000000;\n",
              "        }    #T_57dbb5b2_eb55_11ea_bced_0242ac1c0002row24_col4 {\n",
              "            background-color:  #f3f8fe;\n",
              "            color:  #000000;\n",
              "        }    #T_57dbb5b2_eb55_11ea_bced_0242ac1c0002row24_col5 {\n",
              "            background-color:  #b5d4e9;\n",
              "            color:  #000000;\n",
              "        }    #T_57dbb5b2_eb55_11ea_bced_0242ac1c0002row24_col6 {\n",
              "            background-color:  #1562a9;\n",
              "            color:  #f1f1f1;\n",
              "        }    #T_57dbb5b2_eb55_11ea_bced_0242ac1c0002row25_col1 {\n",
              "            background-color:  #f5f9fe;\n",
              "            color:  #000000;\n",
              "        }    #T_57dbb5b2_eb55_11ea_bced_0242ac1c0002row25_col2 {\n",
              "            background-color:  #f6faff;\n",
              "            color:  #000000;\n",
              "        }    #T_57dbb5b2_eb55_11ea_bced_0242ac1c0002row25_col3 {\n",
              "            background-color:  #f5f9fe;\n",
              "            color:  #000000;\n",
              "        }    #T_57dbb5b2_eb55_11ea_bced_0242ac1c0002row25_col4 {\n",
              "            background-color:  #f3f8fe;\n",
              "            color:  #000000;\n",
              "        }    #T_57dbb5b2_eb55_11ea_bced_0242ac1c0002row25_col5 {\n",
              "            background-color:  #82bbdb;\n",
              "            color:  #000000;\n",
              "        }    #T_57dbb5b2_eb55_11ea_bced_0242ac1c0002row25_col6 {\n",
              "            background-color:  #3080bd;\n",
              "            color:  #000000;\n",
              "        }    #T_57dbb5b2_eb55_11ea_bced_0242ac1c0002row26_col1 {\n",
              "            background-color:  #f5f9fe;\n",
              "            color:  #000000;\n",
              "        }    #T_57dbb5b2_eb55_11ea_bced_0242ac1c0002row26_col2 {\n",
              "            background-color:  #f7fbff;\n",
              "            color:  #000000;\n",
              "        }    #T_57dbb5b2_eb55_11ea_bced_0242ac1c0002row26_col3 {\n",
              "            background-color:  #f7fbff;\n",
              "            color:  #000000;\n",
              "        }    #T_57dbb5b2_eb55_11ea_bced_0242ac1c0002row26_col4 {\n",
              "            background-color:  #edf4fc;\n",
              "            color:  #000000;\n",
              "        }    #T_57dbb5b2_eb55_11ea_bced_0242ac1c0002row26_col5 {\n",
              "            background-color:  #f7fbff;\n",
              "            color:  #000000;\n",
              "        }    #T_57dbb5b2_eb55_11ea_bced_0242ac1c0002row26_col6 {\n",
              "            background-color:  #f7fbff;\n",
              "            color:  #000000;\n",
              "        }    #T_57dbb5b2_eb55_11ea_bced_0242ac1c0002row27_col1 {\n",
              "            background-color:  #f5f9fe;\n",
              "            color:  #000000;\n",
              "        }    #T_57dbb5b2_eb55_11ea_bced_0242ac1c0002row27_col2 {\n",
              "            background-color:  #f7fbff;\n",
              "            color:  #000000;\n",
              "        }    #T_57dbb5b2_eb55_11ea_bced_0242ac1c0002row27_col3 {\n",
              "            background-color:  #f5f9fe;\n",
              "            color:  #000000;\n",
              "        }    #T_57dbb5b2_eb55_11ea_bced_0242ac1c0002row27_col4 {\n",
              "            background-color:  #f5f9fe;\n",
              "            color:  #000000;\n",
              "        }    #T_57dbb5b2_eb55_11ea_bced_0242ac1c0002row27_col5 {\n",
              "            background-color:  #c7dbef;\n",
              "            color:  #000000;\n",
              "        }    #T_57dbb5b2_eb55_11ea_bced_0242ac1c0002row27_col6 {\n",
              "            background-color:  #1967ad;\n",
              "            color:  #f1f1f1;\n",
              "        }    #T_57dbb5b2_eb55_11ea_bced_0242ac1c0002row28_col1 {\n",
              "            background-color:  #f6faff;\n",
              "            color:  #000000;\n",
              "        }    #T_57dbb5b2_eb55_11ea_bced_0242ac1c0002row28_col2 {\n",
              "            background-color:  #f7fbff;\n",
              "            color:  #000000;\n",
              "        }    #T_57dbb5b2_eb55_11ea_bced_0242ac1c0002row28_col3 {\n",
              "            background-color:  #f6faff;\n",
              "            color:  #000000;\n",
              "        }    #T_57dbb5b2_eb55_11ea_bced_0242ac1c0002row28_col4 {\n",
              "            background-color:  #f5fafe;\n",
              "            color:  #000000;\n",
              "        }    #T_57dbb5b2_eb55_11ea_bced_0242ac1c0002row28_col5 {\n",
              "            background-color:  #deebf7;\n",
              "            color:  #000000;\n",
              "        }    #T_57dbb5b2_eb55_11ea_bced_0242ac1c0002row28_col6 {\n",
              "            background-color:  #2171b5;\n",
              "            color:  #f1f1f1;\n",
              "        }    #T_57dbb5b2_eb55_11ea_bced_0242ac1c0002row29_col1 {\n",
              "            background-color:  #f6faff;\n",
              "            color:  #000000;\n",
              "        }    #T_57dbb5b2_eb55_11ea_bced_0242ac1c0002row29_col2 {\n",
              "            background-color:  #f7fbff;\n",
              "            color:  #000000;\n",
              "        }    #T_57dbb5b2_eb55_11ea_bced_0242ac1c0002row29_col3 {\n",
              "            background-color:  #f6faff;\n",
              "            color:  #000000;\n",
              "        }    #T_57dbb5b2_eb55_11ea_bced_0242ac1c0002row29_col4 {\n",
              "            background-color:  #f5fafe;\n",
              "            color:  #000000;\n",
              "        }    #T_57dbb5b2_eb55_11ea_bced_0242ac1c0002row29_col5 {\n",
              "            background-color:  #d5e5f4;\n",
              "            color:  #000000;\n",
              "        }    #T_57dbb5b2_eb55_11ea_bced_0242ac1c0002row29_col6 {\n",
              "            background-color:  #206fb4;\n",
              "            color:  #f1f1f1;\n",
              "        }    #T_57dbb5b2_eb55_11ea_bced_0242ac1c0002row30_col1 {\n",
              "            background-color:  #f6faff;\n",
              "            color:  #000000;\n",
              "        }    #T_57dbb5b2_eb55_11ea_bced_0242ac1c0002row30_col2 {\n",
              "            background-color:  #f7fbff;\n",
              "            color:  #000000;\n",
              "        }    #T_57dbb5b2_eb55_11ea_bced_0242ac1c0002row30_col3 {\n",
              "            background-color:  #f6faff;\n",
              "            color:  #000000;\n",
              "        }    #T_57dbb5b2_eb55_11ea_bced_0242ac1c0002row30_col4 {\n",
              "            background-color:  #f5fafe;\n",
              "            color:  #000000;\n",
              "        }    #T_57dbb5b2_eb55_11ea_bced_0242ac1c0002row30_col5 {\n",
              "            background-color:  #e9f2fa;\n",
              "            color:  #000000;\n",
              "        }    #T_57dbb5b2_eb55_11ea_bced_0242ac1c0002row30_col6 {\n",
              "            background-color:  #3888c1;\n",
              "            color:  #000000;\n",
              "        }    #T_57dbb5b2_eb55_11ea_bced_0242ac1c0002row31_col1 {\n",
              "            background-color:  #f6faff;\n",
              "            color:  #000000;\n",
              "        }    #T_57dbb5b2_eb55_11ea_bced_0242ac1c0002row31_col2 {\n",
              "            background-color:  #f7fbff;\n",
              "            color:  #000000;\n",
              "        }    #T_57dbb5b2_eb55_11ea_bced_0242ac1c0002row31_col3 {\n",
              "            background-color:  #f6faff;\n",
              "            color:  #000000;\n",
              "        }    #T_57dbb5b2_eb55_11ea_bced_0242ac1c0002row31_col4 {\n",
              "            background-color:  #f6faff;\n",
              "            color:  #000000;\n",
              "        }    #T_57dbb5b2_eb55_11ea_bced_0242ac1c0002row31_col5 {\n",
              "            background-color:  #eef5fc;\n",
              "            color:  #000000;\n",
              "        }    #T_57dbb5b2_eb55_11ea_bced_0242ac1c0002row31_col6 {\n",
              "            background-color:  #1d6cb1;\n",
              "            color:  #f1f1f1;\n",
              "        }    #T_57dbb5b2_eb55_11ea_bced_0242ac1c0002row32_col1 {\n",
              "            background-color:  #f6faff;\n",
              "            color:  #000000;\n",
              "        }    #T_57dbb5b2_eb55_11ea_bced_0242ac1c0002row32_col2 {\n",
              "            background-color:  #f7fbff;\n",
              "            color:  #000000;\n",
              "        }    #T_57dbb5b2_eb55_11ea_bced_0242ac1c0002row32_col3 {\n",
              "            background-color:  #f7fbff;\n",
              "            color:  #000000;\n",
              "        }    #T_57dbb5b2_eb55_11ea_bced_0242ac1c0002row32_col4 {\n",
              "            background-color:  #f6faff;\n",
              "            color:  #000000;\n",
              "        }    #T_57dbb5b2_eb55_11ea_bced_0242ac1c0002row32_col5 {\n",
              "            background-color:  #aacfe5;\n",
              "            color:  #000000;\n",
              "        }    #T_57dbb5b2_eb55_11ea_bced_0242ac1c0002row32_col6 {\n",
              "            background-color:  #2575b7;\n",
              "            color:  #000000;\n",
              "        }    #T_57dbb5b2_eb55_11ea_bced_0242ac1c0002row33_col1 {\n",
              "            background-color:  #f6faff;\n",
              "            color:  #000000;\n",
              "        }    #T_57dbb5b2_eb55_11ea_bced_0242ac1c0002row33_col2 {\n",
              "            background-color:  #f7fbff;\n",
              "            color:  #000000;\n",
              "        }    #T_57dbb5b2_eb55_11ea_bced_0242ac1c0002row33_col3 {\n",
              "            background-color:  #f7fbff;\n",
              "            color:  #000000;\n",
              "        }    #T_57dbb5b2_eb55_11ea_bced_0242ac1c0002row33_col4 {\n",
              "            background-color:  #f6faff;\n",
              "            color:  #000000;\n",
              "        }    #T_57dbb5b2_eb55_11ea_bced_0242ac1c0002row33_col5 {\n",
              "            background-color:  #a5cde3;\n",
              "            color:  #000000;\n",
              "        }    #T_57dbb5b2_eb55_11ea_bced_0242ac1c0002row33_col6 {\n",
              "            background-color:  #4e9acb;\n",
              "            color:  #000000;\n",
              "        }    #T_57dbb5b2_eb55_11ea_bced_0242ac1c0002row34_col1 {\n",
              "            background-color:  #f7fbff;\n",
              "            color:  #000000;\n",
              "        }    #T_57dbb5b2_eb55_11ea_bced_0242ac1c0002row34_col2 {\n",
              "            background-color:  #f7fbff;\n",
              "            color:  #000000;\n",
              "        }    #T_57dbb5b2_eb55_11ea_bced_0242ac1c0002row34_col3 {\n",
              "            background-color:  #f7fbff;\n",
              "            color:  #000000;\n",
              "        }    #T_57dbb5b2_eb55_11ea_bced_0242ac1c0002row34_col4 {\n",
              "            background-color:  #f6faff;\n",
              "            color:  #000000;\n",
              "        }    #T_57dbb5b2_eb55_11ea_bced_0242ac1c0002row34_col5 {\n",
              "            background-color:  #bcd7eb;\n",
              "            color:  #000000;\n",
              "        }    #T_57dbb5b2_eb55_11ea_bced_0242ac1c0002row34_col6 {\n",
              "            background-color:  #2474b7;\n",
              "            color:  #f1f1f1;\n",
              "        }    #T_57dbb5b2_eb55_11ea_bced_0242ac1c0002row35_col1 {\n",
              "            background-color:  #f7fbff;\n",
              "            color:  #000000;\n",
              "        }    #T_57dbb5b2_eb55_11ea_bced_0242ac1c0002row35_col2 {\n",
              "            background-color:  #f7fbff;\n",
              "            color:  #000000;\n",
              "        }    #T_57dbb5b2_eb55_11ea_bced_0242ac1c0002row35_col3 {\n",
              "            background-color:  #f7fbff;\n",
              "            color:  #000000;\n",
              "        }    #T_57dbb5b2_eb55_11ea_bced_0242ac1c0002row35_col4 {\n",
              "            background-color:  #f7fbff;\n",
              "            color:  #000000;\n",
              "        }    #T_57dbb5b2_eb55_11ea_bced_0242ac1c0002row35_col5 {\n",
              "            background-color:  #f2f8fd;\n",
              "            color:  #000000;\n",
              "        }    #T_57dbb5b2_eb55_11ea_bced_0242ac1c0002row35_col6 {\n",
              "            background-color:  #084c95;\n",
              "            color:  #f1f1f1;\n",
              "        }    #T_57dbb5b2_eb55_11ea_bced_0242ac1c0002row36_col1 {\n",
              "            background-color:  #f7fbff;\n",
              "            color:  #000000;\n",
              "        }    #T_57dbb5b2_eb55_11ea_bced_0242ac1c0002row36_col2 {\n",
              "            background-color:  #f7fbff;\n",
              "            color:  #000000;\n",
              "        }    #T_57dbb5b2_eb55_11ea_bced_0242ac1c0002row36_col3 {\n",
              "            background-color:  #f7fbff;\n",
              "            color:  #000000;\n",
              "        }    #T_57dbb5b2_eb55_11ea_bced_0242ac1c0002row36_col4 {\n",
              "            background-color:  #f6faff;\n",
              "            color:  #000000;\n",
              "        }    #T_57dbb5b2_eb55_11ea_bced_0242ac1c0002row36_col5 {\n",
              "            background-color:  #e0ecf8;\n",
              "            color:  #000000;\n",
              "        }    #T_57dbb5b2_eb55_11ea_bced_0242ac1c0002row36_col6 {\n",
              "            background-color:  #77b5d9;\n",
              "            color:  #000000;\n",
              "        }    #T_57dbb5b2_eb55_11ea_bced_0242ac1c0002row37_col1 {\n",
              "            background-color:  #f7fbff;\n",
              "            color:  #000000;\n",
              "        }    #T_57dbb5b2_eb55_11ea_bced_0242ac1c0002row37_col2 {\n",
              "            background-color:  #f7fbff;\n",
              "            color:  #000000;\n",
              "        }    #T_57dbb5b2_eb55_11ea_bced_0242ac1c0002row37_col3 {\n",
              "            background-color:  #f7fbff;\n",
              "            color:  #000000;\n",
              "        }    #T_57dbb5b2_eb55_11ea_bced_0242ac1c0002row37_col4 {\n",
              "            background-color:  #f7fbff;\n",
              "            color:  #000000;\n",
              "        }    #T_57dbb5b2_eb55_11ea_bced_0242ac1c0002row37_col5 {\n",
              "            background-color:  #eaf3fb;\n",
              "            color:  #000000;\n",
              "        }    #T_57dbb5b2_eb55_11ea_bced_0242ac1c0002row37_col6 {\n",
              "            background-color:  #2e7ebc;\n",
              "            color:  #000000;\n",
              "        }    #T_57dbb5b2_eb55_11ea_bced_0242ac1c0002row38_col1 {\n",
              "            background-color:  #f7fbff;\n",
              "            color:  #000000;\n",
              "        }    #T_57dbb5b2_eb55_11ea_bced_0242ac1c0002row38_col2 {\n",
              "            background-color:  #f7fbff;\n",
              "            color:  #000000;\n",
              "        }    #T_57dbb5b2_eb55_11ea_bced_0242ac1c0002row38_col3 {\n",
              "            background-color:  #f7fbff;\n",
              "            color:  #000000;\n",
              "        }    #T_57dbb5b2_eb55_11ea_bced_0242ac1c0002row38_col4 {\n",
              "            background-color:  #f7fbff;\n",
              "            color:  #000000;\n",
              "        }    #T_57dbb5b2_eb55_11ea_bced_0242ac1c0002row38_col5 {\n",
              "            background-color:  #f7fbff;\n",
              "            color:  #000000;\n",
              "        }    #T_57dbb5b2_eb55_11ea_bced_0242ac1c0002row38_col6 {\n",
              "            background-color:  #66abd4;\n",
              "            color:  #000000;\n",
              "        }    #T_57dbb5b2_eb55_11ea_bced_0242ac1c0002row39_col1 {\n",
              "            background-color:  #f7fbff;\n",
              "            color:  #000000;\n",
              "        }    #T_57dbb5b2_eb55_11ea_bced_0242ac1c0002row39_col2 {\n",
              "            background-color:  #f7fbff;\n",
              "            color:  #000000;\n",
              "        }    #T_57dbb5b2_eb55_11ea_bced_0242ac1c0002row39_col3 {\n",
              "            background-color:  #f7fbff;\n",
              "            color:  #000000;\n",
              "        }    #T_57dbb5b2_eb55_11ea_bced_0242ac1c0002row39_col4 {\n",
              "            background-color:  #f7fbff;\n",
              "            color:  #000000;\n",
              "        }    #T_57dbb5b2_eb55_11ea_bced_0242ac1c0002row39_col5 {\n",
              "            background-color:  #f7fbff;\n",
              "            color:  #000000;\n",
              "        }    #T_57dbb5b2_eb55_11ea_bced_0242ac1c0002row39_col6 {\n",
              "            background-color:  #f7fbff;\n",
              "            color:  #000000;\n",
              "        }    #T_57dbb5b2_eb55_11ea_bced_0242ac1c0002row40_col1 {\n",
              "            background-color:  #f7fbff;\n",
              "            color:  #000000;\n",
              "        }    #T_57dbb5b2_eb55_11ea_bced_0242ac1c0002row40_col2 {\n",
              "            background-color:  #f7fbff;\n",
              "            color:  #000000;\n",
              "        }    #T_57dbb5b2_eb55_11ea_bced_0242ac1c0002row40_col3 {\n",
              "            background-color:  #f7fbff;\n",
              "            color:  #000000;\n",
              "        }    #T_57dbb5b2_eb55_11ea_bced_0242ac1c0002row40_col4 {\n",
              "            background-color:  #f7fbff;\n",
              "            color:  #000000;\n",
              "        }    #T_57dbb5b2_eb55_11ea_bced_0242ac1c0002row40_col5 {\n",
              "            background-color:  #f7fbff;\n",
              "            color:  #000000;\n",
              "        }    #T_57dbb5b2_eb55_11ea_bced_0242ac1c0002row40_col6 {\n",
              "            background-color:  #e7f0fa;\n",
              "            color:  #000000;\n",
              "        }    #T_57dbb5b2_eb55_11ea_bced_0242ac1c0002row41_col1 {\n",
              "            background-color:  #f7fbff;\n",
              "            color:  #000000;\n",
              "        }    #T_57dbb5b2_eb55_11ea_bced_0242ac1c0002row41_col2 {\n",
              "            background-color:  #f7fbff;\n",
              "            color:  #000000;\n",
              "        }    #T_57dbb5b2_eb55_11ea_bced_0242ac1c0002row41_col3 {\n",
              "            background-color:  #f7fbff;\n",
              "            color:  #000000;\n",
              "        }    #T_57dbb5b2_eb55_11ea_bced_0242ac1c0002row41_col4 {\n",
              "            background-color:  #f7fbff;\n",
              "            color:  #000000;\n",
              "        }    #T_57dbb5b2_eb55_11ea_bced_0242ac1c0002row41_col5 {\n",
              "            background-color:  #f7fbff;\n",
              "            color:  #000000;\n",
              "        }    #T_57dbb5b2_eb55_11ea_bced_0242ac1c0002row41_col6 {\n",
              "            background-color:  #f7fbff;\n",
              "            color:  #000000;\n",
              "        }</style><table id=\"T_57dbb5b2_eb55_11ea_bced_0242ac1c0002\" ><thead>    <tr>        <th class=\"blank level0\" ></th>        <th class=\"col_heading level0 col0\" >State/UnionTerritory</th>        <th class=\"col_heading level0 col1\" >Confirmed</th>        <th class=\"col_heading level0 col2\" >Deaths</th>        <th class=\"col_heading level0 col3\" >Cured</th>        <th class=\"col_heading level0 col4\" >Active</th>        <th class=\"col_heading level0 col5\" >Death Rate (per 100)</th>        <th class=\"col_heading level0 col6\" >Cure Rate (per 100)</th>    </tr></thead><tbody>\n",
              "                <tr>\n",
              "                        <th id=\"T_57dbb5b2_eb55_11ea_bced_0242ac1c0002level0_row0\" class=\"row_heading level0 row0\" >22</th>\n",
              "                        <td id=\"T_57dbb5b2_eb55_11ea_bced_0242ac1c0002row0_col0\" class=\"data row0 col0\" >Maharashtra</td>\n",
              "                        <td id=\"T_57dbb5b2_eb55_11ea_bced_0242ac1c0002row0_col1\" class=\"data row0 col1\" >671942</td>\n",
              "                        <td id=\"T_57dbb5b2_eb55_11ea_bced_0242ac1c0002row0_col2\" class=\"data row0 col2\" >21995</td>\n",
              "                        <td id=\"T_57dbb5b2_eb55_11ea_bced_0242ac1c0002row0_col3\" class=\"data row0 col3\" >480114</td>\n",
              "                        <td id=\"T_57dbb5b2_eb55_11ea_bced_0242ac1c0002row0_col4\" class=\"data row0 col4\" >169833</td>\n",
              "                        <td id=\"T_57dbb5b2_eb55_11ea_bced_0242ac1c0002row0_col5\" class=\"data row0 col5\" >3.270000</td>\n",
              "                        <td id=\"T_57dbb5b2_eb55_11ea_bced_0242ac1c0002row0_col6\" class=\"data row0 col6\" >71.450000</td>\n",
              "            </tr>\n",
              "            <tr>\n",
              "                        <th id=\"T_57dbb5b2_eb55_11ea_bced_0242ac1c0002level0_row1\" class=\"row_heading level0 row1\" >32</th>\n",
              "                        <td id=\"T_57dbb5b2_eb55_11ea_bced_0242ac1c0002row1_col0\" class=\"data row1 col0\" >Tamil Nadu</td>\n",
              "                        <td id=\"T_57dbb5b2_eb55_11ea_bced_0242ac1c0002row1_col1\" class=\"data row1 col1\" >373410</td>\n",
              "                        <td id=\"T_57dbb5b2_eb55_11ea_bced_0242ac1c0002row1_col2\" class=\"data row1 col2\" >6420</td>\n",
              "                        <td id=\"T_57dbb5b2_eb55_11ea_bced_0242ac1c0002row1_col3\" class=\"data row1 col3\" >313280</td>\n",
              "                        <td id=\"T_57dbb5b2_eb55_11ea_bced_0242ac1c0002row1_col4\" class=\"data row1 col4\" >53710</td>\n",
              "                        <td id=\"T_57dbb5b2_eb55_11ea_bced_0242ac1c0002row1_col5\" class=\"data row1 col5\" >1.720000</td>\n",
              "                        <td id=\"T_57dbb5b2_eb55_11ea_bced_0242ac1c0002row1_col6\" class=\"data row1 col6\" >83.900000</td>\n",
              "            </tr>\n",
              "            <tr>\n",
              "                        <th id=\"T_57dbb5b2_eb55_11ea_bced_0242ac1c0002level0_row2\" class=\"row_heading level0 row2\" >1</th>\n",
              "                        <td id=\"T_57dbb5b2_eb55_11ea_bced_0242ac1c0002row2_col0\" class=\"data row2 col0\" >Andhra Pradesh</td>\n",
              "                        <td id=\"T_57dbb5b2_eb55_11ea_bced_0242ac1c0002row2_col1\" class=\"data row2 col1\" >345216</td>\n",
              "                        <td id=\"T_57dbb5b2_eb55_11ea_bced_0242ac1c0002row2_col2\" class=\"data row2 col2\" >3189</td>\n",
              "                        <td id=\"T_57dbb5b2_eb55_11ea_bced_0242ac1c0002row2_col3\" class=\"data row2 col3\" >252638</td>\n",
              "                        <td id=\"T_57dbb5b2_eb55_11ea_bced_0242ac1c0002row2_col4\" class=\"data row2 col4\" >89389</td>\n",
              "                        <td id=\"T_57dbb5b2_eb55_11ea_bced_0242ac1c0002row2_col5\" class=\"data row2 col5\" >0.920000</td>\n",
              "                        <td id=\"T_57dbb5b2_eb55_11ea_bced_0242ac1c0002row2_col6\" class=\"data row2 col6\" >73.180000</td>\n",
              "            </tr>\n",
              "            <tr>\n",
              "                        <th id=\"T_57dbb5b2_eb55_11ea_bced_0242ac1c0002level0_row3\" class=\"row_heading level0 row3\" >18</th>\n",
              "                        <td id=\"T_57dbb5b2_eb55_11ea_bced_0242ac1c0002row3_col0\" class=\"data row3 col0\" >Karnataka</td>\n",
              "                        <td id=\"T_57dbb5b2_eb55_11ea_bced_0242ac1c0002row3_col1\" class=\"data row3 col1\" >271876</td>\n",
              "                        <td id=\"T_57dbb5b2_eb55_11ea_bced_0242ac1c0002row3_col2\" class=\"data row3 col2\" >4615</td>\n",
              "                        <td id=\"T_57dbb5b2_eb55_11ea_bced_0242ac1c0002row3_col3\" class=\"data row3 col3\" >184568</td>\n",
              "                        <td id=\"T_57dbb5b2_eb55_11ea_bced_0242ac1c0002row3_col4\" class=\"data row3 col4\" >82693</td>\n",
              "                        <td id=\"T_57dbb5b2_eb55_11ea_bced_0242ac1c0002row3_col5\" class=\"data row3 col5\" >1.700000</td>\n",
              "                        <td id=\"T_57dbb5b2_eb55_11ea_bced_0242ac1c0002row3_col6\" class=\"data row3 col6\" >67.890000</td>\n",
              "            </tr>\n",
              "            <tr>\n",
              "                        <th id=\"T_57dbb5b2_eb55_11ea_bced_0242ac1c0002level0_row4\" class=\"row_heading level0 row4\" >39</th>\n",
              "                        <td id=\"T_57dbb5b2_eb55_11ea_bced_0242ac1c0002row4_col0\" class=\"data row4 col0\" >Uttar Pradesh</td>\n",
              "                        <td id=\"T_57dbb5b2_eb55_11ea_bced_0242ac1c0002row4_col1\" class=\"data row4 col1\" >182453</td>\n",
              "                        <td id=\"T_57dbb5b2_eb55_11ea_bced_0242ac1c0002row4_col2\" class=\"data row4 col2\" >2867</td>\n",
              "                        <td id=\"T_57dbb5b2_eb55_11ea_bced_0242ac1c0002row4_col3\" class=\"data row4 col3\" >131295</td>\n",
              "                        <td id=\"T_57dbb5b2_eb55_11ea_bced_0242ac1c0002row4_col4\" class=\"data row4 col4\" >48291</td>\n",
              "                        <td id=\"T_57dbb5b2_eb55_11ea_bced_0242ac1c0002row4_col5\" class=\"data row4 col5\" >1.570000</td>\n",
              "                        <td id=\"T_57dbb5b2_eb55_11ea_bced_0242ac1c0002row4_col6\" class=\"data row4 col6\" >71.960000</td>\n",
              "            </tr>\n",
              "            <tr>\n",
              "                        <th id=\"T_57dbb5b2_eb55_11ea_bced_0242ac1c0002level0_row5\" class=\"row_heading level0 row5\" >11</th>\n",
              "                        <td id=\"T_57dbb5b2_eb55_11ea_bced_0242ac1c0002row5_col0\" class=\"data row5 col0\" >Delhi</td>\n",
              "                        <td id=\"T_57dbb5b2_eb55_11ea_bced_0242ac1c0002row5_col1\" class=\"data row5 col1\" >160016</td>\n",
              "                        <td id=\"T_57dbb5b2_eb55_11ea_bced_0242ac1c0002row5_col2\" class=\"data row5 col2\" >4284</td>\n",
              "                        <td id=\"T_57dbb5b2_eb55_11ea_bced_0242ac1c0002row5_col3\" class=\"data row5 col3\" >144138</td>\n",
              "                        <td id=\"T_57dbb5b2_eb55_11ea_bced_0242ac1c0002row5_col4\" class=\"data row5 col4\" >11594</td>\n",
              "                        <td id=\"T_57dbb5b2_eb55_11ea_bced_0242ac1c0002row5_col5\" class=\"data row5 col5\" >2.680000</td>\n",
              "                        <td id=\"T_57dbb5b2_eb55_11ea_bced_0242ac1c0002row5_col6\" class=\"data row5 col6\" >90.080000</td>\n",
              "            </tr>\n",
              "            <tr>\n",
              "                        <th id=\"T_57dbb5b2_eb55_11ea_bced_0242ac1c0002level0_row6\" class=\"row_heading level0 row6\" >41</th>\n",
              "                        <td id=\"T_57dbb5b2_eb55_11ea_bced_0242ac1c0002row6_col0\" class=\"data row6 col0\" >West Bengal</td>\n",
              "                        <td id=\"T_57dbb5b2_eb55_11ea_bced_0242ac1c0002row6_col1\" class=\"data row6 col1\" >135596</td>\n",
              "                        <td id=\"T_57dbb5b2_eb55_11ea_bced_0242ac1c0002row6_col2\" class=\"data row6 col2\" >2737</td>\n",
              "                        <td id=\"T_57dbb5b2_eb55_11ea_bced_0242ac1c0002row6_col3\" class=\"data row6 col3\" >104959</td>\n",
              "                        <td id=\"T_57dbb5b2_eb55_11ea_bced_0242ac1c0002row6_col4\" class=\"data row6 col4\" >27900</td>\n",
              "                        <td id=\"T_57dbb5b2_eb55_11ea_bced_0242ac1c0002row6_col5\" class=\"data row6 col5\" >2.020000</td>\n",
              "                        <td id=\"T_57dbb5b2_eb55_11ea_bced_0242ac1c0002row6_col6\" class=\"data row6 col6\" >77.410000</td>\n",
              "            </tr>\n",
              "            <tr>\n",
              "                        <th id=\"T_57dbb5b2_eb55_11ea_bced_0242ac1c0002level0_row7\" class=\"row_heading level0 row7\" >4</th>\n",
              "                        <td id=\"T_57dbb5b2_eb55_11ea_bced_0242ac1c0002row7_col0\" class=\"data row7 col0\" >Bihar</td>\n",
              "                        <td id=\"T_57dbb5b2_eb55_11ea_bced_0242ac1c0002row7_col1\" class=\"data row7 col1\" >119529</td>\n",
              "                        <td id=\"T_57dbb5b2_eb55_11ea_bced_0242ac1c0002row7_col2\" class=\"data row7 col2\" >503</td>\n",
              "                        <td id=\"T_57dbb5b2_eb55_11ea_bced_0242ac1c0002row7_col3\" class=\"data row7 col3\" >94858</td>\n",
              "                        <td id=\"T_57dbb5b2_eb55_11ea_bced_0242ac1c0002row7_col4\" class=\"data row7 col4\" >24168</td>\n",
              "                        <td id=\"T_57dbb5b2_eb55_11ea_bced_0242ac1c0002row7_col5\" class=\"data row7 col5\" >0.420000</td>\n",
              "                        <td id=\"T_57dbb5b2_eb55_11ea_bced_0242ac1c0002row7_col6\" class=\"data row7 col6\" >79.360000</td>\n",
              "            </tr>\n",
              "            <tr>\n",
              "                        <th id=\"T_57dbb5b2_eb55_11ea_bced_0242ac1c0002level0_row8\" class=\"row_heading level0 row8\" >35</th>\n",
              "                        <td id=\"T_57dbb5b2_eb55_11ea_bced_0242ac1c0002row8_col0\" class=\"data row8 col0\" >Telengana</td>\n",
              "                        <td id=\"T_57dbb5b2_eb55_11ea_bced_0242ac1c0002row8_col1\" class=\"data row8 col1\" >104249</td>\n",
              "                        <td id=\"T_57dbb5b2_eb55_11ea_bced_0242ac1c0002row8_col2\" class=\"data row8 col2\" >755</td>\n",
              "                        <td id=\"T_57dbb5b2_eb55_11ea_bced_0242ac1c0002row8_col3\" class=\"data row8 col3\" >80586</td>\n",
              "                        <td id=\"T_57dbb5b2_eb55_11ea_bced_0242ac1c0002row8_col4\" class=\"data row8 col4\" >22908</td>\n",
              "                        <td id=\"T_57dbb5b2_eb55_11ea_bced_0242ac1c0002row8_col5\" class=\"data row8 col5\" >0.720000</td>\n",
              "                        <td id=\"T_57dbb5b2_eb55_11ea_bced_0242ac1c0002row8_col6\" class=\"data row8 col6\" >77.300000</td>\n",
              "            </tr>\n",
              "            <tr>\n",
              "                        <th id=\"T_57dbb5b2_eb55_11ea_bced_0242ac1c0002level0_row9\" class=\"row_heading level0 row9\" >3</th>\n",
              "                        <td id=\"T_57dbb5b2_eb55_11ea_bced_0242ac1c0002row9_col0\" class=\"data row9 col0\" >Assam</td>\n",
              "                        <td id=\"T_57dbb5b2_eb55_11ea_bced_0242ac1c0002row9_col1\" class=\"data row9 col1\" >89468</td>\n",
              "                        <td id=\"T_57dbb5b2_eb55_11ea_bced_0242ac1c0002row9_col2\" class=\"data row9 col2\" >234</td>\n",
              "                        <td id=\"T_57dbb5b2_eb55_11ea_bced_0242ac1c0002row9_col3\" class=\"data row9 col3\" >67641</td>\n",
              "                        <td id=\"T_57dbb5b2_eb55_11ea_bced_0242ac1c0002row9_col4\" class=\"data row9 col4\" >21593</td>\n",
              "                        <td id=\"T_57dbb5b2_eb55_11ea_bced_0242ac1c0002row9_col5\" class=\"data row9 col5\" >0.260000</td>\n",
              "                        <td id=\"T_57dbb5b2_eb55_11ea_bced_0242ac1c0002row9_col6\" class=\"data row9 col6\" >75.600000</td>\n",
              "            </tr>\n",
              "            <tr>\n",
              "                        <th id=\"T_57dbb5b2_eb55_11ea_bced_0242ac1c0002level0_row10\" class=\"row_heading level0 row10\" >13</th>\n",
              "                        <td id=\"T_57dbb5b2_eb55_11ea_bced_0242ac1c0002row10_col0\" class=\"data row10 col0\" >Gujarat</td>\n",
              "                        <td id=\"T_57dbb5b2_eb55_11ea_bced_0242ac1c0002row10_col1\" class=\"data row10 col1\" >85523</td>\n",
              "                        <td id=\"T_57dbb5b2_eb55_11ea_bced_0242ac1c0002row10_col2\" class=\"data row10 col2\" >2881</td>\n",
              "                        <td id=\"T_57dbb5b2_eb55_11ea_bced_0242ac1c0002row10_col3\" class=\"data row10 col3\" >68243</td>\n",
              "                        <td id=\"T_57dbb5b2_eb55_11ea_bced_0242ac1c0002row10_col4\" class=\"data row10 col4\" >14399</td>\n",
              "                        <td id=\"T_57dbb5b2_eb55_11ea_bced_0242ac1c0002row10_col5\" class=\"data row10 col5\" >3.370000</td>\n",
              "                        <td id=\"T_57dbb5b2_eb55_11ea_bced_0242ac1c0002row10_col6\" class=\"data row10 col6\" >79.790000</td>\n",
              "            </tr>\n",
              "            <tr>\n",
              "                        <th id=\"T_57dbb5b2_eb55_11ea_bced_0242ac1c0002level0_row11\" class=\"row_heading level0 row11\" >27</th>\n",
              "                        <td id=\"T_57dbb5b2_eb55_11ea_bced_0242ac1c0002row11_col0\" class=\"data row11 col0\" >Odisha</td>\n",
              "                        <td id=\"T_57dbb5b2_eb55_11ea_bced_0242ac1c0002row11_col1\" class=\"data row11 col1\" >75537</td>\n",
              "                        <td id=\"T_57dbb5b2_eb55_11ea_bced_0242ac1c0002row11_col2\" class=\"data row11 col2\" >399</td>\n",
              "                        <td id=\"T_57dbb5b2_eb55_11ea_bced_0242ac1c0002row11_col3\" class=\"data row11 col3\" >52277</td>\n",
              "                        <td id=\"T_57dbb5b2_eb55_11ea_bced_0242ac1c0002row11_col4\" class=\"data row11 col4\" >22861</td>\n",
              "                        <td id=\"T_57dbb5b2_eb55_11ea_bced_0242ac1c0002row11_col5\" class=\"data row11 col5\" >0.530000</td>\n",
              "                        <td id=\"T_57dbb5b2_eb55_11ea_bced_0242ac1c0002row11_col6\" class=\"data row11 col6\" >69.210000</td>\n",
              "            </tr>\n",
              "            <tr>\n",
              "                        <th id=\"T_57dbb5b2_eb55_11ea_bced_0242ac1c0002level0_row12\" class=\"row_heading level0 row12\" >30</th>\n",
              "                        <td id=\"T_57dbb5b2_eb55_11ea_bced_0242ac1c0002row12_col0\" class=\"data row12 col0\" >Rajasthan</td>\n",
              "                        <td id=\"T_57dbb5b2_eb55_11ea_bced_0242ac1c0002row12_col1\" class=\"data row12 col1\" >69264</td>\n",
              "                        <td id=\"T_57dbb5b2_eb55_11ea_bced_0242ac1c0002row12_col2\" class=\"data row12 col2\" >944</td>\n",
              "                        <td id=\"T_57dbb5b2_eb55_11ea_bced_0242ac1c0002row12_col3\" class=\"data row12 col3\" >54144</td>\n",
              "                        <td id=\"T_57dbb5b2_eb55_11ea_bced_0242ac1c0002row12_col4\" class=\"data row12 col4\" >14176</td>\n",
              "                        <td id=\"T_57dbb5b2_eb55_11ea_bced_0242ac1c0002row12_col5\" class=\"data row12 col5\" >1.360000</td>\n",
              "                        <td id=\"T_57dbb5b2_eb55_11ea_bced_0242ac1c0002row12_col6\" class=\"data row12 col6\" >78.170000</td>\n",
              "            </tr>\n",
              "            <tr>\n",
              "                        <th id=\"T_57dbb5b2_eb55_11ea_bced_0242ac1c0002level0_row13\" class=\"row_heading level0 row13\" >36</th>\n",
              "                        <td id=\"T_57dbb5b2_eb55_11ea_bced_0242ac1c0002row13_col0\" class=\"data row13 col0\" >Telengana***</td>\n",
              "                        <td id=\"T_57dbb5b2_eb55_11ea_bced_0242ac1c0002row13_col1\" class=\"data row13 col1\" >57142</td>\n",
              "                        <td id=\"T_57dbb5b2_eb55_11ea_bced_0242ac1c0002row13_col2\" class=\"data row13 col2\" >480</td>\n",
              "                        <td id=\"T_57dbb5b2_eb55_11ea_bced_0242ac1c0002row13_col3\" class=\"data row13 col3\" >42909</td>\n",
              "                        <td id=\"T_57dbb5b2_eb55_11ea_bced_0242ac1c0002row13_col4\" class=\"data row13 col4\" >13753</td>\n",
              "                        <td id=\"T_57dbb5b2_eb55_11ea_bced_0242ac1c0002row13_col5\" class=\"data row13 col5\" >0.840000</td>\n",
              "                        <td id=\"T_57dbb5b2_eb55_11ea_bced_0242ac1c0002row13_col6\" class=\"data row13 col6\" >75.090000</td>\n",
              "            </tr>\n",
              "            <tr>\n",
              "                        <th id=\"T_57dbb5b2_eb55_11ea_bced_0242ac1c0002level0_row14\" class=\"row_heading level0 row14\" >19</th>\n",
              "                        <td id=\"T_57dbb5b2_eb55_11ea_bced_0242ac1c0002row14_col0\" class=\"data row14 col0\" >Kerala</td>\n",
              "                        <td id=\"T_57dbb5b2_eb55_11ea_bced_0242ac1c0002row14_col1\" class=\"data row14 col1\" >56354</td>\n",
              "                        <td id=\"T_57dbb5b2_eb55_11ea_bced_0242ac1c0002row14_col2\" class=\"data row14 col2\" >218</td>\n",
              "                        <td id=\"T_57dbb5b2_eb55_11ea_bced_0242ac1c0002row14_col3\" class=\"data row14 col3\" >36535</td>\n",
              "                        <td id=\"T_57dbb5b2_eb55_11ea_bced_0242ac1c0002row14_col4\" class=\"data row14 col4\" >19601</td>\n",
              "                        <td id=\"T_57dbb5b2_eb55_11ea_bced_0242ac1c0002row14_col5\" class=\"data row14 col5\" >0.390000</td>\n",
              "                        <td id=\"T_57dbb5b2_eb55_11ea_bced_0242ac1c0002row14_col6\" class=\"data row14 col6\" >64.830000</td>\n",
              "            </tr>\n",
              "            <tr>\n",
              "                        <th id=\"T_57dbb5b2_eb55_11ea_bced_0242ac1c0002level0_row15\" class=\"row_heading level0 row15\" >33</th>\n",
              "                        <td id=\"T_57dbb5b2_eb55_11ea_bced_0242ac1c0002row15_col0\" class=\"data row15 col0\" >Telangana</td>\n",
              "                        <td id=\"T_57dbb5b2_eb55_11ea_bced_0242ac1c0002row15_col1\" class=\"data row15 col1\" >54059</td>\n",
              "                        <td id=\"T_57dbb5b2_eb55_11ea_bced_0242ac1c0002row15_col2\" class=\"data row15 col2\" >463</td>\n",
              "                        <td id=\"T_57dbb5b2_eb55_11ea_bced_0242ac1c0002row15_col3\" class=\"data row15 col3\" >41332</td>\n",
              "                        <td id=\"T_57dbb5b2_eb55_11ea_bced_0242ac1c0002row15_col4\" class=\"data row15 col4\" >12264</td>\n",
              "                        <td id=\"T_57dbb5b2_eb55_11ea_bced_0242ac1c0002row15_col5\" class=\"data row15 col5\" >0.860000</td>\n",
              "                        <td id=\"T_57dbb5b2_eb55_11ea_bced_0242ac1c0002row15_col6\" class=\"data row15 col6\" >76.460000</td>\n",
              "            </tr>\n",
              "            <tr>\n",
              "                        <th id=\"T_57dbb5b2_eb55_11ea_bced_0242ac1c0002level0_row16\" class=\"row_heading level0 row16\" >14</th>\n",
              "                        <td id=\"T_57dbb5b2_eb55_11ea_bced_0242ac1c0002row16_col0\" class=\"data row16 col0\" >Haryana</td>\n",
              "                        <td id=\"T_57dbb5b2_eb55_11ea_bced_0242ac1c0002row16_col1\" class=\"data row16 col1\" >53290</td>\n",
              "                        <td id=\"T_57dbb5b2_eb55_11ea_bced_0242ac1c0002row16_col2\" class=\"data row16 col2\" >597</td>\n",
              "                        <td id=\"T_57dbb5b2_eb55_11ea_bced_0242ac1c0002row16_col3\" class=\"data row16 col3\" >44013</td>\n",
              "                        <td id=\"T_57dbb5b2_eb55_11ea_bced_0242ac1c0002row16_col4\" class=\"data row16 col4\" >8680</td>\n",
              "                        <td id=\"T_57dbb5b2_eb55_11ea_bced_0242ac1c0002row16_col5\" class=\"data row16 col5\" >1.120000</td>\n",
              "                        <td id=\"T_57dbb5b2_eb55_11ea_bced_0242ac1c0002row16_col6\" class=\"data row16 col6\" >82.590000</td>\n",
              "            </tr>\n",
              "            <tr>\n",
              "                        <th id=\"T_57dbb5b2_eb55_11ea_bced_0242ac1c0002level0_row17\" class=\"row_heading level0 row17\" >34</th>\n",
              "                        <td id=\"T_57dbb5b2_eb55_11ea_bced_0242ac1c0002row17_col0\" class=\"data row17 col0\" >Telangana***</td>\n",
              "                        <td id=\"T_57dbb5b2_eb55_11ea_bced_0242ac1c0002row17_col1\" class=\"data row17 col1\" >52466</td>\n",
              "                        <td id=\"T_57dbb5b2_eb55_11ea_bced_0242ac1c0002row17_col2\" class=\"data row17 col2\" >455</td>\n",
              "                        <td id=\"T_57dbb5b2_eb55_11ea_bced_0242ac1c0002row17_col3\" class=\"data row17 col3\" >40334</td>\n",
              "                        <td id=\"T_57dbb5b2_eb55_11ea_bced_0242ac1c0002row17_col4\" class=\"data row17 col4\" >11677</td>\n",
              "                        <td id=\"T_57dbb5b2_eb55_11ea_bced_0242ac1c0002row17_col5\" class=\"data row17 col5\" >0.870000</td>\n",
              "                        <td id=\"T_57dbb5b2_eb55_11ea_bced_0242ac1c0002row17_col6\" class=\"data row17 col6\" >76.880000</td>\n",
              "            </tr>\n",
              "            <tr>\n",
              "                        <th id=\"T_57dbb5b2_eb55_11ea_bced_0242ac1c0002level0_row18\" class=\"row_heading level0 row18\" >21</th>\n",
              "                        <td id=\"T_57dbb5b2_eb55_11ea_bced_0242ac1c0002row18_col0\" class=\"data row18 col0\" >Madhya Pradesh</td>\n",
              "                        <td id=\"T_57dbb5b2_eb55_11ea_bced_0242ac1c0002row18_col1\" class=\"data row18 col1\" >51866</td>\n",
              "                        <td id=\"T_57dbb5b2_eb55_11ea_bced_0242ac1c0002row18_col2\" class=\"data row18 col2\" >1206</td>\n",
              "                        <td id=\"T_57dbb5b2_eb55_11ea_bced_0242ac1c0002row18_col3\" class=\"data row18 col3\" >39399</td>\n",
              "                        <td id=\"T_57dbb5b2_eb55_11ea_bced_0242ac1c0002row18_col4\" class=\"data row18 col4\" >11261</td>\n",
              "                        <td id=\"T_57dbb5b2_eb55_11ea_bced_0242ac1c0002row18_col5\" class=\"data row18 col5\" >2.330000</td>\n",
              "                        <td id=\"T_57dbb5b2_eb55_11ea_bced_0242ac1c0002row18_col6\" class=\"data row18 col6\" >75.960000</td>\n",
              "            </tr>\n",
              "            <tr>\n",
              "                        <th id=\"T_57dbb5b2_eb55_11ea_bced_0242ac1c0002level0_row19\" class=\"row_heading level0 row19\" >29</th>\n",
              "                        <td id=\"T_57dbb5b2_eb55_11ea_bced_0242ac1c0002row19_col0\" class=\"data row19 col0\" >Punjab</td>\n",
              "                        <td id=\"T_57dbb5b2_eb55_11ea_bced_0242ac1c0002row19_col1\" class=\"data row19 col1\" >40643</td>\n",
              "                        <td id=\"T_57dbb5b2_eb55_11ea_bced_0242ac1c0002row19_col2\" class=\"data row19 col2\" >1036</td>\n",
              "                        <td id=\"T_57dbb5b2_eb55_11ea_bced_0242ac1c0002row19_col3\" class=\"data row19 col3\" >24302</td>\n",
              "                        <td id=\"T_57dbb5b2_eb55_11ea_bced_0242ac1c0002row19_col4\" class=\"data row19 col4\" >15305</td>\n",
              "                        <td id=\"T_57dbb5b2_eb55_11ea_bced_0242ac1c0002row19_col5\" class=\"data row19 col5\" >2.550000</td>\n",
              "                        <td id=\"T_57dbb5b2_eb55_11ea_bced_0242ac1c0002row19_col6\" class=\"data row19 col6\" >59.790000</td>\n",
              "            </tr>\n",
              "            <tr>\n",
              "                        <th id=\"T_57dbb5b2_eb55_11ea_bced_0242ac1c0002level0_row20\" class=\"row_heading level0 row20\" >16</th>\n",
              "                        <td id=\"T_57dbb5b2_eb55_11ea_bced_0242ac1c0002row20_col0\" class=\"data row20 col0\" >Jammu and Kashmir</td>\n",
              "                        <td id=\"T_57dbb5b2_eb55_11ea_bced_0242ac1c0002row20_col1\" class=\"data row20 col1\" >31981</td>\n",
              "                        <td id=\"T_57dbb5b2_eb55_11ea_bced_0242ac1c0002row20_col2\" class=\"data row20 col2\" >608</td>\n",
              "                        <td id=\"T_57dbb5b2_eb55_11ea_bced_0242ac1c0002row20_col3\" class=\"data row20 col3\" >24398</td>\n",
              "                        <td id=\"T_57dbb5b2_eb55_11ea_bced_0242ac1c0002row20_col4\" class=\"data row20 col4\" >6975</td>\n",
              "                        <td id=\"T_57dbb5b2_eb55_11ea_bced_0242ac1c0002row20_col5\" class=\"data row20 col5\" >1.900000</td>\n",
              "                        <td id=\"T_57dbb5b2_eb55_11ea_bced_0242ac1c0002row20_col6\" class=\"data row20 col6\" >76.290000</td>\n",
              "            </tr>\n",
              "            <tr>\n",
              "                        <th id=\"T_57dbb5b2_eb55_11ea_bced_0242ac1c0002level0_row21\" class=\"row_heading level0 row21\" >17</th>\n",
              "                        <td id=\"T_57dbb5b2_eb55_11ea_bced_0242ac1c0002row21_col0\" class=\"data row21 col0\" >Jharkhand</td>\n",
              "                        <td id=\"T_57dbb5b2_eb55_11ea_bced_0242ac1c0002row21_col1\" class=\"data row21 col1\" >28571</td>\n",
              "                        <td id=\"T_57dbb5b2_eb55_11ea_bced_0242ac1c0002row21_col2\" class=\"data row21 col2\" >308</td>\n",
              "                        <td id=\"T_57dbb5b2_eb55_11ea_bced_0242ac1c0002row21_col3\" class=\"data row21 col3\" >18507</td>\n",
              "                        <td id=\"T_57dbb5b2_eb55_11ea_bced_0242ac1c0002row21_col4\" class=\"data row21 col4\" >9756</td>\n",
              "                        <td id=\"T_57dbb5b2_eb55_11ea_bced_0242ac1c0002row21_col5\" class=\"data row21 col5\" >1.080000</td>\n",
              "                        <td id=\"T_57dbb5b2_eb55_11ea_bced_0242ac1c0002row21_col6\" class=\"data row21 col6\" >64.780000</td>\n",
              "            </tr>\n",
              "            <tr>\n",
              "                        <th id=\"T_57dbb5b2_eb55_11ea_bced_0242ac1c0002level0_row22\" class=\"row_heading level0 row22\" >7</th>\n",
              "                        <td id=\"T_57dbb5b2_eb55_11ea_bced_0242ac1c0002row22_col0\" class=\"data row22 col0\" >Chhattisgarh</td>\n",
              "                        <td id=\"T_57dbb5b2_eb55_11ea_bced_0242ac1c0002row22_col1\" class=\"data row22 col1\" >20078</td>\n",
              "                        <td id=\"T_57dbb5b2_eb55_11ea_bced_0242ac1c0002row22_col2\" class=\"data row22 col2\" >189</td>\n",
              "                        <td id=\"T_57dbb5b2_eb55_11ea_bced_0242ac1c0002row22_col3\" class=\"data row22 col3\" >12394</td>\n",
              "                        <td id=\"T_57dbb5b2_eb55_11ea_bced_0242ac1c0002row22_col4\" class=\"data row22 col4\" >7495</td>\n",
              "                        <td id=\"T_57dbb5b2_eb55_11ea_bced_0242ac1c0002row22_col5\" class=\"data row22 col5\" >0.940000</td>\n",
              "                        <td id=\"T_57dbb5b2_eb55_11ea_bced_0242ac1c0002row22_col6\" class=\"data row22 col6\" >61.730000</td>\n",
              "            </tr>\n",
              "            <tr>\n",
              "                        <th id=\"T_57dbb5b2_eb55_11ea_bced_0242ac1c0002level0_row23\" class=\"row_heading level0 row23\" >40</th>\n",
              "                        <td id=\"T_57dbb5b2_eb55_11ea_bced_0242ac1c0002row23_col0\" class=\"data row23 col0\" >Uttarakhand</td>\n",
              "                        <td id=\"T_57dbb5b2_eb55_11ea_bced_0242ac1c0002row23_col1\" class=\"data row23 col1\" >14566</td>\n",
              "                        <td id=\"T_57dbb5b2_eb55_11ea_bced_0242ac1c0002row23_col2\" class=\"data row23 col2\" >195</td>\n",
              "                        <td id=\"T_57dbb5b2_eb55_11ea_bced_0242ac1c0002row23_col3\" class=\"data row23 col3\" >10021</td>\n",
              "                        <td id=\"T_57dbb5b2_eb55_11ea_bced_0242ac1c0002row23_col4\" class=\"data row23 col4\" >4350</td>\n",
              "                        <td id=\"T_57dbb5b2_eb55_11ea_bced_0242ac1c0002row23_col5\" class=\"data row23 col5\" >1.340000</td>\n",
              "                        <td id=\"T_57dbb5b2_eb55_11ea_bced_0242ac1c0002row23_col6\" class=\"data row23 col6\" >68.800000</td>\n",
              "            </tr>\n",
              "            <tr>\n",
              "                        <th id=\"T_57dbb5b2_eb55_11ea_bced_0242ac1c0002level0_row24\" class=\"row_heading level0 row24\" >12</th>\n",
              "                        <td id=\"T_57dbb5b2_eb55_11ea_bced_0242ac1c0002row24_col0\" class=\"data row24 col0\" >Goa</td>\n",
              "                        <td id=\"T_57dbb5b2_eb55_11ea_bced_0242ac1c0002row24_col1\" class=\"data row24 col1\" >13790</td>\n",
              "                        <td id=\"T_57dbb5b2_eb55_11ea_bced_0242ac1c0002row24_col2\" class=\"data row24 col2\" >140</td>\n",
              "                        <td id=\"T_57dbb5b2_eb55_11ea_bced_0242ac1c0002row24_col3\" class=\"data row24 col3\" >10019</td>\n",
              "                        <td id=\"T_57dbb5b2_eb55_11ea_bced_0242ac1c0002row24_col4\" class=\"data row24 col4\" >3631</td>\n",
              "                        <td id=\"T_57dbb5b2_eb55_11ea_bced_0242ac1c0002row24_col5\" class=\"data row24 col5\" >1.020000</td>\n",
              "                        <td id=\"T_57dbb5b2_eb55_11ea_bced_0242ac1c0002row24_col6\" class=\"data row24 col6\" >72.650000</td>\n",
              "            </tr>\n",
              "            <tr>\n",
              "                        <th id=\"T_57dbb5b2_eb55_11ea_bced_0242ac1c0002level0_row25\" class=\"row_heading level0 row25\" >28</th>\n",
              "                        <td id=\"T_57dbb5b2_eb55_11ea_bced_0242ac1c0002row25_col0\" class=\"data row25 col0\" >Puducherry</td>\n",
              "                        <td id=\"T_57dbb5b2_eb55_11ea_bced_0242ac1c0002row25_col1\" class=\"data row25 col1\" >10112</td>\n",
              "                        <td id=\"T_57dbb5b2_eb55_11ea_bced_0242ac1c0002row25_col2\" class=\"data row25 col2\" >151</td>\n",
              "                        <td id=\"T_57dbb5b2_eb55_11ea_bced_0242ac1c0002row25_col3\" class=\"data row25 col3\" >6307</td>\n",
              "                        <td id=\"T_57dbb5b2_eb55_11ea_bced_0242ac1c0002row25_col4\" class=\"data row25 col4\" >3654</td>\n",
              "                        <td id=\"T_57dbb5b2_eb55_11ea_bced_0242ac1c0002row25_col5\" class=\"data row25 col5\" >1.490000</td>\n",
              "                        <td id=\"T_57dbb5b2_eb55_11ea_bced_0242ac1c0002row25_col6\" class=\"data row25 col6\" >62.370000</td>\n",
              "            </tr>\n",
              "            <tr>\n",
              "                        <th id=\"T_57dbb5b2_eb55_11ea_bced_0242ac1c0002level0_row26\" class=\"row_heading level0 row26\" >5</th>\n",
              "                        <td id=\"T_57dbb5b2_eb55_11ea_bced_0242ac1c0002row26_col0\" class=\"data row26 col0\" >Cases being reassigned to states</td>\n",
              "                        <td id=\"T_57dbb5b2_eb55_11ea_bced_0242ac1c0002row26_col1\" class=\"data row26 col1\" >9265</td>\n",
              "                        <td id=\"T_57dbb5b2_eb55_11ea_bced_0242ac1c0002row26_col2\" class=\"data row26 col2\" >0</td>\n",
              "                        <td id=\"T_57dbb5b2_eb55_11ea_bced_0242ac1c0002row26_col3\" class=\"data row26 col3\" >0</td>\n",
              "                        <td id=\"T_57dbb5b2_eb55_11ea_bced_0242ac1c0002row26_col4\" class=\"data row26 col4\" >9265</td>\n",
              "                        <td id=\"T_57dbb5b2_eb55_11ea_bced_0242ac1c0002row26_col5\" class=\"data row26 col5\" >0.000000</td>\n",
              "                        <td id=\"T_57dbb5b2_eb55_11ea_bced_0242ac1c0002row26_col6\" class=\"data row26 col6\" >0.000000</td>\n",
              "            </tr>\n",
              "            <tr>\n",
              "                        <th id=\"T_57dbb5b2_eb55_11ea_bced_0242ac1c0002level0_row27\" class=\"row_heading level0 row27\" >37</th>\n",
              "                        <td id=\"T_57dbb5b2_eb55_11ea_bced_0242ac1c0002row27_col0\" class=\"data row27 col0\" >Tripura</td>\n",
              "                        <td id=\"T_57dbb5b2_eb55_11ea_bced_0242ac1c0002row27_col1\" class=\"data row27 col1\" >8702</td>\n",
              "                        <td id=\"T_57dbb5b2_eb55_11ea_bced_0242ac1c0002row27_col2\" class=\"data row27 col2\" >72</td>\n",
              "                        <td id=\"T_57dbb5b2_eb55_11ea_bced_0242ac1c0002row27_col3\" class=\"data row27 col3\" >6182</td>\n",
              "                        <td id=\"T_57dbb5b2_eb55_11ea_bced_0242ac1c0002row27_col4\" class=\"data row27 col4\" >2448</td>\n",
              "                        <td id=\"T_57dbb5b2_eb55_11ea_bced_0242ac1c0002row27_col5\" class=\"data row27 col5\" >0.830000</td>\n",
              "                        <td id=\"T_57dbb5b2_eb55_11ea_bced_0242ac1c0002row27_col6\" class=\"data row27 col6\" >71.040000</td>\n",
              "            </tr>\n",
              "            <tr>\n",
              "                        <th id=\"T_57dbb5b2_eb55_11ea_bced_0242ac1c0002level0_row28\" class=\"row_heading level0 row28\" >23</th>\n",
              "                        <td id=\"T_57dbb5b2_eb55_11ea_bced_0242ac1c0002row28_col0\" class=\"data row28 col0\" >Manipur</td>\n",
              "                        <td id=\"T_57dbb5b2_eb55_11ea_bced_0242ac1c0002row28_col1\" class=\"data row28 col1\" >5132</td>\n",
              "                        <td id=\"T_57dbb5b2_eb55_11ea_bced_0242ac1c0002row28_col2\" class=\"data row28 col2\" >22</td>\n",
              "                        <td id=\"T_57dbb5b2_eb55_11ea_bced_0242ac1c0002row28_col3\" class=\"data row28 col3\" >3455</td>\n",
              "                        <td id=\"T_57dbb5b2_eb55_11ea_bced_0242ac1c0002row28_col4\" class=\"data row28 col4\" >1655</td>\n",
              "                        <td id=\"T_57dbb5b2_eb55_11ea_bced_0242ac1c0002row28_col5\" class=\"data row28 col5\" >0.430000</td>\n",
              "                        <td id=\"T_57dbb5b2_eb55_11ea_bced_0242ac1c0002row28_col6\" class=\"data row28 col6\" >67.320000</td>\n",
              "            </tr>\n",
              "            <tr>\n",
              "                        <th id=\"T_57dbb5b2_eb55_11ea_bced_0242ac1c0002level0_row29\" class=\"row_heading level0 row29\" >15</th>\n",
              "                        <td id=\"T_57dbb5b2_eb55_11ea_bced_0242ac1c0002row29_col0\" class=\"data row29 col0\" >Himachal Pradesh</td>\n",
              "                        <td id=\"T_57dbb5b2_eb55_11ea_bced_0242ac1c0002row29_col1\" class=\"data row29 col1\" >4895</td>\n",
              "                        <td id=\"T_57dbb5b2_eb55_11ea_bced_0242ac1c0002row29_col2\" class=\"data row29 col2\" >29</td>\n",
              "                        <td id=\"T_57dbb5b2_eb55_11ea_bced_0242ac1c0002row29_col3\" class=\"data row29 col3\" >3341</td>\n",
              "                        <td id=\"T_57dbb5b2_eb55_11ea_bced_0242ac1c0002row29_col4\" class=\"data row29 col4\" >1525</td>\n",
              "                        <td id=\"T_57dbb5b2_eb55_11ea_bced_0242ac1c0002row29_col5\" class=\"data row29 col5\" >0.590000</td>\n",
              "                        <td id=\"T_57dbb5b2_eb55_11ea_bced_0242ac1c0002row29_col6\" class=\"data row29 col6\" >68.250000</td>\n",
              "            </tr>\n",
              "            <tr>\n",
              "                        <th id=\"T_57dbb5b2_eb55_11ea_bced_0242ac1c0002level0_row30\" class=\"row_heading level0 row30\" >26</th>\n",
              "                        <td id=\"T_57dbb5b2_eb55_11ea_bced_0242ac1c0002row30_col0\" class=\"data row30 col0\" >Nagaland</td>\n",
              "                        <td id=\"T_57dbb5b2_eb55_11ea_bced_0242ac1c0002row30_col1\" class=\"data row30 col1\" >3635</td>\n",
              "                        <td id=\"T_57dbb5b2_eb55_11ea_bced_0242ac1c0002row30_col2\" class=\"data row30 col2\" >9</td>\n",
              "                        <td id=\"T_57dbb5b2_eb55_11ea_bced_0242ac1c0002row30_col3\" class=\"data row30 col3\" >2166</td>\n",
              "                        <td id=\"T_57dbb5b2_eb55_11ea_bced_0242ac1c0002row30_col4\" class=\"data row30 col4\" >1460</td>\n",
              "                        <td id=\"T_57dbb5b2_eb55_11ea_bced_0242ac1c0002row30_col5\" class=\"data row30 col5\" >0.250000</td>\n",
              "                        <td id=\"T_57dbb5b2_eb55_11ea_bced_0242ac1c0002row30_col6\" class=\"data row30 col6\" >59.590000</td>\n",
              "            </tr>\n",
              "            <tr>\n",
              "                        <th id=\"T_57dbb5b2_eb55_11ea_bced_0242ac1c0002level0_row31\" class=\"row_heading level0 row31\" >2</th>\n",
              "                        <td id=\"T_57dbb5b2_eb55_11ea_bced_0242ac1c0002row31_col0\" class=\"data row31 col0\" >Arunachal Pradesh</td>\n",
              "                        <td id=\"T_57dbb5b2_eb55_11ea_bced_0242ac1c0002row31_col1\" class=\"data row31 col1\" >3223</td>\n",
              "                        <td id=\"T_57dbb5b2_eb55_11ea_bced_0242ac1c0002row31_col2\" class=\"data row31 col2\" >5</td>\n",
              "                        <td id=\"T_57dbb5b2_eb55_11ea_bced_0242ac1c0002row31_col3\" class=\"data row31 col3\" >2228</td>\n",
              "                        <td id=\"T_57dbb5b2_eb55_11ea_bced_0242ac1c0002row31_col4\" class=\"data row31 col4\" >990</td>\n",
              "                        <td id=\"T_57dbb5b2_eb55_11ea_bced_0242ac1c0002row31_col5\" class=\"data row31 col5\" >0.160000</td>\n",
              "                        <td id=\"T_57dbb5b2_eb55_11ea_bced_0242ac1c0002row31_col6\" class=\"data row31 col6\" >69.130000</td>\n",
              "            </tr>\n",
              "            <tr>\n",
              "                        <th id=\"T_57dbb5b2_eb55_11ea_bced_0242ac1c0002level0_row32\" class=\"row_heading level0 row32\" >0</th>\n",
              "                        <td id=\"T_57dbb5b2_eb55_11ea_bced_0242ac1c0002row32_col0\" class=\"data row32 col0\" >Andaman and Nicobar Islands</td>\n",
              "                        <td id=\"T_57dbb5b2_eb55_11ea_bced_0242ac1c0002row32_col1\" class=\"data row32 col1\" >2808</td>\n",
              "                        <td id=\"T_57dbb5b2_eb55_11ea_bced_0242ac1c0002row32_col2\" class=\"data row32 col2\" >32</td>\n",
              "                        <td id=\"T_57dbb5b2_eb55_11ea_bced_0242ac1c0002row32_col3\" class=\"data row32 col3\" >1853</td>\n",
              "                        <td id=\"T_57dbb5b2_eb55_11ea_bced_0242ac1c0002row32_col4\" class=\"data row32 col4\" >923</td>\n",
              "                        <td id=\"T_57dbb5b2_eb55_11ea_bced_0242ac1c0002row32_col5\" class=\"data row32 col5\" >1.140000</td>\n",
              "                        <td id=\"T_57dbb5b2_eb55_11ea_bced_0242ac1c0002row32_col6\" class=\"data row32 col6\" >65.990000</td>\n",
              "            </tr>\n",
              "            <tr>\n",
              "                        <th id=\"T_57dbb5b2_eb55_11ea_bced_0242ac1c0002level0_row33\" class=\"row_heading level0 row33\" >6</th>\n",
              "                        <td id=\"T_57dbb5b2_eb55_11ea_bced_0242ac1c0002row33_col0\" class=\"data row33 col0\" >Chandigarh</td>\n",
              "                        <td id=\"T_57dbb5b2_eb55_11ea_bced_0242ac1c0002row33_col1\" class=\"data row33 col1\" >2776</td>\n",
              "                        <td id=\"T_57dbb5b2_eb55_11ea_bced_0242ac1c0002row33_col2\" class=\"data row33 col2\" >33</td>\n",
              "                        <td id=\"T_57dbb5b2_eb55_11ea_bced_0242ac1c0002row33_col3\" class=\"data row33 col3\" >1471</td>\n",
              "                        <td id=\"T_57dbb5b2_eb55_11ea_bced_0242ac1c0002row33_col4\" class=\"data row33 col4\" >1272</td>\n",
              "                        <td id=\"T_57dbb5b2_eb55_11ea_bced_0242ac1c0002row33_col5\" class=\"data row33 col5\" >1.190000</td>\n",
              "                        <td id=\"T_57dbb5b2_eb55_11ea_bced_0242ac1c0002row33_col6\" class=\"data row33 col6\" >52.990000</td>\n",
              "            </tr>\n",
              "            <tr>\n",
              "                        <th id=\"T_57dbb5b2_eb55_11ea_bced_0242ac1c0002level0_row34\" class=\"row_heading level0 row34\" >20</th>\n",
              "                        <td id=\"T_57dbb5b2_eb55_11ea_bced_0242ac1c0002row34_col0\" class=\"data row34 col0\" >Ladakh</td>\n",
              "                        <td id=\"T_57dbb5b2_eb55_11ea_bced_0242ac1c0002row34_col1\" class=\"data row34 col1\" >2210</td>\n",
              "                        <td id=\"T_57dbb5b2_eb55_11ea_bced_0242ac1c0002row34_col2\" class=\"data row34 col2\" >21</td>\n",
              "                        <td id=\"T_57dbb5b2_eb55_11ea_bced_0242ac1c0002row34_col3\" class=\"data row34 col3\" >1469</td>\n",
              "                        <td id=\"T_57dbb5b2_eb55_11ea_bced_0242ac1c0002row34_col4\" class=\"data row34 col4\" >720</td>\n",
              "                        <td id=\"T_57dbb5b2_eb55_11ea_bced_0242ac1c0002row34_col5\" class=\"data row34 col5\" >0.950000</td>\n",
              "                        <td id=\"T_57dbb5b2_eb55_11ea_bced_0242ac1c0002row34_col6\" class=\"data row34 col6\" >66.470000</td>\n",
              "            </tr>\n",
              "            <tr>\n",
              "                        <th id=\"T_57dbb5b2_eb55_11ea_bced_0242ac1c0002level0_row35\" class=\"row_heading level0 row35\" >9</th>\n",
              "                        <td id=\"T_57dbb5b2_eb55_11ea_bced_0242ac1c0002row35_col0\" class=\"data row35 col0\" >Dadra and Nagar Haveli and Daman and Diu</td>\n",
              "                        <td id=\"T_57dbb5b2_eb55_11ea_bced_0242ac1c0002row35_col1\" class=\"data row35 col1\" >2120</td>\n",
              "                        <td id=\"T_57dbb5b2_eb55_11ea_bced_0242ac1c0002row35_col2\" class=\"data row35 col2\" >2</td>\n",
              "                        <td id=\"T_57dbb5b2_eb55_11ea_bced_0242ac1c0002row35_col3\" class=\"data row35 col3\" >1702</td>\n",
              "                        <td id=\"T_57dbb5b2_eb55_11ea_bced_0242ac1c0002row35_col4\" class=\"data row35 col4\" >416</td>\n",
              "                        <td id=\"T_57dbb5b2_eb55_11ea_bced_0242ac1c0002row35_col5\" class=\"data row35 col5\" >0.090000</td>\n",
              "                        <td id=\"T_57dbb5b2_eb55_11ea_bced_0242ac1c0002row35_col6\" class=\"data row35 col6\" >80.280000</td>\n",
              "            </tr>\n",
              "            <tr>\n",
              "                        <th id=\"T_57dbb5b2_eb55_11ea_bced_0242ac1c0002level0_row36\" class=\"row_heading level0 row36\" >24</th>\n",
              "                        <td id=\"T_57dbb5b2_eb55_11ea_bced_0242ac1c0002row36_col0\" class=\"data row36 col0\" >Meghalaya</td>\n",
              "                        <td id=\"T_57dbb5b2_eb55_11ea_bced_0242ac1c0002row36_col1\" class=\"data row36 col1\" >1811</td>\n",
              "                        <td id=\"T_57dbb5b2_eb55_11ea_bced_0242ac1c0002row36_col2\" class=\"data row36 col2\" >7</td>\n",
              "                        <td id=\"T_57dbb5b2_eb55_11ea_bced_0242ac1c0002row36_col3\" class=\"data row36 col3\" >769</td>\n",
              "                        <td id=\"T_57dbb5b2_eb55_11ea_bced_0242ac1c0002row36_col4\" class=\"data row36 col4\" >1035</td>\n",
              "                        <td id=\"T_57dbb5b2_eb55_11ea_bced_0242ac1c0002row36_col5\" class=\"data row36 col5\" >0.390000</td>\n",
              "                        <td id=\"T_57dbb5b2_eb55_11ea_bced_0242ac1c0002row36_col6\" class=\"data row36 col6\" >42.460000</td>\n",
              "            </tr>\n",
              "            <tr>\n",
              "                        <th id=\"T_57dbb5b2_eb55_11ea_bced_0242ac1c0002level0_row37\" class=\"row_heading level0 row37\" >31</th>\n",
              "                        <td id=\"T_57dbb5b2_eb55_11ea_bced_0242ac1c0002row37_col0\" class=\"data row37 col0\" >Sikkim</td>\n",
              "                        <td id=\"T_57dbb5b2_eb55_11ea_bced_0242ac1c0002row37_col1\" class=\"data row37 col1\" >1381</td>\n",
              "                        <td id=\"T_57dbb5b2_eb55_11ea_bced_0242ac1c0002row37_col2\" class=\"data row37 col2\" >3</td>\n",
              "                        <td id=\"T_57dbb5b2_eb55_11ea_bced_0242ac1c0002row37_col3\" class=\"data row37 col3\" >871</td>\n",
              "                        <td id=\"T_57dbb5b2_eb55_11ea_bced_0242ac1c0002row37_col4\" class=\"data row37 col4\" >507</td>\n",
              "                        <td id=\"T_57dbb5b2_eb55_11ea_bced_0242ac1c0002row37_col5\" class=\"data row37 col5\" >0.220000</td>\n",
              "                        <td id=\"T_57dbb5b2_eb55_11ea_bced_0242ac1c0002row37_col6\" class=\"data row37 col6\" >63.070000</td>\n",
              "            </tr>\n",
              "            <tr>\n",
              "                        <th id=\"T_57dbb5b2_eb55_11ea_bced_0242ac1c0002level0_row38\" class=\"row_heading level0 row38\" >25</th>\n",
              "                        <td id=\"T_57dbb5b2_eb55_11ea_bced_0242ac1c0002row38_col0\" class=\"data row38 col0\" >Mizoram</td>\n",
              "                        <td id=\"T_57dbb5b2_eb55_11ea_bced_0242ac1c0002row38_col1\" class=\"data row38 col1\" >917</td>\n",
              "                        <td id=\"T_57dbb5b2_eb55_11ea_bced_0242ac1c0002row38_col2\" class=\"data row38 col2\" >0</td>\n",
              "                        <td id=\"T_57dbb5b2_eb55_11ea_bced_0242ac1c0002row38_col3\" class=\"data row38 col3\" >423</td>\n",
              "                        <td id=\"T_57dbb5b2_eb55_11ea_bced_0242ac1c0002row38_col4\" class=\"data row38 col4\" >494</td>\n",
              "                        <td id=\"T_57dbb5b2_eb55_11ea_bced_0242ac1c0002row38_col5\" class=\"data row38 col5\" >0.000000</td>\n",
              "                        <td id=\"T_57dbb5b2_eb55_11ea_bced_0242ac1c0002row38_col6\" class=\"data row38 col6\" >46.130000</td>\n",
              "            </tr>\n",
              "            <tr>\n",
              "                        <th id=\"T_57dbb5b2_eb55_11ea_bced_0242ac1c0002level0_row39\" class=\"row_heading level0 row39\" >38</th>\n",
              "                        <td id=\"T_57dbb5b2_eb55_11ea_bced_0242ac1c0002row39_col0\" class=\"data row39 col0\" >Unassigned</td>\n",
              "                        <td id=\"T_57dbb5b2_eb55_11ea_bced_0242ac1c0002row39_col1\" class=\"data row39 col1\" >77</td>\n",
              "                        <td id=\"T_57dbb5b2_eb55_11ea_bced_0242ac1c0002row39_col2\" class=\"data row39 col2\" >0</td>\n",
              "                        <td id=\"T_57dbb5b2_eb55_11ea_bced_0242ac1c0002row39_col3\" class=\"data row39 col3\" >0</td>\n",
              "                        <td id=\"T_57dbb5b2_eb55_11ea_bced_0242ac1c0002row39_col4\" class=\"data row39 col4\" >77</td>\n",
              "                        <td id=\"T_57dbb5b2_eb55_11ea_bced_0242ac1c0002row39_col5\" class=\"data row39 col5\" >0.000000</td>\n",
              "                        <td id=\"T_57dbb5b2_eb55_11ea_bced_0242ac1c0002row39_col6\" class=\"data row39 col6\" >0.000000</td>\n",
              "            </tr>\n",
              "            <tr>\n",
              "                        <th id=\"T_57dbb5b2_eb55_11ea_bced_0242ac1c0002level0_row40\" class=\"row_heading level0 row40\" >8</th>\n",
              "                        <td id=\"T_57dbb5b2_eb55_11ea_bced_0242ac1c0002row40_col0\" class=\"data row40 col0\" >Dadar Nagar Haveli</td>\n",
              "                        <td id=\"T_57dbb5b2_eb55_11ea_bced_0242ac1c0002row40_col1\" class=\"data row40 col1\" >26</td>\n",
              "                        <td id=\"T_57dbb5b2_eb55_11ea_bced_0242ac1c0002row40_col2\" class=\"data row40 col2\" >0</td>\n",
              "                        <td id=\"T_57dbb5b2_eb55_11ea_bced_0242ac1c0002row40_col3\" class=\"data row40 col3\" >2</td>\n",
              "                        <td id=\"T_57dbb5b2_eb55_11ea_bced_0242ac1c0002row40_col4\" class=\"data row40 col4\" >24</td>\n",
              "                        <td id=\"T_57dbb5b2_eb55_11ea_bced_0242ac1c0002row40_col5\" class=\"data row40 col5\" >0.000000</td>\n",
              "                        <td id=\"T_57dbb5b2_eb55_11ea_bced_0242ac1c0002row40_col6\" class=\"data row40 col6\" >7.690000</td>\n",
              "            </tr>\n",
              "            <tr>\n",
              "                        <th id=\"T_57dbb5b2_eb55_11ea_bced_0242ac1c0002level0_row41\" class=\"row_heading level0 row41\" >10</th>\n",
              "                        <td id=\"T_57dbb5b2_eb55_11ea_bced_0242ac1c0002row41_col0\" class=\"data row41 col0\" >Daman & Diu</td>\n",
              "                        <td id=\"T_57dbb5b2_eb55_11ea_bced_0242ac1c0002row41_col1\" class=\"data row41 col1\" >2</td>\n",
              "                        <td id=\"T_57dbb5b2_eb55_11ea_bced_0242ac1c0002row41_col2\" class=\"data row41 col2\" >0</td>\n",
              "                        <td id=\"T_57dbb5b2_eb55_11ea_bced_0242ac1c0002row41_col3\" class=\"data row41 col3\" >0</td>\n",
              "                        <td id=\"T_57dbb5b2_eb55_11ea_bced_0242ac1c0002row41_col4\" class=\"data row41 col4\" >2</td>\n",
              "                        <td id=\"T_57dbb5b2_eb55_11ea_bced_0242ac1c0002row41_col5\" class=\"data row41 col5\" >0.000000</td>\n",
              "                        <td id=\"T_57dbb5b2_eb55_11ea_bced_0242ac1c0002row41_col6\" class=\"data row41 col6\" >0.000000</td>\n",
              "            </tr>\n",
              "    </tbody></table>"
            ],
            "text/plain": [
              "<pandas.io.formats.style.Styler at 0x7ff666ad1c50>"
            ]
          },
          "metadata": {
            "tags": []
          },
          "execution_count": 267
        }
      ]
    },
    {
      "cell_type": "code",
      "metadata": {
        "id": "9dQ_SLjMpcki",
        "colab_type": "code",
        "colab": {
          "base_uri": "https://localhost:8080/",
          "height": 1000
        },
        "outputId": "fc47d676-3b7d-41c7-84dc-b04c680f5186"
      },
      "source": [
        "indDetails=df5.groupby(['detected_state','detected_district']).count()\n",
        "indDetails.reset_index(inplace=True)\n",
        "states_list=['Maharashtra','Gujarat','Delhi','Rajasthan','Madhya Pradesh','Tamil Nadu','Uttar Pradesh','Telangana','Andhra Pradesh',\n",
        "            'West Bengal','Karnataka','Kerala','Jammu and Kashmir','Punjab','Haryana']\n",
        "\n",
        "\n",
        "\n",
        "plt.figure(figsize=(20,60))\n",
        "for i,state in enumerate(states_list):\n",
        "    plt.subplot(8,2,i+1)\n",
        "    df5_data=indDetails[indDetails['detected_state']==state].sort_values('id',ascending=False)\n",
        "    df5_data=df5_data.head(10)\n",
        "    sns.barplot(data=df5_data,x='id',y='detected_district')\n",
        "    plt.xlabel('Number of Cases')\n",
        "    plt.ylabel('')\n",
        "    plt.title(state)\n",
        "plt.tight_layout()\n",
        "plt.show()"
      ],
      "execution_count": 268,
      "outputs": [
        {
          "output_type": "display_data",
          "data": {
            "image/png": "[encoded data removed]",
            "text/plain": [
              "<Figure size 1440x4320 with 15 Axes>"
            ]
          },
          "metadata": {
            "tags": [],
            "needs_background": "light"
          }
        }
      ]
    },
    {
      "cell_type": "code",
      "metadata": {
        "id": "FP8wGtMQqaYD",
        "colab_type": "code",
        "colab": {
          "base_uri": "https://localhost:8080/",
          "height": 297
        },
        "outputId": "590f93bd-b801-47bb-ded3-435de3f5bfeb"
      },
      "source": [
        "labels = ['Missing', 'Male', 'Female']\n",
        "sizes = []\n",
        "sizes.append(df5['gender'].isnull().sum())\n",
        "sizes.append(list(df5['gender'].value_counts())[0])\n",
        "sizes.append(list(df5['gender'].value_counts())[1])\n",
        "\n",
        "explode = (0, 0.1, 0)\n",
        "\n",
        "\n",
        "\n",
        "plt.figure()\n",
        "plt.title('Percentage of Gender',fontsize = 20)\n",
        "plt.pie(sizes, explode=explode, labels=labels, autopct='%1.1f%%',shadow=True, startangle=90)\n",
        "plt.axis('equal')\n",
        "plt.tight_layout()"
      ],
      "execution_count": 269,
      "outputs": [
        {
          "output_type": "display_data",
          "data": {
            "image/png": "[encoded data removed]",
            "text/plain": [
              "<Figure size 432x288 with 1 Axes>"
            ]
          },
          "metadata": {
            "tags": []
          }
        }
      ]
    },
    {
      "cell_type": "code",
      "metadata": {
        "id": "vp9Bke1y02q8",
        "colab_type": "code",
        "colab": {
          "base_uri": "https://localhost:8080/",
          "height": 542
        },
        "outputId": "dd185aa2-2dda-4e72-cd4f-db6b96884ae2"
      },
      "source": [
        "fig = px.histogram(df4, x=\"state\",color ='type')\n",
        "fig.update_layout(title='ICMR APPROVED LABS')\n",
        "fig.show()"
      ],
      "execution_count": 270,
      "outputs": [
        {
          "output_type": "display_data",
          "data": {
            "text/html": [
              "<html>\n",
              "<head><meta charset=\"utf-8\" /></head>\n",
              "<body>\n",
              "    <div>\n",
              "            <script src=\"https://cdnjs.cloudflare.com/ajax/libs/mathjax/2.7.5/MathJax.js?config=TeX-AMS-MML_SVG\"></script><script type=\"text/javascript\">if (window.MathJax) {MathJax.Hub.Config({SVG: {font: \"STIX-Web\"}});}</script>\n",
              "                <script type=\"text/javascript\">window.PlotlyConfig = {MathJaxConfig: 'local'};</script>\n",
              "        <script src=\"https://cdn.plot.ly/plotly-latest.min.js\"></script>    \n",
              "            <div id=\"2db5eeda-55c4-4463-a119-73a610010495\" class=\"plotly-graph-div\" style=\"height:525px; width:100%;\"></div>\n",
              "            <script type=\"text/javascript\">\n",
              "                \n",
              "                    window.PLOTLYENV=window.PLOTLYENV || {};\n",
              "                    \n",
              "                if (document.getElementById(\"2db5eeda-55c4-4463-a119-73a610010495\")) {\n",
              "                    Plotly.newPlot(\n",
              "                        '2db5eeda-55c4-4463-a119-73a610010495',\n",
              "                        [{\"alignmentgroup\": \"True\", \"bingroup\": \"x\", \"hoverlabel\": {\"namelength\": 0}, \"hovertemplate\": \"type=Government Laboratory<br>state=%{x}<br>count=%{y}\", \"legendgroup\": \"type=Government Laboratory\", \"marker\": {\"color\": \"#636efa\"}, \"name\": \"type=Government Laboratory\", \"offsetgroup\": \"type=Government Laboratory\", \"orientation\": \"v\", \"showlegend\": true, \"type\": \"histogram\", \"x\": [\"Andaman and Nicobar Islands\", \"Andhra Pradesh\", \"Andhra Pradesh\", \"Andhra Pradesh\", \"Andhra Pradesh\", \"Andhra Pradesh\", \"Andhra Pradesh\", \"Andhra Pradesh\", \"Assam\", \"Assam\", \"Assam\", \"Assam\", \"Assam\", \"Assam\", \"Bihar\", \"Bihar\", \"Bihar\", \"Bihar\", \"Bihar\", \"Bihar\", \"Chandigarh\", \"Chandigarh\", \"Chandigarh\", \"Chhattisgarh\", \"Chhattisgarh\", \"Chhattisgarh\", \"Dadra and Nagar Haveli and Daman and Diu\", \"Delhi\", \"Delhi\", \"Delhi\", \"Delhi\", \"Delhi\", \"Delhi\", \"Delhi\", \"Delhi\", \"Gujarat\", \"Gujarat\", \"Gujarat\", \"Gujarat\", \"Gujarat\", \"Gujarat\", \"Gujarat\", \"Gujarat\", \"Gujarat\", \"Gujarat\", \"Goa\", \"Haryana\", \"Haryana\", \"Haryana\", \"Haryana\", \"Haryana\", \"Himachal Pradesh\", \"Himachal Pradesh\", \"Himachal Pradesh\", \"Jammu and Kashmir\", \"Jammu and Kashmir\", \"Jammu and Kashmir\", \"Jammu and Kashmir\", \"Jharkhand\", \"Jharkhand\", \"Jharkhand\", \"Karnataka\", \"Karnataka\", \"Karnataka\", \"Karnataka\", \"Karnataka\", \"Karnataka\", \"Karnataka\", \"Karnataka\", \"Karnataka\", \"Karnataka\", \"Karnataka\", \"Karnataka\", \"Kerala\", \"Kerala\", \"Kerala\", \"Kerala\", \"Kerala\", \"Kerala\", \"Kerala\", \"Kerala\", \"Kerala\", \"Kerala\", \"Maharashtra\", \"Maharashtra\", \"Maharashtra\", \"Maharashtra\", \"Maharashtra\", \"Maharashtra\", \"Maharashtra\", \"Maharashtra\", \"Maharashtra\", \"Maharashtra\", \"Maharashtra\", \"Maharashtra\", \"Maharashtra\", \"Maharashtra\", \"Maharashtra\", \"Maharashtra\", \"Maharashtra\", \"Maharashtra\", \"Maharashtra\", \"Maharashtra\", \"Madhya Pradesh\", \"Madhya Pradesh\", \"Madhya Pradesh\", \"Madhya Pradesh\", \"Madhya Pradesh\", \"Madhya Pradesh\", \"Madhya Pradesh\", \"Madhya Pradesh\", \"Madhya Pradesh\", \"Manipur\", \"Manipur\", \"Meghalaya\", \"Mizoram\", \"Odisha\", \"Odisha\", \"Odisha\", \"Odisha\", \"Odisha\", \"Odisha\", \"Puducherry\", \"Punjab\", \"Punjab\", \"Punjab\", \"Rajasthan\", \"Rajasthan\", \"Rajasthan\", \"Rajasthan\", \"Rajasthan\", \"Rajasthan\", \"Rajasthan\", \"Rajasthan\", \"Tamil Nadu\", \"Tamil Nadu\", \"Tamil Nadu\", \"Tamil Nadu\", \"Tamil Nadu\", \"Tamil Nadu\", \"Tamil Nadu\", \"Tamil Nadu\", \"Tamil Nadu\", \"Tamil Nadu\", \"Tamil Nadu\", \"Tamil Nadu\", \"Tamil Nadu\", \"Tamil Nadu\", \"Tamil Nadu\", \"Tamil Nadu\", \"Telangana\", \"Telangana\", \"Telangana\", \"Telangana\", \"Telangana\", \"Telangana\", \"Telangana\", \"Tripura\", \"Uttar Pradesh\", \"Uttar Pradesh\", \"Uttar Pradesh\", \"Uttar Pradesh\", \"Uttar Pradesh\", \"Uttar Pradesh\", \"Uttar Pradesh\", \"Uttar Pradesh\", \"Uttar Pradesh\", \"Uttar Pradesh\", \"Uttar Pradesh\", \"Uttar Pradesh\", \"Uttar Pradesh\", \"Uttar Pradesh\", \"Uttar Pradesh\", \"Uttarakhand\", \"Uttarakhand\", \"West Bengal\", \"West Bengal\", \"West Bengal\", \"West Bengal\", \"West Bengal\", \"West Bengal\", \"West Bengal\"], \"xaxis\": \"x\", \"yaxis\": \"y\"}, {\"alignmentgroup\": \"True\", \"bingroup\": \"x\", \"hoverlabel\": {\"namelength\": 0}, \"hovertemplate\": \"type=Collection Site<br>state=%{x}<br>count=%{y}\", \"legendgroup\": \"type=Collection Site\", \"marker\": {\"color\": \"#EF553B\"}, \"name\": \"type=Collection Site\", \"offsetgroup\": \"type=Collection Site\", \"orientation\": \"v\", \"showlegend\": true, \"type\": \"histogram\", \"x\": [\"Arunachal Pradesh\", \"Ladakh\", \"Sikkim\"], \"xaxis\": \"x\", \"yaxis\": \"y\"}, {\"alignmentgroup\": \"True\", \"bingroup\": \"x\", \"hoverlabel\": {\"namelength\": 0}, \"hovertemplate\": \"type=Private Laboratory<br>state=%{x}<br>count=%{y}\", \"legendgroup\": \"type=Private Laboratory\", \"marker\": {\"color\": \"#00cc96\"}, \"name\": \"type=Private Laboratory\", \"offsetgroup\": \"type=Private Laboratory\", \"orientation\": \"v\", \"showlegend\": true, \"type\": \"histogram\", \"x\": [\"Delhi\", \"Delhi\", \"Delhi\", \"Delhi\", \"Delhi\", \"Delhi\", \"Delhi\", \"Delhi\", \"Delhi\", \"Delhi\", \"Gujarat\", \"Gujarat\", \"Gujarat\", \"Gujarat\", \"Haryana\", \"Haryana\", \"Haryana\", \"Haryana\", \"Haryana\", \"Haryana\", \"Karnataka\", \"Karnataka\", \"Karnataka\", \"Karnataka\", \"Karnataka\", \"Kerala\", \"Kerala\", \"Maharashtra\", \"Maharashtra\", \"Maharashtra\", \"Maharashtra\", \"Maharashtra\", \"Maharashtra\", \"Maharashtra\", \"Maharashtra\", \"Maharashtra\", \"Maharashtra\", \"Maharashtra\", \"Maharashtra\", \"Maharashtra\", \"Maharashtra\", \"Maharashtra\", \"Maharashtra\", \"Maharashtra\", \"Maharashtra\", \"Maharashtra\", \"Madhya Pradesh\", \"Odisha\", \"Punjab\", \"Punjab\", \"Rajasthan\", \"Tamil Nadu\", \"Tamil Nadu\", \"Tamil Nadu\", \"Tamil Nadu\", \"Tamil Nadu\", \"Tamil Nadu\", \"Tamil Nadu\", \"Tamil Nadu\", \"Tamil Nadu\", \"Tamil Nadu\", \"Telangana\", \"Telangana\", \"Telangana\", \"Telangana\", \"Telangana\", \"Telangana\", \"Telangana\", \"Telangana\", \"Telangana\", \"Telangana\", \"Telangana\", \"Telangana\", \"Uttar Pradesh\", \"Uttar Pradesh\", \"Uttarakhand\", \"West Bengal\", \"West Bengal\", \"West Bengal\", \"West Bengal\", \"West Bengal\", \"West Bengal\"], \"xaxis\": \"x\", \"yaxis\": \"y\"}],\n",
              "                        {\"barmode\": \"relative\", \"legend\": {\"tracegroupgap\": 0}, \"margin\": {\"t\": 60}, \"template\": {\"data\": {\"bar\": [{\"error_x\": {\"color\": \"#2a3f5f\"}, \"error_y\": {\"color\": \"#2a3f5f\"}, \"marker\": {\"line\": {\"color\": \"#E5ECF6\", \"width\": 0.5}}, \"type\": \"bar\"}], \"barpolar\": [{\"marker\": {\"line\": {\"color\": \"#E5ECF6\", \"width\": 0.5}}, \"type\": \"barpolar\"}], \"carpet\": [{\"aaxis\": {\"endlinecolor\": \"#2a3f5f\", \"gridcolor\": \"white\", \"linecolor\": \"white\", \"minorgridcolor\": \"white\", \"startlinecolor\": \"#2a3f5f\"}, \"baxis\": {\"endlinecolor\": \"#2a3f5f\", \"gridcolor\": \"white\", \"linecolor\": \"white\", \"minorgridcolor\": \"white\", \"startlinecolor\": \"#2a3f5f\"}, \"type\": \"carpet\"}], \"choropleth\": [{\"colorbar\": {\"outlinewidth\": 0, \"ticks\": \"\"}, \"type\": \"choropleth\"}], \"contour\": [{\"colorbar\": {\"outlinewidth\": 0, \"ticks\": \"\"}, \"colorscale\": [[0.0, \"#0d0887\"], [0.1111111111111111, \"#46039f\"], [0.2222222222222222, \"#7201a8\"], [0.3333333333333333, \"#9c179e\"], [0.4444444444444444, \"#bd3786\"], [0.5555555555555556, \"#d8576b\"], [0.6666666666666666, \"#ed7953\"], [0.7777777777777778, \"#fb9f3a\"], [0.8888888888888888, \"#fdca26\"], [1.0, \"#f0f921\"]], \"type\": \"contour\"}], \"contourcarpet\": [{\"colorbar\": {\"outlinewidth\": 0, \"ticks\": \"\"}, \"type\": \"contourcarpet\"}], \"heatmap\": [{\"colorbar\": {\"outlinewidth\": 0, \"ticks\": \"\"}, \"colorscale\": [[0.0, \"#0d0887\"], [0.1111111111111111, \"#46039f\"], [0.2222222222222222, \"#7201a8\"], [0.3333333333333333, \"#9c179e\"], [0.4444444444444444, \"#bd3786\"], [0.5555555555555556, \"#d8576b\"], [0.6666666666666666, \"#ed7953\"], [0.7777777777777778, \"#fb9f3a\"], [0.8888888888888888, \"#fdca26\"], [1.0, \"#f0f921\"]], \"type\": \"heatmap\"}], \"heatmapgl\": [{\"colorbar\": {\"outlinewidth\": 0, \"ticks\": \"\"}, \"colorscale\": [[0.0, \"#0d0887\"], [0.1111111111111111, \"#46039f\"], [0.2222222222222222, \"#7201a8\"], [0.3333333333333333, \"#9c179e\"], [0.4444444444444444, \"#bd3786\"], [0.5555555555555556, \"#d8576b\"], [0.6666666666666666, \"#ed7953\"], [0.7777777777777778, \"#fb9f3a\"], [0.8888888888888888, \"#fdca26\"], [1.0, \"#f0f921\"]], \"type\": \"heatmapgl\"}], \"histogram\": [{\"marker\": {\"colorbar\": {\"outlinewidth\": 0, \"ticks\": \"\"}}, \"type\": \"histogram\"}], \"histogram2d\": [{\"colorbar\": {\"outlinewidth\": 0, \"ticks\": \"\"}, \"colorscale\": [[0.0, \"#0d0887\"], [0.1111111111111111, \"#46039f\"], [0.2222222222222222, \"#7201a8\"], [0.3333333333333333, \"#9c179e\"], [0.4444444444444444, \"#bd3786\"], [0.5555555555555556, \"#d8576b\"], [0.6666666666666666, \"#ed7953\"], [0.7777777777777778, \"#fb9f3a\"], [0.8888888888888888, \"#fdca26\"], [1.0, \"#f0f921\"]], \"type\": \"histogram2d\"}], \"histogram2dcontour\": [{\"colorbar\": {\"outlinewidth\": 0, \"ticks\": \"\"}, \"colorscale\": [[0.0, \"#0d0887\"], [0.1111111111111111, \"#46039f\"], [0.2222222222222222, \"#7201a8\"], [0.3333333333333333, \"#9c179e\"], [0.4444444444444444, \"#bd3786\"], [0.5555555555555556, \"#d8576b\"], [0.6666666666666666, \"#ed7953\"], [0.7777777777777778, \"#fb9f3a\"], [0.8888888888888888, \"#fdca26\"], [1.0, \"#f0f921\"]], \"type\": \"histogram2dcontour\"}], \"mesh3d\": [{\"colorbar\": {\"outlinewidth\": 0, \"ticks\": \"\"}, \"type\": \"mesh3d\"}], \"parcoords\": [{\"line\": {\"colorbar\": {\"outlinewidth\": 0, \"ticks\": \"\"}}, \"type\": \"parcoords\"}], \"pie\": [{\"automargin\": true, \"type\": \"pie\"}], \"scatter\": [{\"marker\": {\"colorbar\": {\"outlinewidth\": 0, \"ticks\": \"\"}}, \"type\": \"scatter\"}], \"scatter3d\": [{\"line\": {\"colorbar\": {\"outlinewidth\": 0, \"ticks\": \"\"}}, \"marker\": {\"colorbar\": {\"outlinewidth\": 0, \"ticks\": \"\"}}, \"type\": \"scatter3d\"}], \"scattercarpet\": [{\"marker\": {\"colorbar\": {\"outlinewidth\": 0, \"ticks\": \"\"}}, \"type\": \"scattercarpet\"}], \"scattergeo\": [{\"marker\": {\"colorbar\": {\"outlinewidth\": 0, \"ticks\": \"\"}}, \"type\": \"scattergeo\"}], \"scattergl\": [{\"marker\": {\"colorbar\": {\"outlinewidth\": 0, \"ticks\": \"\"}}, \"type\": \"scattergl\"}], \"scattermapbox\": [{\"marker\": {\"colorbar\": {\"outlinewidth\": 0, \"ticks\": \"\"}}, \"type\": \"scattermapbox\"}], \"scatterpolar\": [{\"marker\": {\"colorbar\": {\"outlinewidth\": 0, \"ticks\": \"\"}}, \"type\": \"scatterpolar\"}], \"scatterpolargl\": [{\"marker\": {\"colorbar\": {\"outlinewidth\": 0, \"ticks\": \"\"}}, \"type\": \"scatterpolargl\"}], \"scatterternary\": [{\"marker\": {\"colorbar\": {\"outlinewidth\": 0, \"ticks\": \"\"}}, \"type\": \"scatterternary\"}], \"surface\": [{\"colorbar\": {\"outlinewidth\": 0, \"ticks\": \"\"}, \"colorscale\": [[0.0, \"#0d0887\"], [0.1111111111111111, \"#46039f\"], [0.2222222222222222, \"#7201a8\"], [0.3333333333333333, \"#9c179e\"], [0.4444444444444444, \"#bd3786\"], [0.5555555555555556, \"#d8576b\"], [0.6666666666666666, \"#ed7953\"], [0.7777777777777778, \"#fb9f3a\"], [0.8888888888888888, \"#fdca26\"], [1.0, \"#f0f921\"]], \"type\": \"surface\"}], \"table\": [{\"cells\": {\"fill\": {\"color\": \"#EBF0F8\"}, \"line\": {\"color\": \"white\"}}, \"header\": {\"fill\": {\"color\": \"#C8D4E3\"}, \"line\": {\"color\": \"white\"}}, \"type\": \"table\"}]}, \"layout\": {\"annotationdefaults\": {\"arrowcolor\": \"#2a3f5f\", \"arrowhead\": 0, \"arrowwidth\": 1}, \"coloraxis\": {\"colorbar\": {\"outlinewidth\": 0, \"ticks\": \"\"}}, \"colorscale\": {\"diverging\": [[0, \"#8e0152\"], [0.1, \"#c51b7d\"], [0.2, \"#de77ae\"], [0.3, \"#f1b6da\"], [0.4, \"#fde0ef\"], [0.5, \"#f7f7f7\"], [0.6, \"#e6f5d0\"], [0.7, \"#b8e186\"], [0.8, \"#7fbc41\"], [0.9, \"#4d9221\"], [1, \"#276419\"]], \"sequential\": [[0.0, \"#0d0887\"], [0.1111111111111111, \"#46039f\"], [0.2222222222222222, \"#7201a8\"], [0.3333333333333333, \"#9c179e\"], [0.4444444444444444, \"#bd3786\"], [0.5555555555555556, \"#d8576b\"], [0.6666666666666666, \"#ed7953\"], [0.7777777777777778, \"#fb9f3a\"], [0.8888888888888888, \"#fdca26\"], [1.0, \"#f0f921\"]], \"sequentialminus\": [[0.0, \"#0d0887\"], [0.1111111111111111, \"#46039f\"], [0.2222222222222222, \"#7201a8\"], [0.3333333333333333, \"#9c179e\"], [0.4444444444444444, \"#bd3786\"], [0.5555555555555556, \"#d8576b\"], [0.6666666666666666, \"#ed7953\"], [0.7777777777777778, \"#fb9f3a\"], [0.8888888888888888, \"#fdca26\"], [1.0, \"#f0f921\"]]}, \"colorway\": [\"#636efa\", \"#EF553B\", \"#00cc96\", \"#ab63fa\", \"#FFA15A\", \"#19d3f3\", \"#FF6692\", \"#B6E880\", \"#FF97FF\", \"#FECB52\"], \"font\": {\"color\": \"#2a3f5f\"}, \"geo\": {\"bgcolor\": \"white\", \"lakecolor\": \"white\", \"landcolor\": \"#E5ECF6\", \"showlakes\": true, \"showland\": true, \"subunitcolor\": \"white\"}, \"hoverlabel\": {\"align\": \"left\"}, \"hovermode\": \"closest\", \"mapbox\": {\"style\": \"light\"}, \"paper_bgcolor\": \"white\", \"plot_bgcolor\": \"#E5ECF6\", \"polar\": {\"angularaxis\": {\"gridcolor\": \"white\", \"linecolor\": \"white\", \"ticks\": \"\"}, \"bgcolor\": \"#E5ECF6\", \"radialaxis\": {\"gridcolor\": \"white\", \"linecolor\": \"white\", \"ticks\": \"\"}}, \"scene\": {\"xaxis\": {\"backgroundcolor\": \"#E5ECF6\", \"gridcolor\": \"white\", \"gridwidth\": 2, \"linecolor\": \"white\", \"showbackground\": true, \"ticks\": \"\", \"zerolinecolor\": \"white\"}, \"yaxis\": {\"backgroundcolor\": \"#E5ECF6\", \"gridcolor\": \"white\", \"gridwidth\": 2, \"linecolor\": \"white\", \"showbackground\": true, \"ticks\": \"\", \"zerolinecolor\": \"white\"}, \"zaxis\": {\"backgroundcolor\": \"#E5ECF6\", \"gridcolor\": \"white\", \"gridwidth\": 2, \"linecolor\": \"white\", \"showbackground\": true, \"ticks\": \"\", \"zerolinecolor\": \"white\"}}, \"shapedefaults\": {\"line\": {\"color\": \"#2a3f5f\"}}, \"ternary\": {\"aaxis\": {\"gridcolor\": \"white\", \"linecolor\": \"white\", \"ticks\": \"\"}, \"baxis\": {\"gridcolor\": \"white\", \"linecolor\": \"white\", \"ticks\": \"\"}, \"bgcolor\": \"#E5ECF6\", \"caxis\": {\"gridcolor\": \"white\", \"linecolor\": \"white\", \"ticks\": \"\"}}, \"title\": {\"x\": 0.05}, \"xaxis\": {\"automargin\": true, \"gridcolor\": \"white\", \"linecolor\": \"white\", \"ticks\": \"\", \"title\": {\"standoff\": 15}, \"zerolinecolor\": \"white\", \"zerolinewidth\": 2}, \"yaxis\": {\"automargin\": true, \"gridcolor\": \"white\", \"linecolor\": \"white\", \"ticks\": \"\", \"title\": {\"standoff\": 15}, \"zerolinecolor\": \"white\", \"zerolinewidth\": 2}}}, \"title\": {\"text\": \"ICMR APPROVED LABS\"}, \"xaxis\": {\"anchor\": \"y\", \"domain\": [0.0, 1.0], \"title\": {\"text\": \"state\"}}, \"yaxis\": {\"anchor\": \"x\", \"domain\": [0.0, 1.0], \"title\": {\"text\": \"count\"}}},\n",
              "                        {\"responsive\": true}\n",
              "                    ).then(function(){\n",
              "                            \n",
              "var gd = document.getElementById('2db5eeda-55c4-4463-a119-73a610010495');\n",
              "var x = new MutationObserver(function (mutations, observer) {{\n",
              "        var display = window.getComputedStyle(gd).display;\n",
              "        if (!display || display === 'none') {{\n",
              "            console.log([gd, 'removed!']);\n",
              "            Plotly.purge(gd);\n",
              "            observer.disconnect();\n",
              "        }}\n",
              "}});\n",
              "\n",
              "// Listen for the removal of the full notebook cells\n",
              "var notebookContainer = gd.closest('#notebook-container');\n",
              "if (notebookContainer) {{\n",
              "    x.observe(notebookContainer, {childList: true});\n",
              "}}\n",
              "\n",
              "// Listen for the clearing of the current output cell\n",
              "var outputEl = gd.closest('.output');\n",
              "if (outputEl) {{\n",
              "    x.observe(outputEl, {childList: true});\n",
              "}}\n",
              "\n",
              "                        })\n",
              "                };\n",
              "                \n",
              "            </script>\n",
              "        </div>\n",
              "</body>\n",
              "</html>"
            ]
          },
          "metadata": {
            "tags": []
          }
        }
      ]
    },
    {
      "cell_type": "markdown",
      "metadata": {
        "id": "_YeAQklMGgtM",
        "colab_type": "text"
      },
      "source": [
        "Predictions"
      ]
    },
    {
      "cell_type": "code",
      "metadata": {
        "id": "0bGaW9h-V_pi",
        "colab_type": "code",
        "colab": {}
      },
      "source": [
        "from sklearn.preprocessing import LabelEncoder\n",
        "from sklearn.linear_model import LinearRegression,LogisticRegression\n",
        "from sklearn.tree import DecisionTreeRegressor\n",
        "from sklearn.model_selection import train_test_split\n",
        "from sklearn.preprocessing import PolynomialFeatures\n",
        "from sklearn.metrics import mean_squared_error, mean_absolute_error, r2_score\n",
        "from fbprophet import Prophet\n",
        "import plotly.graph_objects as go\n",
        "from fbprophet.plot import plot_plotly, add_changepoints_to_plot\n"
      ],
      "execution_count": 271,
      "outputs": []
    },
    {
      "cell_type": "code",
      "metadata": {
        "id": "jQzuxZqM4l1I",
        "colab_type": "code",
        "colab": {
          "base_uri": "https://localhost:8080/",
          "height": 419
        },
        "outputId": "498d4244-707a-4d6b-cf36-34ce8ad7a7c9"
      },
      "source": [
        "#dt = df.groupby(pd.date_range(start='2020-01-30', end='2020-04-24')).sum()\n",
        "\n",
        "start_date ='2020-01-30'\n",
        "end_date = '2020-04-14'\n",
        "mask = (df['Date']>=start_date)&(df['Date']<=end_date)\n",
        "dt = df.loc[mask]\n",
        "dt"
      ],
      "execution_count": 300,
      "outputs": [
        {
          "output_type": "execute_result",
          "data": {
            "text/html": [
              "<div>\n",
              "<style scoped>\n",
              "    .dataframe tbody tr th:only-of-type {\n",
              "        vertical-align: middle;\n",
              "    }\n",
              "\n",
              "    .dataframe tbody tr th {\n",
              "        vertical-align: top;\n",
              "    }\n",
              "\n",
              "    .dataframe thead th {\n",
              "        text-align: right;\n",
              "    }\n",
              "</style>\n",
              "<table border=\"1\" class=\"dataframe\">\n",
              "  <thead>\n",
              "    <tr style=\"text-align: right;\">\n",
              "      <th></th>\n",
              "      <th>Date</th>\n",
              "      <th>State/UnionTerritory</th>\n",
              "      <th>Cured</th>\n",
              "      <th>Deaths</th>\n",
              "      <th>Confirmed</th>\n",
              "      <th>Active Cases</th>\n",
              "    </tr>\n",
              "  </thead>\n",
              "  <tbody>\n",
              "    <tr>\n",
              "      <th>0</th>\n",
              "      <td>2020-01-30</td>\n",
              "      <td>Kerala</td>\n",
              "      <td>0</td>\n",
              "      <td>0</td>\n",
              "      <td>1</td>\n",
              "      <td>1</td>\n",
              "    </tr>\n",
              "    <tr>\n",
              "      <th>1</th>\n",
              "      <td>2020-01-31</td>\n",
              "      <td>Kerala</td>\n",
              "      <td>0</td>\n",
              "      <td>0</td>\n",
              "      <td>1</td>\n",
              "      <td>1</td>\n",
              "    </tr>\n",
              "    <tr>\n",
              "      <th>2</th>\n",
              "      <td>2020-02-01</td>\n",
              "      <td>Kerala</td>\n",
              "      <td>0</td>\n",
              "      <td>0</td>\n",
              "      <td>2</td>\n",
              "      <td>2</td>\n",
              "    </tr>\n",
              "    <tr>\n",
              "      <th>3</th>\n",
              "      <td>2020-02-02</td>\n",
              "      <td>Kerala</td>\n",
              "      <td>0</td>\n",
              "      <td>0</td>\n",
              "      <td>3</td>\n",
              "      <td>3</td>\n",
              "    </tr>\n",
              "    <tr>\n",
              "      <th>4</th>\n",
              "      <td>2020-02-03</td>\n",
              "      <td>Kerala</td>\n",
              "      <td>0</td>\n",
              "      <td>0</td>\n",
              "      <td>3</td>\n",
              "      <td>3</td>\n",
              "    </tr>\n",
              "    <tr>\n",
              "      <th>...</th>\n",
              "      <td>...</td>\n",
              "      <td>...</td>\n",
              "      <td>...</td>\n",
              "      <td>...</td>\n",
              "      <td>...</td>\n",
              "      <td>...</td>\n",
              "    </tr>\n",
              "    <tr>\n",
              "      <th>954</th>\n",
              "      <td>2020-04-14</td>\n",
              "      <td>Telengana</td>\n",
              "      <td>100</td>\n",
              "      <td>17</td>\n",
              "      <td>624</td>\n",
              "      <td>507</td>\n",
              "    </tr>\n",
              "    <tr>\n",
              "      <th>955</th>\n",
              "      <td>2020-04-14</td>\n",
              "      <td>Tripura</td>\n",
              "      <td>0</td>\n",
              "      <td>0</td>\n",
              "      <td>2</td>\n",
              "      <td>2</td>\n",
              "    </tr>\n",
              "    <tr>\n",
              "      <th>956</th>\n",
              "      <td>2020-04-14</td>\n",
              "      <td>Uttarakhand</td>\n",
              "      <td>7</td>\n",
              "      <td>0</td>\n",
              "      <td>35</td>\n",
              "      <td>28</td>\n",
              "    </tr>\n",
              "    <tr>\n",
              "      <th>957</th>\n",
              "      <td>2020-04-14</td>\n",
              "      <td>Uttar Pradesh</td>\n",
              "      <td>49</td>\n",
              "      <td>5</td>\n",
              "      <td>657</td>\n",
              "      <td>603</td>\n",
              "    </tr>\n",
              "    <tr>\n",
              "      <th>958</th>\n",
              "      <td>2020-04-14</td>\n",
              "      <td>West Bengal</td>\n",
              "      <td>36</td>\n",
              "      <td>7</td>\n",
              "      <td>190</td>\n",
              "      <td>147</td>\n",
              "    </tr>\n",
              "  </tbody>\n",
              "</table>\n",
              "<p>959 rows × 6 columns</p>\n",
              "</div>"
            ],
            "text/plain": [
              "          Date State/UnionTerritory  Cured  Deaths  Confirmed  Active Cases\n",
              "0   2020-01-30               Kerala      0       0          1             1\n",
              "1   2020-01-31               Kerala      0       0          1             1\n",
              "2   2020-02-01               Kerala      0       0          2             2\n",
              "3   2020-02-02               Kerala      0       0          3             3\n",
              "4   2020-02-03               Kerala      0       0          3             3\n",
              "..         ...                  ...    ...     ...        ...           ...\n",
              "954 2020-04-14            Telengana    100      17        624           507\n",
              "955 2020-04-14              Tripura      0       0          2             2\n",
              "956 2020-04-14          Uttarakhand      7       0         35            28\n",
              "957 2020-04-14        Uttar Pradesh     49       5        657           603\n",
              "958 2020-04-14          West Bengal     36       7        190           147\n",
              "\n",
              "[959 rows x 6 columns]"
            ]
          },
          "metadata": {
            "tags": []
          },
          "execution_count": 300
        }
      ]
    },
    {
      "cell_type": "code",
      "metadata": {
        "id": "GwytbQ80sTCJ",
        "colab_type": "code",
        "colab": {}
      },
      "source": [
        "dff = dt.groupby('Date')['Confirmed'].sum().reset_index()\n",
        "days_since_30_1_2020 = np.array([i for i in range(len(dff))]).reshape(-1, 1)\n",
        "cc = np.array(dff['Confirmed']).reshape(-1, 1)"
      ],
      "execution_count": 301,
      "outputs": []
    },
    {
      "cell_type": "code",
      "metadata": {
        "id": "NEjCfh50uBtv",
        "colab_type": "code",
        "colab": {}
      },
      "source": [
        "days_in_future = 21\n",
        "future_forecast = np.array([i for i in range(len(dff)+days_in_future)]).reshape(-1, 1)\n",
        "adjusted_dates = future_forecast[:-21]"
      ],
      "execution_count": 302,
      "outputs": []
    },
    {
      "cell_type": "code",
      "metadata": {
        "id": "_DapLKGgvS9g",
        "colab_type": "code",
        "colab": {
          "base_uri": "https://localhost:8080/",
          "height": 1000
        },
        "outputId": "c5da6d07-5b36-4b50-91b4-3bb8d04c1b6a"
      },
      "source": [
        "future_forecast"
      ],
      "execution_count": 303,
      "outputs": [
        {
          "output_type": "execute_result",
          "data": {
            "text/plain": [
              "array([[ 0],\n",
              "       [ 1],\n",
              "       [ 2],\n",
              "       [ 3],\n",
              "       [ 4],\n",
              "       [ 5],\n",
              "       [ 6],\n",
              "       [ 7],\n",
              "       [ 8],\n",
              "       [ 9],\n",
              "       [10],\n",
              "       [11],\n",
              "       [12],\n",
              "       [13],\n",
              "       [14],\n",
              "       [15],\n",
              "       [16],\n",
              "       [17],\n",
              "       [18],\n",
              "       [19],\n",
              "       [20],\n",
              "       [21],\n",
              "       [22],\n",
              "       [23],\n",
              "       [24],\n",
              "       [25],\n",
              "       [26],\n",
              "       [27],\n",
              "       [28],\n",
              "       [29],\n",
              "       [30],\n",
              "       [31],\n",
              "       [32],\n",
              "       [33],\n",
              "       [34],\n",
              "       [35],\n",
              "       [36],\n",
              "       [37],\n",
              "       [38],\n",
              "       [39],\n",
              "       [40],\n",
              "       [41],\n",
              "       [42],\n",
              "       [43],\n",
              "       [44],\n",
              "       [45],\n",
              "       [46],\n",
              "       [47],\n",
              "       [48],\n",
              "       [49],\n",
              "       [50],\n",
              "       [51],\n",
              "       [52],\n",
              "       [53],\n",
              "       [54],\n",
              "       [55],\n",
              "       [56],\n",
              "       [57],\n",
              "       [58],\n",
              "       [59],\n",
              "       [60],\n",
              "       [61],\n",
              "       [62],\n",
              "       [63],\n",
              "       [64],\n",
              "       [65],\n",
              "       [66],\n",
              "       [67],\n",
              "       [68],\n",
              "       [69],\n",
              "       [70],\n",
              "       [71],\n",
              "       [72],\n",
              "       [73],\n",
              "       [74],\n",
              "       [75],\n",
              "       [76],\n",
              "       [77],\n",
              "       [78],\n",
              "       [79],\n",
              "       [80],\n",
              "       [81],\n",
              "       [82],\n",
              "       [83],\n",
              "       [84],\n",
              "       [85],\n",
              "       [86],\n",
              "       [87],\n",
              "       [88],\n",
              "       [89],\n",
              "       [90],\n",
              "       [91],\n",
              "       [92],\n",
              "       [93],\n",
              "       [94],\n",
              "       [95],\n",
              "       [96]])"
            ]
          },
          "metadata": {
            "tags": []
          },
          "execution_count": 303
        }
      ]
    },
    {
      "cell_type": "code",
      "metadata": {
        "id": "k_NKjm_bvT3U",
        "colab_type": "code",
        "colab": {}
      },
      "source": [
        "start = '01/30/2020'\n",
        "start_date = datetime.datetime.strptime(start, '%m/%d/%Y')\n",
        "future_forecast_dates = []\n",
        "for i in range(len(future_forecast)):\n",
        "    future_forecast_dates.append((start_date + datetime.timedelta(days=i)).strftime('%m/%d/%Y'))"
      ],
      "execution_count": 304,
      "outputs": []
    },
    {
      "cell_type": "code",
      "metadata": {
        "id": "RiA8Ss8YvzsL",
        "colab_type": "code",
        "colab": {
          "base_uri": "https://localhost:8080/",
          "height": 1000
        },
        "outputId": "f524eb17-22e6-4bdf-986b-e4917240c73d"
      },
      "source": [
        "future_forecast_dates"
      ],
      "execution_count": 305,
      "outputs": [
        {
          "output_type": "execute_result",
          "data": {
            "text/plain": [
              "['01/30/2020',\n",
              " '01/31/2020',\n",
              " '02/01/2020',\n",
              " '02/02/2020',\n",
              " '02/03/2020',\n",
              " '02/04/2020',\n",
              " '02/05/2020',\n",
              " '02/06/2020',\n",
              " '02/07/2020',\n",
              " '02/08/2020',\n",
              " '02/09/2020',\n",
              " '02/10/2020',\n",
              " '02/11/2020',\n",
              " '02/12/2020',\n",
              " '02/13/2020',\n",
              " '02/14/2020',\n",
              " '02/15/2020',\n",
              " '02/16/2020',\n",
              " '02/17/2020',\n",
              " '02/18/2020',\n",
              " '02/19/2020',\n",
              " '02/20/2020',\n",
              " '02/21/2020',\n",
              " '02/22/2020',\n",
              " '02/23/2020',\n",
              " '02/24/2020',\n",
              " '02/25/2020',\n",
              " '02/26/2020',\n",
              " '02/27/2020',\n",
              " '02/28/2020',\n",
              " '02/29/2020',\n",
              " '03/01/2020',\n",
              " '03/02/2020',\n",
              " '03/03/2020',\n",
              " '03/04/2020',\n",
              " '03/05/2020',\n",
              " '03/06/2020',\n",
              " '03/07/2020',\n",
              " '03/08/2020',\n",
              " '03/09/2020',\n",
              " '03/10/2020',\n",
              " '03/11/2020',\n",
              " '03/12/2020',\n",
              " '03/13/2020',\n",
              " '03/14/2020',\n",
              " '03/15/2020',\n",
              " '03/16/2020',\n",
              " '03/17/2020',\n",
              " '03/18/2020',\n",
              " '03/19/2020',\n",
              " '03/20/2020',\n",
              " '03/21/2020',\n",
              " '03/22/2020',\n",
              " '03/23/2020',\n",
              " '03/24/2020',\n",
              " '03/25/2020',\n",
              " '03/26/2020',\n",
              " '03/27/2020',\n",
              " '03/28/2020',\n",
              " '03/29/2020',\n",
              " '03/30/2020',\n",
              " '03/31/2020',\n",
              " '04/01/2020',\n",
              " '04/02/2020',\n",
              " '04/03/2020',\n",
              " '04/04/2020',\n",
              " '04/05/2020',\n",
              " '04/06/2020',\n",
              " '04/07/2020',\n",
              " '04/08/2020',\n",
              " '04/09/2020',\n",
              " '04/10/2020',\n",
              " '04/11/2020',\n",
              " '04/12/2020',\n",
              " '04/13/2020',\n",
              " '04/14/2020',\n",
              " '04/15/2020',\n",
              " '04/16/2020',\n",
              " '04/17/2020',\n",
              " '04/18/2020',\n",
              " '04/19/2020',\n",
              " '04/20/2020',\n",
              " '04/21/2020',\n",
              " '04/22/2020',\n",
              " '04/23/2020',\n",
              " '04/24/2020',\n",
              " '04/25/2020',\n",
              " '04/26/2020',\n",
              " '04/27/2020',\n",
              " '04/28/2020',\n",
              " '04/29/2020',\n",
              " '04/30/2020',\n",
              " '05/01/2020',\n",
              " '05/02/2020',\n",
              " '05/03/2020',\n",
              " '05/04/2020',\n",
              " '05/05/2020']"
            ]
          },
          "metadata": {
            "tags": []
          },
          "execution_count": 305
        }
      ]
    },
    {
      "cell_type": "code",
      "metadata": {
        "id": "_F7-vJOswsh5",
        "colab_type": "code",
        "colab": {}
      },
      "source": [
        "X_train_confirmed, X_test_confirmed, y_train_confirmed, y_test_confirmed = train_test_split(days_since_30_1_2020, cc, test_size=0.25, shuffle=False)\n"
      ],
      "execution_count": 306,
      "outputs": []
    },
    {
      "cell_type": "code",
      "metadata": {
        "id": "Rx9n0cQI06yT",
        "colab_type": "code",
        "colab": {
          "base_uri": "https://localhost:8080/",
          "height": 68
        },
        "outputId": "c26eed07-845d-40f8-857a-1e67ecc4cbd2"
      },
      "source": [
        "poly = PolynomialFeatures(degree=4)\n",
        "poly_X_train_confirmed = poly.fit_transform(X_train_confirmed)\n",
        "poly_X_test_confirmed = poly.fit_transform(X_test_confirmed)\n",
        "poly_future_forecast = poly.fit_transform(future_forecast)\n",
        "\n",
        "linear_model = LinearRegression(normalize=True, fit_intercept=False)\n",
        "linear_model.fit(poly_X_train_confirmed, y_train_confirmed)\n",
        "test_linear_pred = linear_model.predict(poly_X_test_confirmed)\n",
        "linear_pred = linear_model.predict(poly_future_forecast)\n",
        "print('MAE:', mean_absolute_error(test_linear_pred, y_test_confirmed))\n",
        "print('MSE:',mean_squared_error(test_linear_pred, y_test_confirmed))\n",
        "linear_model.score(poly_X_test_confirmed, y_test_confirmed)"
      ],
      "execution_count": 307,
      "outputs": [
        {
          "output_type": "stream",
          "text": [
            "MAE: 2050.3158648209806\n",
            "MSE: 7819213.262768912\n"
          ],
          "name": "stdout"
        },
        {
          "output_type": "execute_result",
          "data": {
            "text/plain": [
              "0.14710429517533297"
            ]
          },
          "metadata": {
            "tags": []
          },
          "execution_count": 307
        }
      ]
    },
    {
      "cell_type": "code",
      "metadata": {
        "id": "DavJ9yLfzGbB",
        "colab_type": "code",
        "colab": {
          "base_uri": "https://localhost:8080/",
          "height": 265
        },
        "outputId": "16ab37c6-c677-455b-86ec-a117dba7ccac"
      },
      "source": [
        "plt.plot(y_test_confirmed)\n",
        "plt.plot(test_linear_pred)\n",
        "plt.legend(['Test Data', 'Polynomial Regression Predictions'])\n",
        "plt.show()"
      ],
      "execution_count": 308,
      "outputs": [
        {
          "output_type": "display_data",
          "data": {
            "image/png": "[encoded data removed]",
            "text/plain": [
              "<Figure size 432x288 with 1 Axes>"
            ]
          },
          "metadata": {
            "tags": [],
            "needs_background": "light"
          }
        }
      ]
    },
    {
      "cell_type": "code",
      "metadata": {
        "id": "SLXNiYLJzht5",
        "colab_type": "code",
        "colab": {
          "base_uri": "https://localhost:8080/",
          "height": 700
        },
        "outputId": "464bb81a-b512-484b-a03c-37136a24fe82"
      },
      "source": [
        "linear_pred = linear_pred.reshape(1,-1)[0]\n",
        "poly_df = pd.DataFrame({'Date': future_forecast_dates[-21:], 'Predicted number of Confirmed Cases': np.round(linear_pred[-21:])})\n",
        "poly_df"
      ],
      "execution_count": 309,
      "outputs": [
        {
          "output_type": "execute_result",
          "data": {
            "text/html": [
              "<div>\n",
              "<style scoped>\n",
              "    .dataframe tbody tr th:only-of-type {\n",
              "        vertical-align: middle;\n",
              "    }\n",
              "\n",
              "    .dataframe tbody tr th {\n",
              "        vertical-align: top;\n",
              "    }\n",
              "\n",
              "    .dataframe thead th {\n",
              "        text-align: right;\n",
              "    }\n",
              "</style>\n",
              "<table border=\"1\" class=\"dataframe\">\n",
              "  <thead>\n",
              "    <tr style=\"text-align: right;\">\n",
              "      <th></th>\n",
              "      <th>Date</th>\n",
              "      <th>Predicted number of Confirmed Cases</th>\n",
              "    </tr>\n",
              "  </thead>\n",
              "  <tbody>\n",
              "    <tr>\n",
              "      <th>0</th>\n",
              "      <td>04/15/2020</td>\n",
              "      <td>4821.0</td>\n",
              "    </tr>\n",
              "    <tr>\n",
              "      <th>1</th>\n",
              "      <td>04/16/2020</td>\n",
              "      <td>5205.0</td>\n",
              "    </tr>\n",
              "    <tr>\n",
              "      <th>2</th>\n",
              "      <td>04/17/2020</td>\n",
              "      <td>5610.0</td>\n",
              "    </tr>\n",
              "    <tr>\n",
              "      <th>3</th>\n",
              "      <td>04/18/2020</td>\n",
              "      <td>6038.0</td>\n",
              "    </tr>\n",
              "    <tr>\n",
              "      <th>4</th>\n",
              "      <td>04/19/2020</td>\n",
              "      <td>6490.0</td>\n",
              "    </tr>\n",
              "    <tr>\n",
              "      <th>5</th>\n",
              "      <td>04/20/2020</td>\n",
              "      <td>6967.0</td>\n",
              "    </tr>\n",
              "    <tr>\n",
              "      <th>6</th>\n",
              "      <td>04/21/2020</td>\n",
              "      <td>7469.0</td>\n",
              "    </tr>\n",
              "    <tr>\n",
              "      <th>7</th>\n",
              "      <td>04/22/2020</td>\n",
              "      <td>7997.0</td>\n",
              "    </tr>\n",
              "    <tr>\n",
              "      <th>8</th>\n",
              "      <td>04/23/2020</td>\n",
              "      <td>8553.0</td>\n",
              "    </tr>\n",
              "    <tr>\n",
              "      <th>9</th>\n",
              "      <td>04/24/2020</td>\n",
              "      <td>9136.0</td>\n",
              "    </tr>\n",
              "    <tr>\n",
              "      <th>10</th>\n",
              "      <td>04/25/2020</td>\n",
              "      <td>9749.0</td>\n",
              "    </tr>\n",
              "    <tr>\n",
              "      <th>11</th>\n",
              "      <td>04/26/2020</td>\n",
              "      <td>10391.0</td>\n",
              "    </tr>\n",
              "    <tr>\n",
              "      <th>12</th>\n",
              "      <td>04/27/2020</td>\n",
              "      <td>11064.0</td>\n",
              "    </tr>\n",
              "    <tr>\n",
              "      <th>13</th>\n",
              "      <td>04/28/2020</td>\n",
              "      <td>11769.0</td>\n",
              "    </tr>\n",
              "    <tr>\n",
              "      <th>14</th>\n",
              "      <td>04/29/2020</td>\n",
              "      <td>12507.0</td>\n",
              "    </tr>\n",
              "    <tr>\n",
              "      <th>15</th>\n",
              "      <td>04/30/2020</td>\n",
              "      <td>13279.0</td>\n",
              "    </tr>\n",
              "    <tr>\n",
              "      <th>16</th>\n",
              "      <td>05/01/2020</td>\n",
              "      <td>14085.0</td>\n",
              "    </tr>\n",
              "    <tr>\n",
              "      <th>17</th>\n",
              "      <td>05/02/2020</td>\n",
              "      <td>14927.0</td>\n",
              "    </tr>\n",
              "    <tr>\n",
              "      <th>18</th>\n",
              "      <td>05/03/2020</td>\n",
              "      <td>15806.0</td>\n",
              "    </tr>\n",
              "    <tr>\n",
              "      <th>19</th>\n",
              "      <td>05/04/2020</td>\n",
              "      <td>16723.0</td>\n",
              "    </tr>\n",
              "    <tr>\n",
              "      <th>20</th>\n",
              "      <td>05/05/2020</td>\n",
              "      <td>17679.0</td>\n",
              "    </tr>\n",
              "  </tbody>\n",
              "</table>\n",
              "</div>"
            ],
            "text/plain": [
              "          Date  Predicted number of Confirmed Cases\n",
              "0   04/15/2020                               4821.0\n",
              "1   04/16/2020                               5205.0\n",
              "2   04/17/2020                               5610.0\n",
              "3   04/18/2020                               6038.0\n",
              "4   04/19/2020                               6490.0\n",
              "5   04/20/2020                               6967.0\n",
              "6   04/21/2020                               7469.0\n",
              "7   04/22/2020                               7997.0\n",
              "8   04/23/2020                               8553.0\n",
              "9   04/24/2020                               9136.0\n",
              "10  04/25/2020                               9749.0\n",
              "11  04/26/2020                              10391.0\n",
              "12  04/27/2020                              11064.0\n",
              "13  04/28/2020                              11769.0\n",
              "14  04/29/2020                              12507.0\n",
              "15  04/30/2020                              13279.0\n",
              "16  05/01/2020                              14085.0\n",
              "17  05/02/2020                              14927.0\n",
              "18  05/03/2020                              15806.0\n",
              "19  05/04/2020                              16723.0\n",
              "20  05/05/2020                              17679.0"
            ]
          },
          "metadata": {
            "tags": []
          },
          "execution_count": 309
        }
      ]
    },
    {
      "cell_type": "code",
      "metadata": {
        "id": "xz-LkdZtz8y0",
        "colab_type": "code",
        "colab": {}
      },
      "source": [
        "# svm_confirmed = svm_search.best_estimator_\n",
        "from sklearn.svm import SVR\n",
        "svm_confirmed = SVR(shrinking=True, kernel='poly',gamma=0.01, epsilon=1,degree=5, C=0.1)\n",
        "svm_confirmed.fit(X_train_confirmed, y_train_confirmed)\n",
        "svm_pred = svm_confirmed.predict(future_forecast)"
      ],
      "execution_count": 310,
      "outputs": []
    },
    {
      "cell_type": "code",
      "metadata": {
        "id": "wsKw0zAbf5xj",
        "colab_type": "code",
        "colab": {
          "base_uri": "https://localhost:8080/",
          "height": 299
        },
        "outputId": "22462579-a2ac-419b-95b0-f3bb30d0bc6e"
      },
      "source": [
        "svm_test_pred = svm_confirmed.predict(X_test_confirmed)\n",
        "plt.plot(y_test_confirmed)\n",
        "plt.plot(svm_test_pred)\n",
        "plt.legend(['Test Data', 'SVM Predictions'])\n",
        "print('MAE:', mean_absolute_error(svm_test_pred, y_test_confirmed))\n",
        "print('MSE:',mean_squared_error(svm_test_pred, y_test_confirmed))"
      ],
      "execution_count": 311,
      "outputs": [
        {
          "output_type": "stream",
          "text": [
            "MAE: 3328.0792070765447\n",
            "MSE: 18061488.568961244\n"
          ],
          "name": "stdout"
        },
        {
          "output_type": "display_data",
          "data": {
            "image/png": "[encoded data removed]",
            "text/plain": [
              "<Figure size 432x288 with 1 Axes>"
            ]
          },
          "metadata": {
            "tags": [],
            "needs_background": "light"
          }
        }
      ]
    },
    {
      "cell_type": "code",
      "metadata": {
        "id": "PuNmnQmOgQqe",
        "colab_type": "code",
        "colab": {
          "base_uri": "https://localhost:8080/",
          "height": 700
        },
        "outputId": "19b05e8b-73d8-4cdc-f358-56561dedba59"
      },
      "source": [
        "# Future predictions using SVM \n",
        "svm_df = pd.DataFrame({'Date': future_forecast_dates[-21:], 'SVM Predicted No of Confirmed Cases': np.round(svm_pred[-21:])})\n",
        "svm_df"
      ],
      "execution_count": 312,
      "outputs": [
        {
          "output_type": "execute_result",
          "data": {
            "text/html": [
              "<div>\n",
              "<style scoped>\n",
              "    .dataframe tbody tr th:only-of-type {\n",
              "        vertical-align: middle;\n",
              "    }\n",
              "\n",
              "    .dataframe tbody tr th {\n",
              "        vertical-align: top;\n",
              "    }\n",
              "\n",
              "    .dataframe thead th {\n",
              "        text-align: right;\n",
              "    }\n",
              "</style>\n",
              "<table border=\"1\" class=\"dataframe\">\n",
              "  <thead>\n",
              "    <tr style=\"text-align: right;\">\n",
              "      <th></th>\n",
              "      <th>Date</th>\n",
              "      <th>SVM Predicted No of Confirmed Cases</th>\n",
              "    </tr>\n",
              "  </thead>\n",
              "  <tbody>\n",
              "    <tr>\n",
              "      <th>0</th>\n",
              "      <td>04/15/2020</td>\n",
              "      <td>1823.0</td>\n",
              "    </tr>\n",
              "    <tr>\n",
              "      <th>1</th>\n",
              "      <td>04/16/2020</td>\n",
              "      <td>1946.0</td>\n",
              "    </tr>\n",
              "    <tr>\n",
              "      <th>2</th>\n",
              "      <td>04/17/2020</td>\n",
              "      <td>2075.0</td>\n",
              "    </tr>\n",
              "    <tr>\n",
              "      <th>3</th>\n",
              "      <td>04/18/2020</td>\n",
              "      <td>2212.0</td>\n",
              "    </tr>\n",
              "    <tr>\n",
              "      <th>4</th>\n",
              "      <td>04/19/2020</td>\n",
              "      <td>2356.0</td>\n",
              "    </tr>\n",
              "    <tr>\n",
              "      <th>5</th>\n",
              "      <td>04/20/2020</td>\n",
              "      <td>2507.0</td>\n",
              "    </tr>\n",
              "    <tr>\n",
              "      <th>6</th>\n",
              "      <td>04/21/2020</td>\n",
              "      <td>2665.0</td>\n",
              "    </tr>\n",
              "    <tr>\n",
              "      <th>7</th>\n",
              "      <td>04/22/2020</td>\n",
              "      <td>2832.0</td>\n",
              "    </tr>\n",
              "    <tr>\n",
              "      <th>8</th>\n",
              "      <td>04/23/2020</td>\n",
              "      <td>3007.0</td>\n",
              "    </tr>\n",
              "    <tr>\n",
              "      <th>9</th>\n",
              "      <td>04/24/2020</td>\n",
              "      <td>3190.0</td>\n",
              "    </tr>\n",
              "    <tr>\n",
              "      <th>10</th>\n",
              "      <td>04/25/2020</td>\n",
              "      <td>3382.0</td>\n",
              "    </tr>\n",
              "    <tr>\n",
              "      <th>11</th>\n",
              "      <td>04/26/2020</td>\n",
              "      <td>3583.0</td>\n",
              "    </tr>\n",
              "    <tr>\n",
              "      <th>12</th>\n",
              "      <td>04/27/2020</td>\n",
              "      <td>3794.0</td>\n",
              "    </tr>\n",
              "    <tr>\n",
              "      <th>13</th>\n",
              "      <td>04/28/2020</td>\n",
              "      <td>4015.0</td>\n",
              "    </tr>\n",
              "    <tr>\n",
              "      <th>14</th>\n",
              "      <td>04/29/2020</td>\n",
              "      <td>4245.0</td>\n",
              "    </tr>\n",
              "    <tr>\n",
              "      <th>15</th>\n",
              "      <td>04/30/2020</td>\n",
              "      <td>4487.0</td>\n",
              "    </tr>\n",
              "    <tr>\n",
              "      <th>16</th>\n",
              "      <td>05/01/2020</td>\n",
              "      <td>4739.0</td>\n",
              "    </tr>\n",
              "    <tr>\n",
              "      <th>17</th>\n",
              "      <td>05/02/2020</td>\n",
              "      <td>5002.0</td>\n",
              "    </tr>\n",
              "    <tr>\n",
              "      <th>18</th>\n",
              "      <td>05/03/2020</td>\n",
              "      <td>5277.0</td>\n",
              "    </tr>\n",
              "    <tr>\n",
              "      <th>19</th>\n",
              "      <td>05/04/2020</td>\n",
              "      <td>5563.0</td>\n",
              "    </tr>\n",
              "    <tr>\n",
              "      <th>20</th>\n",
              "      <td>05/05/2020</td>\n",
              "      <td>5862.0</td>\n",
              "    </tr>\n",
              "  </tbody>\n",
              "</table>\n",
              "</div>"
            ],
            "text/plain": [
              "          Date  SVM Predicted No of Confirmed Cases\n",
              "0   04/15/2020                               1823.0\n",
              "1   04/16/2020                               1946.0\n",
              "2   04/17/2020                               2075.0\n",
              "3   04/18/2020                               2212.0\n",
              "4   04/19/2020                               2356.0\n",
              "5   04/20/2020                               2507.0\n",
              "6   04/21/2020                               2665.0\n",
              "7   04/22/2020                               2832.0\n",
              "8   04/23/2020                               3007.0\n",
              "9   04/24/2020                               3190.0\n",
              "10  04/25/2020                               3382.0\n",
              "11  04/26/2020                               3583.0\n",
              "12  04/27/2020                               3794.0\n",
              "13  04/28/2020                               4015.0\n",
              "14  04/29/2020                               4245.0\n",
              "15  04/30/2020                               4487.0\n",
              "16  05/01/2020                               4739.0\n",
              "17  05/02/2020                               5002.0\n",
              "18  05/03/2020                               5277.0\n",
              "19  05/04/2020                               5563.0\n",
              "20  05/05/2020                               5862.0"
            ]
          },
          "metadata": {
            "tags": []
          },
          "execution_count": 312
        }
      ]
    },
    {
      "cell_type": "code",
      "metadata": {
        "id": "0DeSVrtSgm5q",
        "colab_type": "code",
        "colab": {}
      },
      "source": [
        "import xgboost as xgb\n",
        "from xgboost import XGBRegressor"
      ],
      "execution_count": 313,
      "outputs": []
    },
    {
      "cell_type": "code",
      "metadata": {
        "id": "h-so4le283rk",
        "colab_type": "code",
        "colab": {
          "base_uri": "https://localhost:8080/",
          "height": 34
        },
        "outputId": "6a7def72-5ebf-4383-ec48-430aa12d453f"
      },
      "source": [
        "xg_reg = xgb.XGBRegressor(learning_rate = 0.1,max_depth = 5, n_estimators = 400, objective='reg:squarederror')\n",
        "\n",
        "#x_train,x_test,y_train,y_test=train_test_split(x,y,test_size=0.3)    \n",
        "xg_reg.fit(X_train_confirmed, y_train_confirmed)\n",
        "xg_pred = xg_reg.predict(future_forecast)\n",
        "\n",
        "\n",
        "y_pred = xg_reg.predict(X_test_confirmed)\n",
        "print(r2_score(y_test_confirmed,y_pred))"
      ],
      "execution_count": 314,
      "outputs": [
        {
          "output_type": "stream",
          "text": [
            "-1.4107873095861092\n"
          ],
          "name": "stdout"
        }
      ]
    },
    {
      "cell_type": "code",
      "metadata": {
        "id": "TG9ozGt39qKv",
        "colab_type": "code",
        "colab": {
          "base_uri": "https://localhost:8080/",
          "height": 700
        },
        "outputId": "b0921762-3c0c-438e-d8c1-ac29bdc0950a"
      },
      "source": [
        "xgb = pd.DataFrame({'Date': future_forecast_dates[-21:], 'Xgb Predicted No of Confirmed Cases': np.round(xg_pred[-21:])})\n",
        "xgb"
      ],
      "execution_count": 315,
      "outputs": [
        {
          "output_type": "execute_result",
          "data": {
            "text/html": [
              "<div>\n",
              "<style scoped>\n",
              "    .dataframe tbody tr th:only-of-type {\n",
              "        vertical-align: middle;\n",
              "    }\n",
              "\n",
              "    .dataframe tbody tr th {\n",
              "        vertical-align: top;\n",
              "    }\n",
              "\n",
              "    .dataframe thead th {\n",
              "        text-align: right;\n",
              "    }\n",
              "</style>\n",
              "<table border=\"1\" class=\"dataframe\">\n",
              "  <thead>\n",
              "    <tr style=\"text-align: right;\">\n",
              "      <th></th>\n",
              "      <th>Date</th>\n",
              "      <th>Xgb Predicted No of Confirmed Cases</th>\n",
              "    </tr>\n",
              "  </thead>\n",
              "  <tbody>\n",
              "    <tr>\n",
              "      <th>0</th>\n",
              "      <td>04/15/2020</td>\n",
              "      <td>694.0</td>\n",
              "    </tr>\n",
              "    <tr>\n",
              "      <th>1</th>\n",
              "      <td>04/16/2020</td>\n",
              "      <td>694.0</td>\n",
              "    </tr>\n",
              "    <tr>\n",
              "      <th>2</th>\n",
              "      <td>04/17/2020</td>\n",
              "      <td>694.0</td>\n",
              "    </tr>\n",
              "    <tr>\n",
              "      <th>3</th>\n",
              "      <td>04/18/2020</td>\n",
              "      <td>694.0</td>\n",
              "    </tr>\n",
              "    <tr>\n",
              "      <th>4</th>\n",
              "      <td>04/19/2020</td>\n",
              "      <td>694.0</td>\n",
              "    </tr>\n",
              "    <tr>\n",
              "      <th>5</th>\n",
              "      <td>04/20/2020</td>\n",
              "      <td>694.0</td>\n",
              "    </tr>\n",
              "    <tr>\n",
              "      <th>6</th>\n",
              "      <td>04/21/2020</td>\n",
              "      <td>694.0</td>\n",
              "    </tr>\n",
              "    <tr>\n",
              "      <th>7</th>\n",
              "      <td>04/22/2020</td>\n",
              "      <td>694.0</td>\n",
              "    </tr>\n",
              "    <tr>\n",
              "      <th>8</th>\n",
              "      <td>04/23/2020</td>\n",
              "      <td>694.0</td>\n",
              "    </tr>\n",
              "    <tr>\n",
              "      <th>9</th>\n",
              "      <td>04/24/2020</td>\n",
              "      <td>694.0</td>\n",
              "    </tr>\n",
              "    <tr>\n",
              "      <th>10</th>\n",
              "      <td>04/25/2020</td>\n",
              "      <td>694.0</td>\n",
              "    </tr>\n",
              "    <tr>\n",
              "      <th>11</th>\n",
              "      <td>04/26/2020</td>\n",
              "      <td>694.0</td>\n",
              "    </tr>\n",
              "    <tr>\n",
              "      <th>12</th>\n",
              "      <td>04/27/2020</td>\n",
              "      <td>694.0</td>\n",
              "    </tr>\n",
              "    <tr>\n",
              "      <th>13</th>\n",
              "      <td>04/28/2020</td>\n",
              "      <td>694.0</td>\n",
              "    </tr>\n",
              "    <tr>\n",
              "      <th>14</th>\n",
              "      <td>04/29/2020</td>\n",
              "      <td>694.0</td>\n",
              "    </tr>\n",
              "    <tr>\n",
              "      <th>15</th>\n",
              "      <td>04/30/2020</td>\n",
              "      <td>694.0</td>\n",
              "    </tr>\n",
              "    <tr>\n",
              "      <th>16</th>\n",
              "      <td>05/01/2020</td>\n",
              "      <td>694.0</td>\n",
              "    </tr>\n",
              "    <tr>\n",
              "      <th>17</th>\n",
              "      <td>05/02/2020</td>\n",
              "      <td>694.0</td>\n",
              "    </tr>\n",
              "    <tr>\n",
              "      <th>18</th>\n",
              "      <td>05/03/2020</td>\n",
              "      <td>694.0</td>\n",
              "    </tr>\n",
              "    <tr>\n",
              "      <th>19</th>\n",
              "      <td>05/04/2020</td>\n",
              "      <td>694.0</td>\n",
              "    </tr>\n",
              "    <tr>\n",
              "      <th>20</th>\n",
              "      <td>05/05/2020</td>\n",
              "      <td>694.0</td>\n",
              "    </tr>\n",
              "  </tbody>\n",
              "</table>\n",
              "</div>"
            ],
            "text/plain": [
              "          Date  Xgb Predicted No of Confirmed Cases\n",
              "0   04/15/2020                                694.0\n",
              "1   04/16/2020                                694.0\n",
              "2   04/17/2020                                694.0\n",
              "3   04/18/2020                                694.0\n",
              "4   04/19/2020                                694.0\n",
              "5   04/20/2020                                694.0\n",
              "6   04/21/2020                                694.0\n",
              "7   04/22/2020                                694.0\n",
              "8   04/23/2020                                694.0\n",
              "9   04/24/2020                                694.0\n",
              "10  04/25/2020                                694.0\n",
              "11  04/26/2020                                694.0\n",
              "12  04/27/2020                                694.0\n",
              "13  04/28/2020                                694.0\n",
              "14  04/29/2020                                694.0\n",
              "15  04/30/2020                                694.0\n",
              "16  05/01/2020                                694.0\n",
              "17  05/02/2020                                694.0\n",
              "18  05/03/2020                                694.0\n",
              "19  05/04/2020                                694.0\n",
              "20  05/05/2020                                694.0"
            ]
          },
          "metadata": {
            "tags": []
          },
          "execution_count": 315
        }
      ]
    },
    {
      "cell_type": "code",
      "metadata": {
        "id": "EEQxGr_x_NbB",
        "colab_type": "code",
        "colab": {
          "base_uri": "https://localhost:8080/",
          "height": 700
        },
        "outputId": "aa3bdd71-4c3e-481b-d1c0-0e8a63d2d3b3"
      },
      "source": [
        "from sklearn.ensemble import RandomForestRegressor\n",
        "rf_reg=RandomForestRegressor(n_estimators=500,max_depth=15,n_jobs=2)\n",
        "rf_reg.fit(X_train_confirmed, y_train_confirmed)\n",
        "\n",
        "y_pred=rf_reg.predict(future_forecast)\n",
        "rf = pd.DataFrame({'Date': future_forecast_dates[-21:], 'RF Predicted No of Confirmed Cases': np.round(y_pred[-21:])})\n",
        "rf"
      ],
      "execution_count": 316,
      "outputs": [
        {
          "output_type": "execute_result",
          "data": {
            "text/html": [
              "<div>\n",
              "<style scoped>\n",
              "    .dataframe tbody tr th:only-of-type {\n",
              "        vertical-align: middle;\n",
              "    }\n",
              "\n",
              "    .dataframe tbody tr th {\n",
              "        vertical-align: top;\n",
              "    }\n",
              "\n",
              "    .dataframe thead th {\n",
              "        text-align: right;\n",
              "    }\n",
              "</style>\n",
              "<table border=\"1\" class=\"dataframe\">\n",
              "  <thead>\n",
              "    <tr style=\"text-align: right;\">\n",
              "      <th></th>\n",
              "      <th>Date</th>\n",
              "      <th>RF Predicted No of Confirmed Cases</th>\n",
              "    </tr>\n",
              "  </thead>\n",
              "  <tbody>\n",
              "    <tr>\n",
              "      <th>0</th>\n",
              "      <td>04/15/2020</td>\n",
              "      <td>649.0</td>\n",
              "    </tr>\n",
              "    <tr>\n",
              "      <th>1</th>\n",
              "      <td>04/16/2020</td>\n",
              "      <td>649.0</td>\n",
              "    </tr>\n",
              "    <tr>\n",
              "      <th>2</th>\n",
              "      <td>04/17/2020</td>\n",
              "      <td>649.0</td>\n",
              "    </tr>\n",
              "    <tr>\n",
              "      <th>3</th>\n",
              "      <td>04/18/2020</td>\n",
              "      <td>649.0</td>\n",
              "    </tr>\n",
              "    <tr>\n",
              "      <th>4</th>\n",
              "      <td>04/19/2020</td>\n",
              "      <td>649.0</td>\n",
              "    </tr>\n",
              "    <tr>\n",
              "      <th>5</th>\n",
              "      <td>04/20/2020</td>\n",
              "      <td>649.0</td>\n",
              "    </tr>\n",
              "    <tr>\n",
              "      <th>6</th>\n",
              "      <td>04/21/2020</td>\n",
              "      <td>649.0</td>\n",
              "    </tr>\n",
              "    <tr>\n",
              "      <th>7</th>\n",
              "      <td>04/22/2020</td>\n",
              "      <td>649.0</td>\n",
              "    </tr>\n",
              "    <tr>\n",
              "      <th>8</th>\n",
              "      <td>04/23/2020</td>\n",
              "      <td>649.0</td>\n",
              "    </tr>\n",
              "    <tr>\n",
              "      <th>9</th>\n",
              "      <td>04/24/2020</td>\n",
              "      <td>649.0</td>\n",
              "    </tr>\n",
              "    <tr>\n",
              "      <th>10</th>\n",
              "      <td>04/25/2020</td>\n",
              "      <td>649.0</td>\n",
              "    </tr>\n",
              "    <tr>\n",
              "      <th>11</th>\n",
              "      <td>04/26/2020</td>\n",
              "      <td>649.0</td>\n",
              "    </tr>\n",
              "    <tr>\n",
              "      <th>12</th>\n",
              "      <td>04/27/2020</td>\n",
              "      <td>649.0</td>\n",
              "    </tr>\n",
              "    <tr>\n",
              "      <th>13</th>\n",
              "      <td>04/28/2020</td>\n",
              "      <td>649.0</td>\n",
              "    </tr>\n",
              "    <tr>\n",
              "      <th>14</th>\n",
              "      <td>04/29/2020</td>\n",
              "      <td>649.0</td>\n",
              "    </tr>\n",
              "    <tr>\n",
              "      <th>15</th>\n",
              "      <td>04/30/2020</td>\n",
              "      <td>649.0</td>\n",
              "    </tr>\n",
              "    <tr>\n",
              "      <th>16</th>\n",
              "      <td>05/01/2020</td>\n",
              "      <td>649.0</td>\n",
              "    </tr>\n",
              "    <tr>\n",
              "      <th>17</th>\n",
              "      <td>05/02/2020</td>\n",
              "      <td>649.0</td>\n",
              "    </tr>\n",
              "    <tr>\n",
              "      <th>18</th>\n",
              "      <td>05/03/2020</td>\n",
              "      <td>649.0</td>\n",
              "    </tr>\n",
              "    <tr>\n",
              "      <th>19</th>\n",
              "      <td>05/04/2020</td>\n",
              "      <td>649.0</td>\n",
              "    </tr>\n",
              "    <tr>\n",
              "      <th>20</th>\n",
              "      <td>05/05/2020</td>\n",
              "      <td>649.0</td>\n",
              "    </tr>\n",
              "  </tbody>\n",
              "</table>\n",
              "</div>"
            ],
            "text/plain": [
              "          Date  RF Predicted No of Confirmed Cases\n",
              "0   04/15/2020                               649.0\n",
              "1   04/16/2020                               649.0\n",
              "2   04/17/2020                               649.0\n",
              "3   04/18/2020                               649.0\n",
              "4   04/19/2020                               649.0\n",
              "5   04/20/2020                               649.0\n",
              "6   04/21/2020                               649.0\n",
              "7   04/22/2020                               649.0\n",
              "8   04/23/2020                               649.0\n",
              "9   04/24/2020                               649.0\n",
              "10  04/25/2020                               649.0\n",
              "11  04/26/2020                               649.0\n",
              "12  04/27/2020                               649.0\n",
              "13  04/28/2020                               649.0\n",
              "14  04/29/2020                               649.0\n",
              "15  04/30/2020                               649.0\n",
              "16  05/01/2020                               649.0\n",
              "17  05/02/2020                               649.0\n",
              "18  05/03/2020                               649.0\n",
              "19  05/04/2020                               649.0\n",
              "20  05/05/2020                               649.0"
            ]
          },
          "metadata": {
            "tags": []
          },
          "execution_count": 316
        }
      ]
    },
    {
      "cell_type": "code",
      "metadata": {
        "id": "e9RTbobuUHr6",
        "colab_type": "code",
        "colab": {}
      },
      "source": [
        "from sklearn.tree import DecisionTreeRegressor"
      ],
      "execution_count": 317,
      "outputs": []
    },
    {
      "cell_type": "code",
      "metadata": {
        "id": "q7My80wyr8YN",
        "colab_type": "code",
        "colab": {}
      },
      "source": [
        "X_train_confirmed, X_test_confirmed, y_train_confirmed, y_test_confirmed = train_test_split(days_since_30_1_2020, cc, test_size=0.25, shuffle=False)"
      ],
      "execution_count": 318,
      "outputs": []
    },
    {
      "cell_type": "code",
      "metadata": {
        "id": "g1Vj3NgJvfgW",
        "colab_type": "code",
        "colab": {
          "base_uri": "https://localhost:8080/",
          "height": 265
        },
        "outputId": "03da466d-833e-4219-df13-8cbb81db3e73"
      },
      "source": [
        "tree=DecisionTreeRegressor()\n",
        "tree.fit(X_train_confirmed, y_train_confirmed)\n",
        "tree_pred= tree.predict(future_forecast)\n",
        "tree_test_pred = tree.predict(X_test_confirmed)\n",
        "plt.plot(y_test_confirmed)\n",
        "plt.plot(tree_test_pred)\n",
        "plt.legend(['Test Data', 'DT Predictions'])\n",
        "plt.show()"
      ],
      "execution_count": 319,
      "outputs": [
        {
          "output_type": "display_data",
          "data": {
            "image/png": "[encoded data removed]",
            "text/plain": [
              "<Figure size 432x288 with 1 Axes>"
            ]
          },
          "metadata": {
            "tags": [],
            "needs_background": "light"
          }
        }
      ]
    },
    {
      "cell_type": "code",
      "metadata": {
        "id": "eTSPsc1MwJU1",
        "colab_type": "code",
        "colab": {
          "base_uri": "https://localhost:8080/",
          "height": 34
        },
        "outputId": "31a7fda0-7128-4a0b-90a7-25ef8d226011"
      },
      "source": [
        "from sklearn.metrics import r2_score\n",
        "prediction=tree.predict(X_test_confirmed)\n",
        "r2_score(y_test_confirmed,prediction)"
      ],
      "execution_count": 320,
      "outputs": [
        {
          "output_type": "execute_result",
          "data": {
            "text/plain": [
              "-1.4107862560974551"
            ]
          },
          "metadata": {
            "tags": []
          },
          "execution_count": 320
        }
      ]
    },
    {
      "cell_type": "code",
      "metadata": {
        "id": "AoQ2j6xgnNTg",
        "colab_type": "code",
        "colab": {
          "base_uri": "https://localhost:8080/",
          "height": 576
        },
        "outputId": "7671d87f-d264-4fdb-90f3-33a2a6b7cb1f"
      },
      "source": [
        "# Prediction by Prophet Model\n",
        "\n",
        "\n",
        "dff = df.groupby('Date')['Confirmed'].sum().reset_index()\n",
        "dff.columns=['ds', 'y']\n",
        "m = Prophet(interval_width=0.95)\n",
        "m.fit(dff)\n",
        "\n",
        "future = m.make_future_dataframe(periods=14, include_history=True)\n",
        "forecast = m.predict(future)\n",
        "\n",
        "#fig1 = m.plot(forecast)\n",
        "fig = go.Figure()\n",
        "fig.add_trace(go.Scatter(x=forecast['ds'], y=forecast['yhat'], mode='lines+markers', name='Cases', marker_color='Black'))\n",
        "fig.update_layout(title=\"Forecast for 14 days\", xaxis_title=\"Date\", yaxis_title=\"Count\")\n",
        "fig.show()"
      ],
      "execution_count": 321,
      "outputs": [
        {
          "output_type": "stream",
          "text": [
            "INFO:fbprophet:Disabling yearly seasonality. Run prophet with yearly_seasonality=True to override this.\n",
            "INFO:fbprophet:Disabling daily seasonality. Run prophet with daily_seasonality=True to override this.\n"
          ],
          "name": "stderr"
        },
        {
          "output_type": "display_data",
          "data": {
            "text/html": [
              "<html>\n",
              "<head><meta charset=\"utf-8\" /></head>\n",
              "<body>\n",
              "    <div>\n",
              "            <script src=\"https://cdnjs.cloudflare.com/ajax/libs/mathjax/2.7.5/MathJax.js?config=TeX-AMS-MML_SVG\"></script><script type=\"text/javascript\">if (window.MathJax) {MathJax.Hub.Config({SVG: {font: \"STIX-Web\"}});}</script>\n",
              "                <script type=\"text/javascript\">window.PlotlyConfig = {MathJaxConfig: 'local'};</script>\n",
              "        <script src=\"https://cdn.plot.ly/plotly-latest.min.js\"></script>    \n",
              "            <div id=\"6b471c0d-d9cd-402d-b757-3e1fe20f8dde\" class=\"plotly-graph-div\" style=\"height:525px; width:100%;\"></div>\n",
              "            <script type=\"text/javascript\">\n",
              "                \n",
              "                    window.PLOTLYENV=window.PLOTLYENV || {};\n",
              "                    \n",
              "                if (document.getElementById(\"6b471c0d-d9cd-402d-b757-3e1fe20f8dde\")) {\n",
              "                    Plotly.newPlot(\n",
              "                        '6b471c0d-d9cd-402d-b757-3e1fe20f8dde',\n",
              "                        [{\"marker\": {\"color\": \"Black\"}, \"mode\": \"lines+markers\", \"name\": \"Cases\", \"type\": \"scatter\", \"x\": [\"2020-01-30T00:00:00\", \"2020-01-31T00:00:00\", \"2020-02-01T00:00:00\", \"2020-02-02T00:00:00\", \"2020-02-03T00:00:00\", \"2020-02-04T00:00:00\", \"2020-02-05T00:00:00\", \"2020-02-06T00:00:00\", \"2020-02-07T00:00:00\", \"2020-02-08T00:00:00\", \"2020-02-09T00:00:00\", \"2020-02-10T00:00:00\", \"2020-02-11T00:00:00\", \"2020-02-12T00:00:00\", \"2020-02-13T00:00:00\", \"2020-02-14T00:00:00\", \"2020-02-15T00:00:00\", \"2020-02-16T00:00:00\", \"2020-02-17T00:00:00\", \"2020-02-18T00:00:00\", \"2020-02-19T00:00:00\", \"2020-02-20T00:00:00\", \"2020-02-21T00:00:00\", \"2020-02-22T00:00:00\", \"2020-02-23T00:00:00\", \"2020-02-24T00:00:00\", \"2020-02-25T00:00:00\", \"2020-02-26T00:00:00\", \"2020-02-27T00:00:00\", \"2020-02-28T00:00:00\", \"2020-02-29T00:00:00\", \"2020-03-01T00:00:00\", \"2020-03-02T00:00:00\", \"2020-03-03T00:00:00\", \"2020-03-04T00:00:00\", \"2020-03-05T00:00:00\", \"2020-03-06T00:00:00\", \"2020-03-07T00:00:00\", \"2020-03-08T00:00:00\", \"2020-03-09T00:00:00\", \"2020-03-10T00:00:00\", \"2020-03-11T00:00:00\", \"2020-03-12T00:00:00\", \"2020-03-13T00:00:00\", \"2020-03-14T00:00:00\", \"2020-03-15T00:00:00\", \"2020-03-16T00:00:00\", \"2020-03-17T00:00:00\", \"2020-03-18T00:00:00\", \"2020-03-19T00:00:00\", \"2020-03-20T00:00:00\", \"2020-03-21T00:00:00\", \"2020-03-22T00:00:00\", \"2020-03-23T00:00:00\", \"2020-03-24T00:00:00\", \"2020-03-25T00:00:00\", \"2020-03-26T00:00:00\", \"2020-03-27T00:00:00\", \"2020-03-28T00:00:00\", \"2020-03-29T00:00:00\", \"2020-03-30T00:00:00\", \"2020-03-31T00:00:00\", \"2020-04-01T00:00:00\", \"2020-04-02T00:00:00\", \"2020-04-03T00:00:00\", \"2020-04-04T00:00:00\", \"2020-04-05T00:00:00\", \"2020-04-06T00:00:00\", \"2020-04-07T00:00:00\", \"2020-04-08T00:00:00\", \"2020-04-09T00:00:00\", \"2020-04-10T00:00:00\", \"2020-04-11T00:00:00\", \"2020-04-12T00:00:00\", \"2020-04-13T00:00:00\", \"2020-04-14T00:00:00\", \"2020-04-15T00:00:00\", \"2020-04-16T00:00:00\", \"2020-04-17T00:00:00\", \"2020-04-18T00:00:00\", \"2020-04-19T00:00:00\", \"2020-04-20T00:00:00\", \"2020-04-21T00:00:00\", \"2020-04-22T00:00:00\", \"2020-04-23T00:00:00\", \"2020-04-24T00:00:00\", \"2020-04-25T00:00:00\", \"2020-04-26T00:00:00\", \"2020-04-27T00:00:00\", \"2020-04-28T00:00:00\", \"2020-04-29T00:00:00\", \"2020-04-30T00:00:00\", \"2020-05-01T00:00:00\", \"2020-05-02T00:00:00\", \"2020-05-03T00:00:00\", \"2020-05-04T00:00:00\", \"2020-05-05T00:00:00\", \"2020-05-06T00:00:00\", \"2020-05-07T00:00:00\", \"2020-05-08T00:00:00\", \"2020-05-09T00:00:00\", \"2020-05-10T00:00:00\", \"2020-05-11T00:00:00\", \"2020-05-12T00:00:00\", \"2020-05-13T00:00:00\", \"2020-05-14T00:00:00\", \"2020-05-15T00:00:00\", \"2020-05-16T00:00:00\", \"2020-05-17T00:00:00\", \"2020-05-18T00:00:00\", \"2020-05-19T00:00:00\", \"2020-05-20T00:00:00\", \"2020-05-21T00:00:00\", \"2020-05-22T00:00:00\", \"2020-05-23T00:00:00\", \"2020-05-24T00:00:00\", \"2020-05-25T00:00:00\", \"2020-05-26T00:00:00\", \"2020-05-27T00:00:00\", \"2020-05-28T00:00:00\", \"2020-05-29T00:00:00\", \"2020-05-30T00:00:00\", \"2020-05-31T00:00:00\", \"2020-06-01T00:00:00\", \"2020-06-02T00:00:00\", \"2020-06-03T00:00:00\", \"2020-06-04T00:00:00\", \"2020-06-05T00:00:00\", \"2020-06-06T00:00:00\", \"2020-06-07T00:00:00\", \"2020-06-08T00:00:00\", \"2020-06-09T00:00:00\", \"2020-06-10T00:00:00\", \"2020-06-11T00:00:00\", \"2020-06-12T00:00:00\", \"2020-06-13T00:00:00\", \"2020-06-14T00:00:00\", \"2020-06-15T00:00:00\", \"2020-06-16T00:00:00\", \"2020-06-17T00:00:00\", \"2020-06-18T00:00:00\", \"2020-06-19T00:00:00\", \"2020-06-20T00:00:00\", \"2020-06-21T00:00:00\", \"2020-06-22T00:00:00\", \"2020-06-23T00:00:00\", \"2020-06-24T00:00:00\", \"2020-06-25T00:00:00\", \"2020-06-26T00:00:00\", \"2020-06-27T00:00:00\", \"2020-06-28T00:00:00\", \"2020-06-29T00:00:00\", \"2020-06-30T00:00:00\", \"2020-07-01T00:00:00\", \"2020-07-02T00:00:00\", \"2020-07-03T00:00:00\", \"2020-07-04T00:00:00\", \"2020-07-05T00:00:00\", \"2020-07-06T00:00:00\", \"2020-07-07T00:00:00\", \"2020-07-08T00:00:00\", \"2020-07-09T00:00:00\", \"2020-07-10T00:00:00\", \"2020-07-11T00:00:00\", \"2020-07-12T00:00:00\", \"2020-07-13T00:00:00\", \"2020-07-14T00:00:00\", \"2020-07-15T00:00:00\", \"2020-07-16T00:00:00\", \"2020-07-17T00:00:00\", \"2020-07-18T00:00:00\", \"2020-07-19T00:00:00\", \"2020-07-20T00:00:00\", \"2020-07-21T00:00:00\", \"2020-07-22T00:00:00\", \"2020-07-23T00:00:00\", \"2020-07-24T00:00:00\", \"2020-07-25T00:00:00\", \"2020-07-26T00:00:00\", \"2020-07-27T00:00:00\", \"2020-07-28T00:00:00\", \"2020-07-29T00:00:00\", \"2020-07-30T00:00:00\", \"2020-07-31T00:00:00\", \"2020-08-01T00:00:00\", \"2020-08-02T00:00:00\", \"2020-08-03T00:00:00\", \"2020-08-04T00:00:00\", \"2020-08-05T00:00:00\", \"2020-08-06T00:00:00\", \"2020-08-07T00:00:00\", \"2020-08-08T00:00:00\", \"2020-08-09T00:00:00\", \"2020-08-10T00:00:00\", \"2020-08-11T00:00:00\", \"2020-08-12T00:00:00\", \"2020-08-13T00:00:00\", \"2020-08-14T00:00:00\", \"2020-08-15T00:00:00\", \"2020-08-16T00:00:00\", \"2020-08-17T00:00:00\", \"2020-08-18T00:00:00\", \"2020-08-19T00:00:00\", \"2020-08-20T00:00:00\", \"2020-08-21T00:00:00\", \"2020-08-22T00:00:00\", \"2020-08-23T00:00:00\", \"2020-08-24T00:00:00\", \"2020-08-25T00:00:00\", \"2020-08-26T00:00:00\", \"2020-08-27T00:00:00\", \"2020-08-28T00:00:00\", \"2020-08-29T00:00:00\", \"2020-08-30T00:00:00\", \"2020-08-31T00:00:00\", \"2020-09-01T00:00:00\", \"2020-09-02T00:00:00\", \"2020-09-03T00:00:00\", \"2020-09-04T00:00:00\", \"2020-09-05T00:00:00\", \"2020-09-06T00:00:00\"], \"y\": [-3105.5382529201033, -1661.4713560027499, 11.044112256326116, 2043.7634147711067, -2645.6233106437844, -3455.0408735077863, -3634.6590801317607, -2644.1110719596754, -1200.0443218072414, 472.4709996812592, 2505.190155426729, -2184.1967167616276, -2993.614426391766, -3173.232779790337, -2182.6848893593915, -738.6181101875072, 933.8972403243037, 2966.61642508478, -1722.7704180807937, -2532.1880986860065, -2711.806423058351, -1721.2585418073106, -277.1917718032825, 1395.3235695254912, 3428.0427451232813, -1261.3441072177038, -2070.76179699558, -2250.3799875487152, -1259.8319633019687, 184.23494969043185, 1856.750434010075, 3889.4697525974925, -799.9169567617287, -1609.3345035456011, -1788.9499938463002, -798.3992693466151, 645.6703439075437, 2318.188528484652, 4350.910547329753, -338.4734617575257, -1147.8278960115645, -1327.3829740229685, -336.77183723448593, 1107.3581883087904, 2779.936785168708, 4812.719216294444, 123.39561949196786, -682.2128857044704, -858.0220346637868, 136.3350311800666, 1584.2109857607632, 3260.5355116849314, 5297.063871861278, 613.1271030111196, -190.8405032839728, -365.008753343516, 630.9892114036404, 2080.506064896251, 3758.471489721271, 5796.640748798013, 1424.0722674525844, 931.472948667257, 1068.6729861097897, 2376.039238364151, 4136.924379354121, 6126.2580916772495, 8475.795638272339, 4307.1724892906395, 4018.5185028805327, 4359.66387269882, 5870.975457322683, 7835.805930693982, 10029.084975386377, 12692.90979344978, 8634.628583564388, 8456.316536257118, 8907.803845178782, 10529.457368898386, 12604.629781369838, 14908.250765162476, 18349.212899244743, 15068.069005377694, 15666.894274091996, 16895.51889902828, 19294.309738768694, 22146.619467257344, 25590.343217269514, 29394.27080154039, 26476.092357880905, 27437.883076779406, 29029.473151914495, 31791.229441846408, 35006.50462052405, 39398.47115098793, 44150.64151572679, 42180.705852526225, 44090.739351882265, 46630.57220747919, 50340.571277873496, 55581.728511883266, 61051.33431722733, 66881.14395683406, 65988.84756850403, 68976.52034273985, 72593.99247320514, 77381.63081847406, 83968.77300071396, 90784.36375427945, 97960.15834211285, 98413.84690202521, 102747.50462447603, 107710.96170316714, 113844.58499665948, 120922.0397548907, 128227.94308444567, 135894.05024826838, 136838.05138415858, 141662.02168259976, 147115.7913372817, 155813.77056226836, 164965.26867599596, 174345.21536106622, 184085.36588038865, 187103.4103717829, 194001.42402573046, 201529.23703591572, 212521.2339192049, 223966.74969124308, 235640.71403461936, 247674.8822122495, 252986.9443619485, 262178.9756742052, 274034.0844469988, 287059.35943458136, 300538.1533109131, 314245.3957585869, 328312.8420405134, 335658.18229450076, 346883.491711058, 361461.7442831008, 377210.16306994035, 393412.1007455312, 409842.4869924486, 426633.07707363873, 436701.56112687755, 450953.02895050996, 465834.2961303758, 481885.7295250373, 498390.68180845387, 515124.082663191, 532217.6873521991, 542589.1860132589, 556840.6534041008, 571721.9201511662, 587773.3531130339, 604278.3049636543, 621011.7053855994, 638105.3096418092, 648476.8082201313, 662728.2759610031, 677609.5430581155, 693660.9763700292, 710165.9285706956, 726899.3293426809, 743992.933948931, 790808.2029650935, 841503.4411438092, 892828.4786787672, 945323.6824285263, 998272.4050670204, 1051449.57627685, 1104986.9513209483, 1151802.2203371092, 1202497.4585158275, 1253822.496050779, 1306317.699800539, 1359266.4224390425, 1412443.5936488705, 1465980.9686929667, 1512796.2377091278, 1563491.4758878516, 1614816.513422807, 1667311.7171725645, 1720260.4398110658, 1773437.6110208924, 1826974.9860649926, 1873790.2550811449, 1924485.4932598711, 1975810.5307948233, 2028305.734544583, 2081254.4571830882, 2134431.628392916, 2187969.003437012, 2234784.272453162, 2285479.510631891, 2336804.5481668464, 2389299.7519166013, 2442248.474555098, 2495425.6457649344, 2548963.0208090306, 2595778.28982518, 2646473.5280039106, 2697798.5655388674, 2750293.7692886195, 2803242.4919271152, 2856419.6631369586, 2909957.0381810493, 2956772.307197211, 3007467.545375933, 3058792.582910889, 3111287.7866606438, 3164236.5092991423, 3217413.6805089694, 3270951.0555530675, 3317766.324569228, 3368461.5627479474, 3419786.600282905, 3472281.804032657, 3525230.5266711595, 3578407.69788099, 3631945.0729250875]}],\n",
              "                        {\"template\": {\"data\": {\"bar\": [{\"error_x\": {\"color\": \"#2a3f5f\"}, \"error_y\": {\"color\": \"#2a3f5f\"}, \"marker\": {\"line\": {\"color\": \"#E5ECF6\", \"width\": 0.5}}, \"type\": \"bar\"}], \"barpolar\": [{\"marker\": {\"line\": {\"color\": \"#E5ECF6\", \"width\": 0.5}}, \"type\": \"barpolar\"}], \"carpet\": [{\"aaxis\": {\"endlinecolor\": \"#2a3f5f\", \"gridcolor\": \"white\", \"linecolor\": \"white\", \"minorgridcolor\": \"white\", \"startlinecolor\": \"#2a3f5f\"}, \"baxis\": {\"endlinecolor\": \"#2a3f5f\", \"gridcolor\": \"white\", \"linecolor\": \"white\", \"minorgridcolor\": \"white\", \"startlinecolor\": \"#2a3f5f\"}, \"type\": \"carpet\"}], \"choropleth\": [{\"colorbar\": {\"outlinewidth\": 0, \"ticks\": \"\"}, \"type\": \"choropleth\"}], \"contour\": [{\"colorbar\": {\"outlinewidth\": 0, \"ticks\": \"\"}, \"colorscale\": [[0.0, \"#0d0887\"], [0.1111111111111111, \"#46039f\"], [0.2222222222222222, \"#7201a8\"], [0.3333333333333333, \"#9c179e\"], [0.4444444444444444, \"#bd3786\"], [0.5555555555555556, \"#d8576b\"], [0.6666666666666666, \"#ed7953\"], [0.7777777777777778, \"#fb9f3a\"], [0.8888888888888888, \"#fdca26\"], [1.0, \"#f0f921\"]], \"type\": \"contour\"}], \"contourcarpet\": [{\"colorbar\": {\"outlinewidth\": 0, \"ticks\": \"\"}, \"type\": \"contourcarpet\"}], \"heatmap\": [{\"colorbar\": {\"outlinewidth\": 0, \"ticks\": \"\"}, \"colorscale\": [[0.0, \"#0d0887\"], [0.1111111111111111, \"#46039f\"], [0.2222222222222222, \"#7201a8\"], [0.3333333333333333, \"#9c179e\"], [0.4444444444444444, \"#bd3786\"], [0.5555555555555556, \"#d8576b\"], [0.6666666666666666, \"#ed7953\"], [0.7777777777777778, \"#fb9f3a\"], [0.8888888888888888, \"#fdca26\"], [1.0, \"#f0f921\"]], \"type\": \"heatmap\"}], \"heatmapgl\": [{\"colorbar\": {\"outlinewidth\": 0, \"ticks\": \"\"}, \"colorscale\": [[0.0, \"#0d0887\"], [0.1111111111111111, \"#46039f\"], [0.2222222222222222, \"#7201a8\"], [0.3333333333333333, \"#9c179e\"], [0.4444444444444444, \"#bd3786\"], [0.5555555555555556, \"#d8576b\"], [0.6666666666666666, \"#ed7953\"], [0.7777777777777778, \"#fb9f3a\"], [0.8888888888888888, \"#fdca26\"], [1.0, \"#f0f921\"]], \"type\": \"heatmapgl\"}], \"histogram\": [{\"marker\": {\"colorbar\": {\"outlinewidth\": 0, \"ticks\": \"\"}}, \"type\": \"histogram\"}], \"histogram2d\": [{\"colorbar\": {\"outlinewidth\": 0, \"ticks\": \"\"}, \"colorscale\": [[0.0, \"#0d0887\"], [0.1111111111111111, \"#46039f\"], [0.2222222222222222, \"#7201a8\"], [0.3333333333333333, \"#9c179e\"], [0.4444444444444444, \"#bd3786\"], [0.5555555555555556, \"#d8576b\"], [0.6666666666666666, \"#ed7953\"], [0.7777777777777778, \"#fb9f3a\"], [0.8888888888888888, \"#fdca26\"], [1.0, \"#f0f921\"]], \"type\": \"histogram2d\"}], \"histogram2dcontour\": [{\"colorbar\": {\"outlinewidth\": 0, \"ticks\": \"\"}, \"colorscale\": [[0.0, \"#0d0887\"], [0.1111111111111111, \"#46039f\"], [0.2222222222222222, \"#7201a8\"], [0.3333333333333333, \"#9c179e\"], [0.4444444444444444, \"#bd3786\"], [0.5555555555555556, \"#d8576b\"], [0.6666666666666666, \"#ed7953\"], [0.7777777777777778, \"#fb9f3a\"], [0.8888888888888888, \"#fdca26\"], [1.0, \"#f0f921\"]], \"type\": \"histogram2dcontour\"}], \"mesh3d\": [{\"colorbar\": {\"outlinewidth\": 0, \"ticks\": \"\"}, \"type\": \"mesh3d\"}], \"parcoords\": [{\"line\": {\"colorbar\": {\"outlinewidth\": 0, \"ticks\": \"\"}}, \"type\": \"parcoords\"}], \"pie\": [{\"automargin\": true, \"type\": \"pie\"}], \"scatter\": [{\"marker\": {\"colorbar\": {\"outlinewidth\": 0, \"ticks\": \"\"}}, \"type\": \"scatter\"}], \"scatter3d\": [{\"line\": {\"colorbar\": {\"outlinewidth\": 0, \"ticks\": \"\"}}, \"marker\": {\"colorbar\": {\"outlinewidth\": 0, \"ticks\": \"\"}}, \"type\": \"scatter3d\"}], \"scattercarpet\": [{\"marker\": {\"colorbar\": {\"outlinewidth\": 0, \"ticks\": \"\"}}, \"type\": \"scattercarpet\"}], \"scattergeo\": [{\"marker\": {\"colorbar\": {\"outlinewidth\": 0, \"ticks\": \"\"}}, \"type\": \"scattergeo\"}], \"scattergl\": [{\"marker\": {\"colorbar\": {\"outlinewidth\": 0, \"ticks\": \"\"}}, \"type\": \"scattergl\"}], \"scattermapbox\": [{\"marker\": {\"colorbar\": {\"outlinewidth\": 0, \"ticks\": \"\"}}, \"type\": \"scattermapbox\"}], \"scatterpolar\": [{\"marker\": {\"colorbar\": {\"outlinewidth\": 0, \"ticks\": \"\"}}, \"type\": \"scatterpolar\"}], \"scatterpolargl\": [{\"marker\": {\"colorbar\": {\"outlinewidth\": 0, \"ticks\": \"\"}}, \"type\": \"scatterpolargl\"}], \"scatterternary\": [{\"marker\": {\"colorbar\": {\"outlinewidth\": 0, \"ticks\": \"\"}}, \"type\": \"scatterternary\"}], \"surface\": [{\"colorbar\": {\"outlinewidth\": 0, \"ticks\": \"\"}, \"colorscale\": [[0.0, \"#0d0887\"], [0.1111111111111111, \"#46039f\"], [0.2222222222222222, \"#7201a8\"], [0.3333333333333333, \"#9c179e\"], [0.4444444444444444, \"#bd3786\"], [0.5555555555555556, \"#d8576b\"], [0.6666666666666666, \"#ed7953\"], [0.7777777777777778, \"#fb9f3a\"], [0.8888888888888888, \"#fdca26\"], [1.0, \"#f0f921\"]], \"type\": \"surface\"}], \"table\": [{\"cells\": {\"fill\": {\"color\": \"#EBF0F8\"}, \"line\": {\"color\": \"white\"}}, \"header\": {\"fill\": {\"color\": \"#C8D4E3\"}, \"line\": {\"color\": \"white\"}}, \"type\": \"table\"}]}, \"layout\": {\"annotationdefaults\": {\"arrowcolor\": \"#2a3f5f\", \"arrowhead\": 0, \"arrowwidth\": 1}, \"coloraxis\": {\"colorbar\": {\"outlinewidth\": 0, \"ticks\": \"\"}}, \"colorscale\": {\"diverging\": [[0, \"#8e0152\"], [0.1, \"#c51b7d\"], [0.2, \"#de77ae\"], [0.3, \"#f1b6da\"], [0.4, \"#fde0ef\"], [0.5, \"#f7f7f7\"], [0.6, \"#e6f5d0\"], [0.7, \"#b8e186\"], [0.8, \"#7fbc41\"], [0.9, \"#4d9221\"], [1, \"#276419\"]], \"sequential\": [[0.0, \"#0d0887\"], [0.1111111111111111, \"#46039f\"], [0.2222222222222222, \"#7201a8\"], [0.3333333333333333, \"#9c179e\"], [0.4444444444444444, \"#bd3786\"], [0.5555555555555556, \"#d8576b\"], [0.6666666666666666, \"#ed7953\"], [0.7777777777777778, \"#fb9f3a\"], [0.8888888888888888, \"#fdca26\"], [1.0, \"#f0f921\"]], \"sequentialminus\": [[0.0, \"#0d0887\"], [0.1111111111111111, \"#46039f\"], [0.2222222222222222, \"#7201a8\"], [0.3333333333333333, \"#9c179e\"], [0.4444444444444444, \"#bd3786\"], [0.5555555555555556, \"#d8576b\"], [0.6666666666666666, \"#ed7953\"], [0.7777777777777778, \"#fb9f3a\"], [0.8888888888888888, \"#fdca26\"], [1.0, \"#f0f921\"]]}, \"colorway\": [\"#636efa\", \"#EF553B\", \"#00cc96\", \"#ab63fa\", \"#FFA15A\", \"#19d3f3\", \"#FF6692\", \"#B6E880\", \"#FF97FF\", \"#FECB52\"], \"font\": {\"color\": \"#2a3f5f\"}, \"geo\": {\"bgcolor\": \"white\", \"lakecolor\": \"white\", \"landcolor\": \"#E5ECF6\", \"showlakes\": true, \"showland\": true, \"subunitcolor\": \"white\"}, \"hoverlabel\": {\"align\": \"left\"}, \"hovermode\": \"closest\", \"mapbox\": {\"style\": \"light\"}, \"paper_bgcolor\": \"white\", \"plot_bgcolor\": \"#E5ECF6\", \"polar\": {\"angularaxis\": {\"gridcolor\": \"white\", \"linecolor\": \"white\", \"ticks\": \"\"}, \"bgcolor\": \"#E5ECF6\", \"radialaxis\": {\"gridcolor\": \"white\", \"linecolor\": \"white\", \"ticks\": \"\"}}, \"scene\": {\"xaxis\": {\"backgroundcolor\": \"#E5ECF6\", \"gridcolor\": \"white\", \"gridwidth\": 2, \"linecolor\": \"white\", \"showbackground\": true, \"ticks\": \"\", \"zerolinecolor\": \"white\"}, \"yaxis\": {\"backgroundcolor\": \"#E5ECF6\", \"gridcolor\": \"white\", \"gridwidth\": 2, \"linecolor\": \"white\", \"showbackground\": true, \"ticks\": \"\", \"zerolinecolor\": \"white\"}, \"zaxis\": {\"backgroundcolor\": \"#E5ECF6\", \"gridcolor\": \"white\", \"gridwidth\": 2, \"linecolor\": \"white\", \"showbackground\": true, \"ticks\": \"\", \"zerolinecolor\": \"white\"}}, \"shapedefaults\": {\"line\": {\"color\": \"#2a3f5f\"}}, \"ternary\": {\"aaxis\": {\"gridcolor\": \"white\", \"linecolor\": \"white\", \"ticks\": \"\"}, \"baxis\": {\"gridcolor\": \"white\", \"linecolor\": \"white\", \"ticks\": \"\"}, \"bgcolor\": \"#E5ECF6\", \"caxis\": {\"gridcolor\": \"white\", \"linecolor\": \"white\", \"ticks\": \"\"}}, \"title\": {\"x\": 0.05}, \"xaxis\": {\"automargin\": true, \"gridcolor\": \"white\", \"linecolor\": \"white\", \"ticks\": \"\", \"title\": {\"standoff\": 15}, \"zerolinecolor\": \"white\", \"zerolinewidth\": 2}, \"yaxis\": {\"automargin\": true, \"gridcolor\": \"white\", \"linecolor\": \"white\", \"ticks\": \"\", \"title\": {\"standoff\": 15}, \"zerolinecolor\": \"white\", \"zerolinewidth\": 2}}}, \"title\": {\"text\": \"Forecast for 14 days\"}, \"xaxis\": {\"title\": {\"text\": \"Date\"}}, \"yaxis\": {\"title\": {\"text\": \"Count\"}}},\n",
              "                        {\"responsive\": true}\n",
              "                    ).then(function(){\n",
              "                            \n",
              "var gd = document.getElementById('6b471c0d-d9cd-402d-b757-3e1fe20f8dde');\n",
              "var x = new MutationObserver(function (mutations, observer) {{\n",
              "        var display = window.getComputedStyle(gd).display;\n",
              "        if (!display || display === 'none') {{\n",
              "            console.log([gd, 'removed!']);\n",
              "            Plotly.purge(gd);\n",
              "            observer.disconnect();\n",
              "        }}\n",
              "}});\n",
              "\n",
              "// Listen for the removal of the full notebook cells\n",
              "var notebookContainer = gd.closest('#notebook-container');\n",
              "if (notebookContainer) {{\n",
              "    x.observe(notebookContainer, {childList: true});\n",
              "}}\n",
              "\n",
              "// Listen for the clearing of the current output cell\n",
              "var outputEl = gd.closest('.output');\n",
              "if (outputEl) {{\n",
              "    x.observe(outputEl, {childList: true});\n",
              "}}\n",
              "\n",
              "                        })\n",
              "                };\n",
              "                \n",
              "            </script>\n",
              "        </div>\n",
              "</body>\n",
              "</html>"
            ]
          },
          "metadata": {
            "tags": []
          }
        }
      ]
    },
    {
      "cell_type": "code",
      "metadata": {
        "id": "ov5bhhWrc-46",
        "colab_type": "code",
        "colab": {
          "base_uri": "https://localhost:8080/",
          "height": 851
        },
        "outputId": "965fcf83-e707-4128-aa6e-a4d5fb1d1b2e"
      },
      "source": [
        "dff = dt.groupby('Date')['Confirmed'].sum().reset_index()\n",
        "dff.columns=['ds', 'y']\n",
        "m = Prophet()\n",
        "m.fit(dff)\n",
        "\n",
        "future = m.make_future_dataframe(periods=21, include_history=True)\n",
        "forecast = m.predict(future)\n",
        "fig = go.Figure()\n",
        "\n",
        "fig = plot_plotly(m, forecast)  # This returns a plotly Figure\n",
        "fig.update_layout(\n",
        "                  autosize=False,\n",
        "                  width= 750,\n",
        "                  height= 800,\n",
        "    title_text='<b>Covid-19 Total cases Forecast<b>',\n",
        "    title_x=0.5,\n",
        "    paper_bgcolor='khaki',\n",
        "    plot_bgcolor = \"khaki\",)\n",
        "fig.show()"
      ],
      "execution_count": 322,
      "outputs": [
        {
          "output_type": "stream",
          "text": [
            "INFO:fbprophet:Disabling yearly seasonality. Run prophet with yearly_seasonality=True to override this.\n",
            "INFO:fbprophet:Disabling daily seasonality. Run prophet with daily_seasonality=True to override this.\n"
          ],
          "name": "stderr"
        },
        {
          "output_type": "display_data",
          "data": {
            "text/html": [
              "<html>\n",
              "<head><meta charset=\"utf-8\" /></head>\n",
              "<body>\n",
              "    <div>\n",
              "            <script src=\"https://cdnjs.cloudflare.com/ajax/libs/mathjax/2.7.5/MathJax.js?config=TeX-AMS-MML_SVG\"></script><script type=\"text/javascript\">if (window.MathJax) {MathJax.Hub.Config({SVG: {font: \"STIX-Web\"}});}</script>\n",
              "                <script type=\"text/javascript\">window.PlotlyConfig = {MathJaxConfig: 'local'};</script>\n",
              "        <script src=\"https://cdn.plot.ly/plotly-latest.min.js\"></script>    \n",
              "            <div id=\"d9073915-0a13-47ff-8786-5b27062fe71a\" class=\"plotly-graph-div\" style=\"height:800px; width:750px;\"></div>\n",
              "            <script type=\"text/javascript\">\n",
              "                \n",
              "                    window.PLOTLYENV=window.PLOTLYENV || {};\n",
              "                    \n",
              "                if (document.getElementById(\"d9073915-0a13-47ff-8786-5b27062fe71a\")) {\n",
              "                    Plotly.newPlot(\n",
              "                        'd9073915-0a13-47ff-8786-5b27062fe71a',\n",
              "                        [{\"marker\": {\"color\": \"black\", \"size\": 4}, \"mode\": \"markers\", \"name\": \"Actual\", \"type\": \"scatter\", \"x\": [\"2020-01-30T00:00:00\", \"2020-01-31T00:00:00\", \"2020-02-01T00:00:00\", \"2020-02-02T00:00:00\", \"2020-02-03T00:00:00\", \"2020-02-04T00:00:00\", \"2020-02-05T00:00:00\", \"2020-02-06T00:00:00\", \"2020-02-07T00:00:00\", \"2020-02-08T00:00:00\", \"2020-02-09T00:00:00\", \"2020-02-10T00:00:00\", \"2020-02-11T00:00:00\", \"2020-02-12T00:00:00\", \"2020-02-13T00:00:00\", \"2020-02-14T00:00:00\", \"2020-02-15T00:00:00\", \"2020-02-16T00:00:00\", \"2020-02-17T00:00:00\", \"2020-02-18T00:00:00\", \"2020-02-19T00:00:00\", \"2020-02-20T00:00:00\", \"2020-02-21T00:00:00\", \"2020-02-22T00:00:00\", \"2020-02-23T00:00:00\", \"2020-02-24T00:00:00\", \"2020-02-25T00:00:00\", \"2020-02-26T00:00:00\", \"2020-02-27T00:00:00\", \"2020-02-28T00:00:00\", \"2020-02-29T00:00:00\", \"2020-03-01T00:00:00\", \"2020-03-02T00:00:00\", \"2020-03-03T00:00:00\", \"2020-03-04T00:00:00\", \"2020-03-05T00:00:00\", \"2020-03-06T00:00:00\", \"2020-03-07T00:00:00\", \"2020-03-08T00:00:00\", \"2020-03-09T00:00:00\", \"2020-03-10T00:00:00\", \"2020-03-11T00:00:00\", \"2020-03-12T00:00:00\", \"2020-03-13T00:00:00\", \"2020-03-14T00:00:00\", \"2020-03-15T00:00:00\", \"2020-03-16T00:00:00\", \"2020-03-17T00:00:00\", \"2020-03-18T00:00:00\", \"2020-03-19T00:00:00\", \"2020-03-20T00:00:00\", \"2020-03-21T00:00:00\", \"2020-03-22T00:00:00\", \"2020-03-23T00:00:00\", \"2020-03-24T00:00:00\", \"2020-03-25T00:00:00\", \"2020-03-26T00:00:00\", \"2020-03-27T00:00:00\", \"2020-03-28T00:00:00\", \"2020-03-29T00:00:00\", \"2020-03-30T00:00:00\", \"2020-03-31T00:00:00\", \"2020-04-01T00:00:00\", \"2020-04-02T00:00:00\", \"2020-04-03T00:00:00\", \"2020-04-04T00:00:00\", \"2020-04-05T00:00:00\", \"2020-04-06T00:00:00\", \"2020-04-07T00:00:00\", \"2020-04-08T00:00:00\", \"2020-04-09T00:00:00\", \"2020-04-10T00:00:00\", \"2020-04-11T00:00:00\", \"2020-04-12T00:00:00\", \"2020-04-13T00:00:00\", \"2020-04-14T00:00:00\"], \"y\": [1, 1, 2, 3, 3, 3, 3, 3, 3, 3, 3, 3, 3, 3, 3, 3, 3, 3, 3, 3, 3, 3, 3, 3, 3, 3, 3, 3, 3, 3, 3, 3, 5, 6, 28, 30, 31, 34, 39, 46, 58, 60, 74, 81, 84, 110, 114, 137, 151, 173, 223, 283, 360, 433, 519, 606, 694, 724, 909, 1024, 1251, 1397, 1834, 2069, 2547, 3072, 3577, 4281, 4789, 5274, 5865, 6761, 7529, 8447, 9352, 10815]}, {\"hoverinfo\": \"skip\", \"line\": {\"width\": 0}, \"mode\": \"lines\", \"type\": \"scatter\", \"x\": [\"2020-01-30T00:00:00\", \"2020-01-31T00:00:00\", \"2020-02-01T00:00:00\", \"2020-02-02T00:00:00\", \"2020-02-03T00:00:00\", \"2020-02-04T00:00:00\", \"2020-02-05T00:00:00\", \"2020-02-06T00:00:00\", \"2020-02-07T00:00:00\", \"2020-02-08T00:00:00\", \"2020-02-09T00:00:00\", \"2020-02-10T00:00:00\", \"2020-02-11T00:00:00\", \"2020-02-12T00:00:00\", \"2020-02-13T00:00:00\", \"2020-02-14T00:00:00\", \"2020-02-15T00:00:00\", \"2020-02-16T00:00:00\", \"2020-02-17T00:00:00\", \"2020-02-18T00:00:00\", \"2020-02-19T00:00:00\", \"2020-02-20T00:00:00\", \"2020-02-21T00:00:00\", \"2020-02-22T00:00:00\", \"2020-02-23T00:00:00\", \"2020-02-24T00:00:00\", \"2020-02-25T00:00:00\", \"2020-02-26T00:00:00\", \"2020-02-27T00:00:00\", \"2020-02-28T00:00:00\", \"2020-02-29T00:00:00\", \"2020-03-01T00:00:00\", \"2020-03-02T00:00:00\", \"2020-03-03T00:00:00\", \"2020-03-04T00:00:00\", \"2020-03-05T00:00:00\", \"2020-03-06T00:00:00\", \"2020-03-07T00:00:00\", \"2020-03-08T00:00:00\", \"2020-03-09T00:00:00\", \"2020-03-10T00:00:00\", \"2020-03-11T00:00:00\", \"2020-03-12T00:00:00\", \"2020-03-13T00:00:00\", \"2020-03-14T00:00:00\", \"2020-03-15T00:00:00\", \"2020-03-16T00:00:00\", \"2020-03-17T00:00:00\", \"2020-03-18T00:00:00\", \"2020-03-19T00:00:00\", \"2020-03-20T00:00:00\", \"2020-03-21T00:00:00\", \"2020-03-22T00:00:00\", \"2020-03-23T00:00:00\", \"2020-03-24T00:00:00\", \"2020-03-25T00:00:00\", \"2020-03-26T00:00:00\", \"2020-03-27T00:00:00\", \"2020-03-28T00:00:00\", \"2020-03-29T00:00:00\", \"2020-03-30T00:00:00\", \"2020-03-31T00:00:00\", \"2020-04-01T00:00:00\", \"2020-04-02T00:00:00\", \"2020-04-03T00:00:00\", \"2020-04-04T00:00:00\", \"2020-04-05T00:00:00\", \"2020-04-06T00:00:00\", \"2020-04-07T00:00:00\", \"2020-04-08T00:00:00\", \"2020-04-09T00:00:00\", \"2020-04-10T00:00:00\", \"2020-04-11T00:00:00\", \"2020-04-12T00:00:00\", \"2020-04-13T00:00:00\", \"2020-04-14T00:00:00\", \"2020-04-15T00:00:00\", \"2020-04-16T00:00:00\", \"2020-04-17T00:00:00\", \"2020-04-18T00:00:00\", \"2020-04-19T00:00:00\", \"2020-04-20T00:00:00\", \"2020-04-21T00:00:00\", \"2020-04-22T00:00:00\", \"2020-04-23T00:00:00\", \"2020-04-24T00:00:00\", \"2020-04-25T00:00:00\", \"2020-04-26T00:00:00\", \"2020-04-27T00:00:00\", \"2020-04-28T00:00:00\", \"2020-04-29T00:00:00\", \"2020-04-30T00:00:00\", \"2020-05-01T00:00:00\", \"2020-05-02T00:00:00\", \"2020-05-03T00:00:00\", \"2020-05-04T00:00:00\", \"2020-05-05T00:00:00\"], \"y\": [-510.7850497167061, -466.95710655068183, -453.902731277959, -390.2259477678051, -344.45397717615873, -313.4647545428917, -512.1143379246581, -488.8843097833378, -461.60802375729946, -455.1373350115243, -376.1752475471964, -367.6507130760777, -288.476956133954, -475.514249245732, -452.19328233322886, -447.88612387283814, -442.2509675617456, -357.3070691837783, -342.58999363570445, -270.459771456124, -458.1131574553474, -459.37040209713433, -426.43996684580776, -390.27988486196796, -349.8271104528122, -331.72168180814805, -259.73996835180634, -407.39234388012204, -474.8368127939618, -415.1373388322615, -380.37411196085645, -334.2799696023092, -290.93410658754425, -266.0945808764186, -449.59722645899774, -423.68829129806943, -413.7229020519231, -377.03104913127066, -329.6372454399041, -273.5737871063665, -192.52143828884533, -338.2457654109657, -379.98942636463084, -325.3588323107792, -280.76588846094273, -217.42068497128201, -186.93869472627674, -116.08519912585768, -262.58721533607877, -237.46956083345077, -176.58443455147568, -125.85288400184022, -73.74514525892351, 30.062168288568074, 88.13124782464195, -69.9309236996182, -31.46275985216398, -2.9273178312384545, 56.49606131578113, 114.67784272285414, 704.1603728495396, 1265.4772566036036, 1626.0582703019315, 2177.9520426265094, 2696.3343543809406, 3258.1830387213363, 3818.53723305366, 4428.069079795848, 4998.8438016182745, 5366.494710781527, 5903.211640064981, 6426.125114871018, 6997.903182240664, 7596.243075189437, 8138.592064958281, 8744.99327694074, 9093.372542153975, 9568.373742981837, 10172.258571684752, 10732.380311958485, 11285.972926262748, 11863.260306473898, 12369.257712450355, 12707.871567401624, 13199.94887845963, 13717.938149366999, 14287.721800527364, 14795.808719999837, 15297.872579580653, 15804.477520102118, 16112.4464551524, 16618.68752546899, 17088.389314319895, 17619.741900178782, 18037.15000391165, 18545.65435638563, 18957.98356682949]}, {\"fill\": \"tonexty\", \"fillcolor\": \"rgba(0, 114, 178, 0.2)\", \"line\": {\"color\": \"#0072B2\", \"width\": 2}, \"mode\": \"lines\", \"name\": \"Predicted\", \"type\": \"scatter\", \"x\": [\"2020-01-30T00:00:00\", \"2020-01-31T00:00:00\", \"2020-02-01T00:00:00\", \"2020-02-02T00:00:00\", \"2020-02-03T00:00:00\", \"2020-02-04T00:00:00\", \"2020-02-05T00:00:00\", \"2020-02-06T00:00:00\", \"2020-02-07T00:00:00\", \"2020-02-08T00:00:00\", \"2020-02-09T00:00:00\", \"2020-02-10T00:00:00\", \"2020-02-11T00:00:00\", \"2020-02-12T00:00:00\", \"2020-02-13T00:00:00\", \"2020-02-14T00:00:00\", \"2020-02-15T00:00:00\", \"2020-02-16T00:00:00\", \"2020-02-17T00:00:00\", \"2020-02-18T00:00:00\", \"2020-02-19T00:00:00\", \"2020-02-20T00:00:00\", \"2020-02-21T00:00:00\", \"2020-02-22T00:00:00\", \"2020-02-23T00:00:00\", \"2020-02-24T00:00:00\", \"2020-02-25T00:00:00\", \"2020-02-26T00:00:00\", \"2020-02-27T00:00:00\", \"2020-02-28T00:00:00\", \"2020-02-29T00:00:00\", \"2020-03-01T00:00:00\", \"2020-03-02T00:00:00\", \"2020-03-03T00:00:00\", \"2020-03-04T00:00:00\", \"2020-03-05T00:00:00\", \"2020-03-06T00:00:00\", \"2020-03-07T00:00:00\", \"2020-03-08T00:00:00\", \"2020-03-09T00:00:00\", \"2020-03-10T00:00:00\", \"2020-03-11T00:00:00\", \"2020-03-12T00:00:00\", \"2020-03-13T00:00:00\", \"2020-03-14T00:00:00\", \"2020-03-15T00:00:00\", \"2020-03-16T00:00:00\", \"2020-03-17T00:00:00\", \"2020-03-18T00:00:00\", \"2020-03-19T00:00:00\", \"2020-03-20T00:00:00\", \"2020-03-21T00:00:00\", \"2020-03-22T00:00:00\", \"2020-03-23T00:00:00\", \"2020-03-24T00:00:00\", \"2020-03-25T00:00:00\", \"2020-03-26T00:00:00\", \"2020-03-27T00:00:00\", \"2020-03-28T00:00:00\", \"2020-03-29T00:00:00\", \"2020-03-30T00:00:00\", \"2020-03-31T00:00:00\", \"2020-04-01T00:00:00\", \"2020-04-02T00:00:00\", \"2020-04-03T00:00:00\", \"2020-04-04T00:00:00\", \"2020-04-05T00:00:00\", \"2020-04-06T00:00:00\", \"2020-04-07T00:00:00\", \"2020-04-08T00:00:00\", \"2020-04-09T00:00:00\", \"2020-04-10T00:00:00\", \"2020-04-11T00:00:00\", \"2020-04-12T00:00:00\", \"2020-04-13T00:00:00\", \"2020-04-14T00:00:00\", \"2020-04-15T00:00:00\", \"2020-04-16T00:00:00\", \"2020-04-17T00:00:00\", \"2020-04-18T00:00:00\", \"2020-04-19T00:00:00\", \"2020-04-20T00:00:00\", \"2020-04-21T00:00:00\", \"2020-04-22T00:00:00\", \"2020-04-23T00:00:00\", \"2020-04-24T00:00:00\", \"2020-04-25T00:00:00\", \"2020-04-26T00:00:00\", \"2020-04-27T00:00:00\", \"2020-04-28T00:00:00\", \"2020-04-29T00:00:00\", \"2020-04-30T00:00:00\", \"2020-05-01T00:00:00\", \"2020-05-02T00:00:00\", \"2020-05-03T00:00:00\", \"2020-05-04T00:00:00\", \"2020-05-05T00:00:00\"], \"y\": [-118.24546559746803, -87.08412870417288, -48.38048529139858, -0.4041135726868106, 25.676930833532666, 80.5761508582269, -96.14800992888975, -100.91626576778567, -69.75492888654588, -31.051285486118964, 16.925086226819833, 43.0061306269724, 97.90535064570037, -78.81881014066514, -83.58706597807912, -52.42572909230899, -13.72208568722321, 34.25428602848201, 60.335330507460014, 115.23455060501331, -61.488050023493926, -66.25474570318264, -35.08670370739893, 3.623644807404265, 51.60672163333975, 77.6945307499158, 132.60051548502577, -44.102993255865954, -48.85059704760485, -17.65486669786933, 21.083170170939116, 69.09393535031732, 95.29510198432098, 150.3144442364448, -26.177575904978752, -30.713691098348555, 0.7321379012234956, 39.720273419651534, 87.98113724895308, 125.46285900404067, 191.76275637753457, 26.46453663416422, 33.122221839070406, 75.93160976066503, 126.28330420081333, 185.90772695187266, 223.66990262389012, 290.2502539142848, 137.99017196060305, 157.68599495541218, 213.31141067941064, 276.51244661445844, 348.98621086020415, 399.5700329825623, 478.9720307230766, 326.77214955259615, 346.52817332970255, 402.21378983681154, 465.44295917484914, 537.9448568238436, 1093.1590758305292, 1677.1914704558703, 2029.6004842674383, 2553.9654030271427, 3114.259914516373, 3682.096732524887, 4259.206278844089, 4814.420497851201, 5398.452892476359, 5750.8619062879225, 6275.226825047669, 6835.521336537231, 7403.35815454561, 7980.467700864899, 8535.681919871879, 9119.714314496854, 9472.123328308406, 9996.488247068117, 10556.782758557663, 11124.619576565894, 11701.729122885345, 12256.94334189245, 12840.975736517677, 13193.384750328802, 13717.749669088647, 14278.04418057809, 14845.880998586623, 15422.990544905975, 15978.204763912774, 16562.237158538162, 16914.646172349363, 17439.011091109332, 17999.305602598695, 18567.142420607095, 19144.251966926604, 19699.46618593334, 20283.498580558655]}, {\"fill\": \"tonexty\", \"fillcolor\": \"rgba(0, 114, 178, 0.2)\", \"hoverinfo\": \"skip\", \"line\": {\"width\": 0}, \"mode\": \"lines\", \"type\": \"scatter\", \"x\": [\"2020-01-30T00:00:00\", \"2020-01-31T00:00:00\", \"2020-02-01T00:00:00\", \"2020-02-02T00:00:00\", \"2020-02-03T00:00:00\", \"2020-02-04T00:00:00\", \"2020-02-05T00:00:00\", \"2020-02-06T00:00:00\", \"2020-02-07T00:00:00\", \"2020-02-08T00:00:00\", \"2020-02-09T00:00:00\", \"2020-02-10T00:00:00\", \"2020-02-11T00:00:00\", \"2020-02-12T00:00:00\", \"2020-02-13T00:00:00\", \"2020-02-14T00:00:00\", \"2020-02-15T00:00:00\", \"2020-02-16T00:00:00\", \"2020-02-17T00:00:00\", \"2020-02-18T00:00:00\", \"2020-02-19T00:00:00\", \"2020-02-20T00:00:00\", \"2020-02-21T00:00:00\", \"2020-02-22T00:00:00\", \"2020-02-23T00:00:00\", \"2020-02-24T00:00:00\", \"2020-02-25T00:00:00\", \"2020-02-26T00:00:00\", \"2020-02-27T00:00:00\", \"2020-02-28T00:00:00\", \"2020-02-29T00:00:00\", \"2020-03-01T00:00:00\", \"2020-03-02T00:00:00\", \"2020-03-03T00:00:00\", \"2020-03-04T00:00:00\", \"2020-03-05T00:00:00\", \"2020-03-06T00:00:00\", \"2020-03-07T00:00:00\", \"2020-03-08T00:00:00\", \"2020-03-09T00:00:00\", \"2020-03-10T00:00:00\", \"2020-03-11T00:00:00\", \"2020-03-12T00:00:00\", \"2020-03-13T00:00:00\", \"2020-03-14T00:00:00\", \"2020-03-15T00:00:00\", \"2020-03-16T00:00:00\", \"2020-03-17T00:00:00\", \"2020-03-18T00:00:00\", \"2020-03-19T00:00:00\", \"2020-03-20T00:00:00\", \"2020-03-21T00:00:00\", \"2020-03-22T00:00:00\", \"2020-03-23T00:00:00\", \"2020-03-24T00:00:00\", \"2020-03-25T00:00:00\", \"2020-03-26T00:00:00\", \"2020-03-27T00:00:00\", \"2020-03-28T00:00:00\", \"2020-03-29T00:00:00\", \"2020-03-30T00:00:00\", \"2020-03-31T00:00:00\", \"2020-04-01T00:00:00\", \"2020-04-02T00:00:00\", \"2020-04-03T00:00:00\", \"2020-04-04T00:00:00\", \"2020-04-05T00:00:00\", \"2020-04-06T00:00:00\", \"2020-04-07T00:00:00\", \"2020-04-08T00:00:00\", \"2020-04-09T00:00:00\", \"2020-04-10T00:00:00\", \"2020-04-11T00:00:00\", \"2020-04-12T00:00:00\", \"2020-04-13T00:00:00\", \"2020-04-14T00:00:00\", \"2020-04-15T00:00:00\", \"2020-04-16T00:00:00\", \"2020-04-17T00:00:00\", \"2020-04-18T00:00:00\", \"2020-04-19T00:00:00\", \"2020-04-20T00:00:00\", \"2020-04-21T00:00:00\", \"2020-04-22T00:00:00\", \"2020-04-23T00:00:00\", \"2020-04-24T00:00:00\", \"2020-04-25T00:00:00\", \"2020-04-26T00:00:00\", \"2020-04-27T00:00:00\", \"2020-04-28T00:00:00\", \"2020-04-29T00:00:00\", \"2020-04-30T00:00:00\", \"2020-05-01T00:00:00\", \"2020-05-02T00:00:00\", \"2020-05-03T00:00:00\", \"2020-05-04T00:00:00\", \"2020-05-05T00:00:00\"], \"y\": [295.81000107114045, 330.1833954496004, 356.1736366413865, 395.0372553093623, 432.00430026028675, 457.5621467175853, 320.42446763514107, 282.6254701855886, 330.3632690859839, 383.48407891575073, 376.7407359675044, 443.5463884299977, 497.7472010841311, 335.983903332689, 332.3508242168381, 334.65334918136074, 383.0786821767571, 434.0940783824106, 437.52326897947626, 515.2152093185116, 349.84121934585403, 335.71951019512255, 384.373869094161, 436.3248373701141, 448.12258929789147, 459.3376653954929, 535.8779950183787, 339.99845196104116, 317.15119913894785, 380.0535852412473, 404.0565919406057, 467.9836414893777, 500.58444717426977, 570.9978607247195, 351.14854126696093, 376.19787592602376, 384.0785442922514, 445.9060308126142, 494.4019982786209, 529.8571695252224, 574.862288938088, 435.74112700283547, 453.68894077030495, 472.02421304871405, 523.9527733662437, 549.486678126255, 657.7557896792854, 707.3029802139783, 518.0133715619853, 544.7878631306594, 618.0922180694182, 683.9681618681061, 753.7457682251031, 815.0728099135788, 879.2057871651066, 703.1462350017653, 756.2930120783384, 872.4067924474222, 876.7198117761876, 907.3310140715421, 1482.0696282261904, 2071.0675677517397, 2413.964809135743, 2958.8116597859557, 3525.67892697988, 4095.220917636579, 4667.654741144845, 5211.990669161374, 5805.701881028244, 6153.28068504629, 6672.741629906496, 7236.282495768903, 7822.939428825304, 8411.322692973563, 8921.782002401123, 9513.78763009498, 9847.526475322382, 10364.116336033258, 10970.522966933206, 11567.5234336945, 12107.411429817494, 12704.694400565475, 13337.519748482357, 13644.32273861936, 14230.69915243577, 14834.830646351838, 15389.960871892386, 16038.70467881343, 16607.701509720544, 17268.177625807777, 17703.123065947606, 18328.29838020492, 18958.447394755953, 19548.42329361637, 20231.574256366825, 20851.875433903864, 21478.01450705835]}],\n",
              "                        {\"autosize\": false, \"height\": 800, \"paper_bgcolor\": \"khaki\", \"plot_bgcolor\": \"khaki\", \"showlegend\": false, \"template\": {\"data\": {\"bar\": [{\"error_x\": {\"color\": \"#2a3f5f\"}, \"error_y\": {\"color\": \"#2a3f5f\"}, \"marker\": {\"line\": {\"color\": \"#E5ECF6\", \"width\": 0.5}}, \"type\": \"bar\"}], \"barpolar\": [{\"marker\": {\"line\": {\"color\": \"#E5ECF6\", \"width\": 0.5}}, \"type\": \"barpolar\"}], \"carpet\": [{\"aaxis\": {\"endlinecolor\": \"#2a3f5f\", \"gridcolor\": \"white\", \"linecolor\": \"white\", \"minorgridcolor\": \"white\", \"startlinecolor\": \"#2a3f5f\"}, \"baxis\": {\"endlinecolor\": \"#2a3f5f\", \"gridcolor\": \"white\", \"linecolor\": \"white\", \"minorgridcolor\": \"white\", \"startlinecolor\": \"#2a3f5f\"}, \"type\": \"carpet\"}], \"choropleth\": [{\"colorbar\": {\"outlinewidth\": 0, \"ticks\": \"\"}, \"type\": \"choropleth\"}], \"contour\": [{\"colorbar\": {\"outlinewidth\": 0, \"ticks\": \"\"}, \"colorscale\": [[0.0, \"#0d0887\"], [0.1111111111111111, \"#46039f\"], [0.2222222222222222, \"#7201a8\"], [0.3333333333333333, \"#9c179e\"], [0.4444444444444444, \"#bd3786\"], [0.5555555555555556, \"#d8576b\"], [0.6666666666666666, \"#ed7953\"], [0.7777777777777778, \"#fb9f3a\"], [0.8888888888888888, \"#fdca26\"], [1.0, \"#f0f921\"]], \"type\": \"contour\"}], \"contourcarpet\": [{\"colorbar\": {\"outlinewidth\": 0, \"ticks\": \"\"}, \"type\": \"contourcarpet\"}], \"heatmap\": [{\"colorbar\": {\"outlinewidth\": 0, \"ticks\": \"\"}, \"colorscale\": [[0.0, \"#0d0887\"], [0.1111111111111111, \"#46039f\"], [0.2222222222222222, \"#7201a8\"], [0.3333333333333333, \"#9c179e\"], [0.4444444444444444, \"#bd3786\"], [0.5555555555555556, \"#d8576b\"], [0.6666666666666666, \"#ed7953\"], [0.7777777777777778, \"#fb9f3a\"], [0.8888888888888888, \"#fdca26\"], [1.0, \"#f0f921\"]], \"type\": \"heatmap\"}], \"heatmapgl\": [{\"colorbar\": {\"outlinewidth\": 0, \"ticks\": \"\"}, \"colorscale\": [[0.0, \"#0d0887\"], [0.1111111111111111, \"#46039f\"], [0.2222222222222222, \"#7201a8\"], [0.3333333333333333, \"#9c179e\"], [0.4444444444444444, \"#bd3786\"], [0.5555555555555556, \"#d8576b\"], [0.6666666666666666, \"#ed7953\"], [0.7777777777777778, \"#fb9f3a\"], [0.8888888888888888, \"#fdca26\"], [1.0, \"#f0f921\"]], \"type\": \"heatmapgl\"}], \"histogram\": [{\"marker\": {\"colorbar\": {\"outlinewidth\": 0, \"ticks\": \"\"}}, \"type\": \"histogram\"}], \"histogram2d\": [{\"colorbar\": {\"outlinewidth\": 0, \"ticks\": \"\"}, \"colorscale\": [[0.0, \"#0d0887\"], [0.1111111111111111, \"#46039f\"], [0.2222222222222222, \"#7201a8\"], [0.3333333333333333, \"#9c179e\"], [0.4444444444444444, \"#bd3786\"], [0.5555555555555556, \"#d8576b\"], [0.6666666666666666, \"#ed7953\"], [0.7777777777777778, \"#fb9f3a\"], [0.8888888888888888, \"#fdca26\"], [1.0, \"#f0f921\"]], \"type\": \"histogram2d\"}], \"histogram2dcontour\": [{\"colorbar\": {\"outlinewidth\": 0, \"ticks\": \"\"}, \"colorscale\": [[0.0, \"#0d0887\"], [0.1111111111111111, \"#46039f\"], [0.2222222222222222, \"#7201a8\"], [0.3333333333333333, \"#9c179e\"], [0.4444444444444444, \"#bd3786\"], [0.5555555555555556, \"#d8576b\"], [0.6666666666666666, \"#ed7953\"], [0.7777777777777778, \"#fb9f3a\"], [0.8888888888888888, \"#fdca26\"], [1.0, \"#f0f921\"]], \"type\": \"histogram2dcontour\"}], \"mesh3d\": [{\"colorbar\": {\"outlinewidth\": 0, \"ticks\": \"\"}, \"type\": \"mesh3d\"}], \"parcoords\": [{\"line\": {\"colorbar\": {\"outlinewidth\": 0, \"ticks\": \"\"}}, \"type\": \"parcoords\"}], \"pie\": [{\"automargin\": true, \"type\": \"pie\"}], \"scatter\": [{\"marker\": {\"colorbar\": {\"outlinewidth\": 0, \"ticks\": \"\"}}, \"type\": \"scatter\"}], \"scatter3d\": [{\"line\": {\"colorbar\": {\"outlinewidth\": 0, \"ticks\": \"\"}}, \"marker\": {\"colorbar\": {\"outlinewidth\": 0, \"ticks\": \"\"}}, \"type\": \"scatter3d\"}], \"scattercarpet\": [{\"marker\": {\"colorbar\": {\"outlinewidth\": 0, \"ticks\": \"\"}}, \"type\": \"scattercarpet\"}], \"scattergeo\": [{\"marker\": {\"colorbar\": {\"outlinewidth\": 0, \"ticks\": \"\"}}, \"type\": \"scattergeo\"}], \"scattergl\": [{\"marker\": {\"colorbar\": {\"outlinewidth\": 0, \"ticks\": \"\"}}, \"type\": \"scattergl\"}], \"scattermapbox\": [{\"marker\": {\"colorbar\": {\"outlinewidth\": 0, \"ticks\": \"\"}}, \"type\": \"scattermapbox\"}], \"scatterpolar\": [{\"marker\": {\"colorbar\": {\"outlinewidth\": 0, \"ticks\": \"\"}}, \"type\": \"scatterpolar\"}], \"scatterpolargl\": [{\"marker\": {\"colorbar\": {\"outlinewidth\": 0, \"ticks\": \"\"}}, \"type\": \"scatterpolargl\"}], \"scatterternary\": [{\"marker\": {\"colorbar\": {\"outlinewidth\": 0, \"ticks\": \"\"}}, \"type\": \"scatterternary\"}], \"surface\": [{\"colorbar\": {\"outlinewidth\": 0, \"ticks\": \"\"}, \"colorscale\": [[0.0, \"#0d0887\"], [0.1111111111111111, \"#46039f\"], [0.2222222222222222, \"#7201a8\"], [0.3333333333333333, \"#9c179e\"], [0.4444444444444444, \"#bd3786\"], [0.5555555555555556, \"#d8576b\"], [0.6666666666666666, \"#ed7953\"], [0.7777777777777778, \"#fb9f3a\"], [0.8888888888888888, \"#fdca26\"], [1.0, \"#f0f921\"]], \"type\": \"surface\"}], \"table\": [{\"cells\": {\"fill\": {\"color\": \"#EBF0F8\"}, \"line\": {\"color\": \"white\"}}, \"header\": {\"fill\": {\"color\": \"#C8D4E3\"}, \"line\": {\"color\": \"white\"}}, \"type\": \"table\"}]}, \"layout\": {\"annotationdefaults\": {\"arrowcolor\": \"#2a3f5f\", \"arrowhead\": 0, \"arrowwidth\": 1}, \"coloraxis\": {\"colorbar\": {\"outlinewidth\": 0, \"ticks\": \"\"}}, \"colorscale\": {\"diverging\": [[0, \"#8e0152\"], [0.1, \"#c51b7d\"], [0.2, \"#de77ae\"], [0.3, \"#f1b6da\"], [0.4, \"#fde0ef\"], [0.5, \"#f7f7f7\"], [0.6, \"#e6f5d0\"], [0.7, \"#b8e186\"], [0.8, \"#7fbc41\"], [0.9, \"#4d9221\"], [1, \"#276419\"]], \"sequential\": [[0.0, \"#0d0887\"], [0.1111111111111111, \"#46039f\"], [0.2222222222222222, \"#7201a8\"], [0.3333333333333333, \"#9c179e\"], [0.4444444444444444, \"#bd3786\"], [0.5555555555555556, \"#d8576b\"], [0.6666666666666666, \"#ed7953\"], [0.7777777777777778, \"#fb9f3a\"], [0.8888888888888888, \"#fdca26\"], [1.0, \"#f0f921\"]], \"sequentialminus\": [[0.0, \"#0d0887\"], [0.1111111111111111, \"#46039f\"], [0.2222222222222222, \"#7201a8\"], [0.3333333333333333, \"#9c179e\"], [0.4444444444444444, \"#bd3786\"], [0.5555555555555556, \"#d8576b\"], [0.6666666666666666, \"#ed7953\"], [0.7777777777777778, \"#fb9f3a\"], [0.8888888888888888, \"#fdca26\"], [1.0, \"#f0f921\"]]}, \"colorway\": [\"#636efa\", \"#EF553B\", \"#00cc96\", \"#ab63fa\", \"#FFA15A\", \"#19d3f3\", \"#FF6692\", \"#B6E880\", \"#FF97FF\", \"#FECB52\"], \"font\": {\"color\": \"#2a3f5f\"}, \"geo\": {\"bgcolor\": \"white\", \"lakecolor\": \"white\", \"landcolor\": \"#E5ECF6\", \"showlakes\": true, \"showland\": true, \"subunitcolor\": \"white\"}, \"hoverlabel\": {\"align\": \"left\"}, \"hovermode\": \"closest\", \"mapbox\": {\"style\": \"light\"}, \"paper_bgcolor\": \"white\", \"plot_bgcolor\": \"#E5ECF6\", \"polar\": {\"angularaxis\": {\"gridcolor\": \"white\", \"linecolor\": \"white\", \"ticks\": \"\"}, \"bgcolor\": \"#E5ECF6\", \"radialaxis\": {\"gridcolor\": \"white\", \"linecolor\": \"white\", \"ticks\": \"\"}}, \"scene\": {\"xaxis\": {\"backgroundcolor\": \"#E5ECF6\", \"gridcolor\": \"white\", \"gridwidth\": 2, \"linecolor\": \"white\", \"showbackground\": true, \"ticks\": \"\", \"zerolinecolor\": \"white\"}, \"yaxis\": {\"backgroundcolor\": \"#E5ECF6\", \"gridcolor\": \"white\", \"gridwidth\": 2, \"linecolor\": \"white\", \"showbackground\": true, \"ticks\": \"\", \"zerolinecolor\": \"white\"}, \"zaxis\": {\"backgroundcolor\": \"#E5ECF6\", \"gridcolor\": \"white\", \"gridwidth\": 2, \"linecolor\": \"white\", \"showbackground\": true, \"ticks\": \"\", \"zerolinecolor\": \"white\"}}, \"shapedefaults\": {\"line\": {\"color\": \"#2a3f5f\"}}, \"ternary\": {\"aaxis\": {\"gridcolor\": \"white\", \"linecolor\": \"white\", \"ticks\": \"\"}, \"baxis\": {\"gridcolor\": \"white\", \"linecolor\": \"white\", \"ticks\": \"\"}, \"bgcolor\": \"#E5ECF6\", \"caxis\": {\"gridcolor\": \"white\", \"linecolor\": \"white\", \"ticks\": \"\"}}, \"title\": {\"x\": 0.05}, \"xaxis\": {\"automargin\": true, \"gridcolor\": \"white\", \"linecolor\": \"white\", \"ticks\": \"\", \"title\": {\"standoff\": 15}, \"zerolinecolor\": \"white\", \"zerolinewidth\": 2}, \"yaxis\": {\"automargin\": true, \"gridcolor\": \"white\", \"linecolor\": \"white\", \"ticks\": \"\", \"title\": {\"standoff\": 15}, \"zerolinecolor\": \"white\", \"zerolinewidth\": 2}}}, \"title\": {\"text\": \"<b>Covid-19 Total cases Forecast<b>\", \"x\": 0.5}, \"width\": 750, \"xaxis\": {\"rangeselector\": {\"buttons\": [{\"count\": 7, \"label\": \"1w\", \"step\": \"day\", \"stepmode\": \"backward\"}, {\"count\": 1, \"label\": \"1m\", \"step\": \"month\", \"stepmode\": \"backward\"}, {\"count\": 6, \"label\": \"6m\", \"step\": \"month\", \"stepmode\": \"backward\"}, {\"count\": 1, \"label\": \"1y\", \"step\": \"year\", \"stepmode\": \"backward\"}, {\"step\": \"all\"}]}, \"rangeslider\": {\"visible\": true}, \"title\": {\"text\": \"ds\"}, \"type\": \"date\"}, \"yaxis\": {\"title\": {\"text\": \"y\"}}},\n",
              "                        {\"responsive\": true}\n",
              "                    ).then(function(){\n",
              "                            \n",
              "var gd = document.getElementById('d9073915-0a13-47ff-8786-5b27062fe71a');\n",
              "var x = new MutationObserver(function (mutations, observer) {{\n",
              "        var display = window.getComputedStyle(gd).display;\n",
              "        if (!display || display === 'none') {{\n",
              "            console.log([gd, 'removed!']);\n",
              "            Plotly.purge(gd);\n",
              "            observer.disconnect();\n",
              "        }}\n",
              "}});\n",
              "\n",
              "// Listen for the removal of the full notebook cells\n",
              "var notebookContainer = gd.closest('#notebook-container');\n",
              "if (notebookContainer) {{\n",
              "    x.observe(notebookContainer, {childList: true});\n",
              "}}\n",
              "\n",
              "// Listen for the clearing of the current output cell\n",
              "var outputEl = gd.closest('.output');\n",
              "if (outputEl) {{\n",
              "    x.observe(outputEl, {childList: true});\n",
              "}}\n",
              "\n",
              "                        })\n",
              "                };\n",
              "                \n",
              "            </script>\n",
              "        </div>\n",
              "</body>\n",
              "</html>"
            ]
          },
          "metadata": {
            "tags": []
          }
        }
      ]
    },
    {
      "cell_type": "code",
      "metadata": {
        "id": "U6Vc9DT7O09F",
        "colab_type": "code",
        "colab": {
          "base_uri": "https://localhost:8080/",
          "height": 419
        },
        "outputId": "689ba1a2-3e8c-495d-a64c-ac11aabf6d3d"
      },
      "source": [
        "start_date ='2020-01-30'\n",
        "end_date = '2020-03-25'\n",
        "mask = (df['Date']>=start_date)&(df['Date']<=end_date)\n",
        "dt1 = df.loc[mask]\n",
        "dt1"
      ],
      "execution_count": 325,
      "outputs": [
        {
          "output_type": "execute_result",
          "data": {
            "text/html": [
              "<div>\n",
              "<style scoped>\n",
              "    .dataframe tbody tr th:only-of-type {\n",
              "        vertical-align: middle;\n",
              "    }\n",
              "\n",
              "    .dataframe tbody tr th {\n",
              "        vertical-align: top;\n",
              "    }\n",
              "\n",
              "    .dataframe thead th {\n",
              "        text-align: right;\n",
              "    }\n",
              "</style>\n",
              "<table border=\"1\" class=\"dataframe\">\n",
              "  <thead>\n",
              "    <tr style=\"text-align: right;\">\n",
              "      <th></th>\n",
              "      <th>Date</th>\n",
              "      <th>State/UnionTerritory</th>\n",
              "      <th>Cured</th>\n",
              "      <th>Deaths</th>\n",
              "      <th>Confirmed</th>\n",
              "      <th>Active Cases</th>\n",
              "    </tr>\n",
              "  </thead>\n",
              "  <tbody>\n",
              "    <tr>\n",
              "      <th>0</th>\n",
              "      <td>2020-01-30</td>\n",
              "      <td>Kerala</td>\n",
              "      <td>0</td>\n",
              "      <td>0</td>\n",
              "      <td>1</td>\n",
              "      <td>1</td>\n",
              "    </tr>\n",
              "    <tr>\n",
              "      <th>1</th>\n",
              "      <td>2020-01-31</td>\n",
              "      <td>Kerala</td>\n",
              "      <td>0</td>\n",
              "      <td>0</td>\n",
              "      <td>1</td>\n",
              "      <td>1</td>\n",
              "    </tr>\n",
              "    <tr>\n",
              "      <th>2</th>\n",
              "      <td>2020-02-01</td>\n",
              "      <td>Kerala</td>\n",
              "      <td>0</td>\n",
              "      <td>0</td>\n",
              "      <td>2</td>\n",
              "      <td>2</td>\n",
              "    </tr>\n",
              "    <tr>\n",
              "      <th>3</th>\n",
              "      <td>2020-02-02</td>\n",
              "      <td>Kerala</td>\n",
              "      <td>0</td>\n",
              "      <td>0</td>\n",
              "      <td>3</td>\n",
              "      <td>3</td>\n",
              "    </tr>\n",
              "    <tr>\n",
              "      <th>4</th>\n",
              "      <td>2020-02-03</td>\n",
              "      <td>Kerala</td>\n",
              "      <td>0</td>\n",
              "      <td>0</td>\n",
              "      <td>3</td>\n",
              "      <td>3</td>\n",
              "    </tr>\n",
              "    <tr>\n",
              "      <th>...</th>\n",
              "      <td>...</td>\n",
              "      <td>...</td>\n",
              "      <td>...</td>\n",
              "      <td>...</td>\n",
              "      <td>...</td>\n",
              "      <td>...</td>\n",
              "    </tr>\n",
              "    <tr>\n",
              "      <th>360</th>\n",
              "      <td>2020-03-25</td>\n",
              "      <td>Jammu and Kashmir</td>\n",
              "      <td>1</td>\n",
              "      <td>0</td>\n",
              "      <td>7</td>\n",
              "      <td>6</td>\n",
              "    </tr>\n",
              "    <tr>\n",
              "      <th>361</th>\n",
              "      <td>2020-03-25</td>\n",
              "      <td>Ladakh</td>\n",
              "      <td>0</td>\n",
              "      <td>0</td>\n",
              "      <td>13</td>\n",
              "      <td>13</td>\n",
              "    </tr>\n",
              "    <tr>\n",
              "      <th>362</th>\n",
              "      <td>2020-03-25</td>\n",
              "      <td>Uttar Pradesh</td>\n",
              "      <td>11</td>\n",
              "      <td>0</td>\n",
              "      <td>37</td>\n",
              "      <td>26</td>\n",
              "    </tr>\n",
              "    <tr>\n",
              "      <th>363</th>\n",
              "      <td>2020-03-25</td>\n",
              "      <td>Uttarakhand</td>\n",
              "      <td>0</td>\n",
              "      <td>0</td>\n",
              "      <td>4</td>\n",
              "      <td>4</td>\n",
              "    </tr>\n",
              "    <tr>\n",
              "      <th>364</th>\n",
              "      <td>2020-03-25</td>\n",
              "      <td>West Bengal</td>\n",
              "      <td>0</td>\n",
              "      <td>1</td>\n",
              "      <td>9</td>\n",
              "      <td>8</td>\n",
              "    </tr>\n",
              "  </tbody>\n",
              "</table>\n",
              "<p>365 rows × 6 columns</p>\n",
              "</div>"
            ],
            "text/plain": [
              "          Date State/UnionTerritory  Cured  Deaths  Confirmed  Active Cases\n",
              "0   2020-01-30               Kerala      0       0          1             1\n",
              "1   2020-01-31               Kerala      0       0          1             1\n",
              "2   2020-02-01               Kerala      0       0          2             2\n",
              "3   2020-02-02               Kerala      0       0          3             3\n",
              "4   2020-02-03               Kerala      0       0          3             3\n",
              "..         ...                  ...    ...     ...        ...           ...\n",
              "360 2020-03-25    Jammu and Kashmir      1       0          7             6\n",
              "361 2020-03-25               Ladakh      0       0         13            13\n",
              "362 2020-03-25        Uttar Pradesh     11       0         37            26\n",
              "363 2020-03-25          Uttarakhand      0       0          4             4\n",
              "364 2020-03-25          West Bengal      0       1          9             8\n",
              "\n",
              "[365 rows x 6 columns]"
            ]
          },
          "metadata": {
            "tags": []
          },
          "execution_count": 325
        }
      ]
    },
    {
      "cell_type": "code",
      "metadata": {
        "id": "IxkVhWceLaQ1",
        "colab_type": "code",
        "colab": {
          "base_uri": "https://localhost:8080/",
          "height": 851
        },
        "outputId": "a1dc50a6-5f44-4447-888a-d20dca71554c"
      },
      "source": [
        "\n",
        "dff1 = dt1.groupby('Date')['Confirmed'].sum().reset_index()\n",
        "dff1.columns=['ds', 'y']\n",
        "m = Prophet()\n",
        "m.fit(dff1)\n",
        "\n",
        "future = m.make_future_dataframe(periods=21, include_history=True)\n",
        "forecast = m.predict(future)\n",
        "fig = go.Figure()\n",
        "\n",
        "fig = plot_plotly(m, forecast)  # This returns a plotly Figure\n",
        "fig.update_layout(\n",
        "                  autosize=False,\n",
        "                  width= 750,\n",
        "                  height= 800,\n",
        "    title_text='<b>Covid-19 Total cases Forecast<b>',\n",
        "    title_x=0.5,\n",
        "    paper_bgcolor='khaki',\n",
        "    plot_bgcolor = \"khaki\",)\n",
        "fig.show()"
      ],
      "execution_count": 326,
      "outputs": [
        {
          "output_type": "stream",
          "text": [
            "INFO:fbprophet:Disabling yearly seasonality. Run prophet with yearly_seasonality=True to override this.\n",
            "INFO:fbprophet:Disabling daily seasonality. Run prophet with daily_seasonality=True to override this.\n"
          ],
          "name": "stderr"
        },
        {
          "output_type": "display_data",
          "data": {
            "text/html": [
              "<html>\n",
              "<head><meta charset=\"utf-8\" /></head>\n",
              "<body>\n",
              "    <div>\n",
              "            <script src=\"https://cdnjs.cloudflare.com/ajax/libs/mathjax/2.7.5/MathJax.js?config=TeX-AMS-MML_SVG\"></script><script type=\"text/javascript\">if (window.MathJax) {MathJax.Hub.Config({SVG: {font: \"STIX-Web\"}});}</script>\n",
              "                <script type=\"text/javascript\">window.PlotlyConfig = {MathJaxConfig: 'local'};</script>\n",
              "        <script src=\"https://cdn.plot.ly/plotly-latest.min.js\"></script>    \n",
              "            <div id=\"1f0ae0ef-cd40-462c-b9a2-4ec4937f5c67\" class=\"plotly-graph-div\" style=\"height:800px; width:750px;\"></div>\n",
              "            <script type=\"text/javascript\">\n",
              "                \n",
              "                    window.PLOTLYENV=window.PLOTLYENV || {};\n",
              "                    \n",
              "                if (document.getElementById(\"1f0ae0ef-cd40-462c-b9a2-4ec4937f5c67\")) {\n",
              "                    Plotly.newPlot(\n",
              "                        '1f0ae0ef-cd40-462c-b9a2-4ec4937f5c67',\n",
              "                        [{\"marker\": {\"color\": \"black\", \"size\": 4}, \"mode\": \"markers\", \"name\": \"Actual\", \"type\": \"scatter\", \"x\": [\"2020-01-30T00:00:00\", \"2020-01-31T00:00:00\", \"2020-02-01T00:00:00\", \"2020-02-02T00:00:00\", \"2020-02-03T00:00:00\", \"2020-02-04T00:00:00\", \"2020-02-05T00:00:00\", \"2020-02-06T00:00:00\", \"2020-02-07T00:00:00\", \"2020-02-08T00:00:00\", \"2020-02-09T00:00:00\", \"2020-02-10T00:00:00\", \"2020-02-11T00:00:00\", \"2020-02-12T00:00:00\", \"2020-02-13T00:00:00\", \"2020-02-14T00:00:00\", \"2020-02-15T00:00:00\", \"2020-02-16T00:00:00\", \"2020-02-17T00:00:00\", \"2020-02-18T00:00:00\", \"2020-02-19T00:00:00\", \"2020-02-20T00:00:00\", \"2020-02-21T00:00:00\", \"2020-02-22T00:00:00\", \"2020-02-23T00:00:00\", \"2020-02-24T00:00:00\", \"2020-02-25T00:00:00\", \"2020-02-26T00:00:00\", \"2020-02-27T00:00:00\", \"2020-02-28T00:00:00\", \"2020-02-29T00:00:00\", \"2020-03-01T00:00:00\", \"2020-03-02T00:00:00\", \"2020-03-03T00:00:00\", \"2020-03-04T00:00:00\", \"2020-03-05T00:00:00\", \"2020-03-06T00:00:00\", \"2020-03-07T00:00:00\", \"2020-03-08T00:00:00\", \"2020-03-09T00:00:00\", \"2020-03-10T00:00:00\", \"2020-03-11T00:00:00\", \"2020-03-12T00:00:00\", \"2020-03-13T00:00:00\", \"2020-03-14T00:00:00\", \"2020-03-15T00:00:00\", \"2020-03-16T00:00:00\", \"2020-03-17T00:00:00\", \"2020-03-18T00:00:00\", \"2020-03-19T00:00:00\", \"2020-03-20T00:00:00\", \"2020-03-21T00:00:00\", \"2020-03-22T00:00:00\", \"2020-03-23T00:00:00\", \"2020-03-24T00:00:00\", \"2020-03-25T00:00:00\"], \"y\": [1, 1, 2, 3, 3, 3, 3, 3, 3, 3, 3, 3, 3, 3, 3, 3, 3, 3, 3, 3, 3, 3, 3, 3, 3, 3, 3, 3, 3, 3, 3, 3, 5, 6, 28, 30, 31, 34, 39, 46, 58, 60, 74, 81, 84, 110, 114, 137, 151, 173, 223, 283, 360, 433, 519, 606]}, {\"hoverinfo\": \"skip\", \"line\": {\"width\": 0}, \"mode\": \"lines\", \"type\": \"scatter\", \"x\": [\"2020-01-30T00:00:00\", \"2020-01-31T00:00:00\", \"2020-02-01T00:00:00\", \"2020-02-02T00:00:00\", \"2020-02-03T00:00:00\", \"2020-02-04T00:00:00\", \"2020-02-05T00:00:00\", \"2020-02-06T00:00:00\", \"2020-02-07T00:00:00\", \"2020-02-08T00:00:00\", \"2020-02-09T00:00:00\", \"2020-02-10T00:00:00\", \"2020-02-11T00:00:00\", \"2020-02-12T00:00:00\", \"2020-02-13T00:00:00\", \"2020-02-14T00:00:00\", \"2020-02-15T00:00:00\", \"2020-02-16T00:00:00\", \"2020-02-17T00:00:00\", \"2020-02-18T00:00:00\", \"2020-02-19T00:00:00\", \"2020-02-20T00:00:00\", \"2020-02-21T00:00:00\", \"2020-02-22T00:00:00\", \"2020-02-23T00:00:00\", \"2020-02-24T00:00:00\", \"2020-02-25T00:00:00\", \"2020-02-26T00:00:00\", \"2020-02-27T00:00:00\", \"2020-02-28T00:00:00\", \"2020-02-29T00:00:00\", \"2020-03-01T00:00:00\", \"2020-03-02T00:00:00\", \"2020-03-03T00:00:00\", \"2020-03-04T00:00:00\", \"2020-03-05T00:00:00\", \"2020-03-06T00:00:00\", \"2020-03-07T00:00:00\", \"2020-03-08T00:00:00\", \"2020-03-09T00:00:00\", \"2020-03-10T00:00:00\", \"2020-03-11T00:00:00\", \"2020-03-12T00:00:00\", \"2020-03-13T00:00:00\", \"2020-03-14T00:00:00\", \"2020-03-15T00:00:00\", \"2020-03-16T00:00:00\", \"2020-03-17T00:00:00\", \"2020-03-18T00:00:00\", \"2020-03-19T00:00:00\", \"2020-03-20T00:00:00\", \"2020-03-21T00:00:00\", \"2020-03-22T00:00:00\", \"2020-03-23T00:00:00\", \"2020-03-24T00:00:00\", \"2020-03-25T00:00:00\", \"2020-03-26T00:00:00\", \"2020-03-27T00:00:00\", \"2020-03-28T00:00:00\", \"2020-03-29T00:00:00\", \"2020-03-30T00:00:00\", \"2020-03-31T00:00:00\", \"2020-04-01T00:00:00\", \"2020-04-02T00:00:00\", \"2020-04-03T00:00:00\", \"2020-04-04T00:00:00\", \"2020-04-05T00:00:00\", \"2020-04-06T00:00:00\", \"2020-04-07T00:00:00\", \"2020-04-08T00:00:00\", \"2020-04-09T00:00:00\", \"2020-04-10T00:00:00\", \"2020-04-11T00:00:00\", \"2020-04-12T00:00:00\", \"2020-04-13T00:00:00\", \"2020-04-14T00:00:00\", \"2020-04-15T00:00:00\"], \"y\": [-222.42625080997124, -213.5650056668735, -203.12110899577826, -189.75915533616384, -181.29682322420132, -159.34230793114733, -139.72802221183204, -189.0912488848454, -170.38227151189614, -153.08918169864262, -145.40026307985826, -137.2431703606072, -118.43966160211797, -113.53078285881345, -138.13080690774345, -136.30367212225272, -124.0724970621585, -114.58485554054742, -102.74678408944501, -91.48846738554708, -63.42990850044261, -99.79574235693511, -97.01858230219803, -84.22665315196477, -74.94568917424237, -59.15325534779268, -50.02211622393663, -40.728532549354895, -59.699836692280186, -51.31484322118111, -49.03170630629646, -41.96717054039781, -24.19027464374197, -2.0521362236373943, 15.138424674395683, -28.754905024476326, -14.411191680223927, -4.915175745927804, -0.599380073857263, 11.31384708039308, 26.87746183530851, 47.954271433979166, 17.65244594273557, 14.496296689900474, 21.678024733863158, 48.78227679487206, 47.69184726814087, 70.29431724856835, 92.62474530590848, 44.900889880522094, 66.30255864145325, 70.60256287684221, 74.88328039129115, 88.05613400078809, 110.32772412976777, 115.68706978646338, 94.83855198429153, 94.52899840624764, 109.42601923492751, 118.27067374837863, 131.49324169189708, 148.64662091721615, 161.8474282102528, 127.41817447681971, 136.18494287110374, 144.0242205711479, 153.54586695120435, 160.9430854109274, 194.05806755641657, 207.83721990786853, 162.39589696819795, 169.37441699941522, 184.21869982711897, 197.97720459992246, 209.29856889825479, 208.98900510321542, 228.63835940813993]}, {\"fill\": \"tonexty\", \"fillcolor\": \"rgba(0, 114, 178, 0.2)\", \"line\": {\"color\": \"#0072B2\", \"width\": 2}, \"mode\": \"lines\", \"name\": \"Predicted\", \"type\": \"scatter\", \"x\": [\"2020-01-30T00:00:00\", \"2020-01-31T00:00:00\", \"2020-02-01T00:00:00\", \"2020-02-02T00:00:00\", \"2020-02-03T00:00:00\", \"2020-02-04T00:00:00\", \"2020-02-05T00:00:00\", \"2020-02-06T00:00:00\", \"2020-02-07T00:00:00\", \"2020-02-08T00:00:00\", \"2020-02-09T00:00:00\", \"2020-02-10T00:00:00\", \"2020-02-11T00:00:00\", \"2020-02-12T00:00:00\", \"2020-02-13T00:00:00\", \"2020-02-14T00:00:00\", \"2020-02-15T00:00:00\", \"2020-02-16T00:00:00\", \"2020-02-17T00:00:00\", \"2020-02-18T00:00:00\", \"2020-02-19T00:00:00\", \"2020-02-20T00:00:00\", \"2020-02-21T00:00:00\", \"2020-02-22T00:00:00\", \"2020-02-23T00:00:00\", \"2020-02-24T00:00:00\", \"2020-02-25T00:00:00\", \"2020-02-26T00:00:00\", \"2020-02-27T00:00:00\", \"2020-02-28T00:00:00\", \"2020-02-29T00:00:00\", \"2020-03-01T00:00:00\", \"2020-03-02T00:00:00\", \"2020-03-03T00:00:00\", \"2020-03-04T00:00:00\", \"2020-03-05T00:00:00\", \"2020-03-06T00:00:00\", \"2020-03-07T00:00:00\", \"2020-03-08T00:00:00\", \"2020-03-09T00:00:00\", \"2020-03-10T00:00:00\", \"2020-03-11T00:00:00\", \"2020-03-12T00:00:00\", \"2020-03-13T00:00:00\", \"2020-03-14T00:00:00\", \"2020-03-15T00:00:00\", \"2020-03-16T00:00:00\", \"2020-03-17T00:00:00\", \"2020-03-18T00:00:00\", \"2020-03-19T00:00:00\", \"2020-03-20T00:00:00\", \"2020-03-21T00:00:00\", \"2020-03-22T00:00:00\", \"2020-03-23T00:00:00\", \"2020-03-24T00:00:00\", \"2020-03-25T00:00:00\", \"2020-03-26T00:00:00\", \"2020-03-27T00:00:00\", \"2020-03-28T00:00:00\", \"2020-03-29T00:00:00\", \"2020-03-30T00:00:00\", \"2020-03-31T00:00:00\", \"2020-04-01T00:00:00\", \"2020-04-02T00:00:00\", \"2020-04-03T00:00:00\", \"2020-04-04T00:00:00\", \"2020-04-05T00:00:00\", \"2020-04-06T00:00:00\", \"2020-04-07T00:00:00\", \"2020-04-08T00:00:00\", \"2020-04-09T00:00:00\", \"2020-04-10T00:00:00\", \"2020-04-11T00:00:00\", \"2020-04-12T00:00:00\", \"2020-04-13T00:00:00\", \"2020-04-14T00:00:00\", \"2020-04-15T00:00:00\"], \"y\": [-97.74131928374594, -90.51683449701216, -82.16973849475555, -68.5726404166696, -57.852704075532266, -42.632765957668695, -27.03976237287737, -59.53327582192854, -52.308791031412184, -43.961695025274715, -30.364596940549305, -19.644660583315517, -4.424722449371503, 11.168281150350756, -21.325232283797977, -14.10074748541465, -5.753230181074272, 7.844289203571936, 18.564647876159675, 33.78500832540308, 49.3784857285829, 16.885446097899823, 24.111180653439874, 32.45954141559304, 46.05790425804817, 56.781756909666726, 72.00561133790382, 87.60754860867875, 55.122968845686984, 62.363192755354696, 70.73352656862635, 84.35386246228241, 95.10552173776563, 110.35718278990473, 125.99068875624054, 93.54628023534974, 100.81986994535905, 109.22375381580817, 122.87763976658614, 133.66051137904176, 148.9433847682509, 164.60095305212027, 132.17445444991287, 139.46595407861375, 147.88356111919904, 161.55117024012, 172.34161763111453, 187.6320667988497, 203.29558142674196, 170.87257902080142, 178.16757484580603, 186.58518188640696, 200.25279100729935, 211.0432383982799, 226.33368756601058, 241.9972021939793, 209.574199787981, 216.86919561299493, 225.2868026536149, 238.95441177447879, 249.74485916553354, 265.0353083331788, 280.69882296116043, 248.27582055514935, 255.57081638020907, 263.9884234207777, 277.6560325417084, 288.44647993269894, 303.7369291003726, 319.40044372834166, 286.9774413223233, 294.27243714737267, 302.69004418794566, 316.3576533088412, 327.14810069986424, 342.43854986756634, 358.10206449552277]}, {\"fill\": \"tonexty\", \"fillcolor\": \"rgba(0, 114, 178, 0.2)\", \"hoverinfo\": \"skip\", \"line\": {\"width\": 0}, \"mode\": \"lines\", \"type\": \"scatter\", \"x\": [\"2020-01-30T00:00:00\", \"2020-01-31T00:00:00\", \"2020-02-01T00:00:00\", \"2020-02-02T00:00:00\", \"2020-02-03T00:00:00\", \"2020-02-04T00:00:00\", \"2020-02-05T00:00:00\", \"2020-02-06T00:00:00\", \"2020-02-07T00:00:00\", \"2020-02-08T00:00:00\", \"2020-02-09T00:00:00\", \"2020-02-10T00:00:00\", \"2020-02-11T00:00:00\", \"2020-02-12T00:00:00\", \"2020-02-13T00:00:00\", \"2020-02-14T00:00:00\", \"2020-02-15T00:00:00\", \"2020-02-16T00:00:00\", \"2020-02-17T00:00:00\", \"2020-02-18T00:00:00\", \"2020-02-19T00:00:00\", \"2020-02-20T00:00:00\", \"2020-02-21T00:00:00\", \"2020-02-22T00:00:00\", \"2020-02-23T00:00:00\", \"2020-02-24T00:00:00\", \"2020-02-25T00:00:00\", \"2020-02-26T00:00:00\", \"2020-02-27T00:00:00\", \"2020-02-28T00:00:00\", \"2020-02-29T00:00:00\", \"2020-03-01T00:00:00\", \"2020-03-02T00:00:00\", \"2020-03-03T00:00:00\", \"2020-03-04T00:00:00\", \"2020-03-05T00:00:00\", \"2020-03-06T00:00:00\", \"2020-03-07T00:00:00\", \"2020-03-08T00:00:00\", \"2020-03-09T00:00:00\", \"2020-03-10T00:00:00\", \"2020-03-11T00:00:00\", \"2020-03-12T00:00:00\", \"2020-03-13T00:00:00\", \"2020-03-14T00:00:00\", \"2020-03-15T00:00:00\", \"2020-03-16T00:00:00\", \"2020-03-17T00:00:00\", \"2020-03-18T00:00:00\", \"2020-03-19T00:00:00\", \"2020-03-20T00:00:00\", \"2020-03-21T00:00:00\", \"2020-03-22T00:00:00\", \"2020-03-23T00:00:00\", \"2020-03-24T00:00:00\", \"2020-03-25T00:00:00\", \"2020-03-26T00:00:00\", \"2020-03-27T00:00:00\", \"2020-03-28T00:00:00\", \"2020-03-29T00:00:00\", \"2020-03-30T00:00:00\", \"2020-03-31T00:00:00\", \"2020-04-01T00:00:00\", \"2020-04-02T00:00:00\", \"2020-04-03T00:00:00\", \"2020-04-04T00:00:00\", \"2020-04-05T00:00:00\", \"2020-04-06T00:00:00\", \"2020-04-07T00:00:00\", \"2020-04-08T00:00:00\", \"2020-04-09T00:00:00\", \"2020-04-10T00:00:00\", \"2020-04-11T00:00:00\", \"2020-04-12T00:00:00\", \"2020-04-13T00:00:00\", \"2020-04-14T00:00:00\", \"2020-04-15T00:00:00\"], \"y\": [21.84125874812088, 29.05476917322813, 37.821839023555455, 60.822154378231176, 61.848583352838425, 69.09081048553946, 96.09813721054314, 61.69893334470422, 70.67101517555625, 70.92361852207763, 85.83895213288706, 101.83093433171516, 114.99878757921424, 133.59448578177458, 90.94900783378206, 101.13142110796464, 114.08964211593528, 120.96936462572484, 137.80310038492064, 153.0755617108152, 170.9229748013394, 139.89293951489887, 147.0474201971852, 147.43770239840052, 168.0509552570026, 176.393967904251, 192.94787550870012, 217.26536766685837, 179.68475358762996, 184.51540091843282, 187.04404682043827, 211.29282746085357, 211.86043070801188, 230.4431949957756, 251.66814958262313, 211.72805282759438, 217.2095084573816, 226.17437896088134, 247.31628955423534, 244.93988905471923, 268.8874160507516, 285.2123651791594, 257.83187388217414, 250.40812579008946, 263.92532015384535, 287.36583659977947, 290.1177299574105, 309.3964089667207, 323.40561225021156, 297.50686877675224, 304.428835490463, 300.86881991687017, 321.9815267586244, 330.7377147027032, 347.2398811226705, 365.916078873592, 330.3866040577519, 337.60096296749305, 344.3956580707329, 357.1949169084509, 367.94836122500305, 377.9363543463978, 398.4198002240646, 358.63576268269145, 377.39368028874424, 382.59883615765494, 395.90029764663836, 399.63868840173626, 417.04394260094205, 431.0307426843302, 404.62806770961737, 407.3409648463328, 430.7498414020854, 441.289119348358, 433.7803598273665, 462.2660642816603, 478.2280455437815]}],\n",
              "                        {\"autosize\": false, \"height\": 800, \"paper_bgcolor\": \"khaki\", \"plot_bgcolor\": \"khaki\", \"showlegend\": false, \"template\": {\"data\": {\"bar\": [{\"error_x\": {\"color\": \"#2a3f5f\"}, \"error_y\": {\"color\": \"#2a3f5f\"}, \"marker\": {\"line\": {\"color\": \"#E5ECF6\", \"width\": 0.5}}, \"type\": \"bar\"}], \"barpolar\": [{\"marker\": {\"line\": {\"color\": \"#E5ECF6\", \"width\": 0.5}}, \"type\": \"barpolar\"}], \"carpet\": [{\"aaxis\": {\"endlinecolor\": \"#2a3f5f\", \"gridcolor\": \"white\", \"linecolor\": \"white\", \"minorgridcolor\": \"white\", \"startlinecolor\": \"#2a3f5f\"}, \"baxis\": {\"endlinecolor\": \"#2a3f5f\", \"gridcolor\": \"white\", \"linecolor\": \"white\", \"minorgridcolor\": \"white\", \"startlinecolor\": \"#2a3f5f\"}, \"type\": \"carpet\"}], \"choropleth\": [{\"colorbar\": {\"outlinewidth\": 0, \"ticks\": \"\"}, \"type\": \"choropleth\"}], \"contour\": [{\"colorbar\": {\"outlinewidth\": 0, \"ticks\": \"\"}, \"colorscale\": [[0.0, \"#0d0887\"], [0.1111111111111111, \"#46039f\"], [0.2222222222222222, \"#7201a8\"], [0.3333333333333333, \"#9c179e\"], [0.4444444444444444, \"#bd3786\"], [0.5555555555555556, \"#d8576b\"], [0.6666666666666666, \"#ed7953\"], [0.7777777777777778, \"#fb9f3a\"], [0.8888888888888888, \"#fdca26\"], [1.0, \"#f0f921\"]], \"type\": \"contour\"}], \"contourcarpet\": [{\"colorbar\": {\"outlinewidth\": 0, \"ticks\": \"\"}, \"type\": \"contourcarpet\"}], \"heatmap\": [{\"colorbar\": {\"outlinewidth\": 0, \"ticks\": \"\"}, \"colorscale\": [[0.0, \"#0d0887\"], [0.1111111111111111, \"#46039f\"], [0.2222222222222222, \"#7201a8\"], [0.3333333333333333, \"#9c179e\"], [0.4444444444444444, \"#bd3786\"], [0.5555555555555556, \"#d8576b\"], [0.6666666666666666, \"#ed7953\"], [0.7777777777777778, \"#fb9f3a\"], [0.8888888888888888, \"#fdca26\"], [1.0, \"#f0f921\"]], \"type\": \"heatmap\"}], \"heatmapgl\": [{\"colorbar\": {\"outlinewidth\": 0, \"ticks\": \"\"}, \"colorscale\": [[0.0, \"#0d0887\"], [0.1111111111111111, \"#46039f\"], [0.2222222222222222, \"#7201a8\"], [0.3333333333333333, \"#9c179e\"], [0.4444444444444444, \"#bd3786\"], [0.5555555555555556, \"#d8576b\"], [0.6666666666666666, \"#ed7953\"], [0.7777777777777778, \"#fb9f3a\"], [0.8888888888888888, \"#fdca26\"], [1.0, \"#f0f921\"]], \"type\": \"heatmapgl\"}], \"histogram\": [{\"marker\": {\"colorbar\": {\"outlinewidth\": 0, \"ticks\": \"\"}}, \"type\": \"histogram\"}], \"histogram2d\": [{\"colorbar\": {\"outlinewidth\": 0, \"ticks\": \"\"}, \"colorscale\": [[0.0, \"#0d0887\"], [0.1111111111111111, \"#46039f\"], [0.2222222222222222, \"#7201a8\"], [0.3333333333333333, \"#9c179e\"], [0.4444444444444444, \"#bd3786\"], [0.5555555555555556, \"#d8576b\"], [0.6666666666666666, \"#ed7953\"], [0.7777777777777778, \"#fb9f3a\"], [0.8888888888888888, \"#fdca26\"], [1.0, \"#f0f921\"]], \"type\": \"histogram2d\"}], \"histogram2dcontour\": [{\"colorbar\": {\"outlinewidth\": 0, \"ticks\": \"\"}, \"colorscale\": [[0.0, \"#0d0887\"], [0.1111111111111111, \"#46039f\"], [0.2222222222222222, \"#7201a8\"], [0.3333333333333333, \"#9c179e\"], [0.4444444444444444, \"#bd3786\"], [0.5555555555555556, \"#d8576b\"], [0.6666666666666666, \"#ed7953\"], [0.7777777777777778, \"#fb9f3a\"], [0.8888888888888888, \"#fdca26\"], [1.0, \"#f0f921\"]], \"type\": \"histogram2dcontour\"}], \"mesh3d\": [{\"colorbar\": {\"outlinewidth\": 0, \"ticks\": \"\"}, \"type\": \"mesh3d\"}], \"parcoords\": [{\"line\": {\"colorbar\": {\"outlinewidth\": 0, \"ticks\": \"\"}}, \"type\": \"parcoords\"}], \"pie\": [{\"automargin\": true, \"type\": \"pie\"}], \"scatter\": [{\"marker\": {\"colorbar\": {\"outlinewidth\": 0, \"ticks\": \"\"}}, \"type\": \"scatter\"}], \"scatter3d\": [{\"line\": {\"colorbar\": {\"outlinewidth\": 0, \"ticks\": \"\"}}, \"marker\": {\"colorbar\": {\"outlinewidth\": 0, \"ticks\": \"\"}}, \"type\": \"scatter3d\"}], \"scattercarpet\": [{\"marker\": {\"colorbar\": {\"outlinewidth\": 0, \"ticks\": \"\"}}, \"type\": \"scattercarpet\"}], \"scattergeo\": [{\"marker\": {\"colorbar\": {\"outlinewidth\": 0, \"ticks\": \"\"}}, \"type\": \"scattergeo\"}], \"scattergl\": [{\"marker\": {\"colorbar\": {\"outlinewidth\": 0, \"ticks\": \"\"}}, \"type\": \"scattergl\"}], \"scattermapbox\": [{\"marker\": {\"colorbar\": {\"outlinewidth\": 0, \"ticks\": \"\"}}, \"type\": \"scattermapbox\"}], \"scatterpolar\": [{\"marker\": {\"colorbar\": {\"outlinewidth\": 0, \"ticks\": \"\"}}, \"type\": \"scatterpolar\"}], \"scatterpolargl\": [{\"marker\": {\"colorbar\": {\"outlinewidth\": 0, \"ticks\": \"\"}}, \"type\": \"scatterpolargl\"}], \"scatterternary\": [{\"marker\": {\"colorbar\": {\"outlinewidth\": 0, \"ticks\": \"\"}}, \"type\": \"scatterternary\"}], \"surface\": [{\"colorbar\": {\"outlinewidth\": 0, \"ticks\": \"\"}, \"colorscale\": [[0.0, \"#0d0887\"], [0.1111111111111111, \"#46039f\"], [0.2222222222222222, \"#7201a8\"], [0.3333333333333333, \"#9c179e\"], [0.4444444444444444, \"#bd3786\"], [0.5555555555555556, \"#d8576b\"], [0.6666666666666666, \"#ed7953\"], [0.7777777777777778, \"#fb9f3a\"], [0.8888888888888888, \"#fdca26\"], [1.0, \"#f0f921\"]], \"type\": \"surface\"}], \"table\": [{\"cells\": {\"fill\": {\"color\": \"#EBF0F8\"}, \"line\": {\"color\": \"white\"}}, \"header\": {\"fill\": {\"color\": \"#C8D4E3\"}, \"line\": {\"color\": \"white\"}}, \"type\": \"table\"}]}, \"layout\": {\"annotationdefaults\": {\"arrowcolor\": \"#2a3f5f\", \"arrowhead\": 0, \"arrowwidth\": 1}, \"coloraxis\": {\"colorbar\": {\"outlinewidth\": 0, \"ticks\": \"\"}}, \"colorscale\": {\"diverging\": [[0, \"#8e0152\"], [0.1, \"#c51b7d\"], [0.2, \"#de77ae\"], [0.3, \"#f1b6da\"], [0.4, \"#fde0ef\"], [0.5, \"#f7f7f7\"], [0.6, \"#e6f5d0\"], [0.7, \"#b8e186\"], [0.8, \"#7fbc41\"], [0.9, \"#4d9221\"], [1, \"#276419\"]], \"sequential\": [[0.0, \"#0d0887\"], [0.1111111111111111, \"#46039f\"], [0.2222222222222222, \"#7201a8\"], [0.3333333333333333, \"#9c179e\"], [0.4444444444444444, \"#bd3786\"], [0.5555555555555556, \"#d8576b\"], [0.6666666666666666, \"#ed7953\"], [0.7777777777777778, \"#fb9f3a\"], [0.8888888888888888, \"#fdca26\"], [1.0, \"#f0f921\"]], \"sequentialminus\": [[0.0, \"#0d0887\"], [0.1111111111111111, \"#46039f\"], [0.2222222222222222, \"#7201a8\"], [0.3333333333333333, \"#9c179e\"], [0.4444444444444444, \"#bd3786\"], [0.5555555555555556, \"#d8576b\"], [0.6666666666666666, \"#ed7953\"], [0.7777777777777778, \"#fb9f3a\"], [0.8888888888888888, \"#fdca26\"], [1.0, \"#f0f921\"]]}, \"colorway\": [\"#636efa\", \"#EF553B\", \"#00cc96\", \"#ab63fa\", \"#FFA15A\", \"#19d3f3\", \"#FF6692\", \"#B6E880\", \"#FF97FF\", \"#FECB52\"], \"font\": {\"color\": \"#2a3f5f\"}, \"geo\": {\"bgcolor\": \"white\", \"lakecolor\": \"white\", \"landcolor\": \"#E5ECF6\", \"showlakes\": true, \"showland\": true, \"subunitcolor\": \"white\"}, \"hoverlabel\": {\"align\": \"left\"}, \"hovermode\": \"closest\", \"mapbox\": {\"style\": \"light\"}, \"paper_bgcolor\": \"white\", \"plot_bgcolor\": \"#E5ECF6\", \"polar\": {\"angularaxis\": {\"gridcolor\": \"white\", \"linecolor\": \"white\", \"ticks\": \"\"}, \"bgcolor\": \"#E5ECF6\", \"radialaxis\": {\"gridcolor\": \"white\", \"linecolor\": \"white\", \"ticks\": \"\"}}, \"scene\": {\"xaxis\": {\"backgroundcolor\": \"#E5ECF6\", \"gridcolor\": \"white\", \"gridwidth\": 2, \"linecolor\": \"white\", \"showbackground\": true, \"ticks\": \"\", \"zerolinecolor\": \"white\"}, \"yaxis\": {\"backgroundcolor\": \"#E5ECF6\", \"gridcolor\": \"white\", \"gridwidth\": 2, \"linecolor\": \"white\", \"showbackground\": true, \"ticks\": \"\", \"zerolinecolor\": \"white\"}, \"zaxis\": {\"backgroundcolor\": \"#E5ECF6\", \"gridcolor\": \"white\", \"gridwidth\": 2, \"linecolor\": \"white\", \"showbackground\": true, \"ticks\": \"\", \"zerolinecolor\": \"white\"}}, \"shapedefaults\": {\"line\": {\"color\": \"#2a3f5f\"}}, \"ternary\": {\"aaxis\": {\"gridcolor\": \"white\", \"linecolor\": \"white\", \"ticks\": \"\"}, \"baxis\": {\"gridcolor\": \"white\", \"linecolor\": \"white\", \"ticks\": \"\"}, \"bgcolor\": \"#E5ECF6\", \"caxis\": {\"gridcolor\": \"white\", \"linecolor\": \"white\", \"ticks\": \"\"}}, \"title\": {\"x\": 0.05}, \"xaxis\": {\"automargin\": true, \"gridcolor\": \"white\", \"linecolor\": \"white\", \"ticks\": \"\", \"title\": {\"standoff\": 15}, \"zerolinecolor\": \"white\", \"zerolinewidth\": 2}, \"yaxis\": {\"automargin\": true, \"gridcolor\": \"white\", \"linecolor\": \"white\", \"ticks\": \"\", \"title\": {\"standoff\": 15}, \"zerolinecolor\": \"white\", \"zerolinewidth\": 2}}}, \"title\": {\"text\": \"<b>Covid-19 Total cases Forecast<b>\", \"x\": 0.5}, \"width\": 750, \"xaxis\": {\"rangeselector\": {\"buttons\": [{\"count\": 7, \"label\": \"1w\", \"step\": \"day\", \"stepmode\": \"backward\"}, {\"count\": 1, \"label\": \"1m\", \"step\": \"month\", \"stepmode\": \"backward\"}, {\"count\": 6, \"label\": \"6m\", \"step\": \"month\", \"stepmode\": \"backward\"}, {\"count\": 1, \"label\": \"1y\", \"step\": \"year\", \"stepmode\": \"backward\"}, {\"step\": \"all\"}]}, \"rangeslider\": {\"visible\": true}, \"title\": {\"text\": \"ds\"}, \"type\": \"date\"}, \"yaxis\": {\"title\": {\"text\": \"y\"}}},\n",
              "                        {\"responsive\": true}\n",
              "                    ).then(function(){\n",
              "                            \n",
              "var gd = document.getElementById('1f0ae0ef-cd40-462c-b9a2-4ec4937f5c67');\n",
              "var x = new MutationObserver(function (mutations, observer) {{\n",
              "        var display = window.getComputedStyle(gd).display;\n",
              "        if (!display || display === 'none') {{\n",
              "            console.log([gd, 'removed!']);\n",
              "            Plotly.purge(gd);\n",
              "            observer.disconnect();\n",
              "        }}\n",
              "}});\n",
              "\n",
              "// Listen for the removal of the full notebook cells\n",
              "var notebookContainer = gd.closest('#notebook-container');\n",
              "if (notebookContainer) {{\n",
              "    x.observe(notebookContainer, {childList: true});\n",
              "}}\n",
              "\n",
              "// Listen for the clearing of the current output cell\n",
              "var outputEl = gd.closest('.output');\n",
              "if (outputEl) {{\n",
              "    x.observe(outputEl, {childList: true});\n",
              "}}\n",
              "\n",
              "                        })\n",
              "                };\n",
              "                \n",
              "            </script>\n",
              "        </div>\n",
              "</body>\n",
              "</html>"
            ]
          },
          "metadata": {
            "tags": []
          }
        }
      ]
    },
    {
      "cell_type": "code",
      "metadata": {
        "id": "6AnkQYe553co",
        "colab_type": "code",
        "colab": {}
      },
      "source": [
        ""
      ],
      "execution_count": 324,
      "outputs": []
    }
  ]
}